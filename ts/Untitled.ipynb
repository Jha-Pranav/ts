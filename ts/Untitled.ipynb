{
 "cells": [
  {
   "cell_type": "code",
   "execution_count": null,
   "id": "89258174-eefa-44c5-b2c4-ebc31ad44231",
   "metadata": {},
   "outputs": [],
   "source": [
    "import json\n",
    "from pathlib import Path\n",
    "\n",
    "import nbdev.export\n",
    "\n",
    "# Directories to ignore\n",
    "IGNORE_DIRS = {\".venv\", \"venv\", \"__pycache__\", \".git\", \"_proc\", \"docs\", \".ipynb_checkpoints\"}\n",
    "\n",
    "# Get all .ipynb files excluding ignored directories\n",
    "notebook_files = [\n",
    "    file\n",
    "    for file in Path(\".\").rglob(\"*.ipynb\")\n",
    "    if not any(ignored in file.parts for ignored in IGNORE_DIRS)\n",
    "]\n",
    "\n",
    "corrupt_files = []\n",
    "\n",
    "for file in notebook_files:\n",
    "    try:\n",
    "        # Validate if notebook is a proper JSON file\n",
    "        with open(file, \"r\", encoding=\"utf-8\") as f:\n",
    "            json.load(f)\n",
    "\n",
    "        # Run nb_export on the notebook\n",
    "        nbdev.export.nb_export(str(file), \".\")\n",
    "\n",
    "    except json.JSONDecodeError:\n",
    "        print(f\"❌ Corrupt JSON in: {file}\")\n",
    "        corrupt_files.append(file)\n",
    "    except Exception as e:\n",
    "        print(f\"❌ Error in: {file} - {e}\")\n",
    "        corrupt_files.append(file)\n",
    "\n",
    "# Summary of corrupted files\n",
    "if corrupt_files:\n",
    "    print(\"\\n🚨 Summary: Corrupt notebooks found:\")\n",
    "    for file in corrupt_files:\n",
    "        print(f\"  - {file}\")\n",
    "else:\n",
    "    print(\"\\n✅ All notebooks processed successfully!\")"
   ]
  },
  {
   "cell_type": "code",
   "execution_count": null,
   "id": "6c14d56f-5e78-46b8-ab8b-c89db349a87e",
   "metadata": {},
   "outputs": [],
   "source": []
  }
 ],
 "metadata": {
  "kernelspec": {
   "display_name": "Python 3 (ipykernel)",
   "language": "python",
   "name": "python3"
  },
  "language_info": {
   "codemirror_mode": {
    "name": "ipython",
    "version": 3
   },
   "file_extension": ".py",
   "mimetype": "text/x-python",
   "name": "python",
   "nbconvert_exporter": "python",
   "pygments_lexer": "ipython3",
   "version": "3.12.2"
  }
 },
 "nbformat": 4,
 "nbformat_minor": 5
}
