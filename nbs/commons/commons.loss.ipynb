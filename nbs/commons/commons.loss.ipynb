{
 "cells": [
  {
   "cell_type": "code",
   "execution_count": null,
   "id": "6a9633a8-36e6-4aea-8b80-c065570d5160",
   "metadata": {},
   "outputs": [],
   "source": [
    "# | default_exp commons.loss"
   ]
  },
  {
   "cell_type": "code",
   "execution_count": null,
   "id": "d2f8d1b8-7f6a-4246-bc06-4cf8e0a737ce",
   "metadata": {},
   "outputs": [],
   "source": [
    "# | export\n",
    "import torch\n",
    "from torchmetrics import Metric"
   ]
  },
  {
   "cell_type": "code",
   "execution_count": null,
   "id": "9fe3da99-5891-4303-9aef-b7c4989a0dcb",
   "metadata": {},
   "outputs": [],
   "source": [
    "# | export\n",
    "# Custom MASE Metric (since it's not built into torchmetrics)\n",
    "\n",
    "\n",
    "class MASE(Metric):\n",
    "    def __init__(self, input_size, horizon):\n",
    "        super().__init__()\n",
    "        self.input_size = input_size\n",
    "        self.horizon = horizon\n",
    "        self.add_state(\"forecast_error\", default=torch.tensor(0.0), dist_reduce_fx=\"sum\")\n",
    "        self.add_state(\"naive_error\", default=torch.tensor(0.0), dist_reduce_fx=\"sum\")\n",
    "        self.add_state(\"num_samples\", default=torch.tensor(0), dist_reduce_fx=\"sum\")\n",
    "\n",
    "    def update(self, y_pred, y_true, x):\n",
    "        # Forecast error: mean absolute error of predictions\n",
    "        forecast_error = torch.abs(y_pred - y_true).mean(dim=1)\n",
    "\n",
    "        # Naïve seasonal error: approximate using input shift (seasonal naïve)\n",
    "        naive_pred = x[:, -self.horizon :]  # Last 'horizon' points of input as naïve forecast\n",
    "        naive_error = torch.abs(y_true - naive_pred).mean(dim=1)\n",
    "\n",
    "        self.forecast_error += forecast_error.sum()\n",
    "        self.naive_error += naive_error.sum()\n",
    "        self.num_samples += y_true.size(0)\n",
    "\n",
    "    def compute(self):\n",
    "        if self.naive_error < 1e-8:\n",
    "            return torch.tensor(float(\"inf\"), device=self.forecast_error.device)\n",
    "        return self.forecast_error / self.naive_error"
   ]
  },
  {
   "cell_type": "code",
   "execution_count": null,
   "id": "4d1d136d-2b88-4c9c-8de3-921eba00ac84",
   "metadata": {},
   "outputs": [],
   "source": [
    "# | export\n",
    "# Custom OWA Metric\n",
    "\n",
    "\n",
    "class OWA(Metric):\n",
    "    def __init__(self, smape, mase):\n",
    "        super().__init__()\n",
    "        self.smape = smape\n",
    "        self.mase = mase\n",
    "        self.add_state(\"smape_model\", default=torch.tensor(0.0), dist_reduce_fx=\"sum\")\n",
    "        self.add_state(\"mase_model\", default=torch.tensor(0.0), dist_reduce_fx=\"sum\")\n",
    "        self.add_state(\"smape_naive\", default=torch.tensor(0.0), dist_reduce_fx=\"sum\")\n",
    "        self.add_state(\"mase_naive\", default=torch.tensor(0.0), dist_reduce_fx=\"sum\")\n",
    "        self.add_state(\"num_samples\", default=torch.tensor(0), dist_reduce_fx=\"sum\")\n",
    "\n",
    "    def update(self, y_pred, y_true, x):\n",
    "        # Model metrics\n",
    "        smape_model = self.smape(y_pred, y_true)\n",
    "        mase_model = self.mase(y_pred, y_true, x)\n",
    "\n",
    "        # Naïve forecast: repeat last value of input\n",
    "        naive_pred = x[:, -1:].repeat(1, y_true.size(1))\n",
    "        smape_naive = self.smape(naive_pred, y_true)\n",
    "        mase_naive = self.mase(naive_pred, y_true, x)\n",
    "\n",
    "        self.smape_model += smape_model * y_true.size(0)\n",
    "        self.mase_model += mase_model * y_true.size(0)\n",
    "        self.smape_naive += smape_naive * y_true.size(0)\n",
    "        self.mase_naive += mase_naive * y_true.size(0)\n",
    "        self.num_samples += y_true.size(0)\n",
    "\n",
    "    def compute(self):\n",
    "        if self.smape_naive < 1e-8 or self.mase_naive < 1e-8:\n",
    "            return torch.tensor(float(\"inf\"), device=self.smape_model.device)\n",
    "        smape_ratio = self.smape_model / self.smape_naive\n",
    "        mase_ratio = self.mase_model / self.mase_naive\n",
    "        return 0.5 * (smape_ratio + mase_ratio)"
   ]
  },
  {
   "cell_type": "code",
   "execution_count": null,
   "id": "59f453df-4d9e-468d-8674-adc8f7d6b8aa",
   "metadata": {},
   "outputs": [],
   "source": []
  }
 ],
 "metadata": {
  "kernelspec": {
   "display_name": "Python 3 (ipykernel)",
   "language": "python",
   "name": "python3"
  },
  "language_info": {
   "codemirror_mode": {
    "name": "ipython",
    "version": 3
   },
   "file_extension": ".py",
   "mimetype": "text/x-python",
   "name": "python",
   "nbconvert_exporter": "python",
   "pygments_lexer": "ipython3",
   "version": "3.12.2"
  }
 },
 "nbformat": 4,
 "nbformat_minor": 5
}
