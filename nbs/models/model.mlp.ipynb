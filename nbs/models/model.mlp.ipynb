{
 "cells": [
  {
   "cell_type": "code",
   "execution_count": null,
   "id": "3edcf2ea-6ac5-4855-81db-bb6b4adb2dc7",
   "metadata": {},
   "outputs": [],
   "source": [
    "import pytorch_lightning as pl\n",
    "import torch\n",
    "import torch.nn as nn\n",
    "from neuralforecast.utils import AirPassengersDF as df\n",
    "from torch.optim import Adam\n",
    "from torch.utils.data import DataLoader, Dataset\n",
    "from torchmetrics import MeanSquaredError, RootMeanSquaredErrorUsingSlidingWindow\n",
    "\n",
    "# jupyter notebook --NotebookApp.iopub_msg_rate_limit=50000"
   ]
  },
  {
   "cell_type": "code",
   "execution_count": null,
   "id": "01b45c69-023f-4222-a7db-299ecfa5bee8",
   "metadata": {},
   "outputs": [],
   "source": [
    "device = \"cuda\" if torch.cuda.is_available() else \"cpu\""
   ]
  },
  {
   "cell_type": "code",
   "execution_count": null,
   "id": "40eeb42c-960e-4419-8e1e-80483091f5d3",
   "metadata": {},
   "outputs": [],
   "source": [
    "class TSRegressionDataset(Dataset):\n",
    "    def __init__(self, df, in_features, out_features, window=1):\n",
    "        super(TSRegressionDataset, self).__init__()\n",
    "\n",
    "        self.data = df\n",
    "        self.in_features = in_features\n",
    "        self.out_features = out_features\n",
    "        self.window = window\n",
    "\n",
    "        self.groups = {uid: group.reset_index(drop=True) for uid, group in df.groupby(\"unique_id\")}\n",
    "\n",
    "    def __len__(self):\n",
    "\n",
    "        return sum(\n",
    "            [\n",
    "                (len(g) - (self.in_features + self.out_features)) // self.window + 1\n",
    "                for g in self.groups.values()\n",
    "            ]\n",
    "        )\n",
    "\n",
    "    def __getitem__(self, idx):\n",
    "\n",
    "        for uid, df in self.groups.items():\n",
    "            max_idx = (len(df) - (self.in_features + self.out_features)) // self.window + 1\n",
    "\n",
    "            if idx < max_idx:\n",
    "                start = idx * self.window\n",
    "                x = torch.tensor(\n",
    "                    df[\"y\"].iloc[start : start + self.in_features].values, dtype=torch.float32\n",
    "                )\n",
    "                y = torch.tensor(\n",
    "                    df[\"y\"]\n",
    "                    .iloc[start + self.in_features : start + self.in_features + self.out_features]\n",
    "                    .values,\n",
    "                    dtype=torch.float32,\n",
    "                )\n",
    "                return x, y\n",
    "\n",
    "            idx -= max_idx"
   ]
  },
  {
   "cell_type": "code",
   "execution_count": null,
   "id": "eb51a241-084d-4bf7-9970-9bd89973b9e5",
   "metadata": {},
   "outputs": [],
   "source": [
    "class TSDataLoader(pl.LightningDataModule):\n",
    "    def __init__(self, df, in_features, out_features, window=1, batch_size=32):\n",
    "        super(TSDataLoader, self).__init__()\n",
    "        self.data = df\n",
    "        self.in_features = in_features\n",
    "        self.out_features = out_features\n",
    "        self.window = window\n",
    "        self.batch_size = batch_size\n",
    "\n",
    "    def setup(self, stage=None):\n",
    "        assert list(self.data.columns) == [\n",
    "            \"unique_id\",\n",
    "            \"ds\",\n",
    "            \"y\",\n",
    "        ], \"Columns must be ['unique_id', 'ds', 'y']\"\n",
    "\n",
    "        self.data = self.data.sort_values([\"unique_id\", \"ds\"])\n",
    "\n",
    "        # Train / Val / Test Split (70/15/15)\n",
    "        train_sz = int(len(self.data) * 0.7)\n",
    "        val_sz = int(len(self.data) * 0.15)\n",
    "\n",
    "        self.train_df = self.data.iloc[:train_sz]\n",
    "        self.val_df = self.data.iloc[train_sz : train_sz + val_sz]\n",
    "        self.test_df = self.data.iloc[train_sz + val_sz :]\n",
    "\n",
    "        self.train = TSRegressionDataset(\n",
    "            self.train_df, self.in_features, self.out_features, self.window\n",
    "        )\n",
    "        self.val = TSRegressionDataset(\n",
    "            self.val_df, self.in_features, self.out_features, self.window\n",
    "        )\n",
    "        self.test = TSRegressionDataset(\n",
    "            self.test_df, self.in_features, self.out_features, self.window\n",
    "        )\n",
    "\n",
    "    def train_dataloader(self):\n",
    "        return DataLoader(self.train, batch_size=self.batch_size, shuffle=True, pin_memory=True)\n",
    "\n",
    "    def val_dataloader(self):\n",
    "        return DataLoader(self.val, batch_size=self.batch_size, shuffle=False, pin_memory=True)\n",
    "\n",
    "    def test_dataloader(self):\n",
    "        return DataLoader(self.test, batch_size=self.batch_size, shuffle=False, pin_memory=True)"
   ]
  },
  {
   "cell_type": "code",
   "execution_count": null,
   "id": "34013183-2da9-4069-905f-1b4428a71bd0",
   "metadata": {},
   "outputs": [],
   "source": [
    "class MLP(pl.LightningModule):\n",
    "    def __init__(self, input_sz, no_of_layers, hidden_sz, output_sz, lr=1e-3):\n",
    "        super().__init__()\n",
    "        # self.save_hyperparameters()\n",
    "\n",
    "        layers = [nn.Linear(in_features=input_sz, out_features=hidden_sz), nn.ReLU()]\n",
    "        for _ in range(no_of_layers):\n",
    "            layers.append(nn.Linear(in_features=hidden_sz, out_features=hidden_sz))\n",
    "            layers.append(nn.ReLU())\n",
    "\n",
    "        layers.append(nn.Linear(in_features=hidden_sz, out_features=output_sz))\n",
    "        self.model = nn.Sequential(*layers)\n",
    "\n",
    "        self.loss = nn.HuberLoss()\n",
    "        # self.loss = nn.MSELoss()\n",
    "        self.lr = lr\n",
    "\n",
    "    def forward(self, x):\n",
    "        return self.model(x)\n",
    "\n",
    "    def training_step(self, batch, batch_idx):\n",
    "        x, y = batch\n",
    "        y_pred = self(x)\n",
    "        loss = self.loss(y_pred, y)\n",
    "        self.log(\"train_loss\", loss, prog_bar=True, logger=True)\n",
    "        return loss\n",
    "\n",
    "    def validation_step(self, batch, batch_idx):\n",
    "        x, y = batch\n",
    "        y_pred = self(x)\n",
    "        loss = self.loss(y_pred, y)\n",
    "        self.log(\"val_loss\", loss, prog_bar=True, logger=True)\n",
    "\n",
    "    def test_step(self, batch, batch_idx):\n",
    "        x, y = batch\n",
    "        y_pred = self(x)\n",
    "        loss = self.loss(y_pred, y)\n",
    "        self.log(\"test_loss\", loss, prog_bar=True, logger=True)\n",
    "\n",
    "    def configure_optimizers(self):\n",
    "        return Adam(self.parameters(), lr=self.lr)"
   ]
  },
  {
   "cell_type": "code",
   "execution_count": null,
   "id": "23013c4d-86cd-411f-8ffd-2ba45672ae26",
   "metadata": {},
   "outputs": [],
   "source": [
    "## Usage"
   ]
  },
  {
   "cell_type": "code",
   "execution_count": null,
   "id": "03f61926-2535-4ca0-9a03-df62d44d6306",
   "metadata": {},
   "outputs": [],
   "source": [
    "## Hyper Parameters\n",
    "in_features, out_features, window, batch_sz = 14, 5, 3, 32 * 8\n",
    "layers = 9\n",
    "hidden_sz = 32"
   ]
  },
  {
   "cell_type": "code",
   "execution_count": null,
   "id": "0cae3bd6-dde7-41e8-9b20-cdae6b06dd03",
   "metadata": {},
   "outputs": [
    {
     "name": "stderr",
     "output_type": "stream",
     "text": [
      "GPU available: True (cuda), used: True\n",
      "TPU available: False, using: 0 TPU cores\n",
      "HPU available: False, using: 0 HPUs\n",
      "`Trainer(val_check_interval=1)` was configured so validation will run after every batch.\n",
      "LOCAL_RANK: 0 - CUDA_VISIBLE_DEVICES: [0]\n",
      "\n",
      "  | Name  | Type       | Params | Mode \n",
      "---------------------------------------------\n",
      "0 | model | Sequential | 10.1 K | train\n",
      "1 | loss  | HuberLoss  | 0      | train\n",
      "---------------------------------------------\n",
      "10.1 K    Trainable params\n",
      "0         Non-trainable params\n",
      "10.1 K    Total params\n",
      "0.041     Total estimated model params size (MB)\n",
      "23        Modules in train mode\n",
      "0         Modules in eval mode\n"
     ]
    },
    {
     "data": {
      "application/vnd.jupyter.widget-view+json": {
       "model_id": "2abac092da944b0c9b43b448b2ac34c9",
       "version_major": 2,
       "version_minor": 0
      },
      "text/plain": [
       "Sanity Checking: |                                                                                            …"
      ]
     },
     "metadata": {},
     "output_type": "display_data"
    },
    {
     "data": {
      "application/vnd.jupyter.widget-view+json": {
       "model_id": "a8f3602099134663874e17921935b262",
       "version_major": 2,
       "version_minor": 0
      },
      "text/plain": [
       "Training: |                                                                                                   …"
      ]
     },
     "metadata": {},
     "output_type": "display_data"
    },
    {
     "data": {
      "application/vnd.jupyter.widget-view+json": {
       "model_id": "21fba3cbb536419f9ddd1672fa881417",
       "version_major": 2,
       "version_minor": 0
      },
      "text/plain": [
       "Validation: |                                                                                                 …"
      ]
     },
     "metadata": {},
     "output_type": "display_data"
    },
    {
     "data": {
      "application/vnd.jupyter.widget-view+json": {
       "model_id": "89905080dcfa4ffda18b1dc02292a9f1",
       "version_major": 2,
       "version_minor": 0
      },
      "text/plain": [
       "Validation: |                                                                                                 …"
      ]
     },
     "metadata": {},
     "output_type": "display_data"
    },
    {
     "data": {
      "application/vnd.jupyter.widget-view+json": {
       "model_id": "9406c372596041dc8c7bf0c53d0ed126",
       "version_major": 2,
       "version_minor": 0
      },
      "text/plain": [
       "Validation: |                                                                                                 …"
      ]
     },
     "metadata": {},
     "output_type": "display_data"
    },
    {
     "data": {
      "application/vnd.jupyter.widget-view+json": {
       "model_id": "9b98aca0933f4190a18667d91afecf48",
       "version_major": 2,
       "version_minor": 0
      },
      "text/plain": [
       "Validation: |                                                                                                 …"
      ]
     },
     "metadata": {},
     "output_type": "display_data"
    },
    {
     "data": {
      "application/vnd.jupyter.widget-view+json": {
       "model_id": "8ac6712c74244d7ca7e61d1481e654d0",
       "version_major": 2,
       "version_minor": 0
      },
      "text/plain": [
       "Validation: |                                                                                                 …"
      ]
     },
     "metadata": {},
     "output_type": "display_data"
    },
    {
     "data": {
      "application/vnd.jupyter.widget-view+json": {
       "model_id": "e6c76a83f61246519eb055d91ae119ac",
       "version_major": 2,
       "version_minor": 0
      },
      "text/plain": [
       "Validation: |                                                                                                 …"
      ]
     },
     "metadata": {},
     "output_type": "display_data"
    },
    {
     "data": {
      "application/vnd.jupyter.widget-view+json": {
       "model_id": "7aa2095d1037443ead9c9e2208f122ab",
       "version_major": 2,
       "version_minor": 0
      },
      "text/plain": [
       "Validation: |                                                                                                 …"
      ]
     },
     "metadata": {},
     "output_type": "display_data"
    },
    {
     "data": {
      "application/vnd.jupyter.widget-view+json": {
       "model_id": "a32c68d02c27414ba9d79a6217059c39",
       "version_major": 2,
       "version_minor": 0
      },
      "text/plain": [
       "Validation: |                                                                                                 …"
      ]
     },
     "metadata": {},
     "output_type": "display_data"
    },
    {
     "data": {
      "application/vnd.jupyter.widget-view+json": {
       "model_id": "f9668d088fc74b12882ed60d576025da",
       "version_major": 2,
       "version_minor": 0
      },
      "text/plain": [
       "Validation: |                                                                                                 …"
      ]
     },
     "metadata": {},
     "output_type": "display_data"
    },
    {
     "data": {
      "application/vnd.jupyter.widget-view+json": {
       "model_id": "778c7a242bf84123b73d83b6ab6b0357",
       "version_major": 2,
       "version_minor": 0
      },
      "text/plain": [
       "Validation: |                                                                                                 …"
      ]
     },
     "metadata": {},
     "output_type": "display_data"
    },
    {
     "data": {
      "application/vnd.jupyter.widget-view+json": {
       "model_id": "3e221834f0e54614bd052e478d242339",
       "version_major": 2,
       "version_minor": 0
      },
      "text/plain": [
       "Validation: |                                                                                                 …"
      ]
     },
     "metadata": {},
     "output_type": "display_data"
    },
    {
     "data": {
      "application/vnd.jupyter.widget-view+json": {
       "model_id": "893f60502b704db299a06645817d0ae9",
       "version_major": 2,
       "version_minor": 0
      },
      "text/plain": [
       "Validation: |                                                                                                 …"
      ]
     },
     "metadata": {},
     "output_type": "display_data"
    },
    {
     "data": {
      "application/vnd.jupyter.widget-view+json": {
       "model_id": "1761a0d17ff94222add6702394bb365f",
       "version_major": 2,
       "version_minor": 0
      },
      "text/plain": [
       "Validation: |                                                                                                 …"
      ]
     },
     "metadata": {},
     "output_type": "display_data"
    },
    {
     "data": {
      "application/vnd.jupyter.widget-view+json": {
       "model_id": "ad49f351d51a49219c0bbf64bb36c160",
       "version_major": 2,
       "version_minor": 0
      },
      "text/plain": [
       "Validation: |                                                                                                 …"
      ]
     },
     "metadata": {},
     "output_type": "display_data"
    },
    {
     "data": {
      "application/vnd.jupyter.widget-view+json": {
       "model_id": "70534628520748b8a8e73366cb3d91f8",
       "version_major": 2,
       "version_minor": 0
      },
      "text/plain": [
       "Validation: |                                                                                                 …"
      ]
     },
     "metadata": {},
     "output_type": "display_data"
    },
    {
     "data": {
      "application/vnd.jupyter.widget-view+json": {
       "model_id": "904400d8f3824880b6a1258fa5304e5c",
       "version_major": 2,
       "version_minor": 0
      },
      "text/plain": [
       "Validation: |                                                                                                 …"
      ]
     },
     "metadata": {},
     "output_type": "display_data"
    },
    {
     "data": {
      "application/vnd.jupyter.widget-view+json": {
       "model_id": "496ce6f2db52400da490ca350c97cff3",
       "version_major": 2,
       "version_minor": 0
      },
      "text/plain": [
       "Validation: |                                                                                                 …"
      ]
     },
     "metadata": {},
     "output_type": "display_data"
    },
    {
     "data": {
      "application/vnd.jupyter.widget-view+json": {
       "model_id": "cb2d9ea508974b208da04a2e69b37cc8",
       "version_major": 2,
       "version_minor": 0
      },
      "text/plain": [
       "Validation: |                                                                                                 …"
      ]
     },
     "metadata": {},
     "output_type": "display_data"
    },
    {
     "data": {
      "application/vnd.jupyter.widget-view+json": {
       "model_id": "bb1f89df3086491e962078eb5e7b31a4",
       "version_major": 2,
       "version_minor": 0
      },
      "text/plain": [
       "Validation: |                                                                                                 …"
      ]
     },
     "metadata": {},
     "output_type": "display_data"
    },
    {
     "data": {
      "application/vnd.jupyter.widget-view+json": {
       "model_id": "9865d09cfbed4bf2be1c814aa0b3eb05",
       "version_major": 2,
       "version_minor": 0
      },
      "text/plain": [
       "Validation: |                                                                                                 …"
      ]
     },
     "metadata": {},
     "output_type": "display_data"
    },
    {
     "data": {
      "application/vnd.jupyter.widget-view+json": {
       "model_id": "fb5470d126f445bd90fd70ef54432eb8",
       "version_major": 2,
       "version_minor": 0
      },
      "text/plain": [
       "Validation: |                                                                                                 …"
      ]
     },
     "metadata": {},
     "output_type": "display_data"
    },
    {
     "data": {
      "application/vnd.jupyter.widget-view+json": {
       "model_id": "379f5978c308480094397bcb4895fbc9",
       "version_major": 2,
       "version_minor": 0
      },
      "text/plain": [
       "Validation: |                                                                                                 …"
      ]
     },
     "metadata": {},
     "output_type": "display_data"
    },
    {
     "data": {
      "application/vnd.jupyter.widget-view+json": {
       "model_id": "a097674c4cf04b728b981efa366e193e",
       "version_major": 2,
       "version_minor": 0
      },
      "text/plain": [
       "Validation: |                                                                                                 …"
      ]
     },
     "metadata": {},
     "output_type": "display_data"
    },
    {
     "data": {
      "application/vnd.jupyter.widget-view+json": {
       "model_id": "be44442a7e074cf7a8951c8bad1040a9",
       "version_major": 2,
       "version_minor": 0
      },
      "text/plain": [
       "Validation: |                                                                                                 …"
      ]
     },
     "metadata": {},
     "output_type": "display_data"
    },
    {
     "data": {
      "application/vnd.jupyter.widget-view+json": {
       "model_id": "b0368405357b48b2bb8cedabfddea27e",
       "version_major": 2,
       "version_minor": 0
      },
      "text/plain": [
       "Validation: |                                                                                                 …"
      ]
     },
     "metadata": {},
     "output_type": "display_data"
    },
    {
     "data": {
      "application/vnd.jupyter.widget-view+json": {
       "model_id": "2aad103ab40c4068a4b0a3a1a75d6979",
       "version_major": 2,
       "version_minor": 0
      },
      "text/plain": [
       "Validation: |                                                                                                 …"
      ]
     },
     "metadata": {},
     "output_type": "display_data"
    },
    {
     "data": {
      "application/vnd.jupyter.widget-view+json": {
       "model_id": "9218347284a34ffd8511c5f335ae4a01",
       "version_major": 2,
       "version_minor": 0
      },
      "text/plain": [
       "Validation: |                                                                                                 …"
      ]
     },
     "metadata": {},
     "output_type": "display_data"
    },
    {
     "data": {
      "application/vnd.jupyter.widget-view+json": {
       "model_id": "54908105d9e74d19b4e746ae18d9c14a",
       "version_major": 2,
       "version_minor": 0
      },
      "text/plain": [
       "Validation: |                                                                                                 …"
      ]
     },
     "metadata": {},
     "output_type": "display_data"
    },
    {
     "data": {
      "application/vnd.jupyter.widget-view+json": {
       "model_id": "bd60a0af5663423381bf21e6208d7a9c",
       "version_major": 2,
       "version_minor": 0
      },
      "text/plain": [
       "Validation: |                                                                                                 …"
      ]
     },
     "metadata": {},
     "output_type": "display_data"
    },
    {
     "data": {
      "application/vnd.jupyter.widget-view+json": {
       "model_id": "7175280cc88d46bf94ddd9a420028512",
       "version_major": 2,
       "version_minor": 0
      },
      "text/plain": [
       "Validation: |                                                                                                 …"
      ]
     },
     "metadata": {},
     "output_type": "display_data"
    },
    {
     "data": {
      "application/vnd.jupyter.widget-view+json": {
       "model_id": "7f79b6b655a549d78980cca37b65b484",
       "version_major": 2,
       "version_minor": 0
      },
      "text/plain": [
       "Validation: |                                                                                                 …"
      ]
     },
     "metadata": {},
     "output_type": "display_data"
    },
    {
     "data": {
      "application/vnd.jupyter.widget-view+json": {
       "model_id": "c776cb43a57f4d848db402ac2221e890",
       "version_major": 2,
       "version_minor": 0
      },
      "text/plain": [
       "Validation: |                                                                                                 …"
      ]
     },
     "metadata": {},
     "output_type": "display_data"
    },
    {
     "data": {
      "application/vnd.jupyter.widget-view+json": {
       "model_id": "6a37e1007c13466aae1e8fc94c4aebc0",
       "version_major": 2,
       "version_minor": 0
      },
      "text/plain": [
       "Validation: |                                                                                                 …"
      ]
     },
     "metadata": {},
     "output_type": "display_data"
    },
    {
     "data": {
      "application/vnd.jupyter.widget-view+json": {
       "model_id": "6ecd4d151b4d493a863e94ec89e99167",
       "version_major": 2,
       "version_minor": 0
      },
      "text/plain": [
       "Validation: |                                                                                                 …"
      ]
     },
     "metadata": {},
     "output_type": "display_data"
    },
    {
     "data": {
      "application/vnd.jupyter.widget-view+json": {
       "model_id": "fa5b0806c74f4b76ad65d4d4393b11f0",
       "version_major": 2,
       "version_minor": 0
      },
      "text/plain": [
       "Validation: |                                                                                                 …"
      ]
     },
     "metadata": {},
     "output_type": "display_data"
    },
    {
     "data": {
      "application/vnd.jupyter.widget-view+json": {
       "model_id": "6096abe8ae7d426ea8bb82b10cb81af4",
       "version_major": 2,
       "version_minor": 0
      },
      "text/plain": [
       "Validation: |                                                                                                 …"
      ]
     },
     "metadata": {},
     "output_type": "display_data"
    },
    {
     "data": {
      "application/vnd.jupyter.widget-view+json": {
       "model_id": "90d66b45668c4b79875f6964ae84eea6",
       "version_major": 2,
       "version_minor": 0
      },
      "text/plain": [
       "Validation: |                                                                                                 …"
      ]
     },
     "metadata": {},
     "output_type": "display_data"
    },
    {
     "data": {
      "application/vnd.jupyter.widget-view+json": {
       "model_id": "352dd21f6f9947d8aa006f082a56cbb4",
       "version_major": 2,
       "version_minor": 0
      },
      "text/plain": [
       "Validation: |                                                                                                 …"
      ]
     },
     "metadata": {},
     "output_type": "display_data"
    },
    {
     "data": {
      "application/vnd.jupyter.widget-view+json": {
       "model_id": "95e74dc6bf0d4259a5db1836d937f077",
       "version_major": 2,
       "version_minor": 0
      },
      "text/plain": [
       "Validation: |                                                                                                 …"
      ]
     },
     "metadata": {},
     "output_type": "display_data"
    },
    {
     "data": {
      "application/vnd.jupyter.widget-view+json": {
       "model_id": "582c7f19005141bbb308ce5a7e4fed9a",
       "version_major": 2,
       "version_minor": 0
      },
      "text/plain": [
       "Validation: |                                                                                                 …"
      ]
     },
     "metadata": {},
     "output_type": "display_data"
    },
    {
     "data": {
      "application/vnd.jupyter.widget-view+json": {
       "model_id": "d7040fba0068410d862f734486710cc8",
       "version_major": 2,
       "version_minor": 0
      },
      "text/plain": [
       "Validation: |                                                                                                 …"
      ]
     },
     "metadata": {},
     "output_type": "display_data"
    },
    {
     "data": {
      "application/vnd.jupyter.widget-view+json": {
       "model_id": "faa808dc1967478487590ae5fc65a6f5",
       "version_major": 2,
       "version_minor": 0
      },
      "text/plain": [
       "Validation: |                                                                                                 …"
      ]
     },
     "metadata": {},
     "output_type": "display_data"
    },
    {
     "data": {
      "application/vnd.jupyter.widget-view+json": {
       "model_id": "f3e94e6e409d4faa9482df48bf00bc48",
       "version_major": 2,
       "version_minor": 0
      },
      "text/plain": [
       "Validation: |                                                                                                 …"
      ]
     },
     "metadata": {},
     "output_type": "display_data"
    },
    {
     "data": {
      "application/vnd.jupyter.widget-view+json": {
       "model_id": "86cea2d64c604177ac4a9fa93f7b6d64",
       "version_major": 2,
       "version_minor": 0
      },
      "text/plain": [
       "Validation: |                                                                                                 …"
      ]
     },
     "metadata": {},
     "output_type": "display_data"
    },
    {
     "data": {
      "application/vnd.jupyter.widget-view+json": {
       "model_id": "d513d789ac6547cdbb09cb8db811d0fb",
       "version_major": 2,
       "version_minor": 0
      },
      "text/plain": [
       "Validation: |                                                                                                 …"
      ]
     },
     "metadata": {},
     "output_type": "display_data"
    },
    {
     "data": {
      "application/vnd.jupyter.widget-view+json": {
       "model_id": "d1e8d18ce02145f1a77c38e166e84327",
       "version_major": 2,
       "version_minor": 0
      },
      "text/plain": [
       "Validation: |                                                                                                 …"
      ]
     },
     "metadata": {},
     "output_type": "display_data"
    },
    {
     "data": {
      "application/vnd.jupyter.widget-view+json": {
       "model_id": "6e2335ccfa494af0aa1c4d66c0526cc9",
       "version_major": 2,
       "version_minor": 0
      },
      "text/plain": [
       "Validation: |                                                                                                 …"
      ]
     },
     "metadata": {},
     "output_type": "display_data"
    },
    {
     "data": {
      "application/vnd.jupyter.widget-view+json": {
       "model_id": "edcdf8a6e8ea44dc80d6b70ae46782e2",
       "version_major": 2,
       "version_minor": 0
      },
      "text/plain": [
       "Validation: |                                                                                                 …"
      ]
     },
     "metadata": {},
     "output_type": "display_data"
    },
    {
     "data": {
      "application/vnd.jupyter.widget-view+json": {
       "model_id": "96df9690817a4dc1aa8c1c6df4107e3c",
       "version_major": 2,
       "version_minor": 0
      },
      "text/plain": [
       "Validation: |                                                                                                 …"
      ]
     },
     "metadata": {},
     "output_type": "display_data"
    },
    {
     "data": {
      "application/vnd.jupyter.widget-view+json": {
       "model_id": "7e12dd5b75f24bbcac2b6caaa25dd988",
       "version_major": 2,
       "version_minor": 0
      },
      "text/plain": [
       "Validation: |                                                                                                 …"
      ]
     },
     "metadata": {},
     "output_type": "display_data"
    },
    {
     "data": {
      "application/vnd.jupyter.widget-view+json": {
       "model_id": "833d1e7c5e444afaaa5fcd80d830a6c9",
       "version_major": 2,
       "version_minor": 0
      },
      "text/plain": [
       "Validation: |                                                                                                 …"
      ]
     },
     "metadata": {},
     "output_type": "display_data"
    },
    {
     "data": {
      "application/vnd.jupyter.widget-view+json": {
       "model_id": "c641cb07ce1a4fa1bb918ca6e21b3d01",
       "version_major": 2,
       "version_minor": 0
      },
      "text/plain": [
       "Validation: |                                                                                                 …"
      ]
     },
     "metadata": {},
     "output_type": "display_data"
    },
    {
     "data": {
      "application/vnd.jupyter.widget-view+json": {
       "model_id": "42c666d06ea34b35b0a1b67a3a43b6dd",
       "version_major": 2,
       "version_minor": 0
      },
      "text/plain": [
       "Validation: |                                                                                                 …"
      ]
     },
     "metadata": {},
     "output_type": "display_data"
    },
    {
     "data": {
      "application/vnd.jupyter.widget-view+json": {
       "model_id": "7b264ba18b934f8cb81d1aba1c937dc8",
       "version_major": 2,
       "version_minor": 0
      },
      "text/plain": [
       "Validation: |                                                                                                 …"
      ]
     },
     "metadata": {},
     "output_type": "display_data"
    },
    {
     "data": {
      "application/vnd.jupyter.widget-view+json": {
       "model_id": "9072903489a043e9ad4251824855de67",
       "version_major": 2,
       "version_minor": 0
      },
      "text/plain": [
       "Validation: |                                                                                                 …"
      ]
     },
     "metadata": {},
     "output_type": "display_data"
    },
    {
     "data": {
      "application/vnd.jupyter.widget-view+json": {
       "model_id": "6e9a9d6ae7134679ae6326e0edb721ab",
       "version_major": 2,
       "version_minor": 0
      },
      "text/plain": [
       "Validation: |                                                                                                 …"
      ]
     },
     "metadata": {},
     "output_type": "display_data"
    },
    {
     "data": {
      "application/vnd.jupyter.widget-view+json": {
       "model_id": "d3845a9430424cb19e815b74ca9dbcba",
       "version_major": 2,
       "version_minor": 0
      },
      "text/plain": [
       "Validation: |                                                                                                 …"
      ]
     },
     "metadata": {},
     "output_type": "display_data"
    },
    {
     "data": {
      "application/vnd.jupyter.widget-view+json": {
       "model_id": "64e621ca841d487680bad44a19abcf4f",
       "version_major": 2,
       "version_minor": 0
      },
      "text/plain": [
       "Validation: |                                                                                                 …"
      ]
     },
     "metadata": {},
     "output_type": "display_data"
    },
    {
     "data": {
      "application/vnd.jupyter.widget-view+json": {
       "model_id": "68105213224d4082a061b9f43133361d",
       "version_major": 2,
       "version_minor": 0
      },
      "text/plain": [
       "Validation: |                                                                                                 …"
      ]
     },
     "metadata": {},
     "output_type": "display_data"
    },
    {
     "data": {
      "application/vnd.jupyter.widget-view+json": {
       "model_id": "1601c726b25b4efeb084f1cc883839d2",
       "version_major": 2,
       "version_minor": 0
      },
      "text/plain": [
       "Validation: |                                                                                                 …"
      ]
     },
     "metadata": {},
     "output_type": "display_data"
    },
    {
     "data": {
      "application/vnd.jupyter.widget-view+json": {
       "model_id": "40553007421c4d39adadadc47a5c91d7",
       "version_major": 2,
       "version_minor": 0
      },
      "text/plain": [
       "Validation: |                                                                                                 …"
      ]
     },
     "metadata": {},
     "output_type": "display_data"
    },
    {
     "data": {
      "application/vnd.jupyter.widget-view+json": {
       "model_id": "e06a16d39e5b434096180e2efb82b23d",
       "version_major": 2,
       "version_minor": 0
      },
      "text/plain": [
       "Validation: |                                                                                                 …"
      ]
     },
     "metadata": {},
     "output_type": "display_data"
    },
    {
     "data": {
      "application/vnd.jupyter.widget-view+json": {
       "model_id": "48a8de2802df4b1295b8b90de342af60",
       "version_major": 2,
       "version_minor": 0
      },
      "text/plain": [
       "Validation: |                                                                                                 …"
      ]
     },
     "metadata": {},
     "output_type": "display_data"
    },
    {
     "data": {
      "application/vnd.jupyter.widget-view+json": {
       "model_id": "21b9b5b421064658b3b589e140c91ba5",
       "version_major": 2,
       "version_minor": 0
      },
      "text/plain": [
       "Validation: |                                                                                                 …"
      ]
     },
     "metadata": {},
     "output_type": "display_data"
    },
    {
     "data": {
      "application/vnd.jupyter.widget-view+json": {
       "model_id": "6304089b0de94450b66c0c2e8e7a0b83",
       "version_major": 2,
       "version_minor": 0
      },
      "text/plain": [
       "Validation: |                                                                                                 …"
      ]
     },
     "metadata": {},
     "output_type": "display_data"
    },
    {
     "data": {
      "application/vnd.jupyter.widget-view+json": {
       "model_id": "bd0253641e78443a8dd216cc28c40405",
       "version_major": 2,
       "version_minor": 0
      },
      "text/plain": [
       "Validation: |                                                                                                 …"
      ]
     },
     "metadata": {},
     "output_type": "display_data"
    },
    {
     "data": {
      "application/vnd.jupyter.widget-view+json": {
       "model_id": "f6d8c0ac7880451b8a9647238416a7c3",
       "version_major": 2,
       "version_minor": 0
      },
      "text/plain": [
       "Validation: |                                                                                                 …"
      ]
     },
     "metadata": {},
     "output_type": "display_data"
    },
    {
     "data": {
      "application/vnd.jupyter.widget-view+json": {
       "model_id": "c24b2ddc02eb441fa313bbbad668426f",
       "version_major": 2,
       "version_minor": 0
      },
      "text/plain": [
       "Validation: |                                                                                                 …"
      ]
     },
     "metadata": {},
     "output_type": "display_data"
    },
    {
     "data": {
      "application/vnd.jupyter.widget-view+json": {
       "model_id": "9d2a63b64a6840ccb317b3d2b7ce6154",
       "version_major": 2,
       "version_minor": 0
      },
      "text/plain": [
       "Validation: |                                                                                                 …"
      ]
     },
     "metadata": {},
     "output_type": "display_data"
    },
    {
     "data": {
      "application/vnd.jupyter.widget-view+json": {
       "model_id": "172bbad438ff4d95903fba03022b3a71",
       "version_major": 2,
       "version_minor": 0
      },
      "text/plain": [
       "Validation: |                                                                                                 …"
      ]
     },
     "metadata": {},
     "output_type": "display_data"
    },
    {
     "data": {
      "application/vnd.jupyter.widget-view+json": {
       "model_id": "0ab880855271464294dca3b024fc7aed",
       "version_major": 2,
       "version_minor": 0
      },
      "text/plain": [
       "Validation: |                                                                                                 …"
      ]
     },
     "metadata": {},
     "output_type": "display_data"
    },
    {
     "data": {
      "application/vnd.jupyter.widget-view+json": {
       "model_id": "746e5a9d12ed47d9805ae620ef3d64e1",
       "version_major": 2,
       "version_minor": 0
      },
      "text/plain": [
       "Validation: |                                                                                                 …"
      ]
     },
     "metadata": {},
     "output_type": "display_data"
    },
    {
     "data": {
      "application/vnd.jupyter.widget-view+json": {
       "model_id": "e0357e7bd2034872b5ca3082ce8b8409",
       "version_major": 2,
       "version_minor": 0
      },
      "text/plain": [
       "Validation: |                                                                                                 …"
      ]
     },
     "metadata": {},
     "output_type": "display_data"
    },
    {
     "data": {
      "application/vnd.jupyter.widget-view+json": {
       "model_id": "b5ff9e94df4b42d099d03320be0ac0f2",
       "version_major": 2,
       "version_minor": 0
      },
      "text/plain": [
       "Validation: |                                                                                                 …"
      ]
     },
     "metadata": {},
     "output_type": "display_data"
    },
    {
     "data": {
      "application/vnd.jupyter.widget-view+json": {
       "model_id": "0d4867293c294e4c8eca1219dd308dba",
       "version_major": 2,
       "version_minor": 0
      },
      "text/plain": [
       "Validation: |                                                                                                 …"
      ]
     },
     "metadata": {},
     "output_type": "display_data"
    },
    {
     "data": {
      "application/vnd.jupyter.widget-view+json": {
       "model_id": "2c6ebd961cdc4f63bd65bf0d5770491b",
       "version_major": 2,
       "version_minor": 0
      },
      "text/plain": [
       "Validation: |                                                                                                 …"
      ]
     },
     "metadata": {},
     "output_type": "display_data"
    },
    {
     "data": {
      "application/vnd.jupyter.widget-view+json": {
       "model_id": "da1d99e48ce941369255dfe8fbfd12ba",
       "version_major": 2,
       "version_minor": 0
      },
      "text/plain": [
       "Validation: |                                                                                                 …"
      ]
     },
     "metadata": {},
     "output_type": "display_data"
    },
    {
     "data": {
      "application/vnd.jupyter.widget-view+json": {
       "model_id": "df6486bd327341ef9be0209ba8707f3b",
       "version_major": 2,
       "version_minor": 0
      },
      "text/plain": [
       "Validation: |                                                                                                 …"
      ]
     },
     "metadata": {},
     "output_type": "display_data"
    },
    {
     "data": {
      "application/vnd.jupyter.widget-view+json": {
       "model_id": "5b8cec33abb84340b5711c33694da2bd",
       "version_major": 2,
       "version_minor": 0
      },
      "text/plain": [
       "Validation: |                                                                                                 …"
      ]
     },
     "metadata": {},
     "output_type": "display_data"
    },
    {
     "data": {
      "application/vnd.jupyter.widget-view+json": {
       "model_id": "4a7f3670ebd342ea94dfd2c651f7c600",
       "version_major": 2,
       "version_minor": 0
      },
      "text/plain": [
       "Validation: |                                                                                                 …"
      ]
     },
     "metadata": {},
     "output_type": "display_data"
    },
    {
     "data": {
      "application/vnd.jupyter.widget-view+json": {
       "model_id": "ada1ecb6029e4c4290d8eb2c019adbe0",
       "version_major": 2,
       "version_minor": 0
      },
      "text/plain": [
       "Validation: |                                                                                                 …"
      ]
     },
     "metadata": {},
     "output_type": "display_data"
    },
    {
     "data": {
      "application/vnd.jupyter.widget-view+json": {
       "model_id": "7736e58cb36c439f826de56bc499972a",
       "version_major": 2,
       "version_minor": 0
      },
      "text/plain": [
       "Validation: |                                                                                                 …"
      ]
     },
     "metadata": {},
     "output_type": "display_data"
    },
    {
     "data": {
      "application/vnd.jupyter.widget-view+json": {
       "model_id": "5359040357c0449da8e6b96671c910ba",
       "version_major": 2,
       "version_minor": 0
      },
      "text/plain": [
       "Validation: |                                                                                                 …"
      ]
     },
     "metadata": {},
     "output_type": "display_data"
    },
    {
     "data": {
      "application/vnd.jupyter.widget-view+json": {
       "model_id": "2e6080acfd4f4c9fa76cd958c8f7c542",
       "version_major": 2,
       "version_minor": 0
      },
      "text/plain": [
       "Validation: |                                                                                                 …"
      ]
     },
     "metadata": {},
     "output_type": "display_data"
    },
    {
     "data": {
      "application/vnd.jupyter.widget-view+json": {
       "model_id": "548496c5164e418e864dfa7aa2c605de",
       "version_major": 2,
       "version_minor": 0
      },
      "text/plain": [
       "Validation: |                                                                                                 …"
      ]
     },
     "metadata": {},
     "output_type": "display_data"
    },
    {
     "data": {
      "application/vnd.jupyter.widget-view+json": {
       "model_id": "741a83bfd0d44af0b49de3c948dbf83f",
       "version_major": 2,
       "version_minor": 0
      },
      "text/plain": [
       "Validation: |                                                                                                 …"
      ]
     },
     "metadata": {},
     "output_type": "display_data"
    },
    {
     "data": {
      "application/vnd.jupyter.widget-view+json": {
       "model_id": "9033d3e82cb84d3f9b4cff8f978a58a7",
       "version_major": 2,
       "version_minor": 0
      },
      "text/plain": [
       "Validation: |                                                                                                 …"
      ]
     },
     "metadata": {},
     "output_type": "display_data"
    },
    {
     "data": {
      "application/vnd.jupyter.widget-view+json": {
       "model_id": "58f976b5b985412c95f82c9221412611",
       "version_major": 2,
       "version_minor": 0
      },
      "text/plain": [
       "Validation: |                                                                                                 …"
      ]
     },
     "metadata": {},
     "output_type": "display_data"
    },
    {
     "data": {
      "application/vnd.jupyter.widget-view+json": {
       "model_id": "3abad3af8c794c14bd31500801e40c03",
       "version_major": 2,
       "version_minor": 0
      },
      "text/plain": [
       "Validation: |                                                                                                 …"
      ]
     },
     "metadata": {},
     "output_type": "display_data"
    },
    {
     "data": {
      "application/vnd.jupyter.widget-view+json": {
       "model_id": "1ae5cdd89a2e4c15a4ae29d998246088",
       "version_major": 2,
       "version_minor": 0
      },
      "text/plain": [
       "Validation: |                                                                                                 …"
      ]
     },
     "metadata": {},
     "output_type": "display_data"
    },
    {
     "data": {
      "application/vnd.jupyter.widget-view+json": {
       "model_id": "b9ccdd8a6d014c519581629e929c0bd7",
       "version_major": 2,
       "version_minor": 0
      },
      "text/plain": [
       "Validation: |                                                                                                 …"
      ]
     },
     "metadata": {},
     "output_type": "display_data"
    },
    {
     "data": {
      "application/vnd.jupyter.widget-view+json": {
       "model_id": "17c214d004c0458c8b2f20dcd1431845",
       "version_major": 2,
       "version_minor": 0
      },
      "text/plain": [
       "Validation: |                                                                                                 …"
      ]
     },
     "metadata": {},
     "output_type": "display_data"
    },
    {
     "data": {
      "application/vnd.jupyter.widget-view+json": {
       "model_id": "f682d93b3f3e464283028b30774f5e49",
       "version_major": 2,
       "version_minor": 0
      },
      "text/plain": [
       "Validation: |                                                                                                 …"
      ]
     },
     "metadata": {},
     "output_type": "display_data"
    },
    {
     "data": {
      "application/vnd.jupyter.widget-view+json": {
       "model_id": "3795c0795ddf4293a8514329f98aa5ee",
       "version_major": 2,
       "version_minor": 0
      },
      "text/plain": [
       "Validation: |                                                                                                 …"
      ]
     },
     "metadata": {},
     "output_type": "display_data"
    },
    {
     "data": {
      "application/vnd.jupyter.widget-view+json": {
       "model_id": "9a3155e6b54a4245b26e4be6a0ee2536",
       "version_major": 2,
       "version_minor": 0
      },
      "text/plain": [
       "Validation: |                                                                                                 …"
      ]
     },
     "metadata": {},
     "output_type": "display_data"
    },
    {
     "data": {
      "application/vnd.jupyter.widget-view+json": {
       "model_id": "7b7d8848633747f0a153a0be965b0545",
       "version_major": 2,
       "version_minor": 0
      },
      "text/plain": [
       "Validation: |                                                                                                 …"
      ]
     },
     "metadata": {},
     "output_type": "display_data"
    },
    {
     "data": {
      "application/vnd.jupyter.widget-view+json": {
       "model_id": "9115931c663e4e3ab26bc2233a86ef12",
       "version_major": 2,
       "version_minor": 0
      },
      "text/plain": [
       "Validation: |                                                                                                 …"
      ]
     },
     "metadata": {},
     "output_type": "display_data"
    },
    {
     "data": {
      "application/vnd.jupyter.widget-view+json": {
       "model_id": "ab419ec2b01c4079ae3309fdbec510aa",
       "version_major": 2,
       "version_minor": 0
      },
      "text/plain": [
       "Validation: |                                                                                                 …"
      ]
     },
     "metadata": {},
     "output_type": "display_data"
    },
    {
     "data": {
      "application/vnd.jupyter.widget-view+json": {
       "model_id": "b785512f85f44f998abb83c627106f2a",
       "version_major": 2,
       "version_minor": 0
      },
      "text/plain": [
       "Validation: |                                                                                                 …"
      ]
     },
     "metadata": {},
     "output_type": "display_data"
    },
    {
     "data": {
      "application/vnd.jupyter.widget-view+json": {
       "model_id": "84bed32ea403421893a2d72624a8adef",
       "version_major": 2,
       "version_minor": 0
      },
      "text/plain": [
       "Validation: |                                                                                                 …"
      ]
     },
     "metadata": {},
     "output_type": "display_data"
    },
    {
     "name": "stderr",
     "output_type": "stream",
     "text": [
      "`Trainer.fit` stopped: `max_epochs=100` reached.\n"
     ]
    }
   ],
   "source": [
    "ds = TSDataLoader(df, in_features, out_features, window, batch_sz)\n",
    "model = MLP(in_features, layers, hidden_sz, out_features).to(device)\n",
    "trainer = pl.Trainer(max_epochs=100, val_check_interval=1, logger=None)\n",
    "trainer.fit(model, ds)"
   ]
  },
  {
   "cell_type": "code",
   "execution_count": null,
   "id": "16cbf133-1ddf-4a55-a568-d2634b63591f",
   "metadata": {},
   "outputs": [
    {
     "name": "stderr",
     "output_type": "stream",
     "text": [
      "LOCAL_RANK: 0 - CUDA_VISIBLE_DEVICES: [0]\n"
     ]
    },
    {
     "data": {
      "application/vnd.jupyter.widget-view+json": {
       "model_id": "9fc24bd2e83546a08d62ec5796b673ee",
       "version_major": 2,
       "version_minor": 0
      },
      "text/plain": [
       "Validation: |                                                                                                 …"
      ]
     },
     "metadata": {},
     "output_type": "display_data"
    },
    {
     "name": "stdout",
     "output_type": "stream",
     "text": [
      "────────────────────────────────────────────────────────────────────────────────────────────────────────────────────────\n",
      "     Validate metric           DataLoader 0\n",
      "────────────────────────────────────────────────────────────────────────────────────────────────────────────────────────\n",
      "        val_loss             72.49425506591797\n",
      "────────────────────────────────────────────────────────────────────────────────────────────────────────────────────────\n"
     ]
    }
   ],
   "source": [
    "trainer.validate(model, ds);"
   ]
  },
  {
   "cell_type": "code",
   "execution_count": null,
   "id": "bcc68108-6e54-45c7-9830-326ce6aa4fe4",
   "metadata": {},
   "outputs": [
    {
     "name": "stderr",
     "output_type": "stream",
     "text": [
      "LOCAL_RANK: 0 - CUDA_VISIBLE_DEVICES: [0]\n"
     ]
    },
    {
     "data": {
      "application/vnd.jupyter.widget-view+json": {
       "model_id": "49f9a293777b4eb99dd73c8ec2304201",
       "version_major": 2,
       "version_minor": 0
      },
      "text/plain": [
       "Testing: |                                                                                                    …"
      ]
     },
     "metadata": {},
     "output_type": "display_data"
    },
    {
     "name": "stdout",
     "output_type": "stream",
     "text": [
      "────────────────────────────────────────────────────────────────────────────────────────────────────────────────────────\n",
      "       Test metric             DataLoader 0\n",
      "────────────────────────────────────────────────────────────────────────────────────────────────────────────────────────\n",
      "        test_loss            78.3766098022461\n",
      "────────────────────────────────────────────────────────────────────────────────────────────────────────────────────────\n"
     ]
    }
   ],
   "source": [
    "trainer.test(model, ds);"
   ]
  },
  {
   "cell_type": "code",
   "execution_count": null,
   "id": "d20ec8aa-acd6-47fd-a6dc-b7e989f8157d",
   "metadata": {},
   "outputs": [
    {
     "data": {
      "application/vnd.plotly.v1+json": {
       "config": {
        "plotlyServerURL": "https://plot.ly"
       },
       "data": [
        {
         "mode": "lines",
         "name": "Actual",
         "type": "scatter",
         "x": [
          "1949-01-31T00:00:00",
          "1949-02-28T00:00:00",
          "1949-03-31T00:00:00",
          "1949-04-30T00:00:00",
          "1949-05-31T00:00:00",
          "1949-06-30T00:00:00",
          "1949-07-31T00:00:00",
          "1949-08-31T00:00:00",
          "1949-09-30T00:00:00",
          "1949-10-31T00:00:00",
          "1949-11-30T00:00:00",
          "1949-12-31T00:00:00",
          "1950-01-31T00:00:00",
          "1950-02-28T00:00:00",
          "1950-03-31T00:00:00",
          "1950-04-30T00:00:00",
          "1950-05-31T00:00:00",
          "1950-06-30T00:00:00",
          "1950-07-31T00:00:00",
          "1950-08-31T00:00:00",
          "1950-09-30T00:00:00",
          "1950-10-31T00:00:00",
          "1950-11-30T00:00:00",
          "1950-12-31T00:00:00",
          "1951-01-31T00:00:00",
          "1951-02-28T00:00:00",
          "1951-03-31T00:00:00",
          "1951-04-30T00:00:00",
          "1951-05-31T00:00:00",
          "1951-06-30T00:00:00",
          "1951-07-31T00:00:00",
          "1951-08-31T00:00:00",
          "1951-09-30T00:00:00",
          "1951-10-31T00:00:00",
          "1951-11-30T00:00:00",
          "1951-12-31T00:00:00",
          "1952-01-31T00:00:00",
          "1952-02-29T00:00:00",
          "1952-03-31T00:00:00",
          "1952-04-30T00:00:00",
          "1952-05-31T00:00:00",
          "1952-06-30T00:00:00",
          "1952-07-31T00:00:00",
          "1952-08-31T00:00:00",
          "1952-09-30T00:00:00",
          "1952-10-31T00:00:00",
          "1952-11-30T00:00:00",
          "1952-12-31T00:00:00",
          "1953-01-31T00:00:00",
          "1953-02-28T00:00:00",
          "1953-03-31T00:00:00",
          "1953-04-30T00:00:00",
          "1953-05-31T00:00:00",
          "1953-06-30T00:00:00",
          "1953-07-31T00:00:00",
          "1953-08-31T00:00:00",
          "1953-09-30T00:00:00",
          "1953-10-31T00:00:00",
          "1953-11-30T00:00:00",
          "1953-12-31T00:00:00",
          "1954-01-31T00:00:00",
          "1954-02-28T00:00:00",
          "1954-03-31T00:00:00",
          "1954-04-30T00:00:00",
          "1954-05-31T00:00:00",
          "1954-06-30T00:00:00",
          "1954-07-31T00:00:00",
          "1954-08-31T00:00:00",
          "1954-09-30T00:00:00",
          "1954-10-31T00:00:00",
          "1954-11-30T00:00:00",
          "1954-12-31T00:00:00",
          "1955-01-31T00:00:00",
          "1955-02-28T00:00:00",
          "1955-03-31T00:00:00",
          "1955-04-30T00:00:00",
          "1955-05-31T00:00:00",
          "1955-06-30T00:00:00",
          "1955-07-31T00:00:00",
          "1955-08-31T00:00:00",
          "1955-09-30T00:00:00",
          "1955-10-31T00:00:00",
          "1955-11-30T00:00:00",
          "1955-12-31T00:00:00",
          "1956-01-31T00:00:00",
          "1956-02-29T00:00:00",
          "1956-03-31T00:00:00",
          "1956-04-30T00:00:00",
          "1956-05-31T00:00:00",
          "1956-06-30T00:00:00",
          "1956-07-31T00:00:00",
          "1956-08-31T00:00:00",
          "1956-09-30T00:00:00",
          "1956-10-31T00:00:00",
          "1956-11-30T00:00:00",
          "1956-12-31T00:00:00",
          "1957-01-31T00:00:00",
          "1957-02-28T00:00:00",
          "1957-03-31T00:00:00",
          "1957-04-30T00:00:00",
          "1957-05-31T00:00:00",
          "1957-06-30T00:00:00",
          "1957-07-31T00:00:00",
          "1957-08-31T00:00:00",
          "1957-09-30T00:00:00",
          "1957-10-31T00:00:00",
          "1957-11-30T00:00:00",
          "1957-12-31T00:00:00",
          "1958-01-31T00:00:00",
          "1958-02-28T00:00:00",
          "1958-03-31T00:00:00",
          "1958-04-30T00:00:00",
          "1958-05-31T00:00:00",
          "1958-06-30T00:00:00",
          "1958-07-31T00:00:00",
          "1958-08-31T00:00:00",
          "1958-09-30T00:00:00",
          "1958-10-31T00:00:00",
          "1958-11-30T00:00:00",
          "1958-12-31T00:00:00",
          "1959-01-31T00:00:00",
          "1959-02-28T00:00:00",
          "1959-03-31T00:00:00",
          "1959-04-30T00:00:00",
          "1959-05-31T00:00:00",
          "1959-06-30T00:00:00",
          "1959-07-31T00:00:00",
          "1959-08-31T00:00:00",
          "1959-09-30T00:00:00",
          "1959-10-31T00:00:00",
          "1959-11-30T00:00:00",
          "1959-12-31T00:00:00",
          "1960-01-31T00:00:00",
          "1960-02-29T00:00:00",
          "1960-03-31T00:00:00",
          "1960-04-30T00:00:00",
          "1960-05-31T00:00:00",
          "1960-06-30T00:00:00",
          "1960-07-31T00:00:00",
          "1960-08-31T00:00:00",
          "1960-09-30T00:00:00",
          "1960-10-31T00:00:00",
          "1960-11-30T00:00:00",
          "1960-12-31T00:00:00"
         ],
         "y": [
          112,
          118,
          132,
          129,
          121,
          135,
          148,
          148,
          136,
          119,
          104,
          118,
          115,
          126,
          141,
          135,
          125,
          149,
          170,
          170,
          158,
          133,
          114,
          140,
          145,
          150,
          178,
          163,
          172,
          178,
          199,
          199,
          184,
          162,
          146,
          166,
          171,
          180,
          193,
          181,
          183,
          218,
          230,
          242,
          209,
          191,
          172,
          194,
          196,
          196,
          236,
          235,
          229,
          243,
          264,
          272,
          237,
          211,
          180,
          201,
          204,
          188,
          235,
          227,
          234,
          264,
          302,
          293,
          259,
          229,
          203,
          229,
          242,
          233,
          267,
          269,
          270,
          315,
          364,
          347,
          312,
          274,
          237,
          278,
          284,
          277,
          317,
          313,
          318,
          374,
          413,
          405,
          355,
          306,
          271,
          306,
          315,
          301,
          356,
          348,
          355,
          422,
          465,
          467,
          404,
          347,
          305,
          336,
          340,
          318,
          362,
          348,
          363,
          435,
          491,
          505,
          404,
          359,
          310,
          337,
          360,
          342,
          406,
          396,
          420,
          472,
          548,
          559,
          463,
          407,
          362,
          405,
          417,
          391,
          419,
          461,
          472,
          535,
          622,
          606,
          508,
          461,
          390,
          432
         ]
        },
        {
         "line": {
          "dash": "dot"
         },
         "mode": "lines",
         "name": "Predicted",
         "type": "scatter",
         "x": [
          "1949-01-31T00:00:00",
          "1949-02-28T00:00:00",
          "1949-03-31T00:00:00",
          "1949-04-30T00:00:00",
          "1949-05-31T00:00:00",
          "1949-06-30T00:00:00",
          "1949-07-31T00:00:00",
          "1949-08-31T00:00:00",
          "1949-09-30T00:00:00",
          "1949-10-31T00:00:00",
          "1949-11-30T00:00:00",
          "1949-12-31T00:00:00",
          "1950-01-31T00:00:00",
          "1950-02-28T00:00:00",
          "1950-03-31T00:00:00",
          "1950-04-30T00:00:00",
          "1950-05-31T00:00:00",
          "1950-06-30T00:00:00",
          "1950-07-31T00:00:00",
          "1950-08-31T00:00:00",
          "1950-09-30T00:00:00",
          "1950-10-31T00:00:00",
          "1950-11-30T00:00:00",
          "1950-12-31T00:00:00",
          "1951-01-31T00:00:00",
          "1951-02-28T00:00:00",
          "1951-03-31T00:00:00",
          "1951-04-30T00:00:00",
          "1951-05-31T00:00:00",
          "1951-06-30T00:00:00",
          "1951-07-31T00:00:00",
          "1951-08-31T00:00:00",
          "1951-09-30T00:00:00",
          "1951-10-31T00:00:00",
          "1951-11-30T00:00:00",
          "1951-12-31T00:00:00",
          "1952-01-31T00:00:00",
          "1952-02-29T00:00:00",
          "1952-03-31T00:00:00",
          "1952-04-30T00:00:00",
          "1952-05-31T00:00:00",
          "1952-06-30T00:00:00",
          "1952-07-31T00:00:00",
          "1952-08-31T00:00:00",
          "1952-09-30T00:00:00",
          "1952-10-31T00:00:00",
          "1952-11-30T00:00:00",
          "1952-12-31T00:00:00",
          "1953-01-31T00:00:00",
          "1953-02-28T00:00:00",
          "1953-03-31T00:00:00",
          "1953-04-30T00:00:00",
          "1953-05-31T00:00:00",
          "1953-06-30T00:00:00",
          "1953-07-31T00:00:00",
          "1953-08-31T00:00:00",
          "1953-09-30T00:00:00",
          "1953-10-31T00:00:00",
          "1953-11-30T00:00:00",
          "1953-12-31T00:00:00",
          "1954-01-31T00:00:00",
          "1954-02-28T00:00:00",
          "1954-03-31T00:00:00",
          "1954-04-30T00:00:00",
          "1954-05-31T00:00:00",
          "1954-06-30T00:00:00",
          "1954-07-31T00:00:00",
          "1954-08-31T00:00:00",
          "1954-09-30T00:00:00",
          "1954-10-31T00:00:00",
          "1954-11-30T00:00:00",
          "1954-12-31T00:00:00",
          "1955-01-31T00:00:00",
          "1955-02-28T00:00:00",
          "1955-03-31T00:00:00",
          "1955-04-30T00:00:00",
          "1955-05-31T00:00:00",
          "1955-06-30T00:00:00",
          "1955-07-31T00:00:00",
          "1955-08-31T00:00:00",
          "1955-09-30T00:00:00",
          "1955-10-31T00:00:00",
          "1955-11-30T00:00:00",
          "1955-12-31T00:00:00",
          "1956-01-31T00:00:00",
          "1956-02-29T00:00:00",
          "1956-03-31T00:00:00",
          "1956-04-30T00:00:00",
          "1956-05-31T00:00:00",
          "1956-06-30T00:00:00",
          "1956-07-31T00:00:00",
          "1956-08-31T00:00:00",
          "1956-09-30T00:00:00",
          "1956-10-31T00:00:00",
          "1956-11-30T00:00:00",
          "1956-12-31T00:00:00",
          "1957-01-31T00:00:00",
          "1957-02-28T00:00:00",
          "1957-03-31T00:00:00",
          "1957-04-30T00:00:00",
          "1957-05-31T00:00:00",
          "1957-06-30T00:00:00",
          "1957-07-31T00:00:00",
          "1957-08-31T00:00:00",
          "1957-09-30T00:00:00",
          "1957-10-31T00:00:00",
          "1957-11-30T00:00:00",
          "1957-12-31T00:00:00",
          "1958-01-31T00:00:00",
          "1958-02-28T00:00:00",
          "1958-03-31T00:00:00",
          "1958-04-30T00:00:00",
          "1958-05-31T00:00:00",
          "1958-06-30T00:00:00",
          "1958-07-31T00:00:00",
          "1958-08-31T00:00:00",
          "1958-09-30T00:00:00",
          "1958-10-31T00:00:00",
          "1958-11-30T00:00:00",
          "1958-12-31T00:00:00",
          "1959-01-31T00:00:00",
          "1959-02-28T00:00:00",
          "1959-03-31T00:00:00",
          "1959-04-30T00:00:00",
          "1959-05-31T00:00:00",
          "1959-06-30T00:00:00",
          "1959-07-31T00:00:00",
          "1959-08-31T00:00:00",
          "1959-09-30T00:00:00",
          "1959-10-31T00:00:00",
          "1959-11-30T00:00:00",
          "1959-12-31T00:00:00",
          "1960-01-31T00:00:00",
          "1960-02-29T00:00:00",
          "1960-03-31T00:00:00",
          "1960-04-30T00:00:00",
          "1960-05-31T00:00:00",
          "1960-06-30T00:00:00",
          "1960-07-31T00:00:00",
          "1960-08-31T00:00:00",
          "1960-09-30T00:00:00",
          "1960-10-31T00:00:00",
          "1960-11-30T00:00:00",
          "1960-12-31T00:00:00"
         ],
         "y": [
          0,
          0,
          0,
          0,
          0,
          0,
          0,
          0,
          0,
          0,
          0,
          0,
          0,
          0,
          145.57321,
          138.36684,
          135.51266,
          146.75005,
          139.4863,
          136.60895,
          151.5242,
          144.02742,
          141.05621,
          145.59088,
          138.38329,
          135.52892,
          161.78079,
          153.78421,
          150.6112,
          167.866,
          159.5727,
          156.27998,
          177.78912,
          169.01149,
          165.52376,
          175.17519,
          166.52515,
          163.08887,
          196.63632,
          186.9402,
          183.08167,
          199.42125,
          189.58922,
          185.67592,
          209.13412,
          198.82835,
          194.72403,
          204.70628,
          194.61607,
          190.59906,
          224.42361,
          213.3726,
          208.96753,
          235.79431,
          224.18895,
          219.56015,
          244.75778,
          232.7147,
          227.90982,
          239.24306,
          227.46886,
          222.77258,
          258.38855,
          245.68146,
          240.60841,
          262.02087,
          249.13676,
          243.99216,
          263.44714,
          250.49284,
          245.32033,
          249.40067,
          237.13097,
          232.235,
          276.64856,
          263.0512,
          257.61896,
          287.7665,
          273.62692,
          267.97595,
          302.83325,
          287.95853,
          282.01132,
          292.57526,
          278.2003,
          272.45517,
          328.00085,
          311.89963,
          305.45734,
          341.08246,
          324.34326,
          317.64365,
          356.48834,
          338.99734,
          331.99484,
          341.55927,
          324.7957,
          318.08725,
          377.37204,
          358.86356,
          351.45023,
          388.7492,
          369.68588,
          362.04874,
          401.6629,
          381.9692,
          374.07822,
          381.0561,
          362.36642,
          354.88126,
          420.7555,
          400.13168,
          391.8651,
          430.39987,
          409.30573,
          400.84943,
          438.73743,
          417.23605,
          408.61578,
          401.93817,
          382.22998,
          374.33426,
          438.7119,
          417.21265,
          408.59286,
          452.73566,
          430.55258,
          421.65686,
          467.93323,
          445.00797,
          435.8135,
          437.99487,
          416.52872,
          407.92368,
          491.71753,
          467.63382,
          457.97144,
          514.0199,
          488.84848,
          478.74744,
          530.30066,
          504.3345,
          493.91333,
          501.0355
         ]
        }
       ],
       "layout": {
        "template": {
         "data": {
          "bar": [
           {
            "error_x": {
             "color": "#2a3f5f"
            },
            "error_y": {
             "color": "#2a3f5f"
            },
            "marker": {
             "line": {
              "color": "white",
              "width": 0.5
             },
             "pattern": {
              "fillmode": "overlay",
              "size": 10,
              "solidity": 0.2
             }
            },
            "type": "bar"
           }
          ],
          "barpolar": [
           {
            "marker": {
             "line": {
              "color": "white",
              "width": 0.5
             },
             "pattern": {
              "fillmode": "overlay",
              "size": 10,
              "solidity": 0.2
             }
            },
            "type": "barpolar"
           }
          ],
          "carpet": [
           {
            "aaxis": {
             "endlinecolor": "#2a3f5f",
             "gridcolor": "#C8D4E3",
             "linecolor": "#C8D4E3",
             "minorgridcolor": "#C8D4E3",
             "startlinecolor": "#2a3f5f"
            },
            "baxis": {
             "endlinecolor": "#2a3f5f",
             "gridcolor": "#C8D4E3",
             "linecolor": "#C8D4E3",
             "minorgridcolor": "#C8D4E3",
             "startlinecolor": "#2a3f5f"
            },
            "type": "carpet"
           }
          ],
          "choropleth": [
           {
            "colorbar": {
             "outlinewidth": 0,
             "ticks": ""
            },
            "type": "choropleth"
           }
          ],
          "contour": [
           {
            "colorbar": {
             "outlinewidth": 0,
             "ticks": ""
            },
            "colorscale": [
             [
              0,
              "#0d0887"
             ],
             [
              0.1111111111111111,
              "#46039f"
             ],
             [
              0.2222222222222222,
              "#7201a8"
             ],
             [
              0.3333333333333333,
              "#9c179e"
             ],
             [
              0.4444444444444444,
              "#bd3786"
             ],
             [
              0.5555555555555556,
              "#d8576b"
             ],
             [
              0.6666666666666666,
              "#ed7953"
             ],
             [
              0.7777777777777778,
              "#fb9f3a"
             ],
             [
              0.8888888888888888,
              "#fdca26"
             ],
             [
              1,
              "#f0f921"
             ]
            ],
            "type": "contour"
           }
          ],
          "contourcarpet": [
           {
            "colorbar": {
             "outlinewidth": 0,
             "ticks": ""
            },
            "type": "contourcarpet"
           }
          ],
          "heatmap": [
           {
            "colorbar": {
             "outlinewidth": 0,
             "ticks": ""
            },
            "colorscale": [
             [
              0,
              "#0d0887"
             ],
             [
              0.1111111111111111,
              "#46039f"
             ],
             [
              0.2222222222222222,
              "#7201a8"
             ],
             [
              0.3333333333333333,
              "#9c179e"
             ],
             [
              0.4444444444444444,
              "#bd3786"
             ],
             [
              0.5555555555555556,
              "#d8576b"
             ],
             [
              0.6666666666666666,
              "#ed7953"
             ],
             [
              0.7777777777777778,
              "#fb9f3a"
             ],
             [
              0.8888888888888888,
              "#fdca26"
             ],
             [
              1,
              "#f0f921"
             ]
            ],
            "type": "heatmap"
           }
          ],
          "heatmapgl": [
           {
            "colorbar": {
             "outlinewidth": 0,
             "ticks": ""
            },
            "colorscale": [
             [
              0,
              "#0d0887"
             ],
             [
              0.1111111111111111,
              "#46039f"
             ],
             [
              0.2222222222222222,
              "#7201a8"
             ],
             [
              0.3333333333333333,
              "#9c179e"
             ],
             [
              0.4444444444444444,
              "#bd3786"
             ],
             [
              0.5555555555555556,
              "#d8576b"
             ],
             [
              0.6666666666666666,
              "#ed7953"
             ],
             [
              0.7777777777777778,
              "#fb9f3a"
             ],
             [
              0.8888888888888888,
              "#fdca26"
             ],
             [
              1,
              "#f0f921"
             ]
            ],
            "type": "heatmapgl"
           }
          ],
          "histogram": [
           {
            "marker": {
             "pattern": {
              "fillmode": "overlay",
              "size": 10,
              "solidity": 0.2
             }
            },
            "type": "histogram"
           }
          ],
          "histogram2d": [
           {
            "colorbar": {
             "outlinewidth": 0,
             "ticks": ""
            },
            "colorscale": [
             [
              0,
              "#0d0887"
             ],
             [
              0.1111111111111111,
              "#46039f"
             ],
             [
              0.2222222222222222,
              "#7201a8"
             ],
             [
              0.3333333333333333,
              "#9c179e"
             ],
             [
              0.4444444444444444,
              "#bd3786"
             ],
             [
              0.5555555555555556,
              "#d8576b"
             ],
             [
              0.6666666666666666,
              "#ed7953"
             ],
             [
              0.7777777777777778,
              "#fb9f3a"
             ],
             [
              0.8888888888888888,
              "#fdca26"
             ],
             [
              1,
              "#f0f921"
             ]
            ],
            "type": "histogram2d"
           }
          ],
          "histogram2dcontour": [
           {
            "colorbar": {
             "outlinewidth": 0,
             "ticks": ""
            },
            "colorscale": [
             [
              0,
              "#0d0887"
             ],
             [
              0.1111111111111111,
              "#46039f"
             ],
             [
              0.2222222222222222,
              "#7201a8"
             ],
             [
              0.3333333333333333,
              "#9c179e"
             ],
             [
              0.4444444444444444,
              "#bd3786"
             ],
             [
              0.5555555555555556,
              "#d8576b"
             ],
             [
              0.6666666666666666,
              "#ed7953"
             ],
             [
              0.7777777777777778,
              "#fb9f3a"
             ],
             [
              0.8888888888888888,
              "#fdca26"
             ],
             [
              1,
              "#f0f921"
             ]
            ],
            "type": "histogram2dcontour"
           }
          ],
          "mesh3d": [
           {
            "colorbar": {
             "outlinewidth": 0,
             "ticks": ""
            },
            "type": "mesh3d"
           }
          ],
          "parcoords": [
           {
            "line": {
             "colorbar": {
              "outlinewidth": 0,
              "ticks": ""
             }
            },
            "type": "parcoords"
           }
          ],
          "pie": [
           {
            "automargin": true,
            "type": "pie"
           }
          ],
          "scatter": [
           {
            "fillpattern": {
             "fillmode": "overlay",
             "size": 10,
             "solidity": 0.2
            },
            "type": "scatter"
           }
          ],
          "scatter3d": [
           {
            "line": {
             "colorbar": {
              "outlinewidth": 0,
              "ticks": ""
             }
            },
            "marker": {
             "colorbar": {
              "outlinewidth": 0,
              "ticks": ""
             }
            },
            "type": "scatter3d"
           }
          ],
          "scattercarpet": [
           {
            "marker": {
             "colorbar": {
              "outlinewidth": 0,
              "ticks": ""
             }
            },
            "type": "scattercarpet"
           }
          ],
          "scattergeo": [
           {
            "marker": {
             "colorbar": {
              "outlinewidth": 0,
              "ticks": ""
             }
            },
            "type": "scattergeo"
           }
          ],
          "scattergl": [
           {
            "marker": {
             "colorbar": {
              "outlinewidth": 0,
              "ticks": ""
             }
            },
            "type": "scattergl"
           }
          ],
          "scattermapbox": [
           {
            "marker": {
             "colorbar": {
              "outlinewidth": 0,
              "ticks": ""
             }
            },
            "type": "scattermapbox"
           }
          ],
          "scatterpolar": [
           {
            "marker": {
             "colorbar": {
              "outlinewidth": 0,
              "ticks": ""
             }
            },
            "type": "scatterpolar"
           }
          ],
          "scatterpolargl": [
           {
            "marker": {
             "colorbar": {
              "outlinewidth": 0,
              "ticks": ""
             }
            },
            "type": "scatterpolargl"
           }
          ],
          "scatterternary": [
           {
            "marker": {
             "colorbar": {
              "outlinewidth": 0,
              "ticks": ""
             }
            },
            "type": "scatterternary"
           }
          ],
          "surface": [
           {
            "colorbar": {
             "outlinewidth": 0,
             "ticks": ""
            },
            "colorscale": [
             [
              0,
              "#0d0887"
             ],
             [
              0.1111111111111111,
              "#46039f"
             ],
             [
              0.2222222222222222,
              "#7201a8"
             ],
             [
              0.3333333333333333,
              "#9c179e"
             ],
             [
              0.4444444444444444,
              "#bd3786"
             ],
             [
              0.5555555555555556,
              "#d8576b"
             ],
             [
              0.6666666666666666,
              "#ed7953"
             ],
             [
              0.7777777777777778,
              "#fb9f3a"
             ],
             [
              0.8888888888888888,
              "#fdca26"
             ],
             [
              1,
              "#f0f921"
             ]
            ],
            "type": "surface"
           }
          ],
          "table": [
           {
            "cells": {
             "fill": {
              "color": "#EBF0F8"
             },
             "line": {
              "color": "white"
             }
            },
            "header": {
             "fill": {
              "color": "#C8D4E3"
             },
             "line": {
              "color": "white"
             }
            },
            "type": "table"
           }
          ]
         },
         "layout": {
          "annotationdefaults": {
           "arrowcolor": "#2a3f5f",
           "arrowhead": 0,
           "arrowwidth": 1
          },
          "autotypenumbers": "strict",
          "coloraxis": {
           "colorbar": {
            "outlinewidth": 0,
            "ticks": ""
           }
          },
          "colorscale": {
           "diverging": [
            [
             0,
             "#8e0152"
            ],
            [
             0.1,
             "#c51b7d"
            ],
            [
             0.2,
             "#de77ae"
            ],
            [
             0.3,
             "#f1b6da"
            ],
            [
             0.4,
             "#fde0ef"
            ],
            [
             0.5,
             "#f7f7f7"
            ],
            [
             0.6,
             "#e6f5d0"
            ],
            [
             0.7,
             "#b8e186"
            ],
            [
             0.8,
             "#7fbc41"
            ],
            [
             0.9,
             "#4d9221"
            ],
            [
             1,
             "#276419"
            ]
           ],
           "sequential": [
            [
             0,
             "#0d0887"
            ],
            [
             0.1111111111111111,
             "#46039f"
            ],
            [
             0.2222222222222222,
             "#7201a8"
            ],
            [
             0.3333333333333333,
             "#9c179e"
            ],
            [
             0.4444444444444444,
             "#bd3786"
            ],
            [
             0.5555555555555556,
             "#d8576b"
            ],
            [
             0.6666666666666666,
             "#ed7953"
            ],
            [
             0.7777777777777778,
             "#fb9f3a"
            ],
            [
             0.8888888888888888,
             "#fdca26"
            ],
            [
             1,
             "#f0f921"
            ]
           ],
           "sequentialminus": [
            [
             0,
             "#0d0887"
            ],
            [
             0.1111111111111111,
             "#46039f"
            ],
            [
             0.2222222222222222,
             "#7201a8"
            ],
            [
             0.3333333333333333,
             "#9c179e"
            ],
            [
             0.4444444444444444,
             "#bd3786"
            ],
            [
             0.5555555555555556,
             "#d8576b"
            ],
            [
             0.6666666666666666,
             "#ed7953"
            ],
            [
             0.7777777777777778,
             "#fb9f3a"
            ],
            [
             0.8888888888888888,
             "#fdca26"
            ],
            [
             1,
             "#f0f921"
            ]
           ]
          },
          "colorway": [
           "#636efa",
           "#EF553B",
           "#00cc96",
           "#ab63fa",
           "#FFA15A",
           "#19d3f3",
           "#FF6692",
           "#B6E880",
           "#FF97FF",
           "#FECB52"
          ],
          "font": {
           "color": "#2a3f5f"
          },
          "geo": {
           "bgcolor": "white",
           "lakecolor": "white",
           "landcolor": "white",
           "showlakes": true,
           "showland": true,
           "subunitcolor": "#C8D4E3"
          },
          "hoverlabel": {
           "align": "left"
          },
          "hovermode": "closest",
          "mapbox": {
           "style": "light"
          },
          "paper_bgcolor": "white",
          "plot_bgcolor": "white",
          "polar": {
           "angularaxis": {
            "gridcolor": "#EBF0F8",
            "linecolor": "#EBF0F8",
            "ticks": ""
           },
           "bgcolor": "white",
           "radialaxis": {
            "gridcolor": "#EBF0F8",
            "linecolor": "#EBF0F8",
            "ticks": ""
           }
          },
          "scene": {
           "xaxis": {
            "backgroundcolor": "white",
            "gridcolor": "#DFE8F3",
            "gridwidth": 2,
            "linecolor": "#EBF0F8",
            "showbackground": true,
            "ticks": "",
            "zerolinecolor": "#EBF0F8"
           },
           "yaxis": {
            "backgroundcolor": "white",
            "gridcolor": "#DFE8F3",
            "gridwidth": 2,
            "linecolor": "#EBF0F8",
            "showbackground": true,
            "ticks": "",
            "zerolinecolor": "#EBF0F8"
           },
           "zaxis": {
            "backgroundcolor": "white",
            "gridcolor": "#DFE8F3",
            "gridwidth": 2,
            "linecolor": "#EBF0F8",
            "showbackground": true,
            "ticks": "",
            "zerolinecolor": "#EBF0F8"
           }
          },
          "shapedefaults": {
           "line": {
            "color": "#2a3f5f"
           }
          },
          "ternary": {
           "aaxis": {
            "gridcolor": "#DFE8F3",
            "linecolor": "#A2B1C6",
            "ticks": ""
           },
           "baxis": {
            "gridcolor": "#DFE8F3",
            "linecolor": "#A2B1C6",
            "ticks": ""
           },
           "bgcolor": "white",
           "caxis": {
            "gridcolor": "#DFE8F3",
            "linecolor": "#A2B1C6",
            "ticks": ""
           }
          },
          "title": {
           "x": 0.05
          },
          "xaxis": {
           "automargin": true,
           "gridcolor": "#EBF0F8",
           "linecolor": "#EBF0F8",
           "ticks": "",
           "title": {
            "standoff": 15
           },
           "zerolinecolor": "#EBF0F8",
           "zerolinewidth": 2
          },
          "yaxis": {
           "automargin": true,
           "gridcolor": "#EBF0F8",
           "linecolor": "#EBF0F8",
           "ticks": "",
           "title": {
            "standoff": 15
           },
           "zerolinecolor": "#EBF0F8",
           "zerolinewidth": 2
          }
         }
        },
        "title": {
         "text": "MLP Time Series Forecasting"
        },
        "xaxis": {
         "title": {
          "text": "Date"
         }
        },
        "yaxis": {
         "title": {
          "text": "Value"
         }
        }
       }
      },
      "image/png": "[encoded data removed]",
      "text/html": [
       "<div>                            <div id=\"b504a1ce-cfbb-4c03-8d6e-926532545187\" class=\"plotly-graph-div\" style=\"height:525px; width:100%;\"></div>            <script type=\"text/javascript\">                require([\"plotly\"], function(Plotly) {                    window.PLOTLYENV=window.PLOTLYENV || {};                                    if (document.getElementById(\"b504a1ce-cfbb-4c03-8d6e-926532545187\")) {                    Plotly.newPlot(                        \"b504a1ce-cfbb-4c03-8d6e-926532545187\",                        [{\"mode\":\"lines\",\"name\":\"Actual\",\"x\":[\"1949-01-31T00:00:00\",\"1949-02-28T00:00:00\",\"1949-03-31T00:00:00\",\"1949-04-30T00:00:00\",\"1949-05-31T00:00:00\",\"1949-06-30T00:00:00\",\"1949-07-31T00:00:00\",\"1949-08-31T00:00:00\",\"1949-09-30T00:00:00\",\"1949-10-31T00:00:00\",\"1949-11-30T00:00:00\",\"1949-12-31T00:00:00\",\"1950-01-31T00:00:00\",\"1950-02-28T00:00:00\",\"1950-03-31T00:00:00\",\"1950-04-30T00:00:00\",\"1950-05-31T00:00:00\",\"1950-06-30T00:00:00\",\"1950-07-31T00:00:00\",\"1950-08-31T00:00:00\",\"1950-09-30T00:00:00\",\"1950-10-31T00:00:00\",\"1950-11-30T00:00:00\",\"1950-12-31T00:00:00\",\"1951-01-31T00:00:00\",\"1951-02-28T00:00:00\",\"1951-03-31T00:00:00\",\"1951-04-30T00:00:00\",\"1951-05-31T00:00:00\",\"1951-06-30T00:00:00\",\"1951-07-31T00:00:00\",\"1951-08-31T00:00:00\",\"1951-09-30T00:00:00\",\"1951-10-31T00:00:00\",\"1951-11-30T00:00:00\",\"1951-12-31T00:00:00\",\"1952-01-31T00:00:00\",\"1952-02-29T00:00:00\",\"1952-03-31T00:00:00\",\"1952-04-30T00:00:00\",\"1952-05-31T00:00:00\",\"1952-06-30T00:00:00\",\"1952-07-31T00:00:00\",\"1952-08-31T00:00:00\",\"1952-09-30T00:00:00\",\"1952-10-31T00:00:00\",\"1952-11-30T00:00:00\",\"1952-12-31T00:00:00\",\"1953-01-31T00:00:00\",\"1953-02-28T00:00:00\",\"1953-03-31T00:00:00\",\"1953-04-30T00:00:00\",\"1953-05-31T00:00:00\",\"1953-06-30T00:00:00\",\"1953-07-31T00:00:00\",\"1953-08-31T00:00:00\",\"1953-09-30T00:00:00\",\"1953-10-31T00:00:00\",\"1953-11-30T00:00:00\",\"1953-12-31T00:00:00\",\"1954-01-31T00:00:00\",\"1954-02-28T00:00:00\",\"1954-03-31T00:00:00\",\"1954-04-30T00:00:00\",\"1954-05-31T00:00:00\",\"1954-06-30T00:00:00\",\"1954-07-31T00:00:00\",\"1954-08-31T00:00:00\",\"1954-09-30T00:00:00\",\"1954-10-31T00:00:00\",\"1954-11-30T00:00:00\",\"1954-12-31T00:00:00\",\"1955-01-31T00:00:00\",\"1955-02-28T00:00:00\",\"1955-03-31T00:00:00\",\"1955-04-30T00:00:00\",\"1955-05-31T00:00:00\",\"1955-06-30T00:00:00\",\"1955-07-31T00:00:00\",\"1955-08-31T00:00:00\",\"1955-09-30T00:00:00\",\"1955-10-31T00:00:00\",\"1955-11-30T00:00:00\",\"1955-12-31T00:00:00\",\"1956-01-31T00:00:00\",\"1956-02-29T00:00:00\",\"1956-03-31T00:00:00\",\"1956-04-30T00:00:00\",\"1956-05-31T00:00:00\",\"1956-06-30T00:00:00\",\"1956-07-31T00:00:00\",\"1956-08-31T00:00:00\",\"1956-09-30T00:00:00\",\"1956-10-31T00:00:00\",\"1956-11-30T00:00:00\",\"1956-12-31T00:00:00\",\"1957-01-31T00:00:00\",\"1957-02-28T00:00:00\",\"1957-03-31T00:00:00\",\"1957-04-30T00:00:00\",\"1957-05-31T00:00:00\",\"1957-06-30T00:00:00\",\"1957-07-31T00:00:00\",\"1957-08-31T00:00:00\",\"1957-09-30T00:00:00\",\"1957-10-31T00:00:00\",\"1957-11-30T00:00:00\",\"1957-12-31T00:00:00\",\"1958-01-31T00:00:00\",\"1958-02-28T00:00:00\",\"1958-03-31T00:00:00\",\"1958-04-30T00:00:00\",\"1958-05-31T00:00:00\",\"1958-06-30T00:00:00\",\"1958-07-31T00:00:00\",\"1958-08-31T00:00:00\",\"1958-09-30T00:00:00\",\"1958-10-31T00:00:00\",\"1958-11-30T00:00:00\",\"1958-12-31T00:00:00\",\"1959-01-31T00:00:00\",\"1959-02-28T00:00:00\",\"1959-03-31T00:00:00\",\"1959-04-30T00:00:00\",\"1959-05-31T00:00:00\",\"1959-06-30T00:00:00\",\"1959-07-31T00:00:00\",\"1959-08-31T00:00:00\",\"1959-09-30T00:00:00\",\"1959-10-31T00:00:00\",\"1959-11-30T00:00:00\",\"1959-12-31T00:00:00\",\"1960-01-31T00:00:00\",\"1960-02-29T00:00:00\",\"1960-03-31T00:00:00\",\"1960-04-30T00:00:00\",\"1960-05-31T00:00:00\",\"1960-06-30T00:00:00\",\"1960-07-31T00:00:00\",\"1960-08-31T00:00:00\",\"1960-09-30T00:00:00\",\"1960-10-31T00:00:00\",\"1960-11-30T00:00:00\",\"1960-12-31T00:00:00\"],\"y\":[112.0,118.0,132.0,129.0,121.0,135.0,148.0,148.0,136.0,119.0,104.0,118.0,115.0,126.0,141.0,135.0,125.0,149.0,170.0,170.0,158.0,133.0,114.0,140.0,145.0,150.0,178.0,163.0,172.0,178.0,199.0,199.0,184.0,162.0,146.0,166.0,171.0,180.0,193.0,181.0,183.0,218.0,230.0,242.0,209.0,191.0,172.0,194.0,196.0,196.0,236.0,235.0,229.0,243.0,264.0,272.0,237.0,211.0,180.0,201.0,204.0,188.0,235.0,227.0,234.0,264.0,302.0,293.0,259.0,229.0,203.0,229.0,242.0,233.0,267.0,269.0,270.0,315.0,364.0,347.0,312.0,274.0,237.0,278.0,284.0,277.0,317.0,313.0,318.0,374.0,413.0,405.0,355.0,306.0,271.0,306.0,315.0,301.0,356.0,348.0,355.0,422.0,465.0,467.0,404.0,347.0,305.0,336.0,340.0,318.0,362.0,348.0,363.0,435.0,491.0,505.0,404.0,359.0,310.0,337.0,360.0,342.0,406.0,396.0,420.0,472.0,548.0,559.0,463.0,407.0,362.0,405.0,417.0,391.0,419.0,461.0,472.0,535.0,622.0,606.0,508.0,461.0,390.0,432.0],\"type\":\"scatter\"},{\"line\":{\"dash\":\"dot\"},\"mode\":\"lines\",\"name\":\"Predicted\",\"x\":[\"1949-01-31T00:00:00\",\"1949-02-28T00:00:00\",\"1949-03-31T00:00:00\",\"1949-04-30T00:00:00\",\"1949-05-31T00:00:00\",\"1949-06-30T00:00:00\",\"1949-07-31T00:00:00\",\"1949-08-31T00:00:00\",\"1949-09-30T00:00:00\",\"1949-10-31T00:00:00\",\"1949-11-30T00:00:00\",\"1949-12-31T00:00:00\",\"1950-01-31T00:00:00\",\"1950-02-28T00:00:00\",\"1950-03-31T00:00:00\",\"1950-04-30T00:00:00\",\"1950-05-31T00:00:00\",\"1950-06-30T00:00:00\",\"1950-07-31T00:00:00\",\"1950-08-31T00:00:00\",\"1950-09-30T00:00:00\",\"1950-10-31T00:00:00\",\"1950-11-30T00:00:00\",\"1950-12-31T00:00:00\",\"1951-01-31T00:00:00\",\"1951-02-28T00:00:00\",\"1951-03-31T00:00:00\",\"1951-04-30T00:00:00\",\"1951-05-31T00:00:00\",\"1951-06-30T00:00:00\",\"1951-07-31T00:00:00\",\"1951-08-31T00:00:00\",\"1951-09-30T00:00:00\",\"1951-10-31T00:00:00\",\"1951-11-30T00:00:00\",\"1951-12-31T00:00:00\",\"1952-01-31T00:00:00\",\"1952-02-29T00:00:00\",\"1952-03-31T00:00:00\",\"1952-04-30T00:00:00\",\"1952-05-31T00:00:00\",\"1952-06-30T00:00:00\",\"1952-07-31T00:00:00\",\"1952-08-31T00:00:00\",\"1952-09-30T00:00:00\",\"1952-10-31T00:00:00\",\"1952-11-30T00:00:00\",\"1952-12-31T00:00:00\",\"1953-01-31T00:00:00\",\"1953-02-28T00:00:00\",\"1953-03-31T00:00:00\",\"1953-04-30T00:00:00\",\"1953-05-31T00:00:00\",\"1953-06-30T00:00:00\",\"1953-07-31T00:00:00\",\"1953-08-31T00:00:00\",\"1953-09-30T00:00:00\",\"1953-10-31T00:00:00\",\"1953-11-30T00:00:00\",\"1953-12-31T00:00:00\",\"1954-01-31T00:00:00\",\"1954-02-28T00:00:00\",\"1954-03-31T00:00:00\",\"1954-04-30T00:00:00\",\"1954-05-31T00:00:00\",\"1954-06-30T00:00:00\",\"1954-07-31T00:00:00\",\"1954-08-31T00:00:00\",\"1954-09-30T00:00:00\",\"1954-10-31T00:00:00\",\"1954-11-30T00:00:00\",\"1954-12-31T00:00:00\",\"1955-01-31T00:00:00\",\"1955-02-28T00:00:00\",\"1955-03-31T00:00:00\",\"1955-04-30T00:00:00\",\"1955-05-31T00:00:00\",\"1955-06-30T00:00:00\",\"1955-07-31T00:00:00\",\"1955-08-31T00:00:00\",\"1955-09-30T00:00:00\",\"1955-10-31T00:00:00\",\"1955-11-30T00:00:00\",\"1955-12-31T00:00:00\",\"1956-01-31T00:00:00\",\"1956-02-29T00:00:00\",\"1956-03-31T00:00:00\",\"1956-04-30T00:00:00\",\"1956-05-31T00:00:00\",\"1956-06-30T00:00:00\",\"1956-07-31T00:00:00\",\"1956-08-31T00:00:00\",\"1956-09-30T00:00:00\",\"1956-10-31T00:00:00\",\"1956-11-30T00:00:00\",\"1956-12-31T00:00:00\",\"1957-01-31T00:00:00\",\"1957-02-28T00:00:00\",\"1957-03-31T00:00:00\",\"1957-04-30T00:00:00\",\"1957-05-31T00:00:00\",\"1957-06-30T00:00:00\",\"1957-07-31T00:00:00\",\"1957-08-31T00:00:00\",\"1957-09-30T00:00:00\",\"1957-10-31T00:00:00\",\"1957-11-30T00:00:00\",\"1957-12-31T00:00:00\",\"1958-01-31T00:00:00\",\"1958-02-28T00:00:00\",\"1958-03-31T00:00:00\",\"1958-04-30T00:00:00\",\"1958-05-31T00:00:00\",\"1958-06-30T00:00:00\",\"1958-07-31T00:00:00\",\"1958-08-31T00:00:00\",\"1958-09-30T00:00:00\",\"1958-10-31T00:00:00\",\"1958-11-30T00:00:00\",\"1958-12-31T00:00:00\",\"1959-01-31T00:00:00\",\"1959-02-28T00:00:00\",\"1959-03-31T00:00:00\",\"1959-04-30T00:00:00\",\"1959-05-31T00:00:00\",\"1959-06-30T00:00:00\",\"1959-07-31T00:00:00\",\"1959-08-31T00:00:00\",\"1959-09-30T00:00:00\",\"1959-10-31T00:00:00\",\"1959-11-30T00:00:00\",\"1959-12-31T00:00:00\",\"1960-01-31T00:00:00\",\"1960-02-29T00:00:00\",\"1960-03-31T00:00:00\",\"1960-04-30T00:00:00\",\"1960-05-31T00:00:00\",\"1960-06-30T00:00:00\",\"1960-07-31T00:00:00\",\"1960-08-31T00:00:00\",\"1960-09-30T00:00:00\",\"1960-10-31T00:00:00\",\"1960-11-30T00:00:00\",\"1960-12-31T00:00:00\"],\"y\":[0.0,0.0,0.0,0.0,0.0,0.0,0.0,0.0,0.0,0.0,0.0,0.0,0.0,0.0,145.57321,138.36684,135.51266,146.75005,139.4863,136.60895,151.5242,144.02742,141.05621,145.59088,138.38329,135.52892,161.78079,153.78421,150.6112,167.866,159.5727,156.27998,177.78912,169.01149,165.52376,175.17519,166.52515,163.08887,196.63632,186.9402,183.08167,199.42125,189.58922,185.67592,209.13412,198.82835,194.72403,204.70628,194.61607,190.59906,224.42361,213.3726,208.96753,235.79431,224.18895,219.56015,244.75778,232.7147,227.90982,239.24306,227.46886,222.77258,258.38855,245.68146,240.60841,262.02087,249.13676,243.99216,263.44714,250.49284,245.32033,249.40067,237.13097,232.235,276.64856,263.0512,257.61896,287.7665,273.62692,267.97595,302.83325,287.95853,282.01132,292.57526,278.2003,272.45517,328.00085,311.89963,305.45734,341.08246,324.34326,317.64365,356.48834,338.99734,331.99484,341.55927,324.7957,318.08725,377.37204,358.86356,351.45023,388.7492,369.68588,362.04874,401.6629,381.9692,374.07822,381.0561,362.36642,354.88126,420.7555,400.13168,391.8651,430.39987,409.30573,400.84943,438.73743,417.23605,408.61578,401.93817,382.22998,374.33426,438.7119,417.21265,408.59286,452.73566,430.55258,421.65686,467.93323,445.00797,435.8135,437.99487,416.52872,407.92368,491.71753,467.63382,457.97144,514.0199,488.84848,478.74744,530.30066,504.3345,493.91333,501.0355],\"type\":\"scatter\"}],                        {\"template\":{\"data\":{\"barpolar\":[{\"marker\":{\"line\":{\"color\":\"white\",\"width\":0.5},\"pattern\":{\"fillmode\":\"overlay\",\"size\":10,\"solidity\":0.2}},\"type\":\"barpolar\"}],\"bar\":[{\"error_x\":{\"color\":\"#2a3f5f\"},\"error_y\":{\"color\":\"#2a3f5f\"},\"marker\":{\"line\":{\"color\":\"white\",\"width\":0.5},\"pattern\":{\"fillmode\":\"overlay\",\"size\":10,\"solidity\":0.2}},\"type\":\"bar\"}],\"carpet\":[{\"aaxis\":{\"endlinecolor\":\"#2a3f5f\",\"gridcolor\":\"#C8D4E3\",\"linecolor\":\"#C8D4E3\",\"minorgridcolor\":\"#C8D4E3\",\"startlinecolor\":\"#2a3f5f\"},\"baxis\":{\"endlinecolor\":\"#2a3f5f\",\"gridcolor\":\"#C8D4E3\",\"linecolor\":\"#C8D4E3\",\"minorgridcolor\":\"#C8D4E3\",\"startlinecolor\":\"#2a3f5f\"},\"type\":\"carpet\"}],\"choropleth\":[{\"colorbar\":{\"outlinewidth\":0,\"ticks\":\"\"},\"type\":\"choropleth\"}],\"contourcarpet\":[{\"colorbar\":{\"outlinewidth\":0,\"ticks\":\"\"},\"type\":\"contourcarpet\"}],\"contour\":[{\"colorbar\":{\"outlinewidth\":0,\"ticks\":\"\"},\"colorscale\":[[0.0,\"#0d0887\"],[0.1111111111111111,\"#46039f\"],[0.2222222222222222,\"#7201a8\"],[0.3333333333333333,\"#9c179e\"],[0.4444444444444444,\"#bd3786\"],[0.5555555555555556,\"#d8576b\"],[0.6666666666666666,\"#ed7953\"],[0.7777777777777778,\"#fb9f3a\"],[0.8888888888888888,\"#fdca26\"],[1.0,\"#f0f921\"]],\"type\":\"contour\"}],\"heatmapgl\":[{\"colorbar\":{\"outlinewidth\":0,\"ticks\":\"\"},\"colorscale\":[[0.0,\"#0d0887\"],[0.1111111111111111,\"#46039f\"],[0.2222222222222222,\"#7201a8\"],[0.3333333333333333,\"#9c179e\"],[0.4444444444444444,\"#bd3786\"],[0.5555555555555556,\"#d8576b\"],[0.6666666666666666,\"#ed7953\"],[0.7777777777777778,\"#fb9f3a\"],[0.8888888888888888,\"#fdca26\"],[1.0,\"#f0f921\"]],\"type\":\"heatmapgl\"}],\"heatmap\":[{\"colorbar\":{\"outlinewidth\":0,\"ticks\":\"\"},\"colorscale\":[[0.0,\"#0d0887\"],[0.1111111111111111,\"#46039f\"],[0.2222222222222222,\"#7201a8\"],[0.3333333333333333,\"#9c179e\"],[0.4444444444444444,\"#bd3786\"],[0.5555555555555556,\"#d8576b\"],[0.6666666666666666,\"#ed7953\"],[0.7777777777777778,\"#fb9f3a\"],[0.8888888888888888,\"#fdca26\"],[1.0,\"#f0f921\"]],\"type\":\"heatmap\"}],\"histogram2dcontour\":[{\"colorbar\":{\"outlinewidth\":0,\"ticks\":\"\"},\"colorscale\":[[0.0,\"#0d0887\"],[0.1111111111111111,\"#46039f\"],[0.2222222222222222,\"#7201a8\"],[0.3333333333333333,\"#9c179e\"],[0.4444444444444444,\"#bd3786\"],[0.5555555555555556,\"#d8576b\"],[0.6666666666666666,\"#ed7953\"],[0.7777777777777778,\"#fb9f3a\"],[0.8888888888888888,\"#fdca26\"],[1.0,\"#f0f921\"]],\"type\":\"histogram2dcontour\"}],\"histogram2d\":[{\"colorbar\":{\"outlinewidth\":0,\"ticks\":\"\"},\"colorscale\":[[0.0,\"#0d0887\"],[0.1111111111111111,\"#46039f\"],[0.2222222222222222,\"#7201a8\"],[0.3333333333333333,\"#9c179e\"],[0.4444444444444444,\"#bd3786\"],[0.5555555555555556,\"#d8576b\"],[0.6666666666666666,\"#ed7953\"],[0.7777777777777778,\"#fb9f3a\"],[0.8888888888888888,\"#fdca26\"],[1.0,\"#f0f921\"]],\"type\":\"histogram2d\"}],\"histogram\":[{\"marker\":{\"pattern\":{\"fillmode\":\"overlay\",\"size\":10,\"solidity\":0.2}},\"type\":\"histogram\"}],\"mesh3d\":[{\"colorbar\":{\"outlinewidth\":0,\"ticks\":\"\"},\"type\":\"mesh3d\"}],\"parcoords\":[{\"line\":{\"colorbar\":{\"outlinewidth\":0,\"ticks\":\"\"}},\"type\":\"parcoords\"}],\"pie\":[{\"automargin\":true,\"type\":\"pie\"}],\"scatter3d\":[{\"line\":{\"colorbar\":{\"outlinewidth\":0,\"ticks\":\"\"}},\"marker\":{\"colorbar\":{\"outlinewidth\":0,\"ticks\":\"\"}},\"type\":\"scatter3d\"}],\"scattercarpet\":[{\"marker\":{\"colorbar\":{\"outlinewidth\":0,\"ticks\":\"\"}},\"type\":\"scattercarpet\"}],\"scattergeo\":[{\"marker\":{\"colorbar\":{\"outlinewidth\":0,\"ticks\":\"\"}},\"type\":\"scattergeo\"}],\"scattergl\":[{\"marker\":{\"colorbar\":{\"outlinewidth\":0,\"ticks\":\"\"}},\"type\":\"scattergl\"}],\"scattermapbox\":[{\"marker\":{\"colorbar\":{\"outlinewidth\":0,\"ticks\":\"\"}},\"type\":\"scattermapbox\"}],\"scatterpolargl\":[{\"marker\":{\"colorbar\":{\"outlinewidth\":0,\"ticks\":\"\"}},\"type\":\"scatterpolargl\"}],\"scatterpolar\":[{\"marker\":{\"colorbar\":{\"outlinewidth\":0,\"ticks\":\"\"}},\"type\":\"scatterpolar\"}],\"scatter\":[{\"fillpattern\":{\"fillmode\":\"overlay\",\"size\":10,\"solidity\":0.2},\"type\":\"scatter\"}],\"scatterternary\":[{\"marker\":{\"colorbar\":{\"outlinewidth\":0,\"ticks\":\"\"}},\"type\":\"scatterternary\"}],\"surface\":[{\"colorbar\":{\"outlinewidth\":0,\"ticks\":\"\"},\"colorscale\":[[0.0,\"#0d0887\"],[0.1111111111111111,\"#46039f\"],[0.2222222222222222,\"#7201a8\"],[0.3333333333333333,\"#9c179e\"],[0.4444444444444444,\"#bd3786\"],[0.5555555555555556,\"#d8576b\"],[0.6666666666666666,\"#ed7953\"],[0.7777777777777778,\"#fb9f3a\"],[0.8888888888888888,\"#fdca26\"],[1.0,\"#f0f921\"]],\"type\":\"surface\"}],\"table\":[{\"cells\":{\"fill\":{\"color\":\"#EBF0F8\"},\"line\":{\"color\":\"white\"}},\"header\":{\"fill\":{\"color\":\"#C8D4E3\"},\"line\":{\"color\":\"white\"}},\"type\":\"table\"}]},\"layout\":{\"annotationdefaults\":{\"arrowcolor\":\"#2a3f5f\",\"arrowhead\":0,\"arrowwidth\":1},\"autotypenumbers\":\"strict\",\"coloraxis\":{\"colorbar\":{\"outlinewidth\":0,\"ticks\":\"\"}},\"colorscale\":{\"diverging\":[[0,\"#8e0152\"],[0.1,\"#c51b7d\"],[0.2,\"#de77ae\"],[0.3,\"#f1b6da\"],[0.4,\"#fde0ef\"],[0.5,\"#f7f7f7\"],[0.6,\"#e6f5d0\"],[0.7,\"#b8e186\"],[0.8,\"#7fbc41\"],[0.9,\"#4d9221\"],[1,\"#276419\"]],\"sequential\":[[0.0,\"#0d0887\"],[0.1111111111111111,\"#46039f\"],[0.2222222222222222,\"#7201a8\"],[0.3333333333333333,\"#9c179e\"],[0.4444444444444444,\"#bd3786\"],[0.5555555555555556,\"#d8576b\"],[0.6666666666666666,\"#ed7953\"],[0.7777777777777778,\"#fb9f3a\"],[0.8888888888888888,\"#fdca26\"],[1.0,\"#f0f921\"]],\"sequentialminus\":[[0.0,\"#0d0887\"],[0.1111111111111111,\"#46039f\"],[0.2222222222222222,\"#7201a8\"],[0.3333333333333333,\"#9c179e\"],[0.4444444444444444,\"#bd3786\"],[0.5555555555555556,\"#d8576b\"],[0.6666666666666666,\"#ed7953\"],[0.7777777777777778,\"#fb9f3a\"],[0.8888888888888888,\"#fdca26\"],[1.0,\"#f0f921\"]]},\"colorway\":[\"#636efa\",\"#EF553B\",\"#00cc96\",\"#ab63fa\",\"#FFA15A\",\"#19d3f3\",\"#FF6692\",\"#B6E880\",\"#FF97FF\",\"#FECB52\"],\"font\":{\"color\":\"#2a3f5f\"},\"geo\":{\"bgcolor\":\"white\",\"lakecolor\":\"white\",\"landcolor\":\"white\",\"showlakes\":true,\"showland\":true,\"subunitcolor\":\"#C8D4E3\"},\"hoverlabel\":{\"align\":\"left\"},\"hovermode\":\"closest\",\"mapbox\":{\"style\":\"light\"},\"paper_bgcolor\":\"white\",\"plot_bgcolor\":\"white\",\"polar\":{\"angularaxis\":{\"gridcolor\":\"#EBF0F8\",\"linecolor\":\"#EBF0F8\",\"ticks\":\"\"},\"bgcolor\":\"white\",\"radialaxis\":{\"gridcolor\":\"#EBF0F8\",\"linecolor\":\"#EBF0F8\",\"ticks\":\"\"}},\"scene\":{\"xaxis\":{\"backgroundcolor\":\"white\",\"gridcolor\":\"#DFE8F3\",\"gridwidth\":2,\"linecolor\":\"#EBF0F8\",\"showbackground\":true,\"ticks\":\"\",\"zerolinecolor\":\"#EBF0F8\"},\"yaxis\":{\"backgroundcolor\":\"white\",\"gridcolor\":\"#DFE8F3\",\"gridwidth\":2,\"linecolor\":\"#EBF0F8\",\"showbackground\":true,\"ticks\":\"\",\"zerolinecolor\":\"#EBF0F8\"},\"zaxis\":{\"backgroundcolor\":\"white\",\"gridcolor\":\"#DFE8F3\",\"gridwidth\":2,\"linecolor\":\"#EBF0F8\",\"showbackground\":true,\"ticks\":\"\",\"zerolinecolor\":\"#EBF0F8\"}},\"shapedefaults\":{\"line\":{\"color\":\"#2a3f5f\"}},\"ternary\":{\"aaxis\":{\"gridcolor\":\"#DFE8F3\",\"linecolor\":\"#A2B1C6\",\"ticks\":\"\"},\"baxis\":{\"gridcolor\":\"#DFE8F3\",\"linecolor\":\"#A2B1C6\",\"ticks\":\"\"},\"bgcolor\":\"white\",\"caxis\":{\"gridcolor\":\"#DFE8F3\",\"linecolor\":\"#A2B1C6\",\"ticks\":\"\"}},\"title\":{\"x\":0.05},\"xaxis\":{\"automargin\":true,\"gridcolor\":\"#EBF0F8\",\"linecolor\":\"#EBF0F8\",\"ticks\":\"\",\"title\":{\"standoff\":15},\"zerolinecolor\":\"#EBF0F8\",\"zerolinewidth\":2},\"yaxis\":{\"automargin\":true,\"gridcolor\":\"#EBF0F8\",\"linecolor\":\"#EBF0F8\",\"ticks\":\"\",\"title\":{\"standoff\":15},\"zerolinecolor\":\"#EBF0F8\",\"zerolinewidth\":2}}},\"title\":{\"text\":\"MLP Time Series Forecasting\"},\"xaxis\":{\"title\":{\"text\":\"Date\"}},\"yaxis\":{\"title\":{\"text\":\"Value\"}}},                        {\"responsive\": true}                    ).then(function(){\n",
       "                            \n",
       "var gd = document.getElementById('b504a1ce-cfbb-4c03-8d6e-926532545187');\n",
       "var x = new MutationObserver(function (mutations, observer) {{\n",
       "        var display = window.getComputedStyle(gd).display;\n",
       "        if (!display || display === 'none') {{\n",
       "            console.log([gd, 'removed!']);\n",
       "            Plotly.purge(gd);\n",
       "            observer.disconnect();\n",
       "        }}\n",
       "}});\n",
       "\n",
       "// Listen for the removal of the full notebook cells\n",
       "var notebookContainer = gd.closest('#notebook-container');\n",
       "if (notebookContainer) {{\n",
       "    x.observe(notebookContainer, {childList: true});\n",
       "}}\n",
       "\n",
       "// Listen for the clearing of the current output cell\n",
       "var outputEl = gd.closest('.output');\n",
       "if (outputEl) {{\n",
       "    x.observe(outputEl, {childList: true});\n",
       "}}\n",
       "\n",
       "                        })                };                });            </script>        </div>"
      ]
     },
     "metadata": {},
     "output_type": "display_data"
    }
   ],
   "source": [
    "import plotly.graph_objects as go\n",
    "import torch\n",
    "\n",
    "# Extract the target variable\n",
    "x = df.y.values\n",
    "model.eval()\n",
    "\n",
    "# Initialize tensor for predictions\n",
    "y_pred = torch.zeros(len(x))\n",
    "\n",
    "# Perform iterative predictions\n",
    "for idx in range(0, len(x) - in_features, window):\n",
    "    x_input = torch.tensor(x[idx : idx + in_features], dtype=torch.float32).unsqueeze(\n",
    "        0\n",
    "    )  # Add batch dimension\n",
    "    y_out = model(x_input).squeeze().detach()  # Run model & remove unnecessary dimensions\n",
    "\n",
    "    # Ensure output fits within bounds\n",
    "    end_idx = min(idx + in_features + out_features, len(y_pred))\n",
    "    y_pred[idx + in_features : end_idx] = y_out[\n",
    "        : end_idx - (idx + in_features)\n",
    "    ]  # Assign predictions carefully\n",
    "\n",
    "# Convert to NumPy for Plotly\n",
    "x_values = df.ds.values  # Assuming 'ds' is the date column\n",
    "y_actual = x  # Original values\n",
    "y_pred = y_pred.numpy()\n",
    "\n",
    "# Plotly visualization\n",
    "fig = go.Figure()\n",
    "fig.add_trace(go.Scatter(x=x_values, y=y_actual, mode=\"lines\", name=\"Actual\"))\n",
    "fig.add_trace(\n",
    "    go.Scatter(x=x_values, y=y_pred, mode=\"lines\", name=\"Predicted\", line=dict(dash=\"dot\"))\n",
    ")\n",
    "\n",
    "fig.update_layout(\n",
    "    title=\"MLP Time Series Forecasting\",\n",
    "    xaxis_title=\"Date\",\n",
    "    yaxis_title=\"Value\",\n",
    "    template=\"plotly_white\",\n",
    ")\n",
    "fig.show()"
   ]
  },
  {
   "cell_type": "code",
   "execution_count": null,
   "id": "25abf880-a5d5-4818-a2e3-96cc3407c876",
   "metadata": {},
   "outputs": [
    {
     "name": "stderr",
     "output_type": "stream",
     "text": [
      "/home/pranav-pc/.cache/pypoetry/virtualenvs/ts-EBaOKu-T-py3.12/lib/python3.12/site-packages/datasetsforecast/m3.py:108: FutureWarning:\n",
      "\n",
      "'M' is deprecated and will be removed in a future version, please use 'ME' instead.\n",
      "\n"
     ]
    },
    {
     "data": {
      "text/html": [
       "<div>\n",
       "<style scoped>\n",
       "    .dataframe tbody tr th:only-of-type {\n",
       "        vertical-align: middle;\n",
       "    }\n",
       "\n",
       "    .dataframe tbody tr th {\n",
       "        vertical-align: top;\n",
       "    }\n",
       "\n",
       "    .dataframe thead th {\n",
       "        text-align: right;\n",
       "    }\n",
       "</style>\n",
       "<table border=\"1\" class=\"dataframe\">\n",
       "  <thead>\n",
       "    <tr style=\"text-align: right;\">\n",
       "      <th></th>\n",
       "      <th>unique_id</th>\n",
       "      <th>ds</th>\n",
       "      <th>y</th>\n",
       "    </tr>\n",
       "  </thead>\n",
       "  <tbody>\n",
       "    <tr>\n",
       "      <th>0</th>\n",
       "      <td>M1</td>\n",
       "      <td>1990-01-31</td>\n",
       "      <td>2640.0</td>\n",
       "    </tr>\n",
       "    <tr>\n",
       "      <th>1</th>\n",
       "      <td>M1</td>\n",
       "      <td>1990-02-28</td>\n",
       "      <td>2640.0</td>\n",
       "    </tr>\n",
       "    <tr>\n",
       "      <th>2</th>\n",
       "      <td>M1</td>\n",
       "      <td>1990-03-31</td>\n",
       "      <td>2160.0</td>\n",
       "    </tr>\n",
       "    <tr>\n",
       "      <th>3</th>\n",
       "      <td>M1</td>\n",
       "      <td>1990-04-30</td>\n",
       "      <td>4200.0</td>\n",
       "    </tr>\n",
       "    <tr>\n",
       "      <th>4</th>\n",
       "      <td>M1</td>\n",
       "      <td>1990-05-31</td>\n",
       "      <td>3360.0</td>\n",
       "    </tr>\n",
       "  </tbody>\n",
       "</table>\n",
       "</div>"
      ],
      "text/plain": [
       "  unique_id         ds       y\n",
       "0        M1 1990-01-31  2640.0\n",
       "1        M1 1990-02-28  2640.0\n",
       "2        M1 1990-03-31  2160.0\n",
       "3        M1 1990-04-30  4200.0\n",
       "4        M1 1990-05-31  3360.0"
      ]
     },
     "execution_count": null,
     "metadata": {},
     "output_type": "execute_result"
    }
   ],
   "source": [
    "## Single model for all ts\n",
    "from datasetsforecast.m3 import M3\n",
    "\n",
    "M3.download(\"data/\")\n",
    "df = M3.load(\"data/\", group=\"Monthly\")[0]\n",
    "df.head()"
   ]
  },
  {
   "cell_type": "code",
   "execution_count": null,
   "id": "4faa9202-7a2c-460f-b915-afd23fecec17",
   "metadata": {},
   "outputs": [],
   "source": [
    "in_features, out_features, window, batch_sz = 12, 6, 2, 2048 * 6\n",
    "layers = 3\n",
    "hidden_sz = 32"
   ]
  },
  {
   "cell_type": "code",
   "execution_count": null,
   "id": "0bd49d30-c9bb-408e-ac3c-d06f51532f73",
   "metadata": {},
   "outputs": [
    {
     "name": "stderr",
     "output_type": "stream",
     "text": [
      "GPU available: True (cuda), used: True\n",
      "TPU available: False, using: 0 TPU cores\n",
      "HPU available: False, using: 0 HPUs\n",
      "LOCAL_RANK: 0 - CUDA_VISIBLE_DEVICES: [0]\n",
      "\n",
      "  | Name  | Type       | Params | Mode \n",
      "---------------------------------------------\n",
      "0 | model | Sequential | 3.8 K  | train\n",
      "1 | loss  | HuberLoss  | 0      | train\n",
      "---------------------------------------------\n",
      "3.8 K     Trainable params\n",
      "0         Non-trainable params\n",
      "3.8 K     Total params\n",
      "0.015     Total estimated model params size (MB)\n",
      "11        Modules in train mode\n",
      "0         Modules in eval mode\n"
     ]
    },
    {
     "data": {
      "application/vnd.jupyter.widget-view+json": {
       "model_id": "9463cced4e5240958c235cf4a948ad73",
       "version_major": 2,
       "version_minor": 0
      },
      "text/plain": [
       "Sanity Checking: |                                                                                            …"
      ]
     },
     "metadata": {},
     "output_type": "display_data"
    },
    {
     "data": {
      "application/vnd.jupyter.widget-view+json": {
       "model_id": "0c4003f5c5894585990614653842e82c",
       "version_major": 2,
       "version_minor": 0
      },
      "text/plain": [
       "Training: |                                                                                                   …"
      ]
     },
     "metadata": {},
     "output_type": "display_data"
    },
    {
     "data": {
      "application/vnd.jupyter.widget-view+json": {
       "model_id": "ad1605177c804a04bbe0a5885fce8695",
       "version_major": 2,
       "version_minor": 0
      },
      "text/plain": [
       "Validation: |                                                                                                 …"
      ]
     },
     "metadata": {},
     "output_type": "display_data"
    },
    {
     "data": {
      "application/vnd.jupyter.widget-view+json": {
       "model_id": "fa093a2e25b84ae9b27eea1bd30f2734",
       "version_major": 2,
       "version_minor": 0
      },
      "text/plain": [
       "Validation: |                                                                                                 …"
      ]
     },
     "metadata": {},
     "output_type": "display_data"
    },
    {
     "data": {
      "application/vnd.jupyter.widget-view+json": {
       "model_id": "d10816de20c842e4a965ed41f3b99c3f",
       "version_major": 2,
       "version_minor": 0
      },
      "text/plain": [
       "Validation: |                                                                                                 …"
      ]
     },
     "metadata": {},
     "output_type": "display_data"
    },
    {
     "data": {
      "application/vnd.jupyter.widget-view+json": {
       "model_id": "dbcb55ac139c4c73bf371e9d21366a50",
       "version_major": 2,
       "version_minor": 0
      },
      "text/plain": [
       "Validation: |                                                                                                 …"
      ]
     },
     "metadata": {},
     "output_type": "display_data"
    },
    {
     "data": {
      "application/vnd.jupyter.widget-view+json": {
       "model_id": "4de2136cbc7742d790af652adfd6ca8f",
       "version_major": 2,
       "version_minor": 0
      },
      "text/plain": [
       "Validation: |                                                                                                 …"
      ]
     },
     "metadata": {},
     "output_type": "display_data"
    },
    {
     "data": {
      "application/vnd.jupyter.widget-view+json": {
       "model_id": "0e06977749054b2abff3419cd52596b7",
       "version_major": 2,
       "version_minor": 0
      },
      "text/plain": [
       "Validation: |                                                                                                 …"
      ]
     },
     "metadata": {},
     "output_type": "display_data"
    },
    {
     "data": {
      "application/vnd.jupyter.widget-view+json": {
       "model_id": "d6ca385a464d4fddab2c036b9524a3d5",
       "version_major": 2,
       "version_minor": 0
      },
      "text/plain": [
       "Validation: |                                                                                                 …"
      ]
     },
     "metadata": {},
     "output_type": "display_data"
    },
    {
     "data": {
      "application/vnd.jupyter.widget-view+json": {
       "model_id": "158c23d722c644459783642949bbf1c6",
       "version_major": 2,
       "version_minor": 0
      },
      "text/plain": [
       "Validation: |                                                                                                 …"
      ]
     },
     "metadata": {},
     "output_type": "display_data"
    },
    {
     "data": {
      "application/vnd.jupyter.widget-view+json": {
       "model_id": "78a6df3440e341f7bb068f4b104ea040",
       "version_major": 2,
       "version_minor": 0
      },
      "text/plain": [
       "Validation: |                                                                                                 …"
      ]
     },
     "metadata": {},
     "output_type": "display_data"
    },
    {
     "data": {
      "application/vnd.jupyter.widget-view+json": {
       "model_id": "870e5af2a9fe435db778cb6c925c1174",
       "version_major": 2,
       "version_minor": 0
      },
      "text/plain": [
       "Validation: |                                                                                                 …"
      ]
     },
     "metadata": {},
     "output_type": "display_data"
    },
    {
     "data": {
      "application/vnd.jupyter.widget-view+json": {
       "model_id": "313ff824208b4ed5b8165ecb70e404c1",
       "version_major": 2,
       "version_minor": 0
      },
      "text/plain": [
       "Validation: |                                                                                                 …"
      ]
     },
     "metadata": {},
     "output_type": "display_data"
    },
    {
     "data": {
      "application/vnd.jupyter.widget-view+json": {
       "model_id": "7b2c8701a9a849d7932ef58e9fd74330",
       "version_major": 2,
       "version_minor": 0
      },
      "text/plain": [
       "Validation: |                                                                                                 …"
      ]
     },
     "metadata": {},
     "output_type": "display_data"
    },
    {
     "data": {
      "application/vnd.jupyter.widget-view+json": {
       "model_id": "6c72c7c5907d41e885bc227056d1cdc0",
       "version_major": 2,
       "version_minor": 0
      },
      "text/plain": [
       "Validation: |                                                                                                 …"
      ]
     },
     "metadata": {},
     "output_type": "display_data"
    },
    {
     "data": {
      "application/vnd.jupyter.widget-view+json": {
       "model_id": "4121561f7d6649e1ab225542bb9076c9",
       "version_major": 2,
       "version_minor": 0
      },
      "text/plain": [
       "Validation: |                                                                                                 …"
      ]
     },
     "metadata": {},
     "output_type": "display_data"
    },
    {
     "data": {
      "application/vnd.jupyter.widget-view+json": {
       "model_id": "444f04351fdb4f5b9d90fff330fe593b",
       "version_major": 2,
       "version_minor": 0
      },
      "text/plain": [
       "Validation: |                                                                                                 …"
      ]
     },
     "metadata": {},
     "output_type": "display_data"
    },
    {
     "data": {
      "application/vnd.jupyter.widget-view+json": {
       "model_id": "aa1450b070db4b589cd5ced571dd00bf",
       "version_major": 2,
       "version_minor": 0
      },
      "text/plain": [
       "Validation: |                                                                                                 …"
      ]
     },
     "metadata": {},
     "output_type": "display_data"
    },
    {
     "data": {
      "application/vnd.jupyter.widget-view+json": {
       "model_id": "12e3c7b0f7f8467e965cffba90d11cf4",
       "version_major": 2,
       "version_minor": 0
      },
      "text/plain": [
       "Validation: |                                                                                                 …"
      ]
     },
     "metadata": {},
     "output_type": "display_data"
    },
    {
     "data": {
      "application/vnd.jupyter.widget-view+json": {
       "model_id": "3a1d2603128e4a3f8a2d5ed380dd9179",
       "version_major": 2,
       "version_minor": 0
      },
      "text/plain": [
       "Validation: |                                                                                                 …"
      ]
     },
     "metadata": {},
     "output_type": "display_data"
    },
    {
     "data": {
      "application/vnd.jupyter.widget-view+json": {
       "model_id": "9aa80cf7859b41b9ac7df42fc7f82a7d",
       "version_major": 2,
       "version_minor": 0
      },
      "text/plain": [
       "Validation: |                                                                                                 …"
      ]
     },
     "metadata": {},
     "output_type": "display_data"
    },
    {
     "data": {
      "application/vnd.jupyter.widget-view+json": {
       "model_id": "5a4cdb126ff049dc9f7aa1a40c72d205",
       "version_major": 2,
       "version_minor": 0
      },
      "text/plain": [
       "Validation: |                                                                                                 …"
      ]
     },
     "metadata": {},
     "output_type": "display_data"
    },
    {
     "data": {
      "application/vnd.jupyter.widget-view+json": {
       "model_id": "cb5b6bdc25974f269769a2b8d1ff6104",
       "version_major": 2,
       "version_minor": 0
      },
      "text/plain": [
       "Validation: |                                                                                                 …"
      ]
     },
     "metadata": {},
     "output_type": "display_data"
    },
    {
     "data": {
      "application/vnd.jupyter.widget-view+json": {
       "model_id": "b5df2c7a5fa04e68b49e1ff545dd8342",
       "version_major": 2,
       "version_minor": 0
      },
      "text/plain": [
       "Validation: |                                                                                                 …"
      ]
     },
     "metadata": {},
     "output_type": "display_data"
    },
    {
     "data": {
      "application/vnd.jupyter.widget-view+json": {
       "model_id": "9ebbd19a634e45369e8f45e43cea7a0b",
       "version_major": 2,
       "version_minor": 0
      },
      "text/plain": [
       "Validation: |                                                                                                 …"
      ]
     },
     "metadata": {},
     "output_type": "display_data"
    },
    {
     "data": {
      "application/vnd.jupyter.widget-view+json": {
       "model_id": "87f707f06f854f7f95ece3b5b8cccc74",
       "version_major": 2,
       "version_minor": 0
      },
      "text/plain": [
       "Validation: |                                                                                                 …"
      ]
     },
     "metadata": {},
     "output_type": "display_data"
    },
    {
     "data": {
      "application/vnd.jupyter.widget-view+json": {
       "model_id": "3efb3e82f9264678953dc07874c701cd",
       "version_major": 2,
       "version_minor": 0
      },
      "text/plain": [
       "Validation: |                                                                                                 …"
      ]
     },
     "metadata": {},
     "output_type": "display_data"
    },
    {
     "data": {
      "application/vnd.jupyter.widget-view+json": {
       "model_id": "33c28f166bfd4956ae0b3abcf82f7c72",
       "version_major": 2,
       "version_minor": 0
      },
      "text/plain": [
       "Validation: |                                                                                                 …"
      ]
     },
     "metadata": {},
     "output_type": "display_data"
    },
    {
     "data": {
      "application/vnd.jupyter.widget-view+json": {
       "model_id": "e983cb0a1a714b148cef197008a704f5",
       "version_major": 2,
       "version_minor": 0
      },
      "text/plain": [
       "Validation: |                                                                                                 …"
      ]
     },
     "metadata": {},
     "output_type": "display_data"
    },
    {
     "data": {
      "application/vnd.jupyter.widget-view+json": {
       "model_id": "15e98070eee941faabc598a3c7fb51e0",
       "version_major": 2,
       "version_minor": 0
      },
      "text/plain": [
       "Validation: |                                                                                                 …"
      ]
     },
     "metadata": {},
     "output_type": "display_data"
    },
    {
     "data": {
      "application/vnd.jupyter.widget-view+json": {
       "model_id": "a8d6214b21524224bedfe55e9a722951",
       "version_major": 2,
       "version_minor": 0
      },
      "text/plain": [
       "Validation: |                                                                                                 …"
      ]
     },
     "metadata": {},
     "output_type": "display_data"
    },
    {
     "data": {
      "application/vnd.jupyter.widget-view+json": {
       "model_id": "581730545d7f4b12839a457fb134053c",
       "version_major": 2,
       "version_minor": 0
      },
      "text/plain": [
       "Validation: |                                                                                                 …"
      ]
     },
     "metadata": {},
     "output_type": "display_data"
    },
    {
     "data": {
      "application/vnd.jupyter.widget-view+json": {
       "model_id": "4967957887cb46e2b50257514eb4e43a",
       "version_major": 2,
       "version_minor": 0
      },
      "text/plain": [
       "Validation: |                                                                                                 …"
      ]
     },
     "metadata": {},
     "output_type": "display_data"
    },
    {
     "data": {
      "application/vnd.jupyter.widget-view+json": {
       "model_id": "a8e84ecf64cf49cb9440b0ead4c047df",
       "version_major": 2,
       "version_minor": 0
      },
      "text/plain": [
       "Validation: |                                                                                                 …"
      ]
     },
     "metadata": {},
     "output_type": "display_data"
    },
    {
     "data": {
      "application/vnd.jupyter.widget-view+json": {
       "model_id": "d83b6c4a34564147b1daf7ba6e2f30f4",
       "version_major": 2,
       "version_minor": 0
      },
      "text/plain": [
       "Validation: |                                                                                                 …"
      ]
     },
     "metadata": {},
     "output_type": "display_data"
    },
    {
     "data": {
      "application/vnd.jupyter.widget-view+json": {
       "model_id": "937a04ee74c44a08b6772125456da2ac",
       "version_major": 2,
       "version_minor": 0
      },
      "text/plain": [
       "Validation: |                                                                                                 …"
      ]
     },
     "metadata": {},
     "output_type": "display_data"
    },
    {
     "data": {
      "application/vnd.jupyter.widget-view+json": {
       "model_id": "370509cdce3542efae3d3f1be302a43a",
       "version_major": 2,
       "version_minor": 0
      },
      "text/plain": [
       "Validation: |                                                                                                 …"
      ]
     },
     "metadata": {},
     "output_type": "display_data"
    },
    {
     "data": {
      "application/vnd.jupyter.widget-view+json": {
       "model_id": "9512a30c05ed4698b2906f2bdedb738e",
       "version_major": 2,
       "version_minor": 0
      },
      "text/plain": [
       "Validation: |                                                                                                 …"
      ]
     },
     "metadata": {},
     "output_type": "display_data"
    },
    {
     "data": {
      "application/vnd.jupyter.widget-view+json": {
       "model_id": "6b242554c13c439d83c52fbbc763f66b",
       "version_major": 2,
       "version_minor": 0
      },
      "text/plain": [
       "Validation: |                                                                                                 …"
      ]
     },
     "metadata": {},
     "output_type": "display_data"
    },
    {
     "data": {
      "application/vnd.jupyter.widget-view+json": {
       "model_id": "c9a0cb33bca84bb59fe519a3ebdc1842",
       "version_major": 2,
       "version_minor": 0
      },
      "text/plain": [
       "Validation: |                                                                                                 …"
      ]
     },
     "metadata": {},
     "output_type": "display_data"
    },
    {
     "data": {
      "application/vnd.jupyter.widget-view+json": {
       "model_id": "104b38f42b43437eb7a607eaa9cbb28f",
       "version_major": 2,
       "version_minor": 0
      },
      "text/plain": [
       "Validation: |                                                                                                 …"
      ]
     },
     "metadata": {},
     "output_type": "display_data"
    },
    {
     "data": {
      "application/vnd.jupyter.widget-view+json": {
       "model_id": "52506a2f95bd48d69bc44e3e6ae11316",
       "version_major": 2,
       "version_minor": 0
      },
      "text/plain": [
       "Validation: |                                                                                                 …"
      ]
     },
     "metadata": {},
     "output_type": "display_data"
    },
    {
     "data": {
      "application/vnd.jupyter.widget-view+json": {
       "model_id": "453d8ae6a44a44419942fed88ff8ca66",
       "version_major": 2,
       "version_minor": 0
      },
      "text/plain": [
       "Validation: |                                                                                                 …"
      ]
     },
     "metadata": {},
     "output_type": "display_data"
    },
    {
     "data": {
      "application/vnd.jupyter.widget-view+json": {
       "model_id": "93224cefbb784183b84ab8df0e4d394d",
       "version_major": 2,
       "version_minor": 0
      },
      "text/plain": [
       "Validation: |                                                                                                 …"
      ]
     },
     "metadata": {},
     "output_type": "display_data"
    },
    {
     "data": {
      "application/vnd.jupyter.widget-view+json": {
       "model_id": "45bd7da0c4884dc6b17eddca3957f8da",
       "version_major": 2,
       "version_minor": 0
      },
      "text/plain": [
       "Validation: |                                                                                                 …"
      ]
     },
     "metadata": {},
     "output_type": "display_data"
    },
    {
     "data": {
      "application/vnd.jupyter.widget-view+json": {
       "model_id": "02683b053d1a4973a3e86929c19fbad8",
       "version_major": 2,
       "version_minor": 0
      },
      "text/plain": [
       "Validation: |                                                                                                 …"
      ]
     },
     "metadata": {},
     "output_type": "display_data"
    },
    {
     "data": {
      "application/vnd.jupyter.widget-view+json": {
       "model_id": "64c9de785e17412aaa4198fbaf42f66d",
       "version_major": 2,
       "version_minor": 0
      },
      "text/plain": [
       "Validation: |                                                                                                 …"
      ]
     },
     "metadata": {},
     "output_type": "display_data"
    },
    {
     "data": {
      "application/vnd.jupyter.widget-view+json": {
       "model_id": "8eae21e0a67647eea633762e93bcc138",
       "version_major": 2,
       "version_minor": 0
      },
      "text/plain": [
       "Validation: |                                                                                                 …"
      ]
     },
     "metadata": {},
     "output_type": "display_data"
    },
    {
     "data": {
      "application/vnd.jupyter.widget-view+json": {
       "model_id": "166574e9bc674681904985bb01a4e713",
       "version_major": 2,
       "version_minor": 0
      },
      "text/plain": [
       "Validation: |                                                                                                 …"
      ]
     },
     "metadata": {},
     "output_type": "display_data"
    },
    {
     "data": {
      "application/vnd.jupyter.widget-view+json": {
       "model_id": "fc863d1d1bdc47328a0a35d855dd3742",
       "version_major": 2,
       "version_minor": 0
      },
      "text/plain": [
       "Validation: |                                                                                                 …"
      ]
     },
     "metadata": {},
     "output_type": "display_data"
    },
    {
     "data": {
      "application/vnd.jupyter.widget-view+json": {
       "model_id": "0fbc10197a9549dfbb7c3f2bd124be00",
       "version_major": 2,
       "version_minor": 0
      },
      "text/plain": [
       "Validation: |                                                                                                 …"
      ]
     },
     "metadata": {},
     "output_type": "display_data"
    },
    {
     "data": {
      "application/vnd.jupyter.widget-view+json": {
       "model_id": "e6ff6d5ae9f24064a3e33417b07640e2",
       "version_major": 2,
       "version_minor": 0
      },
      "text/plain": [
       "Validation: |                                                                                                 …"
      ]
     },
     "metadata": {},
     "output_type": "display_data"
    },
    {
     "data": {
      "application/vnd.jupyter.widget-view+json": {
       "model_id": "44e78eafd5dc44f6a9464c5350ea9eac",
       "version_major": 2,
       "version_minor": 0
      },
      "text/plain": [
       "Validation: |                                                                                                 …"
      ]
     },
     "metadata": {},
     "output_type": "display_data"
    },
    {
     "data": {
      "application/vnd.jupyter.widget-view+json": {
       "model_id": "9586f9773afb42ca9020be019466c6d1",
       "version_major": 2,
       "version_minor": 0
      },
      "text/plain": [
       "Validation: |                                                                                                 …"
      ]
     },
     "metadata": {},
     "output_type": "display_data"
    },
    {
     "data": {
      "application/vnd.jupyter.widget-view+json": {
       "model_id": "e05814434a8146339bc2d17d6dd74eee",
       "version_major": 2,
       "version_minor": 0
      },
      "text/plain": [
       "Validation: |                                                                                                 …"
      ]
     },
     "metadata": {},
     "output_type": "display_data"
    },
    {
     "data": {
      "application/vnd.jupyter.widget-view+json": {
       "model_id": "832a08492b3f431a8a1498b552bf74e5",
       "version_major": 2,
       "version_minor": 0
      },
      "text/plain": [
       "Validation: |                                                                                                 …"
      ]
     },
     "metadata": {},
     "output_type": "display_data"
    },
    {
     "data": {
      "application/vnd.jupyter.widget-view+json": {
       "model_id": "752c44d0239d41f89ba91166dc9d4d3f",
       "version_major": 2,
       "version_minor": 0
      },
      "text/plain": [
       "Validation: |                                                                                                 …"
      ]
     },
     "metadata": {},
     "output_type": "display_data"
    },
    {
     "data": {
      "application/vnd.jupyter.widget-view+json": {
       "model_id": "76bfa6e1a353489aacef71bbb1bce9d4",
       "version_major": 2,
       "version_minor": 0
      },
      "text/plain": [
       "Validation: |                                                                                                 …"
      ]
     },
     "metadata": {},
     "output_type": "display_data"
    },
    {
     "data": {
      "application/vnd.jupyter.widget-view+json": {
       "model_id": "71d74d1933764268bb2ab39e8bd5f0c0",
       "version_major": 2,
       "version_minor": 0
      },
      "text/plain": [
       "Validation: |                                                                                                 …"
      ]
     },
     "metadata": {},
     "output_type": "display_data"
    },
    {
     "data": {
      "application/vnd.jupyter.widget-view+json": {
       "model_id": "070f8e19fe774d078e0a23a34fee98e0",
       "version_major": 2,
       "version_minor": 0
      },
      "text/plain": [
       "Validation: |                                                                                                 …"
      ]
     },
     "metadata": {},
     "output_type": "display_data"
    },
    {
     "data": {
      "application/vnd.jupyter.widget-view+json": {
       "model_id": "84d57237e1ec40beabbf34d2b0847b9f",
       "version_major": 2,
       "version_minor": 0
      },
      "text/plain": [
       "Validation: |                                                                                                 …"
      ]
     },
     "metadata": {},
     "output_type": "display_data"
    },
    {
     "data": {
      "application/vnd.jupyter.widget-view+json": {
       "model_id": "3e4b5fb2face421683e50acf65c021dd",
       "version_major": 2,
       "version_minor": 0
      },
      "text/plain": [
       "Validation: |                                                                                                 …"
      ]
     },
     "metadata": {},
     "output_type": "display_data"
    },
    {
     "name": "stderr",
     "output_type": "stream",
     "text": [
      "`Trainer.fit` stopped: `max_epochs=30` reached.\n"
     ]
    }
   ],
   "source": [
    "ds = TSDataLoader(df, in_features, out_features, window, batch_sz)\n",
    "model = MLP(in_features, layers, hidden_sz, out_features).to(device)\n",
    "trainer = pl.Trainer(max_epochs=30, val_check_interval=2, logger=None)\n",
    "trainer.fit(model, ds)"
   ]
  },
  {
   "cell_type": "code",
   "execution_count": null,
   "id": "350a9826-ea5f-406c-a30f-6164036cc901",
   "metadata": {},
   "outputs": [
    {
     "name": "stderr",
     "output_type": "stream",
     "text": [
      "LOCAL_RANK: 0 - CUDA_VISIBLE_DEVICES: [0]\n"
     ]
    },
    {
     "data": {
      "application/vnd.jupyter.widget-view+json": {
       "model_id": "d40bc7aaaad44f4ba8370d29c7020dc6",
       "version_major": 2,
       "version_minor": 0
      },
      "text/plain": [
       "Validation: |                                                                                                 …"
      ]
     },
     "metadata": {},
     "output_type": "display_data"
    },
    {
     "name": "stdout",
     "output_type": "stream",
     "text": [
      "────────────────────────────────────────────────────────────────────────────────────────────────────────────────────────\n",
      "     Validate metric           DataLoader 0\n",
      "────────────────────────────────────────────────────────────────────────────────────────────────────────────────────────\n",
      "        val_loss             714.2485961914062\n",
      "────────────────────────────────────────────────────────────────────────────────────────────────────────────────────────\n"
     ]
    }
   ],
   "source": [
    "trainer.validate(model, ds);"
   ]
  },
  {
   "cell_type": "code",
   "execution_count": null,
   "id": "2a00b259-89a6-492b-952d-58591aa807b1",
   "metadata": {},
   "outputs": [
    {
     "name": "stderr",
     "output_type": "stream",
     "text": [
      "LOCAL_RANK: 0 - CUDA_VISIBLE_DEVICES: [0]\n"
     ]
    },
    {
     "data": {
      "application/vnd.jupyter.widget-view+json": {
       "model_id": "fe5bc5eb293a40a6b94c679341a2a2a2",
       "version_major": 2,
       "version_minor": 0
      },
      "text/plain": [
       "Testing: |                                                                                                    …"
      ]
     },
     "metadata": {},
     "output_type": "display_data"
    },
    {
     "name": "stdout",
     "output_type": "stream",
     "text": [
      "────────────────────────────────────────────────────────────────────────────────────────────────────────────────────────\n",
      "       Test metric             DataLoader 0\n",
      "────────────────────────────────────────────────────────────────────────────────────────────────────────────────────────\n",
      "        test_loss           207.65223693847656\n",
      "────────────────────────────────────────────────────────────────────────────────────────────────────────────────────────\n"
     ]
    }
   ],
   "source": [
    "trainer.test(model, ds);"
   ]
  },
  {
   "cell_type": "code",
   "execution_count": null,
   "id": "fa8ca089-b1c7-4e9e-9716-b5a0a910fd35",
   "metadata": {},
   "outputs": [
    {
     "data": {
      "application/vnd.plotly.v1+json": {
       "config": {
        "plotlyServerURL": "https://plot.ly"
       },
       "data": [
        {
         "mode": "lines",
         "name": "Actual M243",
         "type": "scatter",
         "x": [
          "1990-01-31T00:00:00",
          "1990-02-28T00:00:00",
          "1990-03-31T00:00:00",
          "1990-04-30T00:00:00",
          "1990-05-31T00:00:00",
          "1990-06-30T00:00:00",
          "1990-07-31T00:00:00",
          "1990-08-31T00:00:00",
          "1990-09-30T00:00:00",
          "1990-10-31T00:00:00",
          "1990-11-30T00:00:00",
          "1990-12-31T00:00:00",
          "1991-01-31T00:00:00",
          "1991-02-28T00:00:00",
          "1991-03-31T00:00:00",
          "1991-04-30T00:00:00",
          "1991-05-31T00:00:00",
          "1991-06-30T00:00:00",
          "1991-07-31T00:00:00",
          "1991-08-31T00:00:00",
          "1991-09-30T00:00:00",
          "1991-10-31T00:00:00",
          "1991-11-30T00:00:00",
          "1991-12-31T00:00:00",
          "1992-01-31T00:00:00",
          "1992-02-29T00:00:00",
          "1992-03-31T00:00:00",
          "1992-04-30T00:00:00",
          "1992-05-31T00:00:00",
          "1992-06-30T00:00:00",
          "1992-07-31T00:00:00",
          "1992-08-31T00:00:00",
          "1992-09-30T00:00:00",
          "1992-10-31T00:00:00",
          "1992-11-30T00:00:00",
          "1992-12-31T00:00:00",
          "1993-01-31T00:00:00",
          "1993-02-28T00:00:00",
          "1993-03-31T00:00:00",
          "1993-04-30T00:00:00",
          "1993-05-31T00:00:00",
          "1993-06-30T00:00:00",
          "1993-07-31T00:00:00",
          "1993-08-31T00:00:00",
          "1993-09-30T00:00:00",
          "1993-10-31T00:00:00",
          "1993-11-30T00:00:00",
          "1993-12-31T00:00:00",
          "1994-01-31T00:00:00",
          "1994-02-28T00:00:00",
          "1994-03-31T00:00:00",
          "1994-04-30T00:00:00",
          "1994-05-31T00:00:00",
          "1994-06-30T00:00:00",
          "1994-07-31T00:00:00",
          "1994-08-31T00:00:00",
          "1994-09-30T00:00:00",
          "1994-10-31T00:00:00",
          "1994-11-30T00:00:00",
          "1994-12-31T00:00:00",
          "1995-01-31T00:00:00",
          "1995-02-28T00:00:00",
          "1995-03-31T00:00:00",
          "1995-04-30T00:00:00",
          "1995-05-31T00:00:00",
          "1995-06-30T00:00:00",
          "1995-07-31T00:00:00",
          "1995-08-31T00:00:00",
          "1995-09-30T00:00:00"
         ],
         "xaxis": "x",
         "y": [
          3300,
          1300,
          4800,
          3200,
          3050,
          6450,
          10450,
          3200,
          3600,
          2200,
          3950,
          3800,
          2000,
          3250,
          3250,
          3700,
          2350,
          3350,
          5050,
          4200,
          5050,
          5000,
          5900,
          4900,
          1450,
          3200,
          4250,
          4800,
          3950,
          5300,
          4100,
          3250,
          5450,
          6550,
          5600,
          3550,
          3900,
          3350,
          3450,
          5150,
          3650,
          4400,
          4250,
          3100,
          7100,
          3500,
          4700,
          3750,
          3850,
          6800,
          7100,
          5850,
          3000,
          4300,
          5950,
          7150,
          2900,
          4200,
          6350,
          5550,
          4250,
          1550,
          6450,
          2150,
          3650,
          4350,
          6600,
          3600,
          4600
         ],
         "yaxis": "y"
        },
        {
         "line": {
          "dash": "dot"
         },
         "mode": "lines",
         "name": "Predicted M243",
         "type": "scatter",
         "x": [
          "1990-01-31T00:00:00",
          "1990-02-28T00:00:00",
          "1990-03-31T00:00:00",
          "1990-04-30T00:00:00",
          "1990-05-31T00:00:00",
          "1990-06-30T00:00:00",
          "1990-07-31T00:00:00",
          "1990-08-31T00:00:00",
          "1990-09-30T00:00:00",
          "1990-10-31T00:00:00",
          "1990-11-30T00:00:00",
          "1990-12-31T00:00:00",
          "1991-01-31T00:00:00",
          "1991-02-28T00:00:00",
          "1991-03-31T00:00:00",
          "1991-04-30T00:00:00",
          "1991-05-31T00:00:00",
          "1991-06-30T00:00:00",
          "1991-07-31T00:00:00",
          "1991-08-31T00:00:00",
          "1991-09-30T00:00:00",
          "1991-10-31T00:00:00",
          "1991-11-30T00:00:00",
          "1991-12-31T00:00:00",
          "1992-01-31T00:00:00",
          "1992-02-29T00:00:00",
          "1992-03-31T00:00:00",
          "1992-04-30T00:00:00",
          "1992-05-31T00:00:00",
          "1992-06-30T00:00:00",
          "1992-07-31T00:00:00",
          "1992-08-31T00:00:00",
          "1992-09-30T00:00:00",
          "1992-10-31T00:00:00",
          "1992-11-30T00:00:00",
          "1992-12-31T00:00:00",
          "1993-01-31T00:00:00",
          "1993-02-28T00:00:00",
          "1993-03-31T00:00:00",
          "1993-04-30T00:00:00",
          "1993-05-31T00:00:00",
          "1993-06-30T00:00:00",
          "1993-07-31T00:00:00",
          "1993-08-31T00:00:00",
          "1993-09-30T00:00:00",
          "1993-10-31T00:00:00",
          "1993-11-30T00:00:00",
          "1993-12-31T00:00:00",
          "1994-01-31T00:00:00",
          "1994-02-28T00:00:00",
          "1994-03-31T00:00:00",
          "1994-04-30T00:00:00",
          "1994-05-31T00:00:00",
          "1994-06-30T00:00:00",
          "1994-07-31T00:00:00",
          "1994-08-31T00:00:00",
          "1994-09-30T00:00:00",
          "1994-10-31T00:00:00",
          "1994-11-30T00:00:00",
          "1994-12-31T00:00:00",
          "1995-01-31T00:00:00",
          "1995-02-28T00:00:00",
          "1995-03-31T00:00:00",
          "1995-04-30T00:00:00",
          "1995-05-31T00:00:00",
          "1995-06-30T00:00:00",
          "1995-07-31T00:00:00",
          "1995-08-31T00:00:00",
          "1995-09-30T00:00:00"
         ],
         "xaxis": "x",
         "y": [
          3300,
          1300,
          4800,
          3200,
          3050,
          6450,
          10450,
          3200,
          3600,
          2200,
          3950,
          3800,
          4420.895,
          4478.023,
          3020.5906,
          3053.7156,
          3942.649,
          3959.4802,
          2570.054,
          2515.5647,
          3793.996,
          3795.0337,
          3547.1833,
          3546.564,
          4141.995,
          4146.301,
          2667.784,
          2694.003,
          4298.2075,
          4331.5015,
          4249.422,
          4241.6084,
          4367.889,
          4358.3584,
          3944.9895,
          3941.3716,
          4305.9585,
          4302.796,
          3698.732,
          3725.1006,
          4442.2793,
          4450.467,
          4287.9336,
          4302.9395,
          3935.6116,
          3921.6133,
          4513.3267,
          4519.7104,
          3926.6353,
          3947.1018,
          4293.973,
          4323.369,
          4742.0728,
          4775.1113,
          4604.3413,
          4615.445,
          5813.161,
          5825.4927,
          4219.9194,
          4239.9033,
          5648.372,
          5651.4966,
          3364.2476,
          3346.4688,
          4466.447,
          4492.413,
          3587.9792,
          3572.3503,
          4196.1006
         ],
         "yaxis": "y"
        },
        {
         "mode": "lines",
         "name": "Actual M4",
         "type": "scatter",
         "x": [
          "1990-01-31T00:00:00",
          "1990-02-28T00:00:00",
          "1990-03-31T00:00:00",
          "1990-04-30T00:00:00",
          "1990-05-31T00:00:00",
          "1990-06-30T00:00:00",
          "1990-07-31T00:00:00",
          "1990-08-31T00:00:00",
          "1990-09-30T00:00:00",
          "1990-10-31T00:00:00",
          "1990-11-30T00:00:00",
          "1990-12-31T00:00:00",
          "1991-01-31T00:00:00",
          "1991-02-28T00:00:00",
          "1991-03-31T00:00:00",
          "1991-04-30T00:00:00",
          "1991-05-31T00:00:00",
          "1991-06-30T00:00:00",
          "1991-07-31T00:00:00",
          "1991-08-31T00:00:00",
          "1991-09-30T00:00:00",
          "1991-10-31T00:00:00",
          "1991-11-30T00:00:00",
          "1991-12-31T00:00:00",
          "1992-01-31T00:00:00",
          "1992-02-29T00:00:00",
          "1992-03-31T00:00:00",
          "1992-04-30T00:00:00",
          "1992-05-31T00:00:00",
          "1992-06-30T00:00:00",
          "1992-07-31T00:00:00",
          "1992-08-31T00:00:00",
          "1992-09-30T00:00:00",
          "1992-10-31T00:00:00",
          "1992-11-30T00:00:00",
          "1992-12-31T00:00:00",
          "1993-01-31T00:00:00",
          "1993-02-28T00:00:00",
          "1993-03-31T00:00:00",
          "1993-04-30T00:00:00",
          "1993-05-31T00:00:00",
          "1993-06-30T00:00:00",
          "1993-07-31T00:00:00",
          "1993-08-31T00:00:00",
          "1993-09-30T00:00:00",
          "1993-10-31T00:00:00",
          "1993-11-30T00:00:00",
          "1993-12-31T00:00:00",
          "1994-01-31T00:00:00",
          "1994-02-28T00:00:00",
          "1994-03-31T00:00:00",
          "1994-04-30T00:00:00",
          "1994-05-31T00:00:00",
          "1994-06-30T00:00:00",
          "1994-07-31T00:00:00",
          "1994-08-31T00:00:00",
          "1994-09-30T00:00:00",
          "1994-10-31T00:00:00",
          "1994-11-30T00:00:00",
          "1994-12-31T00:00:00",
          "1995-01-31T00:00:00",
          "1995-02-28T00:00:00",
          "1995-03-31T00:00:00",
          "1995-04-30T00:00:00",
          "1995-05-31T00:00:00",
          "1995-06-30T00:00:00",
          "1995-07-31T00:00:00",
          "1995-08-31T00:00:00"
         ],
         "xaxis": "x2",
         "y": [
          180,
          940,
          2040,
          800,
          1000,
          520,
          500,
          400,
          1760,
          1520,
          1400,
          1840,
          3360,
          220,
          6000,
          3160,
          1060,
          820,
          2860,
          440,
          1880,
          220,
          1460,
          4620,
          1360,
          3220,
          1500,
          1940,
          3100,
          2340,
          2540,
          1720,
          1560,
          4580,
          1340,
          3860,
          2440,
          2180,
          2020,
          4160,
          2760,
          3480,
          2240,
          5900,
          6720,
          7500,
          4880,
          7780,
          4360,
          4640,
          7420,
          4260,
          2740,
          3200,
          7140,
          6960,
          5760,
          2280,
          12300,
          8800,
          9660,
          5860,
          6600,
          8100,
          7760,
          6940,
          8020,
          6400
         ],
         "yaxis": "y2"
        },
        {
         "line": {
          "dash": "dot"
         },
         "mode": "lines",
         "name": "Predicted M4",
         "type": "scatter",
         "x": [
          "1990-01-31T00:00:00",
          "1990-02-28T00:00:00",
          "1990-03-31T00:00:00",
          "1990-04-30T00:00:00",
          "1990-05-31T00:00:00",
          "1990-06-30T00:00:00",
          "1990-07-31T00:00:00",
          "1990-08-31T00:00:00",
          "1990-09-30T00:00:00",
          "1990-10-31T00:00:00",
          "1990-11-30T00:00:00",
          "1990-12-31T00:00:00",
          "1991-01-31T00:00:00",
          "1991-02-28T00:00:00",
          "1991-03-31T00:00:00",
          "1991-04-30T00:00:00",
          "1991-05-31T00:00:00",
          "1991-06-30T00:00:00",
          "1991-07-31T00:00:00",
          "1991-08-31T00:00:00",
          "1991-09-30T00:00:00",
          "1991-10-31T00:00:00",
          "1991-11-30T00:00:00",
          "1991-12-31T00:00:00",
          "1992-01-31T00:00:00",
          "1992-02-29T00:00:00",
          "1992-03-31T00:00:00",
          "1992-04-30T00:00:00",
          "1992-05-31T00:00:00",
          "1992-06-30T00:00:00",
          "1992-07-31T00:00:00",
          "1992-08-31T00:00:00",
          "1992-09-30T00:00:00",
          "1992-10-31T00:00:00",
          "1992-11-30T00:00:00",
          "1992-12-31T00:00:00",
          "1993-01-31T00:00:00",
          "1993-02-28T00:00:00",
          "1993-03-31T00:00:00",
          "1993-04-30T00:00:00",
          "1993-05-31T00:00:00",
          "1993-06-30T00:00:00",
          "1993-07-31T00:00:00",
          "1993-08-31T00:00:00",
          "1993-09-30T00:00:00",
          "1993-10-31T00:00:00",
          "1993-11-30T00:00:00",
          "1993-12-31T00:00:00",
          "1994-01-31T00:00:00",
          "1994-02-28T00:00:00",
          "1994-03-31T00:00:00",
          "1994-04-30T00:00:00",
          "1994-05-31T00:00:00",
          "1994-06-30T00:00:00",
          "1994-07-31T00:00:00",
          "1994-08-31T00:00:00",
          "1994-09-30T00:00:00",
          "1994-10-31T00:00:00",
          "1994-11-30T00:00:00",
          "1994-12-31T00:00:00",
          "1995-01-31T00:00:00",
          "1995-02-28T00:00:00",
          "1995-03-31T00:00:00",
          "1995-04-30T00:00:00",
          "1995-05-31T00:00:00",
          "1995-06-30T00:00:00",
          "1995-07-31T00:00:00",
          "1995-08-31T00:00:00"
         ],
         "xaxis": "x2",
         "y": [
          180,
          940,
          2040,
          800,
          1000,
          520,
          500,
          400,
          1760,
          1520,
          1400,
          1840,
          957.2859,
          953.7847,
          1179.2612,
          1188.5311,
          1780.3408,
          1785.2354,
          985.7971,
          999.0195,
          1437.4358,
          1487.5372,
          1506.566,
          1480.0681,
          2235.1572,
          2256.021,
          1491.282,
          1460.6683,
          1341.1652,
          1359.7142,
          2214.115,
          2214.4932,
          1946.7756,
          1945.076,
          2182.6067,
          2181.985,
          2176.5432,
          2180.8184,
          2258.7979,
          2271.4924,
          2843.2905,
          2828.077,
          2826.925,
          2807.3345,
          2680.1118,
          2671.913,
          3805.6067,
          3792.648,
          3419.0105,
          3407.0093,
          4161.469,
          4165.2876,
          4849.039,
          4888.6616,
          4787.3613,
          4797.8765,
          5533.608,
          5542.3354,
          3839.0706,
          3825.9478,
          6633.2417,
          6654.9404,
          5117.518,
          5119.1855,
          5798.2524,
          5879.631,
          6655.737,
          6684.088
         ],
         "yaxis": "y2"
        },
        {
         "mode": "lines",
         "name": "Actual M109",
         "type": "scatter",
         "x": [
          "1990-01-31T00:00:00",
          "1990-02-28T00:00:00",
          "1990-03-31T00:00:00",
          "1990-04-30T00:00:00",
          "1990-05-31T00:00:00",
          "1990-06-30T00:00:00",
          "1990-07-31T00:00:00",
          "1990-08-31T00:00:00",
          "1990-09-30T00:00:00",
          "1990-10-31T00:00:00",
          "1990-11-30T00:00:00",
          "1990-12-31T00:00:00",
          "1991-01-31T00:00:00",
          "1991-02-28T00:00:00",
          "1991-03-31T00:00:00",
          "1991-04-30T00:00:00",
          "1991-05-31T00:00:00",
          "1991-06-30T00:00:00",
          "1991-07-31T00:00:00",
          "1991-08-31T00:00:00",
          "1991-09-30T00:00:00",
          "1991-10-31T00:00:00",
          "1991-11-30T00:00:00",
          "1991-12-31T00:00:00",
          "1992-01-31T00:00:00",
          "1992-02-29T00:00:00",
          "1992-03-31T00:00:00",
          "1992-04-30T00:00:00",
          "1992-05-31T00:00:00",
          "1992-06-30T00:00:00",
          "1992-07-31T00:00:00",
          "1992-08-31T00:00:00",
          "1992-09-30T00:00:00",
          "1992-10-31T00:00:00",
          "1992-11-30T00:00:00",
          "1992-12-31T00:00:00",
          "1993-01-31T00:00:00",
          "1993-02-28T00:00:00",
          "1993-03-31T00:00:00",
          "1993-04-30T00:00:00",
          "1993-05-31T00:00:00",
          "1993-06-30T00:00:00",
          "1993-07-31T00:00:00",
          "1993-08-31T00:00:00",
          "1993-09-30T00:00:00",
          "1993-10-31T00:00:00",
          "1993-11-30T00:00:00",
          "1993-12-31T00:00:00",
          "1994-01-31T00:00:00",
          "1994-02-28T00:00:00",
          "1994-03-31T00:00:00",
          "1994-04-30T00:00:00",
          "1994-05-31T00:00:00",
          "1994-06-30T00:00:00",
          "1994-07-31T00:00:00",
          "1994-08-31T00:00:00",
          "1994-09-30T00:00:00",
          "1994-10-31T00:00:00",
          "1994-11-30T00:00:00",
          "1994-12-31T00:00:00",
          "1995-01-31T00:00:00",
          "1995-02-28T00:00:00",
          "1995-03-31T00:00:00",
          "1995-04-30T00:00:00",
          "1995-05-31T00:00:00",
          "1995-06-30T00:00:00",
          "1995-07-31T00:00:00",
          "1995-08-31T00:00:00",
          "1995-09-30T00:00:00"
         ],
         "xaxis": "x3",
         "y": [
          9650,
          7200,
          6650,
          7300,
          5650,
          8100,
          6100,
          6400,
          7100,
          8850,
          7950,
          6000,
          10200,
          6050,
          5950,
          8300,
          7450,
          7400,
          7600,
          7150,
          5550,
          6350,
          5650,
          7050,
          9250,
          7150,
          6500,
          6400,
          5250,
          6950,
          7100,
          5550,
          6450,
          6850,
          6100,
          7750,
          7000,
          7650,
          7300,
          5800,
          6700,
          8200,
          6750,
          5250,
          7600,
          7200,
          6400,
          8500,
          6750,
          5950,
          8200,
          5150,
          6100,
          5650,
          6500,
          6450,
          6450,
          5850,
          5650,
          7200,
          9150,
          6550,
          7700,
          5250,
          7000,
          6850,
          5400,
          7150,
          6600
         ],
         "yaxis": "y3"
        },
        {
         "line": {
          "dash": "dot"
         },
         "mode": "lines",
         "name": "Predicted M109",
         "type": "scatter",
         "x": [
          "1990-01-31T00:00:00",
          "1990-02-28T00:00:00",
          "1990-03-31T00:00:00",
          "1990-04-30T00:00:00",
          "1990-05-31T00:00:00",
          "1990-06-30T00:00:00",
          "1990-07-31T00:00:00",
          "1990-08-31T00:00:00",
          "1990-09-30T00:00:00",
          "1990-10-31T00:00:00",
          "1990-11-30T00:00:00",
          "1990-12-31T00:00:00",
          "1991-01-31T00:00:00",
          "1991-02-28T00:00:00",
          "1991-03-31T00:00:00",
          "1991-04-30T00:00:00",
          "1991-05-31T00:00:00",
          "1991-06-30T00:00:00",
          "1991-07-31T00:00:00",
          "1991-08-31T00:00:00",
          "1991-09-30T00:00:00",
          "1991-10-31T00:00:00",
          "1991-11-30T00:00:00",
          "1991-12-31T00:00:00",
          "1992-01-31T00:00:00",
          "1992-02-29T00:00:00",
          "1992-03-31T00:00:00",
          "1992-04-30T00:00:00",
          "1992-05-31T00:00:00",
          "1992-06-30T00:00:00",
          "1992-07-31T00:00:00",
          "1992-08-31T00:00:00",
          "1992-09-30T00:00:00",
          "1992-10-31T00:00:00",
          "1992-11-30T00:00:00",
          "1992-12-31T00:00:00",
          "1993-01-31T00:00:00",
          "1993-02-28T00:00:00",
          "1993-03-31T00:00:00",
          "1993-04-30T00:00:00",
          "1993-05-31T00:00:00",
          "1993-06-30T00:00:00",
          "1993-07-31T00:00:00",
          "1993-08-31T00:00:00",
          "1993-09-30T00:00:00",
          "1993-10-31T00:00:00",
          "1993-11-30T00:00:00",
          "1993-12-31T00:00:00",
          "1994-01-31T00:00:00",
          "1994-02-28T00:00:00",
          "1994-03-31T00:00:00",
          "1994-04-30T00:00:00",
          "1994-05-31T00:00:00",
          "1994-06-30T00:00:00",
          "1994-07-31T00:00:00",
          "1994-08-31T00:00:00",
          "1994-09-30T00:00:00",
          "1994-10-31T00:00:00",
          "1994-11-30T00:00:00",
          "1994-12-31T00:00:00",
          "1995-01-31T00:00:00",
          "1995-02-28T00:00:00",
          "1995-03-31T00:00:00",
          "1995-04-30T00:00:00",
          "1995-05-31T00:00:00",
          "1995-06-30T00:00:00",
          "1995-07-31T00:00:00",
          "1995-08-31T00:00:00",
          "1995-09-30T00:00:00"
         ],
         "xaxis": "x3",
         "y": [
          9650,
          7200,
          6650,
          7300,
          5650,
          8100,
          6100,
          6400,
          7100,
          8850,
          7950,
          6000,
          7169.7905,
          7162.333,
          7028.3237,
          7055.409,
          6963.3325,
          6971.1025,
          7086.669,
          7130.4204,
          6927.436,
          6946.2803,
          7681.6426,
          7683.9355,
          6735.149,
          6741.6836,
          7380.7583,
          7389.592,
          6829.5693,
          6827.5776,
          6389.567,
          6402.075,
          6336.9536,
          6374.885,
          7129.7056,
          7134.384,
          6845.566,
          6826.757,
          6569.569,
          6589.4385,
          6865.976,
          6884.468,
          7430.597,
          7439.6035,
          6531.108,
          6552.4004,
          6850.1284,
          6869.8477,
          7350.0435,
          7338.981,
          6677.2603,
          6704.631,
          6625.7495,
          6641.288,
          6986.852,
          7002.8604,
          6324.0366,
          6344.0576,
          5855.9,
          5867.8896,
          6582.182,
          6589.201,
          6907.2627,
          6927.8623,
          6340.0293,
          6368.2446,
          6919.2163,
          6943.4995,
          6314.1978
         ],
         "yaxis": "y3"
        },
        {
         "mode": "lines",
         "name": "Actual M172",
         "type": "scatter",
         "x": [
          "1990-01-31T00:00:00",
          "1990-02-28T00:00:00",
          "1990-03-31T00:00:00",
          "1990-04-30T00:00:00",
          "1990-05-31T00:00:00",
          "1990-06-30T00:00:00",
          "1990-07-31T00:00:00",
          "1990-08-31T00:00:00",
          "1990-09-30T00:00:00",
          "1990-10-31T00:00:00",
          "1990-11-30T00:00:00",
          "1990-12-31T00:00:00",
          "1991-01-31T00:00:00",
          "1991-02-28T00:00:00",
          "1991-03-31T00:00:00",
          "1991-04-30T00:00:00",
          "1991-05-31T00:00:00",
          "1991-06-30T00:00:00",
          "1991-07-31T00:00:00",
          "1991-08-31T00:00:00",
          "1991-09-30T00:00:00",
          "1991-10-31T00:00:00",
          "1991-11-30T00:00:00",
          "1991-12-31T00:00:00",
          "1992-01-31T00:00:00",
          "1992-02-29T00:00:00",
          "1992-03-31T00:00:00",
          "1992-04-30T00:00:00",
          "1992-05-31T00:00:00",
          "1992-06-30T00:00:00",
          "1992-07-31T00:00:00",
          "1992-08-31T00:00:00",
          "1992-09-30T00:00:00",
          "1992-10-31T00:00:00",
          "1992-11-30T00:00:00",
          "1992-12-31T00:00:00",
          "1993-01-31T00:00:00",
          "1993-02-28T00:00:00",
          "1993-03-31T00:00:00",
          "1993-04-30T00:00:00",
          "1993-05-31T00:00:00",
          "1993-06-30T00:00:00",
          "1993-07-31T00:00:00",
          "1993-08-31T00:00:00",
          "1993-09-30T00:00:00",
          "1993-10-31T00:00:00",
          "1993-11-30T00:00:00",
          "1993-12-31T00:00:00",
          "1994-01-31T00:00:00",
          "1994-02-28T00:00:00",
          "1994-03-31T00:00:00",
          "1994-04-30T00:00:00",
          "1994-05-31T00:00:00",
          "1994-06-30T00:00:00",
          "1994-07-31T00:00:00",
          "1994-08-31T00:00:00",
          "1994-09-30T00:00:00",
          "1994-10-31T00:00:00",
          "1994-11-30T00:00:00",
          "1994-12-31T00:00:00",
          "1995-01-31T00:00:00",
          "1995-02-28T00:00:00",
          "1995-03-31T00:00:00",
          "1995-04-30T00:00:00",
          "1995-05-31T00:00:00",
          "1995-06-30T00:00:00",
          "1995-07-31T00:00:00",
          "1995-08-31T00:00:00",
          "1995-09-30T00:00:00"
         ],
         "xaxis": "x4",
         "y": [
          5520,
          3880,
          4840,
          4360,
          3800,
          4560,
          4560,
          5120,
          4320,
          5380,
          4860,
          4560,
          5820,
          4260,
          3720,
          4500,
          5200,
          4300,
          5460,
          4800,
          4500,
          4640,
          4600,
          5400,
          5220,
          3700,
          5180,
          4360,
          3920,
          4760,
          4600,
          4580,
          4300,
          4920,
          3940,
          5640,
          4800,
          4120,
          4940,
          4540,
          4100,
          4940,
          4660,
          4180,
          3960,
          4380,
          4480,
          5860,
          4760,
          4440,
          5020,
          4200,
          5380,
          4640,
          3680,
          4280,
          4240,
          4160,
          3960,
          4940,
          4740,
          4660,
          4060,
          4360,
          4580,
          3860,
          4460,
          4640,
          3660
         ],
         "yaxis": "y4"
        },
        {
         "line": {
          "dash": "dot"
         },
         "mode": "lines",
         "name": "Predicted M172",
         "type": "scatter",
         "x": [
          "1990-01-31T00:00:00",
          "1990-02-28T00:00:00",
          "1990-03-31T00:00:00",
          "1990-04-30T00:00:00",
          "1990-05-31T00:00:00",
          "1990-06-30T00:00:00",
          "1990-07-31T00:00:00",
          "1990-08-31T00:00:00",
          "1990-09-30T00:00:00",
          "1990-10-31T00:00:00",
          "1990-11-30T00:00:00",
          "1990-12-31T00:00:00",
          "1991-01-31T00:00:00",
          "1991-02-28T00:00:00",
          "1991-03-31T00:00:00",
          "1991-04-30T00:00:00",
          "1991-05-31T00:00:00",
          "1991-06-30T00:00:00",
          "1991-07-31T00:00:00",
          "1991-08-31T00:00:00",
          "1991-09-30T00:00:00",
          "1991-10-31T00:00:00",
          "1991-11-30T00:00:00",
          "1991-12-31T00:00:00",
          "1992-01-31T00:00:00",
          "1992-02-29T00:00:00",
          "1992-03-31T00:00:00",
          "1992-04-30T00:00:00",
          "1992-05-31T00:00:00",
          "1992-06-30T00:00:00",
          "1992-07-31T00:00:00",
          "1992-08-31T00:00:00",
          "1992-09-30T00:00:00",
          "1992-10-31T00:00:00",
          "1992-11-30T00:00:00",
          "1992-12-31T00:00:00",
          "1993-01-31T00:00:00",
          "1993-02-28T00:00:00",
          "1993-03-31T00:00:00",
          "1993-04-30T00:00:00",
          "1993-05-31T00:00:00",
          "1993-06-30T00:00:00",
          "1993-07-31T00:00:00",
          "1993-08-31T00:00:00",
          "1993-09-30T00:00:00",
          "1993-10-31T00:00:00",
          "1993-11-30T00:00:00",
          "1993-12-31T00:00:00",
          "1994-01-31T00:00:00",
          "1994-02-28T00:00:00",
          "1994-03-31T00:00:00",
          "1994-04-30T00:00:00",
          "1994-05-31T00:00:00",
          "1994-06-30T00:00:00",
          "1994-07-31T00:00:00",
          "1994-08-31T00:00:00",
          "1994-09-30T00:00:00",
          "1994-10-31T00:00:00",
          "1994-11-30T00:00:00",
          "1994-12-31T00:00:00",
          "1995-01-31T00:00:00",
          "1995-02-28T00:00:00",
          "1995-03-31T00:00:00",
          "1995-04-30T00:00:00",
          "1995-05-31T00:00:00",
          "1995-06-30T00:00:00",
          "1995-07-31T00:00:00",
          "1995-08-31T00:00:00",
          "1995-09-30T00:00:00"
         ],
         "xaxis": "x4",
         "y": [
          5520,
          3880,
          4840,
          4360,
          3800,
          4560,
          4560,
          5120,
          4320,
          5380,
          4860,
          4560,
          4854.6865,
          4861.3687,
          4699.4487,
          4713.1826,
          4580.56,
          4592.288,
          4593.9937,
          4611.243,
          4690.3345,
          4699.4316,
          4975.732,
          4980.8457,
          4657.778,
          4669.8965,
          4791.8477,
          4809.729,
          5011.931,
          5021.3057,
          4632.006,
          4632.8228,
          4485.3022,
          4504.344,
          4547.2104,
          4547.4087,
          4863.9365,
          4865.6504,
          4496.9175,
          4507.4585,
          4736.606,
          4744.987,
          4742.653,
          4743.958,
          4305.539,
          4323.9473,
          4295.955,
          4300.6562,
          4926.986,
          4930.8447,
          4502.3013,
          4510.2373,
          4639.187,
          4649.455,
          4887.266,
          4896.62,
          4356.763,
          4374.9443,
          4272.6157,
          4282.8677,
          4492.8657,
          4494.913,
          4797.7,
          4799.189,
          4073.0564,
          4075.5059,
          4452.185,
          4465.0137,
          4424.6304
         ],
         "yaxis": "y4"
        },
        {
         "mode": "lines",
         "name": "Actual M103",
         "type": "scatter",
         "x": [
          "1990-01-31T00:00:00",
          "1990-02-28T00:00:00",
          "1990-03-31T00:00:00",
          "1990-04-30T00:00:00",
          "1990-05-31T00:00:00",
          "1990-06-30T00:00:00",
          "1990-07-31T00:00:00",
          "1990-08-31T00:00:00",
          "1990-09-30T00:00:00",
          "1990-10-31T00:00:00",
          "1990-11-30T00:00:00",
          "1990-12-31T00:00:00",
          "1991-01-31T00:00:00",
          "1991-02-28T00:00:00",
          "1991-03-31T00:00:00",
          "1991-04-30T00:00:00",
          "1991-05-31T00:00:00",
          "1991-06-30T00:00:00",
          "1991-07-31T00:00:00",
          "1991-08-31T00:00:00",
          "1991-09-30T00:00:00",
          "1991-10-31T00:00:00",
          "1991-11-30T00:00:00",
          "1991-12-31T00:00:00",
          "1992-01-31T00:00:00",
          "1992-02-29T00:00:00",
          "1992-03-31T00:00:00",
          "1992-04-30T00:00:00",
          "1992-05-31T00:00:00",
          "1992-06-30T00:00:00",
          "1992-07-31T00:00:00",
          "1992-08-31T00:00:00",
          "1992-09-30T00:00:00",
          "1992-10-31T00:00:00",
          "1992-11-30T00:00:00",
          "1992-12-31T00:00:00",
          "1993-01-31T00:00:00",
          "1993-02-28T00:00:00",
          "1993-03-31T00:00:00",
          "1993-04-30T00:00:00",
          "1993-05-31T00:00:00",
          "1993-06-30T00:00:00",
          "1993-07-31T00:00:00",
          "1993-08-31T00:00:00",
          "1993-09-30T00:00:00",
          "1993-10-31T00:00:00",
          "1993-11-30T00:00:00",
          "1993-12-31T00:00:00",
          "1994-01-31T00:00:00",
          "1994-02-28T00:00:00",
          "1994-03-31T00:00:00",
          "1994-04-30T00:00:00",
          "1994-05-31T00:00:00",
          "1994-06-30T00:00:00",
          "1994-07-31T00:00:00",
          "1994-08-31T00:00:00",
          "1994-09-30T00:00:00",
          "1994-10-31T00:00:00",
          "1994-11-30T00:00:00",
          "1994-12-31T00:00:00",
          "1995-01-31T00:00:00",
          "1995-02-28T00:00:00",
          "1995-03-31T00:00:00",
          "1995-04-30T00:00:00",
          "1995-05-31T00:00:00",
          "1995-06-30T00:00:00",
          "1995-07-31T00:00:00",
          "1995-08-31T00:00:00",
          "1995-09-30T00:00:00"
         ],
         "xaxis": "x5",
         "y": [
          5700,
          5150,
          5150,
          4550,
          5150,
          3850,
          5350,
          5400,
          5600,
          6200,
          5800,
          5600,
          7250,
          5450,
          5050,
          5350,
          4350,
          5050,
          6250,
          5800,
          5700,
          6100,
          5850,
          6750,
          6600,
          4800,
          5800,
          5300,
          6050,
          6150,
          5900,
          4250,
          5150,
          6550,
          5550,
          5900,
          5350,
          4700,
          7200,
          6050,
          5100,
          5850,
          4800,
          5400,
          6350,
          4750,
          5600,
          8100,
          6000,
          6400,
          7200,
          5400,
          5800,
          6400,
          6650,
          7700,
          7450,
          6350,
          6600,
          6600,
          8550,
          6100,
          6900,
          6200,
          7750,
          8150,
          5700,
          6850,
          6500
         ],
         "yaxis": "y5"
        },
        {
         "line": {
          "dash": "dot"
         },
         "mode": "lines",
         "name": "Predicted M103",
         "type": "scatter",
         "x": [
          "1990-01-31T00:00:00",
          "1990-02-28T00:00:00",
          "1990-03-31T00:00:00",
          "1990-04-30T00:00:00",
          "1990-05-31T00:00:00",
          "1990-06-30T00:00:00",
          "1990-07-31T00:00:00",
          "1990-08-31T00:00:00",
          "1990-09-30T00:00:00",
          "1990-10-31T00:00:00",
          "1990-11-30T00:00:00",
          "1990-12-31T00:00:00",
          "1991-01-31T00:00:00",
          "1991-02-28T00:00:00",
          "1991-03-31T00:00:00",
          "1991-04-30T00:00:00",
          "1991-05-31T00:00:00",
          "1991-06-30T00:00:00",
          "1991-07-31T00:00:00",
          "1991-08-31T00:00:00",
          "1991-09-30T00:00:00",
          "1991-10-31T00:00:00",
          "1991-11-30T00:00:00",
          "1991-12-31T00:00:00",
          "1992-01-31T00:00:00",
          "1992-02-29T00:00:00",
          "1992-03-31T00:00:00",
          "1992-04-30T00:00:00",
          "1992-05-31T00:00:00",
          "1992-06-30T00:00:00",
          "1992-07-31T00:00:00",
          "1992-08-31T00:00:00",
          "1992-09-30T00:00:00",
          "1992-10-31T00:00:00",
          "1992-11-30T00:00:00",
          "1992-12-31T00:00:00",
          "1993-01-31T00:00:00",
          "1993-02-28T00:00:00",
          "1993-03-31T00:00:00",
          "1993-04-30T00:00:00",
          "1993-05-31T00:00:00",
          "1993-06-30T00:00:00",
          "1993-07-31T00:00:00",
          "1993-08-31T00:00:00",
          "1993-09-30T00:00:00",
          "1993-10-31T00:00:00",
          "1993-11-30T00:00:00",
          "1993-12-31T00:00:00",
          "1994-01-31T00:00:00",
          "1994-02-28T00:00:00",
          "1994-03-31T00:00:00",
          "1994-04-30T00:00:00",
          "1994-05-31T00:00:00",
          "1994-06-30T00:00:00",
          "1994-07-31T00:00:00",
          "1994-08-31T00:00:00",
          "1994-09-30T00:00:00",
          "1994-10-31T00:00:00",
          "1994-11-30T00:00:00",
          "1994-12-31T00:00:00",
          "1995-01-31T00:00:00",
          "1995-02-28T00:00:00",
          "1995-03-31T00:00:00",
          "1995-04-30T00:00:00",
          "1995-05-31T00:00:00",
          "1995-06-30T00:00:00",
          "1995-07-31T00:00:00",
          "1995-08-31T00:00:00",
          "1995-09-30T00:00:00"
         ],
         "xaxis": "x5",
         "y": [
          5700,
          5150,
          5150,
          4550,
          5150,
          3850,
          5350,
          5400,
          5600,
          6200,
          5800,
          5600,
          5291.5186,
          5304.25,
          5748.0425,
          5771.5938,
          5568.0415,
          5590.8657,
          5281.9062,
          5308.0796,
          5626.311,
          5638.6113,
          6023.868,
          6019.4707,
          5886.151,
          5885.484,
          5416.6187,
          5444.4165,
          5990.2437,
          6014.5293,
          6090.272,
          6099.7666,
          5318.6807,
          5343.6367,
          5762.4243,
          5761.917,
          5781.8213,
          5791.125,
          5362.3267,
          5382.165,
          6115.7563,
          6116.2744,
          5649.625,
          5663.493,
          5271.0645,
          5290.609,
          5473.7827,
          5491.845,
          6411.7944,
          6420.1743,
          5958.2285,
          5958.0576,
          5660.8647,
          5692.174,
          6606.3286,
          6615.172,
          6700.601,
          6718.963,
          6237.512,
          6253.71,
          6856.332,
          6868.3193,
          7129.355,
          7152.0127,
          6633.947,
          6663.584,
          7331.7915,
          7349.0063,
          6547.052
         ],
         "yaxis": "y5"
        },
        {
         "mode": "lines",
         "name": "Actual M904",
         "type": "scatter",
         "x": [
          "1983-01-31T00:00:00",
          "1983-02-28T00:00:00",
          "1983-03-31T00:00:00",
          "1983-04-30T00:00:00",
          "1983-05-31T00:00:00",
          "1983-06-30T00:00:00",
          "1983-07-31T00:00:00",
          "1983-08-31T00:00:00",
          "1983-09-30T00:00:00",
          "1983-10-31T00:00:00",
          "1983-11-30T00:00:00",
          "1983-12-31T00:00:00",
          "1984-01-31T00:00:00",
          "1984-02-29T00:00:00",
          "1984-03-31T00:00:00",
          "1984-04-30T00:00:00",
          "1984-05-31T00:00:00",
          "1984-06-30T00:00:00",
          "1984-07-31T00:00:00",
          "1984-08-31T00:00:00",
          "1984-09-30T00:00:00",
          "1984-10-31T00:00:00",
          "1984-11-30T00:00:00",
          "1984-12-31T00:00:00",
          "1985-01-31T00:00:00",
          "1985-02-28T00:00:00",
          "1985-03-31T00:00:00",
          "1985-04-30T00:00:00",
          "1985-05-31T00:00:00",
          "1985-06-30T00:00:00",
          "1985-07-31T00:00:00",
          "1985-08-31T00:00:00",
          "1985-09-30T00:00:00",
          "1985-10-31T00:00:00",
          "1985-11-30T00:00:00",
          "1985-12-31T00:00:00",
          "1986-01-31T00:00:00",
          "1986-02-28T00:00:00",
          "1986-03-31T00:00:00",
          "1986-04-30T00:00:00",
          "1986-05-31T00:00:00",
          "1986-06-30T00:00:00",
          "1986-07-31T00:00:00",
          "1986-08-31T00:00:00",
          "1986-09-30T00:00:00",
          "1986-10-31T00:00:00",
          "1986-11-30T00:00:00",
          "1986-12-31T00:00:00",
          "1987-01-31T00:00:00",
          "1987-02-28T00:00:00",
          "1987-03-31T00:00:00",
          "1987-04-30T00:00:00",
          "1987-05-31T00:00:00",
          "1987-06-30T00:00:00",
          "1987-07-31T00:00:00",
          "1987-08-31T00:00:00",
          "1987-09-30T00:00:00",
          "1987-10-31T00:00:00",
          "1987-11-30T00:00:00",
          "1987-12-31T00:00:00",
          "1988-01-31T00:00:00",
          "1988-02-29T00:00:00",
          "1988-03-31T00:00:00",
          "1988-04-30T00:00:00",
          "1988-05-31T00:00:00",
          "1988-06-30T00:00:00",
          "1988-07-31T00:00:00",
          "1988-08-31T00:00:00",
          "1988-09-30T00:00:00",
          "1988-10-31T00:00:00",
          "1988-11-30T00:00:00",
          "1988-12-31T00:00:00",
          "1989-01-31T00:00:00",
          "1989-02-28T00:00:00",
          "1989-03-31T00:00:00",
          "1989-04-30T00:00:00",
          "1989-05-31T00:00:00",
          "1989-06-30T00:00:00",
          "1989-07-31T00:00:00",
          "1989-08-31T00:00:00",
          "1989-09-30T00:00:00",
          "1989-10-31T00:00:00",
          "1989-11-30T00:00:00",
          "1989-12-31T00:00:00",
          "1990-01-31T00:00:00",
          "1990-02-28T00:00:00",
          "1990-03-31T00:00:00",
          "1990-04-30T00:00:00",
          "1990-05-31T00:00:00",
          "1990-06-30T00:00:00",
          "1990-07-31T00:00:00",
          "1990-08-31T00:00:00",
          "1990-09-30T00:00:00",
          "1990-10-31T00:00:00",
          "1990-11-30T00:00:00",
          "1990-12-31T00:00:00",
          "1991-01-31T00:00:00",
          "1991-02-28T00:00:00",
          "1991-03-31T00:00:00",
          "1991-04-30T00:00:00",
          "1991-05-31T00:00:00",
          "1991-06-30T00:00:00",
          "1991-07-31T00:00:00",
          "1991-08-31T00:00:00",
          "1991-09-30T00:00:00",
          "1991-10-31T00:00:00",
          "1991-11-30T00:00:00",
          "1991-12-31T00:00:00",
          "1992-01-31T00:00:00",
          "1992-02-29T00:00:00",
          "1992-03-31T00:00:00",
          "1992-04-30T00:00:00",
          "1992-05-31T00:00:00",
          "1992-06-30T00:00:00",
          "1992-07-31T00:00:00",
          "1992-08-31T00:00:00",
          "1992-09-30T00:00:00",
          "1992-10-31T00:00:00",
          "1992-11-30T00:00:00",
          "1992-12-31T00:00:00",
          "1993-01-31T00:00:00",
          "1993-02-28T00:00:00",
          "1993-03-31T00:00:00",
          "1993-04-30T00:00:00",
          "1993-05-31T00:00:00",
          "1993-06-30T00:00:00",
          "1993-07-31T00:00:00",
          "1993-08-31T00:00:00",
          "1993-09-30T00:00:00",
          "1993-10-31T00:00:00",
          "1993-11-30T00:00:00",
          "1993-12-31T00:00:00",
          "1994-01-31T00:00:00",
          "1994-02-28T00:00:00"
         ],
         "xaxis": "x6",
         "y": [
          2941.8,
          2933.7,
          3116.2,
          3092.2,
          3189.6,
          3328.6,
          3334.3,
          3181,
          3333.2,
          3454,
          3523.7,
          3602.4,
          3704.3,
          3716.5,
          3628.5,
          3761.4,
          3791.1,
          3856.2,
          3780,
          3677.9,
          3733.5,
          3843.3,
          3947.4,
          3915.3,
          3968.5,
          4020,
          4068.4,
          4123.6,
          4176.1,
          4130.6,
          4107.9,
          4215.8,
          4480.5,
          4120.5,
          4111.7,
          4231.2,
          4288.5,
          4219.8,
          4136.6,
          4282.3,
          4385.2,
          4380,
          4402.7,
          4534.8,
          5202.5,
          4610.8,
          4571.1,
          5039.7,
          4191.7,
          4596.8,
          4698.7,
          4739.6,
          4704.7,
          4811.4,
          4889.3,
          5121.5,
          4937.7,
          4850,
          4907.4,
          4999.4,
          5050.3,
          5143.3,
          5230.8,
          5161.5,
          5215.1,
          5268.6,
          5204,
          5205.8,
          5076.2,
          5330.2,
          5393.4,
          5487.5,
          5457.9,
          5327.3,
          5320.2,
          5498.8,
          5481.1,
          5436.7,
          5530,
          5750.3,
          5617,
          5467.2,
          5562.3,
          5475.9,
          5846.7,
          5677.3,
          5661,
          5614.5,
          5574.1,
          5559.5,
          5615.3,
          5576.5,
          5581.6,
          5565.2,
          5523.3,
          5394.9,
          5160.1,
          5390,
          5473.2,
          5444,
          5463.2,
          5513.9,
          5486.6,
          5423.5,
          5541.5,
          5480.9,
          5458.6,
          5510.5,
          5642.9,
          5773.1,
          5745,
          5720.3,
          5753.9,
          5814,
          5834.1,
          5854.3,
          5955.8,
          6121.3,
          6103.6,
          6205.2,
          6295.7,
          6122.4,
          6115.4,
          6295.2,
          6403.9,
          6467.5,
          6532.2,
          6646.5,
          6589.9,
          6845.9,
          6961.4,
          7104.8,
          6966.8,
          7108.8
         ],
         "yaxis": "y6"
        },
        {
         "line": {
          "dash": "dot"
         },
         "mode": "lines",
         "name": "Predicted M904",
         "type": "scatter",
         "x": [
          "1983-01-31T00:00:00",
          "1983-02-28T00:00:00",
          "1983-03-31T00:00:00",
          "1983-04-30T00:00:00",
          "1983-05-31T00:00:00",
          "1983-06-30T00:00:00",
          "1983-07-31T00:00:00",
          "1983-08-31T00:00:00",
          "1983-09-30T00:00:00",
          "1983-10-31T00:00:00",
          "1983-11-30T00:00:00",
          "1983-12-31T00:00:00",
          "1984-01-31T00:00:00",
          "1984-02-29T00:00:00",
          "1984-03-31T00:00:00",
          "1984-04-30T00:00:00",
          "1984-05-31T00:00:00",
          "1984-06-30T00:00:00",
          "1984-07-31T00:00:00",
          "1984-08-31T00:00:00",
          "1984-09-30T00:00:00",
          "1984-10-31T00:00:00",
          "1984-11-30T00:00:00",
          "1984-12-31T00:00:00",
          "1985-01-31T00:00:00",
          "1985-02-28T00:00:00",
          "1985-03-31T00:00:00",
          "1985-04-30T00:00:00",
          "1985-05-31T00:00:00",
          "1985-06-30T00:00:00",
          "1985-07-31T00:00:00",
          "1985-08-31T00:00:00",
          "1985-09-30T00:00:00",
          "1985-10-31T00:00:00",
          "1985-11-30T00:00:00",
          "1985-12-31T00:00:00",
          "1986-01-31T00:00:00",
          "1986-02-28T00:00:00",
          "1986-03-31T00:00:00",
          "1986-04-30T00:00:00",
          "1986-05-31T00:00:00",
          "1986-06-30T00:00:00",
          "1986-07-31T00:00:00",
          "1986-08-31T00:00:00",
          "1986-09-30T00:00:00",
          "1986-10-31T00:00:00",
          "1986-11-30T00:00:00",
          "1986-12-31T00:00:00",
          "1987-01-31T00:00:00",
          "1987-02-28T00:00:00",
          "1987-03-31T00:00:00",
          "1987-04-30T00:00:00",
          "1987-05-31T00:00:00",
          "1987-06-30T00:00:00",
          "1987-07-31T00:00:00",
          "1987-08-31T00:00:00",
          "1987-09-30T00:00:00",
          "1987-10-31T00:00:00",
          "1987-11-30T00:00:00",
          "1987-12-31T00:00:00",
          "1988-01-31T00:00:00",
          "1988-02-29T00:00:00",
          "1988-03-31T00:00:00",
          "1988-04-30T00:00:00",
          "1988-05-31T00:00:00",
          "1988-06-30T00:00:00",
          "1988-07-31T00:00:00",
          "1988-08-31T00:00:00",
          "1988-09-30T00:00:00",
          "1988-10-31T00:00:00",
          "1988-11-30T00:00:00",
          "1988-12-31T00:00:00",
          "1989-01-31T00:00:00",
          "1989-02-28T00:00:00",
          "1989-03-31T00:00:00",
          "1989-04-30T00:00:00",
          "1989-05-31T00:00:00",
          "1989-06-30T00:00:00",
          "1989-07-31T00:00:00",
          "1989-08-31T00:00:00",
          "1989-09-30T00:00:00",
          "1989-10-31T00:00:00",
          "1989-11-30T00:00:00",
          "1989-12-31T00:00:00",
          "1990-01-31T00:00:00",
          "1990-02-28T00:00:00",
          "1990-03-31T00:00:00",
          "1990-04-30T00:00:00",
          "1990-05-31T00:00:00",
          "1990-06-30T00:00:00",
          "1990-07-31T00:00:00",
          "1990-08-31T00:00:00",
          "1990-09-30T00:00:00",
          "1990-10-31T00:00:00",
          "1990-11-30T00:00:00",
          "1990-12-31T00:00:00",
          "1991-01-31T00:00:00",
          "1991-02-28T00:00:00",
          "1991-03-31T00:00:00",
          "1991-04-30T00:00:00",
          "1991-05-31T00:00:00",
          "1991-06-30T00:00:00",
          "1991-07-31T00:00:00",
          "1991-08-31T00:00:00",
          "1991-09-30T00:00:00",
          "1991-10-31T00:00:00",
          "1991-11-30T00:00:00",
          "1991-12-31T00:00:00",
          "1992-01-31T00:00:00",
          "1992-02-29T00:00:00",
          "1992-03-31T00:00:00",
          "1992-04-30T00:00:00",
          "1992-05-31T00:00:00",
          "1992-06-30T00:00:00",
          "1992-07-31T00:00:00",
          "1992-08-31T00:00:00",
          "1992-09-30T00:00:00",
          "1992-10-31T00:00:00",
          "1992-11-30T00:00:00",
          "1992-12-31T00:00:00",
          "1993-01-31T00:00:00",
          "1993-02-28T00:00:00",
          "1993-03-31T00:00:00",
          "1993-04-30T00:00:00",
          "1993-05-31T00:00:00",
          "1993-06-30T00:00:00",
          "1993-07-31T00:00:00",
          "1993-08-31T00:00:00",
          "1993-09-30T00:00:00",
          "1993-10-31T00:00:00",
          "1993-11-30T00:00:00",
          "1993-12-31T00:00:00",
          "1994-01-31T00:00:00",
          "1994-02-28T00:00:00"
         ],
         "xaxis": "x6",
         "y": [
          2941.8,
          2933.7,
          3116.2,
          3092.2,
          3189.6,
          3328.6,
          3334.3,
          3181,
          3333.2,
          3454,
          3523.7,
          3602.4,
          3465.2039,
          3473.2998,
          3540.306,
          3549.437,
          3623.1836,
          3630.8726,
          3750.057,
          3760.3047,
          3749.3152,
          3759.5618,
          3823.9475,
          3832.166,
          3874.2715,
          3881.5938,
          3925.3782,
          3933.2993,
          4014.3518,
          4021.2158,
          4078.5417,
          4088.6206,
          4152.5522,
          4162.13,
          4245.802,
          4256.24,
          4203.7466,
          4213.1997,
          4293.3604,
          4302.9165,
          4219.885,
          4229.3423,
          4424.425,
          4431.3564,
          4389.404,
          4396.103,
          4662.0576,
          4671.924,
          4629.9985,
          4639.134,
          4593.5933,
          4607.956,
          4685.17,
          4699.612,
          4962.7046,
          4966.9375,
          4895.306,
          4899.342,
          4714.685,
          4724.0312,
          4950.1436,
          4963.666,
          5062.609,
          5072.4795,
          5122.688,
          5134.3916,
          5167.2163,
          5176.1816,
          5221.816,
          5234.034,
          5242.6616,
          5254.6846,
          5407.565,
          5417.128,
          5389.489,
          5399.376,
          5423.433,
          5433.0156,
          5447.9937,
          5460.3076,
          5571.5366,
          5583.029,
          5589.982,
          5599.721,
          5553.4033,
          5566.3394,
          5728.656,
          5739.7676,
          5664.977,
          5677.5493,
          5634.525,
          5646.164,
          5681.1997,
          5693.478,
          5733.721,
          5744.588,
          5603.6567,
          5612.9062,
          5485.714,
          5495.2793,
          5564.11,
          5573.3135,
          5526.829,
          5533.9185,
          5526.653,
          5534.1387,
          5476.8457,
          5487.84,
          5557.195,
          5568.8955,
          5649.2207,
          5659.368,
          5685.2607,
          5695.435,
          5767.6753,
          5779.1963,
          5822.219,
          5834.28,
          5959.6475,
          5972.5366,
          6056.5034,
          6067.533,
          6130.187,
          6143.967,
          6197.8457,
          6211.1924,
          6365.6597,
          6380.0557,
          6445.3623,
          6458.499,
          6625.9204,
          6637.5557,
          6800.0913,
          6814.311
         ],
         "yaxis": "y6"
        }
       ],
       "layout": {
        "annotations": [
         {
          "font": {
           "size": 16
          },
          "showarrow": false,
          "text": "ID: M243",
          "x": 0.225,
          "xanchor": "center",
          "xref": "paper",
          "y": 1,
          "yanchor": "bottom",
          "yref": "paper"
         },
         {
          "font": {
           "size": 16
          },
          "showarrow": false,
          "text": "ID: M4",
          "x": 0.775,
          "xanchor": "center",
          "xref": "paper",
          "y": 1,
          "yanchor": "bottom",
          "yref": "paper"
         },
         {
          "font": {
           "size": 16
          },
          "showarrow": false,
          "text": "ID: M109",
          "x": 0.225,
          "xanchor": "center",
          "xref": "paper",
          "y": 0.6111111111111112,
          "yanchor": "bottom",
          "yref": "paper"
         },
         {
          "font": {
           "size": 16
          },
          "showarrow": false,
          "text": "ID: M172",
          "x": 0.775,
          "xanchor": "center",
          "xref": "paper",
          "y": 0.6111111111111112,
          "yanchor": "bottom",
          "yref": "paper"
         },
         {
          "font": {
           "size": 16
          },
          "showarrow": false,
          "text": "ID: M103",
          "x": 0.225,
          "xanchor": "center",
          "xref": "paper",
          "y": 0.22222222222222224,
          "yanchor": "bottom",
          "yref": "paper"
         },
         {
          "font": {
           "size": 16
          },
          "showarrow": false,
          "text": "ID: M904",
          "x": 0.775,
          "xanchor": "center",
          "xref": "paper",
          "y": 0.22222222222222224,
          "yanchor": "bottom",
          "yref": "paper"
         }
        ],
        "height": 900,
        "showlegend": false,
        "template": {
         "data": {
          "bar": [
           {
            "error_x": {
             "color": "#2a3f5f"
            },
            "error_y": {
             "color": "#2a3f5f"
            },
            "marker": {
             "line": {
              "color": "white",
              "width": 0.5
             },
             "pattern": {
              "fillmode": "overlay",
              "size": 10,
              "solidity": 0.2
             }
            },
            "type": "bar"
           }
          ],
          "barpolar": [
           {
            "marker": {
             "line": {
              "color": "white",
              "width": 0.5
             },
             "pattern": {
              "fillmode": "overlay",
              "size": 10,
              "solidity": 0.2
             }
            },
            "type": "barpolar"
           }
          ],
          "carpet": [
           {
            "aaxis": {
             "endlinecolor": "#2a3f5f",
             "gridcolor": "#C8D4E3",
             "linecolor": "#C8D4E3",
             "minorgridcolor": "#C8D4E3",
             "startlinecolor": "#2a3f5f"
            },
            "baxis": {
             "endlinecolor": "#2a3f5f",
             "gridcolor": "#C8D4E3",
             "linecolor": "#C8D4E3",
             "minorgridcolor": "#C8D4E3",
             "startlinecolor": "#2a3f5f"
            },
            "type": "carpet"
           }
          ],
          "choropleth": [
           {
            "colorbar": {
             "outlinewidth": 0,
             "ticks": ""
            },
            "type": "choropleth"
           }
          ],
          "contour": [
           {
            "colorbar": {
             "outlinewidth": 0,
             "ticks": ""
            },
            "colorscale": [
             [
              0,
              "#0d0887"
             ],
             [
              0.1111111111111111,
              "#46039f"
             ],
             [
              0.2222222222222222,
              "#7201a8"
             ],
             [
              0.3333333333333333,
              "#9c179e"
             ],
             [
              0.4444444444444444,
              "#bd3786"
             ],
             [
              0.5555555555555556,
              "#d8576b"
             ],
             [
              0.6666666666666666,
              "#ed7953"
             ],
             [
              0.7777777777777778,
              "#fb9f3a"
             ],
             [
              0.8888888888888888,
              "#fdca26"
             ],
             [
              1,
              "#f0f921"
             ]
            ],
            "type": "contour"
           }
          ],
          "contourcarpet": [
           {
            "colorbar": {
             "outlinewidth": 0,
             "ticks": ""
            },
            "type": "contourcarpet"
           }
          ],
          "heatmap": [
           {
            "colorbar": {
             "outlinewidth": 0,
             "ticks": ""
            },
            "colorscale": [
             [
              0,
              "#0d0887"
             ],
             [
              0.1111111111111111,
              "#46039f"
             ],
             [
              0.2222222222222222,
              "#7201a8"
             ],
             [
              0.3333333333333333,
              "#9c179e"
             ],
             [
              0.4444444444444444,
              "#bd3786"
             ],
             [
              0.5555555555555556,
              "#d8576b"
             ],
             [
              0.6666666666666666,
              "#ed7953"
             ],
             [
              0.7777777777777778,
              "#fb9f3a"
             ],
             [
              0.8888888888888888,
              "#fdca26"
             ],
             [
              1,
              "#f0f921"
             ]
            ],
            "type": "heatmap"
           }
          ],
          "heatmapgl": [
           {
            "colorbar": {
             "outlinewidth": 0,
             "ticks": ""
            },
            "colorscale": [
             [
              0,
              "#0d0887"
             ],
             [
              0.1111111111111111,
              "#46039f"
             ],
             [
              0.2222222222222222,
              "#7201a8"
             ],
             [
              0.3333333333333333,
              "#9c179e"
             ],
             [
              0.4444444444444444,
              "#bd3786"
             ],
             [
              0.5555555555555556,
              "#d8576b"
             ],
             [
              0.6666666666666666,
              "#ed7953"
             ],
             [
              0.7777777777777778,
              "#fb9f3a"
             ],
             [
              0.8888888888888888,
              "#fdca26"
             ],
             [
              1,
              "#f0f921"
             ]
            ],
            "type": "heatmapgl"
           }
          ],
          "histogram": [
           {
            "marker": {
             "pattern": {
              "fillmode": "overlay",
              "size": 10,
              "solidity": 0.2
             }
            },
            "type": "histogram"
           }
          ],
          "histogram2d": [
           {
            "colorbar": {
             "outlinewidth": 0,
             "ticks": ""
            },
            "colorscale": [
             [
              0,
              "#0d0887"
             ],
             [
              0.1111111111111111,
              "#46039f"
             ],
             [
              0.2222222222222222,
              "#7201a8"
             ],
             [
              0.3333333333333333,
              "#9c179e"
             ],
             [
              0.4444444444444444,
              "#bd3786"
             ],
             [
              0.5555555555555556,
              "#d8576b"
             ],
             [
              0.6666666666666666,
              "#ed7953"
             ],
             [
              0.7777777777777778,
              "#fb9f3a"
             ],
             [
              0.8888888888888888,
              "#fdca26"
             ],
             [
              1,
              "#f0f921"
             ]
            ],
            "type": "histogram2d"
           }
          ],
          "histogram2dcontour": [
           {
            "colorbar": {
             "outlinewidth": 0,
             "ticks": ""
            },
            "colorscale": [
             [
              0,
              "#0d0887"
             ],
             [
              0.1111111111111111,
              "#46039f"
             ],
             [
              0.2222222222222222,
              "#7201a8"
             ],
             [
              0.3333333333333333,
              "#9c179e"
             ],
             [
              0.4444444444444444,
              "#bd3786"
             ],
             [
              0.5555555555555556,
              "#d8576b"
             ],
             [
              0.6666666666666666,
              "#ed7953"
             ],
             [
              0.7777777777777778,
              "#fb9f3a"
             ],
             [
              0.8888888888888888,
              "#fdca26"
             ],
             [
              1,
              "#f0f921"
             ]
            ],
            "type": "histogram2dcontour"
           }
          ],
          "mesh3d": [
           {
            "colorbar": {
             "outlinewidth": 0,
             "ticks": ""
            },
            "type": "mesh3d"
           }
          ],
          "parcoords": [
           {
            "line": {
             "colorbar": {
              "outlinewidth": 0,
              "ticks": ""
             }
            },
            "type": "parcoords"
           }
          ],
          "pie": [
           {
            "automargin": true,
            "type": "pie"
           }
          ],
          "scatter": [
           {
            "fillpattern": {
             "fillmode": "overlay",
             "size": 10,
             "solidity": 0.2
            },
            "type": "scatter"
           }
          ],
          "scatter3d": [
           {
            "line": {
             "colorbar": {
              "outlinewidth": 0,
              "ticks": ""
             }
            },
            "marker": {
             "colorbar": {
              "outlinewidth": 0,
              "ticks": ""
             }
            },
            "type": "scatter3d"
           }
          ],
          "scattercarpet": [
           {
            "marker": {
             "colorbar": {
              "outlinewidth": 0,
              "ticks": ""
             }
            },
            "type": "scattercarpet"
           }
          ],
          "scattergeo": [
           {
            "marker": {
             "colorbar": {
              "outlinewidth": 0,
              "ticks": ""
             }
            },
            "type": "scattergeo"
           }
          ],
          "scattergl": [
           {
            "marker": {
             "colorbar": {
              "outlinewidth": 0,
              "ticks": ""
             }
            },
            "type": "scattergl"
           }
          ],
          "scattermapbox": [
           {
            "marker": {
             "colorbar": {
              "outlinewidth": 0,
              "ticks": ""
             }
            },
            "type": "scattermapbox"
           }
          ],
          "scatterpolar": [
           {
            "marker": {
             "colorbar": {
              "outlinewidth": 0,
              "ticks": ""
             }
            },
            "type": "scatterpolar"
           }
          ],
          "scatterpolargl": [
           {
            "marker": {
             "colorbar": {
              "outlinewidth": 0,
              "ticks": ""
             }
            },
            "type": "scatterpolargl"
           }
          ],
          "scatterternary": [
           {
            "marker": {
             "colorbar": {
              "outlinewidth": 0,
              "ticks": ""
             }
            },
            "type": "scatterternary"
           }
          ],
          "surface": [
           {
            "colorbar": {
             "outlinewidth": 0,
             "ticks": ""
            },
            "colorscale": [
             [
              0,
              "#0d0887"
             ],
             [
              0.1111111111111111,
              "#46039f"
             ],
             [
              0.2222222222222222,
              "#7201a8"
             ],
             [
              0.3333333333333333,
              "#9c179e"
             ],
             [
              0.4444444444444444,
              "#bd3786"
             ],
             [
              0.5555555555555556,
              "#d8576b"
             ],
             [
              0.6666666666666666,
              "#ed7953"
             ],
             [
              0.7777777777777778,
              "#fb9f3a"
             ],
             [
              0.8888888888888888,
              "#fdca26"
             ],
             [
              1,
              "#f0f921"
             ]
            ],
            "type": "surface"
           }
          ],
          "table": [
           {
            "cells": {
             "fill": {
              "color": "#EBF0F8"
             },
             "line": {
              "color": "white"
             }
            },
            "header": {
             "fill": {
              "color": "#C8D4E3"
             },
             "line": {
              "color": "white"
             }
            },
            "type": "table"
           }
          ]
         },
         "layout": {
          "annotationdefaults": {
           "arrowcolor": "#2a3f5f",
           "arrowhead": 0,
           "arrowwidth": 1
          },
          "autotypenumbers": "strict",
          "coloraxis": {
           "colorbar": {
            "outlinewidth": 0,
            "ticks": ""
           }
          },
          "colorscale": {
           "diverging": [
            [
             0,
             "#8e0152"
            ],
            [
             0.1,
             "#c51b7d"
            ],
            [
             0.2,
             "#de77ae"
            ],
            [
             0.3,
             "#f1b6da"
            ],
            [
             0.4,
             "#fde0ef"
            ],
            [
             0.5,
             "#f7f7f7"
            ],
            [
             0.6,
             "#e6f5d0"
            ],
            [
             0.7,
             "#b8e186"
            ],
            [
             0.8,
             "#7fbc41"
            ],
            [
             0.9,
             "#4d9221"
            ],
            [
             1,
             "#276419"
            ]
           ],
           "sequential": [
            [
             0,
             "#0d0887"
            ],
            [
             0.1111111111111111,
             "#46039f"
            ],
            [
             0.2222222222222222,
             "#7201a8"
            ],
            [
             0.3333333333333333,
             "#9c179e"
            ],
            [
             0.4444444444444444,
             "#bd3786"
            ],
            [
             0.5555555555555556,
             "#d8576b"
            ],
            [
             0.6666666666666666,
             "#ed7953"
            ],
            [
             0.7777777777777778,
             "#fb9f3a"
            ],
            [
             0.8888888888888888,
             "#fdca26"
            ],
            [
             1,
             "#f0f921"
            ]
           ],
           "sequentialminus": [
            [
             0,
             "#0d0887"
            ],
            [
             0.1111111111111111,
             "#46039f"
            ],
            [
             0.2222222222222222,
             "#7201a8"
            ],
            [
             0.3333333333333333,
             "#9c179e"
            ],
            [
             0.4444444444444444,
             "#bd3786"
            ],
            [
             0.5555555555555556,
             "#d8576b"
            ],
            [
             0.6666666666666666,
             "#ed7953"
            ],
            [
             0.7777777777777778,
             "#fb9f3a"
            ],
            [
             0.8888888888888888,
             "#fdca26"
            ],
            [
             1,
             "#f0f921"
            ]
           ]
          },
          "colorway": [
           "#636efa",
           "#EF553B",
           "#00cc96",
           "#ab63fa",
           "#FFA15A",
           "#19d3f3",
           "#FF6692",
           "#B6E880",
           "#FF97FF",
           "#FECB52"
          ],
          "font": {
           "color": "#2a3f5f"
          },
          "geo": {
           "bgcolor": "white",
           "lakecolor": "white",
           "landcolor": "white",
           "showlakes": true,
           "showland": true,
           "subunitcolor": "#C8D4E3"
          },
          "hoverlabel": {
           "align": "left"
          },
          "hovermode": "closest",
          "mapbox": {
           "style": "light"
          },
          "paper_bgcolor": "white",
          "plot_bgcolor": "white",
          "polar": {
           "angularaxis": {
            "gridcolor": "#EBF0F8",
            "linecolor": "#EBF0F8",
            "ticks": ""
           },
           "bgcolor": "white",
           "radialaxis": {
            "gridcolor": "#EBF0F8",
            "linecolor": "#EBF0F8",
            "ticks": ""
           }
          },
          "scene": {
           "xaxis": {
            "backgroundcolor": "white",
            "gridcolor": "#DFE8F3",
            "gridwidth": 2,
            "linecolor": "#EBF0F8",
            "showbackground": true,
            "ticks": "",
            "zerolinecolor": "#EBF0F8"
           },
           "yaxis": {
            "backgroundcolor": "white",
            "gridcolor": "#DFE8F3",
            "gridwidth": 2,
            "linecolor": "#EBF0F8",
            "showbackground": true,
            "ticks": "",
            "zerolinecolor": "#EBF0F8"
           },
           "zaxis": {
            "backgroundcolor": "white",
            "gridcolor": "#DFE8F3",
            "gridwidth": 2,
            "linecolor": "#EBF0F8",
            "showbackground": true,
            "ticks": "",
            "zerolinecolor": "#EBF0F8"
           }
          },
          "shapedefaults": {
           "line": {
            "color": "#2a3f5f"
           }
          },
          "ternary": {
           "aaxis": {
            "gridcolor": "#DFE8F3",
            "linecolor": "#A2B1C6",
            "ticks": ""
           },
           "baxis": {
            "gridcolor": "#DFE8F3",
            "linecolor": "#A2B1C6",
            "ticks": ""
           },
           "bgcolor": "white",
           "caxis": {
            "gridcolor": "#DFE8F3",
            "linecolor": "#A2B1C6",
            "ticks": ""
           }
          },
          "title": {
           "x": 0.05
          },
          "xaxis": {
           "automargin": true,
           "gridcolor": "#EBF0F8",
           "linecolor": "#EBF0F8",
           "ticks": "",
           "title": {
            "standoff": 15
           },
           "zerolinecolor": "#EBF0F8",
           "zerolinewidth": 2
          },
          "yaxis": {
           "automargin": true,
           "gridcolor": "#EBF0F8",
           "linecolor": "#EBF0F8",
           "ticks": "",
           "title": {
            "standoff": 15
           },
           "zerolinecolor": "#EBF0F8",
           "zerolinewidth": 2
          }
         }
        },
        "title": {
         "text": "MLP Time Series Forecasting - Predictions vs Actuals"
        },
        "width": 1200,
        "xaxis": {
         "anchor": "y",
         "domain": [
          0,
          0.45
         ],
         "title": {
          "text": "Date"
         }
        },
        "xaxis2": {
         "anchor": "y2",
         "domain": [
          0.55,
          1
         ]
        },
        "xaxis3": {
         "anchor": "y3",
         "domain": [
          0,
          0.45
         ]
        },
        "xaxis4": {
         "anchor": "y4",
         "domain": [
          0.55,
          1
         ]
        },
        "xaxis5": {
         "anchor": "y5",
         "domain": [
          0,
          0.45
         ]
        },
        "xaxis6": {
         "anchor": "y6",
         "domain": [
          0.55,
          1
         ]
        },
        "yaxis": {
         "anchor": "x",
         "domain": [
          0.7777777777777778,
          1
         ],
         "title": {
          "text": "Value"
         }
        },
        "yaxis2": {
         "anchor": "x2",
         "domain": [
          0.7777777777777778,
          1
         ]
        },
        "yaxis3": {
         "anchor": "x3",
         "domain": [
          0.3888888888888889,
          0.6111111111111112
         ]
        },
        "yaxis4": {
         "anchor": "x4",
         "domain": [
          0.3888888888888889,
          0.6111111111111112
         ]
        },
        "yaxis5": {
         "anchor": "x5",
         "domain": [
          0,
          0.22222222222222224
         ]
        },
        "yaxis6": {
         "anchor": "x6",
         "domain": [
          0,
          0.22222222222222224
         ]
        }
       }
      },
      "image/png": "[encoded data removed]",
      "text/html": [
       "<div>                            <div id=\"d104c25c-891b-4eef-98b3-30b1313af086\" class=\"plotly-graph-div\" style=\"height:900px; width:1200px;\"></div>            <script type=\"text/javascript\">                require([\"plotly\"], function(Plotly) {                    window.PLOTLYENV=window.PLOTLYENV || {};                                    if (document.getElementById(\"d104c25c-891b-4eef-98b3-30b1313af086\")) {                    Plotly.newPlot(                        \"d104c25c-891b-4eef-98b3-30b1313af086\",                        [{\"mode\":\"lines\",\"name\":\"Actual M243\",\"x\":[\"1990-01-31T00:00:00\",\"1990-02-28T00:00:00\",\"1990-03-31T00:00:00\",\"1990-04-30T00:00:00\",\"1990-05-31T00:00:00\",\"1990-06-30T00:00:00\",\"1990-07-31T00:00:00\",\"1990-08-31T00:00:00\",\"1990-09-30T00:00:00\",\"1990-10-31T00:00:00\",\"1990-11-30T00:00:00\",\"1990-12-31T00:00:00\",\"1991-01-31T00:00:00\",\"1991-02-28T00:00:00\",\"1991-03-31T00:00:00\",\"1991-04-30T00:00:00\",\"1991-05-31T00:00:00\",\"1991-06-30T00:00:00\",\"1991-07-31T00:00:00\",\"1991-08-31T00:00:00\",\"1991-09-30T00:00:00\",\"1991-10-31T00:00:00\",\"1991-11-30T00:00:00\",\"1991-12-31T00:00:00\",\"1992-01-31T00:00:00\",\"1992-02-29T00:00:00\",\"1992-03-31T00:00:00\",\"1992-04-30T00:00:00\",\"1992-05-31T00:00:00\",\"1992-06-30T00:00:00\",\"1992-07-31T00:00:00\",\"1992-08-31T00:00:00\",\"1992-09-30T00:00:00\",\"1992-10-31T00:00:00\",\"1992-11-30T00:00:00\",\"1992-12-31T00:00:00\",\"1993-01-31T00:00:00\",\"1993-02-28T00:00:00\",\"1993-03-31T00:00:00\",\"1993-04-30T00:00:00\",\"1993-05-31T00:00:00\",\"1993-06-30T00:00:00\",\"1993-07-31T00:00:00\",\"1993-08-31T00:00:00\",\"1993-09-30T00:00:00\",\"1993-10-31T00:00:00\",\"1993-11-30T00:00:00\",\"1993-12-31T00:00:00\",\"1994-01-31T00:00:00\",\"1994-02-28T00:00:00\",\"1994-03-31T00:00:00\",\"1994-04-30T00:00:00\",\"1994-05-31T00:00:00\",\"1994-06-30T00:00:00\",\"1994-07-31T00:00:00\",\"1994-08-31T00:00:00\",\"1994-09-30T00:00:00\",\"1994-10-31T00:00:00\",\"1994-11-30T00:00:00\",\"1994-12-31T00:00:00\",\"1995-01-31T00:00:00\",\"1995-02-28T00:00:00\",\"1995-03-31T00:00:00\",\"1995-04-30T00:00:00\",\"1995-05-31T00:00:00\",\"1995-06-30T00:00:00\",\"1995-07-31T00:00:00\",\"1995-08-31T00:00:00\",\"1995-09-30T00:00:00\"],\"y\":[3300.0,1300.0,4800.0,3200.0,3050.0,6450.0,10450.0,3200.0,3600.0,2200.0,3950.0,3800.0,2000.0,3250.0,3250.0,3700.0,2350.0,3350.0,5050.0,4200.0,5050.0,5000.0,5900.0,4900.0,1450.0,3200.0,4250.0,4800.0,3950.0,5300.0,4100.0,3250.0,5450.0,6550.0,5600.0,3550.0,3900.0,3350.0,3450.0,5150.0,3650.0,4400.0,4250.0,3100.0,7100.0,3500.0,4700.0,3750.0,3850.0,6800.0,7100.0,5850.0,3000.0,4300.0,5950.0,7150.0,2900.0,4200.0,6350.0,5550.0,4250.0,1550.0,6450.0,2150.0,3650.0,4350.0,6600.0,3600.0,4600.0],\"type\":\"scatter\",\"xaxis\":\"x\",\"yaxis\":\"y\"},{\"line\":{\"dash\":\"dot\"},\"mode\":\"lines\",\"name\":\"Predicted M243\",\"x\":[\"1990-01-31T00:00:00\",\"1990-02-28T00:00:00\",\"1990-03-31T00:00:00\",\"1990-04-30T00:00:00\",\"1990-05-31T00:00:00\",\"1990-06-30T00:00:00\",\"1990-07-31T00:00:00\",\"1990-08-31T00:00:00\",\"1990-09-30T00:00:00\",\"1990-10-31T00:00:00\",\"1990-11-30T00:00:00\",\"1990-12-31T00:00:00\",\"1991-01-31T00:00:00\",\"1991-02-28T00:00:00\",\"1991-03-31T00:00:00\",\"1991-04-30T00:00:00\",\"1991-05-31T00:00:00\",\"1991-06-30T00:00:00\",\"1991-07-31T00:00:00\",\"1991-08-31T00:00:00\",\"1991-09-30T00:00:00\",\"1991-10-31T00:00:00\",\"1991-11-30T00:00:00\",\"1991-12-31T00:00:00\",\"1992-01-31T00:00:00\",\"1992-02-29T00:00:00\",\"1992-03-31T00:00:00\",\"1992-04-30T00:00:00\",\"1992-05-31T00:00:00\",\"1992-06-30T00:00:00\",\"1992-07-31T00:00:00\",\"1992-08-31T00:00:00\",\"1992-09-30T00:00:00\",\"1992-10-31T00:00:00\",\"1992-11-30T00:00:00\",\"1992-12-31T00:00:00\",\"1993-01-31T00:00:00\",\"1993-02-28T00:00:00\",\"1993-03-31T00:00:00\",\"1993-04-30T00:00:00\",\"1993-05-31T00:00:00\",\"1993-06-30T00:00:00\",\"1993-07-31T00:00:00\",\"1993-08-31T00:00:00\",\"1993-09-30T00:00:00\",\"1993-10-31T00:00:00\",\"1993-11-30T00:00:00\",\"1993-12-31T00:00:00\",\"1994-01-31T00:00:00\",\"1994-02-28T00:00:00\",\"1994-03-31T00:00:00\",\"1994-04-30T00:00:00\",\"1994-05-31T00:00:00\",\"1994-06-30T00:00:00\",\"1994-07-31T00:00:00\",\"1994-08-31T00:00:00\",\"1994-09-30T00:00:00\",\"1994-10-31T00:00:00\",\"1994-11-30T00:00:00\",\"1994-12-31T00:00:00\",\"1995-01-31T00:00:00\",\"1995-02-28T00:00:00\",\"1995-03-31T00:00:00\",\"1995-04-30T00:00:00\",\"1995-05-31T00:00:00\",\"1995-06-30T00:00:00\",\"1995-07-31T00:00:00\",\"1995-08-31T00:00:00\",\"1995-09-30T00:00:00\"],\"y\":[3300.0,1300.0,4800.0,3200.0,3050.0,6450.0,10450.0,3200.0,3600.0,2200.0,3950.0,3800.0,4420.895,4478.023,3020.5906,3053.7156,3942.649,3959.4802,2570.054,2515.5647,3793.996,3795.0337,3547.1833,3546.564,4141.995,4146.301,2667.784,2694.003,4298.2075,4331.5015,4249.422,4241.6084,4367.889,4358.3584,3944.9895,3941.3716,4305.9585,4302.796,3698.732,3725.1006,4442.2793,4450.467,4287.9336,4302.9395,3935.6116,3921.6133,4513.3267,4519.7104,3926.6353,3947.1018,4293.973,4323.369,4742.0728,4775.1113,4604.3413,4615.445,5813.161,5825.4927,4219.9194,4239.9033,5648.372,5651.4966,3364.2476,3346.4688,4466.447,4492.413,3587.9792,3572.3503,4196.1006],\"type\":\"scatter\",\"xaxis\":\"x\",\"yaxis\":\"y\"},{\"mode\":\"lines\",\"name\":\"Actual M4\",\"x\":[\"1990-01-31T00:00:00\",\"1990-02-28T00:00:00\",\"1990-03-31T00:00:00\",\"1990-04-30T00:00:00\",\"1990-05-31T00:00:00\",\"1990-06-30T00:00:00\",\"1990-07-31T00:00:00\",\"1990-08-31T00:00:00\",\"1990-09-30T00:00:00\",\"1990-10-31T00:00:00\",\"1990-11-30T00:00:00\",\"1990-12-31T00:00:00\",\"1991-01-31T00:00:00\",\"1991-02-28T00:00:00\",\"1991-03-31T00:00:00\",\"1991-04-30T00:00:00\",\"1991-05-31T00:00:00\",\"1991-06-30T00:00:00\",\"1991-07-31T00:00:00\",\"1991-08-31T00:00:00\",\"1991-09-30T00:00:00\",\"1991-10-31T00:00:00\",\"1991-11-30T00:00:00\",\"1991-12-31T00:00:00\",\"1992-01-31T00:00:00\",\"1992-02-29T00:00:00\",\"1992-03-31T00:00:00\",\"1992-04-30T00:00:00\",\"1992-05-31T00:00:00\",\"1992-06-30T00:00:00\",\"1992-07-31T00:00:00\",\"1992-08-31T00:00:00\",\"1992-09-30T00:00:00\",\"1992-10-31T00:00:00\",\"1992-11-30T00:00:00\",\"1992-12-31T00:00:00\",\"1993-01-31T00:00:00\",\"1993-02-28T00:00:00\",\"1993-03-31T00:00:00\",\"1993-04-30T00:00:00\",\"1993-05-31T00:00:00\",\"1993-06-30T00:00:00\",\"1993-07-31T00:00:00\",\"1993-08-31T00:00:00\",\"1993-09-30T00:00:00\",\"1993-10-31T00:00:00\",\"1993-11-30T00:00:00\",\"1993-12-31T00:00:00\",\"1994-01-31T00:00:00\",\"1994-02-28T00:00:00\",\"1994-03-31T00:00:00\",\"1994-04-30T00:00:00\",\"1994-05-31T00:00:00\",\"1994-06-30T00:00:00\",\"1994-07-31T00:00:00\",\"1994-08-31T00:00:00\",\"1994-09-30T00:00:00\",\"1994-10-31T00:00:00\",\"1994-11-30T00:00:00\",\"1994-12-31T00:00:00\",\"1995-01-31T00:00:00\",\"1995-02-28T00:00:00\",\"1995-03-31T00:00:00\",\"1995-04-30T00:00:00\",\"1995-05-31T00:00:00\",\"1995-06-30T00:00:00\",\"1995-07-31T00:00:00\",\"1995-08-31T00:00:00\"],\"y\":[180.0,940.0,2040.0,800.0,1000.0,520.0,500.0,400.0,1760.0,1520.0,1400.0,1840.0,3360.0,220.0,6000.0,3160.0,1060.0,820.0,2860.0,440.0,1880.0,220.0,1460.0,4620.0,1360.0,3220.0,1500.0,1940.0,3100.0,2340.0,2540.0,1720.0,1560.0,4580.0,1340.0,3860.0,2440.0,2180.0,2020.0,4160.0,2760.0,3480.0,2240.0,5900.0,6720.0,7500.0,4880.0,7780.0,4360.0,4640.0,7420.0,4260.0,2740.0,3200.0,7140.0,6960.0,5760.0,2280.0,12300.0,8800.0,9660.0,5860.0,6600.0,8100.0,7760.0,6940.0,8020.0,6400.0],\"type\":\"scatter\",\"xaxis\":\"x2\",\"yaxis\":\"y2\"},{\"line\":{\"dash\":\"dot\"},\"mode\":\"lines\",\"name\":\"Predicted M4\",\"x\":[\"1990-01-31T00:00:00\",\"1990-02-28T00:00:00\",\"1990-03-31T00:00:00\",\"1990-04-30T00:00:00\",\"1990-05-31T00:00:00\",\"1990-06-30T00:00:00\",\"1990-07-31T00:00:00\",\"1990-08-31T00:00:00\",\"1990-09-30T00:00:00\",\"1990-10-31T00:00:00\",\"1990-11-30T00:00:00\",\"1990-12-31T00:00:00\",\"1991-01-31T00:00:00\",\"1991-02-28T00:00:00\",\"1991-03-31T00:00:00\",\"1991-04-30T00:00:00\",\"1991-05-31T00:00:00\",\"1991-06-30T00:00:00\",\"1991-07-31T00:00:00\",\"1991-08-31T00:00:00\",\"1991-09-30T00:00:00\",\"1991-10-31T00:00:00\",\"1991-11-30T00:00:00\",\"1991-12-31T00:00:00\",\"1992-01-31T00:00:00\",\"1992-02-29T00:00:00\",\"1992-03-31T00:00:00\",\"1992-04-30T00:00:00\",\"1992-05-31T00:00:00\",\"1992-06-30T00:00:00\",\"1992-07-31T00:00:00\",\"1992-08-31T00:00:00\",\"1992-09-30T00:00:00\",\"1992-10-31T00:00:00\",\"1992-11-30T00:00:00\",\"1992-12-31T00:00:00\",\"1993-01-31T00:00:00\",\"1993-02-28T00:00:00\",\"1993-03-31T00:00:00\",\"1993-04-30T00:00:00\",\"1993-05-31T00:00:00\",\"1993-06-30T00:00:00\",\"1993-07-31T00:00:00\",\"1993-08-31T00:00:00\",\"1993-09-30T00:00:00\",\"1993-10-31T00:00:00\",\"1993-11-30T00:00:00\",\"1993-12-31T00:00:00\",\"1994-01-31T00:00:00\",\"1994-02-28T00:00:00\",\"1994-03-31T00:00:00\",\"1994-04-30T00:00:00\",\"1994-05-31T00:00:00\",\"1994-06-30T00:00:00\",\"1994-07-31T00:00:00\",\"1994-08-31T00:00:00\",\"1994-09-30T00:00:00\",\"1994-10-31T00:00:00\",\"1994-11-30T00:00:00\",\"1994-12-31T00:00:00\",\"1995-01-31T00:00:00\",\"1995-02-28T00:00:00\",\"1995-03-31T00:00:00\",\"1995-04-30T00:00:00\",\"1995-05-31T00:00:00\",\"1995-06-30T00:00:00\",\"1995-07-31T00:00:00\",\"1995-08-31T00:00:00\"],\"y\":[180.0,940.0,2040.0,800.0,1000.0,520.0,500.0,400.0,1760.0,1520.0,1400.0,1840.0,957.2859,953.7847,1179.2612,1188.5311,1780.3408,1785.2354,985.7971,999.0195,1437.4358,1487.5372,1506.566,1480.0681,2235.1572,2256.021,1491.282,1460.6683,1341.1652,1359.7142,2214.115,2214.4932,1946.7756,1945.076,2182.6067,2181.985,2176.5432,2180.8184,2258.7979,2271.4924,2843.2905,2828.077,2826.925,2807.3345,2680.1118,2671.913,3805.6067,3792.648,3419.0105,3407.0093,4161.469,4165.2876,4849.039,4888.6616,4787.3613,4797.8765,5533.608,5542.3354,3839.0706,3825.9478,6633.2417,6654.9404,5117.518,5119.1855,5798.2524,5879.631,6655.737,6684.088],\"type\":\"scatter\",\"xaxis\":\"x2\",\"yaxis\":\"y2\"},{\"mode\":\"lines\",\"name\":\"Actual M109\",\"x\":[\"1990-01-31T00:00:00\",\"1990-02-28T00:00:00\",\"1990-03-31T00:00:00\",\"1990-04-30T00:00:00\",\"1990-05-31T00:00:00\",\"1990-06-30T00:00:00\",\"1990-07-31T00:00:00\",\"1990-08-31T00:00:00\",\"1990-09-30T00:00:00\",\"1990-10-31T00:00:00\",\"1990-11-30T00:00:00\",\"1990-12-31T00:00:00\",\"1991-01-31T00:00:00\",\"1991-02-28T00:00:00\",\"1991-03-31T00:00:00\",\"1991-04-30T00:00:00\",\"1991-05-31T00:00:00\",\"1991-06-30T00:00:00\",\"1991-07-31T00:00:00\",\"1991-08-31T00:00:00\",\"1991-09-30T00:00:00\",\"1991-10-31T00:00:00\",\"1991-11-30T00:00:00\",\"1991-12-31T00:00:00\",\"1992-01-31T00:00:00\",\"1992-02-29T00:00:00\",\"1992-03-31T00:00:00\",\"1992-04-30T00:00:00\",\"1992-05-31T00:00:00\",\"1992-06-30T00:00:00\",\"1992-07-31T00:00:00\",\"1992-08-31T00:00:00\",\"1992-09-30T00:00:00\",\"1992-10-31T00:00:00\",\"1992-11-30T00:00:00\",\"1992-12-31T00:00:00\",\"1993-01-31T00:00:00\",\"1993-02-28T00:00:00\",\"1993-03-31T00:00:00\",\"1993-04-30T00:00:00\",\"1993-05-31T00:00:00\",\"1993-06-30T00:00:00\",\"1993-07-31T00:00:00\",\"1993-08-31T00:00:00\",\"1993-09-30T00:00:00\",\"1993-10-31T00:00:00\",\"1993-11-30T00:00:00\",\"1993-12-31T00:00:00\",\"1994-01-31T00:00:00\",\"1994-02-28T00:00:00\",\"1994-03-31T00:00:00\",\"1994-04-30T00:00:00\",\"1994-05-31T00:00:00\",\"1994-06-30T00:00:00\",\"1994-07-31T00:00:00\",\"1994-08-31T00:00:00\",\"1994-09-30T00:00:00\",\"1994-10-31T00:00:00\",\"1994-11-30T00:00:00\",\"1994-12-31T00:00:00\",\"1995-01-31T00:00:00\",\"1995-02-28T00:00:00\",\"1995-03-31T00:00:00\",\"1995-04-30T00:00:00\",\"1995-05-31T00:00:00\",\"1995-06-30T00:00:00\",\"1995-07-31T00:00:00\",\"1995-08-31T00:00:00\",\"1995-09-30T00:00:00\"],\"y\":[9650.0,7200.0,6650.0,7300.0,5650.0,8100.0,6100.0,6400.0,7100.0,8850.0,7950.0,6000.0,10200.0,6050.0,5950.0,8300.0,7450.0,7400.0,7600.0,7150.0,5550.0,6350.0,5650.0,7050.0,9250.0,7150.0,6500.0,6400.0,5250.0,6950.0,7100.0,5550.0,6450.0,6850.0,6100.0,7750.0,7000.0,7650.0,7300.0,5800.0,6700.0,8200.0,6750.0,5250.0,7600.0,7200.0,6400.0,8500.0,6750.0,5950.0,8200.0,5150.0,6100.0,5650.0,6500.0,6450.0,6450.0,5850.0,5650.0,7200.0,9150.0,6550.0,7700.0,5250.0,7000.0,6850.0,5400.0,7150.0,6600.0],\"type\":\"scatter\",\"xaxis\":\"x3\",\"yaxis\":\"y3\"},{\"line\":{\"dash\":\"dot\"},\"mode\":\"lines\",\"name\":\"Predicted M109\",\"x\":[\"1990-01-31T00:00:00\",\"1990-02-28T00:00:00\",\"1990-03-31T00:00:00\",\"1990-04-30T00:00:00\",\"1990-05-31T00:00:00\",\"1990-06-30T00:00:00\",\"1990-07-31T00:00:00\",\"1990-08-31T00:00:00\",\"1990-09-30T00:00:00\",\"1990-10-31T00:00:00\",\"1990-11-30T00:00:00\",\"1990-12-31T00:00:00\",\"1991-01-31T00:00:00\",\"1991-02-28T00:00:00\",\"1991-03-31T00:00:00\",\"1991-04-30T00:00:00\",\"1991-05-31T00:00:00\",\"1991-06-30T00:00:00\",\"1991-07-31T00:00:00\",\"1991-08-31T00:00:00\",\"1991-09-30T00:00:00\",\"1991-10-31T00:00:00\",\"1991-11-30T00:00:00\",\"1991-12-31T00:00:00\",\"1992-01-31T00:00:00\",\"1992-02-29T00:00:00\",\"1992-03-31T00:00:00\",\"1992-04-30T00:00:00\",\"1992-05-31T00:00:00\",\"1992-06-30T00:00:00\",\"1992-07-31T00:00:00\",\"1992-08-31T00:00:00\",\"1992-09-30T00:00:00\",\"1992-10-31T00:00:00\",\"1992-11-30T00:00:00\",\"1992-12-31T00:00:00\",\"1993-01-31T00:00:00\",\"1993-02-28T00:00:00\",\"1993-03-31T00:00:00\",\"1993-04-30T00:00:00\",\"1993-05-31T00:00:00\",\"1993-06-30T00:00:00\",\"1993-07-31T00:00:00\",\"1993-08-31T00:00:00\",\"1993-09-30T00:00:00\",\"1993-10-31T00:00:00\",\"1993-11-30T00:00:00\",\"1993-12-31T00:00:00\",\"1994-01-31T00:00:00\",\"1994-02-28T00:00:00\",\"1994-03-31T00:00:00\",\"1994-04-30T00:00:00\",\"1994-05-31T00:00:00\",\"1994-06-30T00:00:00\",\"1994-07-31T00:00:00\",\"1994-08-31T00:00:00\",\"1994-09-30T00:00:00\",\"1994-10-31T00:00:00\",\"1994-11-30T00:00:00\",\"1994-12-31T00:00:00\",\"1995-01-31T00:00:00\",\"1995-02-28T00:00:00\",\"1995-03-31T00:00:00\",\"1995-04-30T00:00:00\",\"1995-05-31T00:00:00\",\"1995-06-30T00:00:00\",\"1995-07-31T00:00:00\",\"1995-08-31T00:00:00\",\"1995-09-30T00:00:00\"],\"y\":[9650.0,7200.0,6650.0,7300.0,5650.0,8100.0,6100.0,6400.0,7100.0,8850.0,7950.0,6000.0,7169.7905,7162.333,7028.3237,7055.409,6963.3325,6971.1025,7086.669,7130.4204,6927.436,6946.2803,7681.6426,7683.9355,6735.149,6741.6836,7380.7583,7389.592,6829.5693,6827.5776,6389.567,6402.075,6336.9536,6374.885,7129.7056,7134.384,6845.566,6826.757,6569.569,6589.4385,6865.976,6884.468,7430.597,7439.6035,6531.108,6552.4004,6850.1284,6869.8477,7350.0435,7338.981,6677.2603,6704.631,6625.7495,6641.288,6986.852,7002.8604,6324.0366,6344.0576,5855.9,5867.8896,6582.182,6589.201,6907.2627,6927.8623,6340.0293,6368.2446,6919.2163,6943.4995,6314.1978],\"type\":\"scatter\",\"xaxis\":\"x3\",\"yaxis\":\"y3\"},{\"mode\":\"lines\",\"name\":\"Actual M172\",\"x\":[\"1990-01-31T00:00:00\",\"1990-02-28T00:00:00\",\"1990-03-31T00:00:00\",\"1990-04-30T00:00:00\",\"1990-05-31T00:00:00\",\"1990-06-30T00:00:00\",\"1990-07-31T00:00:00\",\"1990-08-31T00:00:00\",\"1990-09-30T00:00:00\",\"1990-10-31T00:00:00\",\"1990-11-30T00:00:00\",\"1990-12-31T00:00:00\",\"1991-01-31T00:00:00\",\"1991-02-28T00:00:00\",\"1991-03-31T00:00:00\",\"1991-04-30T00:00:00\",\"1991-05-31T00:00:00\",\"1991-06-30T00:00:00\",\"1991-07-31T00:00:00\",\"1991-08-31T00:00:00\",\"1991-09-30T00:00:00\",\"1991-10-31T00:00:00\",\"1991-11-30T00:00:00\",\"1991-12-31T00:00:00\",\"1992-01-31T00:00:00\",\"1992-02-29T00:00:00\",\"1992-03-31T00:00:00\",\"1992-04-30T00:00:00\",\"1992-05-31T00:00:00\",\"1992-06-30T00:00:00\",\"1992-07-31T00:00:00\",\"1992-08-31T00:00:00\",\"1992-09-30T00:00:00\",\"1992-10-31T00:00:00\",\"1992-11-30T00:00:00\",\"1992-12-31T00:00:00\",\"1993-01-31T00:00:00\",\"1993-02-28T00:00:00\",\"1993-03-31T00:00:00\",\"1993-04-30T00:00:00\",\"1993-05-31T00:00:00\",\"1993-06-30T00:00:00\",\"1993-07-31T00:00:00\",\"1993-08-31T00:00:00\",\"1993-09-30T00:00:00\",\"1993-10-31T00:00:00\",\"1993-11-30T00:00:00\",\"1993-12-31T00:00:00\",\"1994-01-31T00:00:00\",\"1994-02-28T00:00:00\",\"1994-03-31T00:00:00\",\"1994-04-30T00:00:00\",\"1994-05-31T00:00:00\",\"1994-06-30T00:00:00\",\"1994-07-31T00:00:00\",\"1994-08-31T00:00:00\",\"1994-09-30T00:00:00\",\"1994-10-31T00:00:00\",\"1994-11-30T00:00:00\",\"1994-12-31T00:00:00\",\"1995-01-31T00:00:00\",\"1995-02-28T00:00:00\",\"1995-03-31T00:00:00\",\"1995-04-30T00:00:00\",\"1995-05-31T00:00:00\",\"1995-06-30T00:00:00\",\"1995-07-31T00:00:00\",\"1995-08-31T00:00:00\",\"1995-09-30T00:00:00\"],\"y\":[5520.0,3880.0,4840.0,4360.0,3800.0,4560.0,4560.0,5120.0,4320.0,5380.0,4860.0,4560.0,5820.0,4260.0,3720.0,4500.0,5200.0,4300.0,5460.0,4800.0,4500.0,4640.0,4600.0,5400.0,5220.0,3700.0,5180.0,4360.0,3920.0,4760.0,4600.0,4580.0,4300.0,4920.0,3940.0,5640.0,4800.0,4120.0,4940.0,4540.0,4100.0,4940.0,4660.0,4180.0,3960.0,4380.0,4480.0,5860.0,4760.0,4440.0,5020.0,4200.0,5380.0,4640.0,3680.0,4280.0,4240.0,4160.0,3960.0,4940.0,4740.0,4660.0,4060.0,4360.0,4580.0,3860.0,4460.0,4640.0,3660.0],\"type\":\"scatter\",\"xaxis\":\"x4\",\"yaxis\":\"y4\"},{\"line\":{\"dash\":\"dot\"},\"mode\":\"lines\",\"name\":\"Predicted M172\",\"x\":[\"1990-01-31T00:00:00\",\"1990-02-28T00:00:00\",\"1990-03-31T00:00:00\",\"1990-04-30T00:00:00\",\"1990-05-31T00:00:00\",\"1990-06-30T00:00:00\",\"1990-07-31T00:00:00\",\"1990-08-31T00:00:00\",\"1990-09-30T00:00:00\",\"1990-10-31T00:00:00\",\"1990-11-30T00:00:00\",\"1990-12-31T00:00:00\",\"1991-01-31T00:00:00\",\"1991-02-28T00:00:00\",\"1991-03-31T00:00:00\",\"1991-04-30T00:00:00\",\"1991-05-31T00:00:00\",\"1991-06-30T00:00:00\",\"1991-07-31T00:00:00\",\"1991-08-31T00:00:00\",\"1991-09-30T00:00:00\",\"1991-10-31T00:00:00\",\"1991-11-30T00:00:00\",\"1991-12-31T00:00:00\",\"1992-01-31T00:00:00\",\"1992-02-29T00:00:00\",\"1992-03-31T00:00:00\",\"1992-04-30T00:00:00\",\"1992-05-31T00:00:00\",\"1992-06-30T00:00:00\",\"1992-07-31T00:00:00\",\"1992-08-31T00:00:00\",\"1992-09-30T00:00:00\",\"1992-10-31T00:00:00\",\"1992-11-30T00:00:00\",\"1992-12-31T00:00:00\",\"1993-01-31T00:00:00\",\"1993-02-28T00:00:00\",\"1993-03-31T00:00:00\",\"1993-04-30T00:00:00\",\"1993-05-31T00:00:00\",\"1993-06-30T00:00:00\",\"1993-07-31T00:00:00\",\"1993-08-31T00:00:00\",\"1993-09-30T00:00:00\",\"1993-10-31T00:00:00\",\"1993-11-30T00:00:00\",\"1993-12-31T00:00:00\",\"1994-01-31T00:00:00\",\"1994-02-28T00:00:00\",\"1994-03-31T00:00:00\",\"1994-04-30T00:00:00\",\"1994-05-31T00:00:00\",\"1994-06-30T00:00:00\",\"1994-07-31T00:00:00\",\"1994-08-31T00:00:00\",\"1994-09-30T00:00:00\",\"1994-10-31T00:00:00\",\"1994-11-30T00:00:00\",\"1994-12-31T00:00:00\",\"1995-01-31T00:00:00\",\"1995-02-28T00:00:00\",\"1995-03-31T00:00:00\",\"1995-04-30T00:00:00\",\"1995-05-31T00:00:00\",\"1995-06-30T00:00:00\",\"1995-07-31T00:00:00\",\"1995-08-31T00:00:00\",\"1995-09-30T00:00:00\"],\"y\":[5520.0,3880.0,4840.0,4360.0,3800.0,4560.0,4560.0,5120.0,4320.0,5380.0,4860.0,4560.0,4854.6865,4861.3687,4699.4487,4713.1826,4580.56,4592.288,4593.9937,4611.243,4690.3345,4699.4316,4975.732,4980.8457,4657.778,4669.8965,4791.8477,4809.729,5011.931,5021.3057,4632.006,4632.8228,4485.3022,4504.344,4547.2104,4547.4087,4863.9365,4865.6504,4496.9175,4507.4585,4736.606,4744.987,4742.653,4743.958,4305.539,4323.9473,4295.955,4300.6562,4926.986,4930.8447,4502.3013,4510.2373,4639.187,4649.455,4887.266,4896.62,4356.763,4374.9443,4272.6157,4282.8677,4492.8657,4494.913,4797.7,4799.189,4073.0564,4075.5059,4452.185,4465.0137,4424.6304],\"type\":\"scatter\",\"xaxis\":\"x4\",\"yaxis\":\"y4\"},{\"mode\":\"lines\",\"name\":\"Actual M103\",\"x\":[\"1990-01-31T00:00:00\",\"1990-02-28T00:00:00\",\"1990-03-31T00:00:00\",\"1990-04-30T00:00:00\",\"1990-05-31T00:00:00\",\"1990-06-30T00:00:00\",\"1990-07-31T00:00:00\",\"1990-08-31T00:00:00\",\"1990-09-30T00:00:00\",\"1990-10-31T00:00:00\",\"1990-11-30T00:00:00\",\"1990-12-31T00:00:00\",\"1991-01-31T00:00:00\",\"1991-02-28T00:00:00\",\"1991-03-31T00:00:00\",\"1991-04-30T00:00:00\",\"1991-05-31T00:00:00\",\"1991-06-30T00:00:00\",\"1991-07-31T00:00:00\",\"1991-08-31T00:00:00\",\"1991-09-30T00:00:00\",\"1991-10-31T00:00:00\",\"1991-11-30T00:00:00\",\"1991-12-31T00:00:00\",\"1992-01-31T00:00:00\",\"1992-02-29T00:00:00\",\"1992-03-31T00:00:00\",\"1992-04-30T00:00:00\",\"1992-05-31T00:00:00\",\"1992-06-30T00:00:00\",\"1992-07-31T00:00:00\",\"1992-08-31T00:00:00\",\"1992-09-30T00:00:00\",\"1992-10-31T00:00:00\",\"1992-11-30T00:00:00\",\"1992-12-31T00:00:00\",\"1993-01-31T00:00:00\",\"1993-02-28T00:00:00\",\"1993-03-31T00:00:00\",\"1993-04-30T00:00:00\",\"1993-05-31T00:00:00\",\"1993-06-30T00:00:00\",\"1993-07-31T00:00:00\",\"1993-08-31T00:00:00\",\"1993-09-30T00:00:00\",\"1993-10-31T00:00:00\",\"1993-11-30T00:00:00\",\"1993-12-31T00:00:00\",\"1994-01-31T00:00:00\",\"1994-02-28T00:00:00\",\"1994-03-31T00:00:00\",\"1994-04-30T00:00:00\",\"1994-05-31T00:00:00\",\"1994-06-30T00:00:00\",\"1994-07-31T00:00:00\",\"1994-08-31T00:00:00\",\"1994-09-30T00:00:00\",\"1994-10-31T00:00:00\",\"1994-11-30T00:00:00\",\"1994-12-31T00:00:00\",\"1995-01-31T00:00:00\",\"1995-02-28T00:00:00\",\"1995-03-31T00:00:00\",\"1995-04-30T00:00:00\",\"1995-05-31T00:00:00\",\"1995-06-30T00:00:00\",\"1995-07-31T00:00:00\",\"1995-08-31T00:00:00\",\"1995-09-30T00:00:00\"],\"y\":[5700.0,5150.0,5150.0,4550.0,5150.0,3850.0,5350.0,5400.0,5600.0,6200.0,5800.0,5600.0,7250.0,5450.0,5050.0,5350.0,4350.0,5050.0,6250.0,5800.0,5700.0,6100.0,5850.0,6750.0,6600.0,4800.0,5800.0,5300.0,6050.0,6150.0,5900.0,4250.0,5150.0,6550.0,5550.0,5900.0,5350.0,4700.0,7200.0,6050.0,5100.0,5850.0,4800.0,5400.0,6350.0,4750.0,5600.0,8100.0,6000.0,6400.0,7200.0,5400.0,5800.0,6400.0,6650.0,7700.0,7450.0,6350.0,6600.0,6600.0,8550.0,6100.0,6900.0,6200.0,7750.0,8150.0,5700.0,6850.0,6500.0],\"type\":\"scatter\",\"xaxis\":\"x5\",\"yaxis\":\"y5\"},{\"line\":{\"dash\":\"dot\"},\"mode\":\"lines\",\"name\":\"Predicted M103\",\"x\":[\"1990-01-31T00:00:00\",\"1990-02-28T00:00:00\",\"1990-03-31T00:00:00\",\"1990-04-30T00:00:00\",\"1990-05-31T00:00:00\",\"1990-06-30T00:00:00\",\"1990-07-31T00:00:00\",\"1990-08-31T00:00:00\",\"1990-09-30T00:00:00\",\"1990-10-31T00:00:00\",\"1990-11-30T00:00:00\",\"1990-12-31T00:00:00\",\"1991-01-31T00:00:00\",\"1991-02-28T00:00:00\",\"1991-03-31T00:00:00\",\"1991-04-30T00:00:00\",\"1991-05-31T00:00:00\",\"1991-06-30T00:00:00\",\"1991-07-31T00:00:00\",\"1991-08-31T00:00:00\",\"1991-09-30T00:00:00\",\"1991-10-31T00:00:00\",\"1991-11-30T00:00:00\",\"1991-12-31T00:00:00\",\"1992-01-31T00:00:00\",\"1992-02-29T00:00:00\",\"1992-03-31T00:00:00\",\"1992-04-30T00:00:00\",\"1992-05-31T00:00:00\",\"1992-06-30T00:00:00\",\"1992-07-31T00:00:00\",\"1992-08-31T00:00:00\",\"1992-09-30T00:00:00\",\"1992-10-31T00:00:00\",\"1992-11-30T00:00:00\",\"1992-12-31T00:00:00\",\"1993-01-31T00:00:00\",\"1993-02-28T00:00:00\",\"1993-03-31T00:00:00\",\"1993-04-30T00:00:00\",\"1993-05-31T00:00:00\",\"1993-06-30T00:00:00\",\"1993-07-31T00:00:00\",\"1993-08-31T00:00:00\",\"1993-09-30T00:00:00\",\"1993-10-31T00:00:00\",\"1993-11-30T00:00:00\",\"1993-12-31T00:00:00\",\"1994-01-31T00:00:00\",\"1994-02-28T00:00:00\",\"1994-03-31T00:00:00\",\"1994-04-30T00:00:00\",\"1994-05-31T00:00:00\",\"1994-06-30T00:00:00\",\"1994-07-31T00:00:00\",\"1994-08-31T00:00:00\",\"1994-09-30T00:00:00\",\"1994-10-31T00:00:00\",\"1994-11-30T00:00:00\",\"1994-12-31T00:00:00\",\"1995-01-31T00:00:00\",\"1995-02-28T00:00:00\",\"1995-03-31T00:00:00\",\"1995-04-30T00:00:00\",\"1995-05-31T00:00:00\",\"1995-06-30T00:00:00\",\"1995-07-31T00:00:00\",\"1995-08-31T00:00:00\",\"1995-09-30T00:00:00\"],\"y\":[5700.0,5150.0,5150.0,4550.0,5150.0,3850.0,5350.0,5400.0,5600.0,6200.0,5800.0,5600.0,5291.5186,5304.25,5748.0425,5771.5938,5568.0415,5590.8657,5281.9062,5308.0796,5626.311,5638.6113,6023.868,6019.4707,5886.151,5885.484,5416.6187,5444.4165,5990.2437,6014.5293,6090.272,6099.7666,5318.6807,5343.6367,5762.4243,5761.917,5781.8213,5791.125,5362.3267,5382.165,6115.7563,6116.2744,5649.625,5663.493,5271.0645,5290.609,5473.7827,5491.845,6411.7944,6420.1743,5958.2285,5958.0576,5660.8647,5692.174,6606.3286,6615.172,6700.601,6718.963,6237.512,6253.71,6856.332,6868.3193,7129.355,7152.0127,6633.947,6663.584,7331.7915,7349.0063,6547.052],\"type\":\"scatter\",\"xaxis\":\"x5\",\"yaxis\":\"y5\"},{\"mode\":\"lines\",\"name\":\"Actual M904\",\"x\":[\"1983-01-31T00:00:00\",\"1983-02-28T00:00:00\",\"1983-03-31T00:00:00\",\"1983-04-30T00:00:00\",\"1983-05-31T00:00:00\",\"1983-06-30T00:00:00\",\"1983-07-31T00:00:00\",\"1983-08-31T00:00:00\",\"1983-09-30T00:00:00\",\"1983-10-31T00:00:00\",\"1983-11-30T00:00:00\",\"1983-12-31T00:00:00\",\"1984-01-31T00:00:00\",\"1984-02-29T00:00:00\",\"1984-03-31T00:00:00\",\"1984-04-30T00:00:00\",\"1984-05-31T00:00:00\",\"1984-06-30T00:00:00\",\"1984-07-31T00:00:00\",\"1984-08-31T00:00:00\",\"1984-09-30T00:00:00\",\"1984-10-31T00:00:00\",\"1984-11-30T00:00:00\",\"1984-12-31T00:00:00\",\"1985-01-31T00:00:00\",\"1985-02-28T00:00:00\",\"1985-03-31T00:00:00\",\"1985-04-30T00:00:00\",\"1985-05-31T00:00:00\",\"1985-06-30T00:00:00\",\"1985-07-31T00:00:00\",\"1985-08-31T00:00:00\",\"1985-09-30T00:00:00\",\"1985-10-31T00:00:00\",\"1985-11-30T00:00:00\",\"1985-12-31T00:00:00\",\"1986-01-31T00:00:00\",\"1986-02-28T00:00:00\",\"1986-03-31T00:00:00\",\"1986-04-30T00:00:00\",\"1986-05-31T00:00:00\",\"1986-06-30T00:00:00\",\"1986-07-31T00:00:00\",\"1986-08-31T00:00:00\",\"1986-09-30T00:00:00\",\"1986-10-31T00:00:00\",\"1986-11-30T00:00:00\",\"1986-12-31T00:00:00\",\"1987-01-31T00:00:00\",\"1987-02-28T00:00:00\",\"1987-03-31T00:00:00\",\"1987-04-30T00:00:00\",\"1987-05-31T00:00:00\",\"1987-06-30T00:00:00\",\"1987-07-31T00:00:00\",\"1987-08-31T00:00:00\",\"1987-09-30T00:00:00\",\"1987-10-31T00:00:00\",\"1987-11-30T00:00:00\",\"1987-12-31T00:00:00\",\"1988-01-31T00:00:00\",\"1988-02-29T00:00:00\",\"1988-03-31T00:00:00\",\"1988-04-30T00:00:00\",\"1988-05-31T00:00:00\",\"1988-06-30T00:00:00\",\"1988-07-31T00:00:00\",\"1988-08-31T00:00:00\",\"1988-09-30T00:00:00\",\"1988-10-31T00:00:00\",\"1988-11-30T00:00:00\",\"1988-12-31T00:00:00\",\"1989-01-31T00:00:00\",\"1989-02-28T00:00:00\",\"1989-03-31T00:00:00\",\"1989-04-30T00:00:00\",\"1989-05-31T00:00:00\",\"1989-06-30T00:00:00\",\"1989-07-31T00:00:00\",\"1989-08-31T00:00:00\",\"1989-09-30T00:00:00\",\"1989-10-31T00:00:00\",\"1989-11-30T00:00:00\",\"1989-12-31T00:00:00\",\"1990-01-31T00:00:00\",\"1990-02-28T00:00:00\",\"1990-03-31T00:00:00\",\"1990-04-30T00:00:00\",\"1990-05-31T00:00:00\",\"1990-06-30T00:00:00\",\"1990-07-31T00:00:00\",\"1990-08-31T00:00:00\",\"1990-09-30T00:00:00\",\"1990-10-31T00:00:00\",\"1990-11-30T00:00:00\",\"1990-12-31T00:00:00\",\"1991-01-31T00:00:00\",\"1991-02-28T00:00:00\",\"1991-03-31T00:00:00\",\"1991-04-30T00:00:00\",\"1991-05-31T00:00:00\",\"1991-06-30T00:00:00\",\"1991-07-31T00:00:00\",\"1991-08-31T00:00:00\",\"1991-09-30T00:00:00\",\"1991-10-31T00:00:00\",\"1991-11-30T00:00:00\",\"1991-12-31T00:00:00\",\"1992-01-31T00:00:00\",\"1992-02-29T00:00:00\",\"1992-03-31T00:00:00\",\"1992-04-30T00:00:00\",\"1992-05-31T00:00:00\",\"1992-06-30T00:00:00\",\"1992-07-31T00:00:00\",\"1992-08-31T00:00:00\",\"1992-09-30T00:00:00\",\"1992-10-31T00:00:00\",\"1992-11-30T00:00:00\",\"1992-12-31T00:00:00\",\"1993-01-31T00:00:00\",\"1993-02-28T00:00:00\",\"1993-03-31T00:00:00\",\"1993-04-30T00:00:00\",\"1993-05-31T00:00:00\",\"1993-06-30T00:00:00\",\"1993-07-31T00:00:00\",\"1993-08-31T00:00:00\",\"1993-09-30T00:00:00\",\"1993-10-31T00:00:00\",\"1993-11-30T00:00:00\",\"1993-12-31T00:00:00\",\"1994-01-31T00:00:00\",\"1994-02-28T00:00:00\"],\"y\":[2941.8,2933.7,3116.2,3092.2,3189.6,3328.6,3334.3,3181.0,3333.2,3454.0,3523.7,3602.4,3704.3,3716.5,3628.5,3761.4,3791.1,3856.2,3780.0,3677.9,3733.5,3843.3,3947.4,3915.3,3968.5,4020.0,4068.4,4123.6,4176.1,4130.6,4107.9,4215.8,4480.5,4120.5,4111.7,4231.2,4288.5,4219.8,4136.6,4282.3,4385.2,4380.0,4402.7,4534.8,5202.5,4610.8,4571.1,5039.7,4191.7,4596.8,4698.7,4739.6,4704.7,4811.4,4889.3,5121.5,4937.7,4850.0,4907.4,4999.4,5050.3,5143.3,5230.8,5161.5,5215.1,5268.6,5204.0,5205.8,5076.2,5330.2,5393.4,5487.5,5457.9,5327.3,5320.2,5498.8,5481.1,5436.7,5530.0,5750.3,5617.0,5467.2,5562.3,5475.9,5846.7,5677.3,5661.0,5614.5,5574.1,5559.5,5615.3,5576.5,5581.6,5565.2,5523.3,5394.9,5160.1,5390.0,5473.2,5444.0,5463.2,5513.9,5486.6,5423.5,5541.5,5480.9,5458.6,5510.5,5642.9,5773.1,5745.0,5720.3,5753.9,5814.0,5834.1,5854.3,5955.8,6121.3,6103.6,6205.2,6295.7,6122.4,6115.4,6295.2,6403.9,6467.5,6532.2,6646.5,6589.9,6845.9,6961.4,7104.8,6966.8,7108.8],\"type\":\"scatter\",\"xaxis\":\"x6\",\"yaxis\":\"y6\"},{\"line\":{\"dash\":\"dot\"},\"mode\":\"lines\",\"name\":\"Predicted M904\",\"x\":[\"1983-01-31T00:00:00\",\"1983-02-28T00:00:00\",\"1983-03-31T00:00:00\",\"1983-04-30T00:00:00\",\"1983-05-31T00:00:00\",\"1983-06-30T00:00:00\",\"1983-07-31T00:00:00\",\"1983-08-31T00:00:00\",\"1983-09-30T00:00:00\",\"1983-10-31T00:00:00\",\"1983-11-30T00:00:00\",\"1983-12-31T00:00:00\",\"1984-01-31T00:00:00\",\"1984-02-29T00:00:00\",\"1984-03-31T00:00:00\",\"1984-04-30T00:00:00\",\"1984-05-31T00:00:00\",\"1984-06-30T00:00:00\",\"1984-07-31T00:00:00\",\"1984-08-31T00:00:00\",\"1984-09-30T00:00:00\",\"1984-10-31T00:00:00\",\"1984-11-30T00:00:00\",\"1984-12-31T00:00:00\",\"1985-01-31T00:00:00\",\"1985-02-28T00:00:00\",\"1985-03-31T00:00:00\",\"1985-04-30T00:00:00\",\"1985-05-31T00:00:00\",\"1985-06-30T00:00:00\",\"1985-07-31T00:00:00\",\"1985-08-31T00:00:00\",\"1985-09-30T00:00:00\",\"1985-10-31T00:00:00\",\"1985-11-30T00:00:00\",\"1985-12-31T00:00:00\",\"1986-01-31T00:00:00\",\"1986-02-28T00:00:00\",\"1986-03-31T00:00:00\",\"1986-04-30T00:00:00\",\"1986-05-31T00:00:00\",\"1986-06-30T00:00:00\",\"1986-07-31T00:00:00\",\"1986-08-31T00:00:00\",\"1986-09-30T00:00:00\",\"1986-10-31T00:00:00\",\"1986-11-30T00:00:00\",\"1986-12-31T00:00:00\",\"1987-01-31T00:00:00\",\"1987-02-28T00:00:00\",\"1987-03-31T00:00:00\",\"1987-04-30T00:00:00\",\"1987-05-31T00:00:00\",\"1987-06-30T00:00:00\",\"1987-07-31T00:00:00\",\"1987-08-31T00:00:00\",\"1987-09-30T00:00:00\",\"1987-10-31T00:00:00\",\"1987-11-30T00:00:00\",\"1987-12-31T00:00:00\",\"1988-01-31T00:00:00\",\"1988-02-29T00:00:00\",\"1988-03-31T00:00:00\",\"1988-04-30T00:00:00\",\"1988-05-31T00:00:00\",\"1988-06-30T00:00:00\",\"1988-07-31T00:00:00\",\"1988-08-31T00:00:00\",\"1988-09-30T00:00:00\",\"1988-10-31T00:00:00\",\"1988-11-30T00:00:00\",\"1988-12-31T00:00:00\",\"1989-01-31T00:00:00\",\"1989-02-28T00:00:00\",\"1989-03-31T00:00:00\",\"1989-04-30T00:00:00\",\"1989-05-31T00:00:00\",\"1989-06-30T00:00:00\",\"1989-07-31T00:00:00\",\"1989-08-31T00:00:00\",\"1989-09-30T00:00:00\",\"1989-10-31T00:00:00\",\"1989-11-30T00:00:00\",\"1989-12-31T00:00:00\",\"1990-01-31T00:00:00\",\"1990-02-28T00:00:00\",\"1990-03-31T00:00:00\",\"1990-04-30T00:00:00\",\"1990-05-31T00:00:00\",\"1990-06-30T00:00:00\",\"1990-07-31T00:00:00\",\"1990-08-31T00:00:00\",\"1990-09-30T00:00:00\",\"1990-10-31T00:00:00\",\"1990-11-30T00:00:00\",\"1990-12-31T00:00:00\",\"1991-01-31T00:00:00\",\"1991-02-28T00:00:00\",\"1991-03-31T00:00:00\",\"1991-04-30T00:00:00\",\"1991-05-31T00:00:00\",\"1991-06-30T00:00:00\",\"1991-07-31T00:00:00\",\"1991-08-31T00:00:00\",\"1991-09-30T00:00:00\",\"1991-10-31T00:00:00\",\"1991-11-30T00:00:00\",\"1991-12-31T00:00:00\",\"1992-01-31T00:00:00\",\"1992-02-29T00:00:00\",\"1992-03-31T00:00:00\",\"1992-04-30T00:00:00\",\"1992-05-31T00:00:00\",\"1992-06-30T00:00:00\",\"1992-07-31T00:00:00\",\"1992-08-31T00:00:00\",\"1992-09-30T00:00:00\",\"1992-10-31T00:00:00\",\"1992-11-30T00:00:00\",\"1992-12-31T00:00:00\",\"1993-01-31T00:00:00\",\"1993-02-28T00:00:00\",\"1993-03-31T00:00:00\",\"1993-04-30T00:00:00\",\"1993-05-31T00:00:00\",\"1993-06-30T00:00:00\",\"1993-07-31T00:00:00\",\"1993-08-31T00:00:00\",\"1993-09-30T00:00:00\",\"1993-10-31T00:00:00\",\"1993-11-30T00:00:00\",\"1993-12-31T00:00:00\",\"1994-01-31T00:00:00\",\"1994-02-28T00:00:00\"],\"y\":[2941.8,2933.7,3116.2,3092.2,3189.6,3328.6,3334.3,3181.0,3333.2,3454.0,3523.7,3602.4,3465.2039,3473.2998,3540.306,3549.437,3623.1836,3630.8726,3750.057,3760.3047,3749.3152,3759.5618,3823.9475,3832.166,3874.2715,3881.5938,3925.3782,3933.2993,4014.3518,4021.2158,4078.5417,4088.6206,4152.5522,4162.13,4245.802,4256.24,4203.7466,4213.1997,4293.3604,4302.9165,4219.885,4229.3423,4424.425,4431.3564,4389.404,4396.103,4662.0576,4671.924,4629.9985,4639.134,4593.5933,4607.956,4685.17,4699.612,4962.7046,4966.9375,4895.306,4899.342,4714.685,4724.0312,4950.1436,4963.666,5062.609,5072.4795,5122.688,5134.3916,5167.2163,5176.1816,5221.816,5234.034,5242.6616,5254.6846,5407.565,5417.128,5389.489,5399.376,5423.433,5433.0156,5447.9937,5460.3076,5571.5366,5583.029,5589.982,5599.721,5553.4033,5566.3394,5728.656,5739.7676,5664.977,5677.5493,5634.525,5646.164,5681.1997,5693.478,5733.721,5744.588,5603.6567,5612.9062,5485.714,5495.2793,5564.11,5573.3135,5526.829,5533.9185,5526.653,5534.1387,5476.8457,5487.84,5557.195,5568.8955,5649.2207,5659.368,5685.2607,5695.435,5767.6753,5779.1963,5822.219,5834.28,5959.6475,5972.5366,6056.5034,6067.533,6130.187,6143.967,6197.8457,6211.1924,6365.6597,6380.0557,6445.3623,6458.499,6625.9204,6637.5557,6800.0913,6814.311],\"type\":\"scatter\",\"xaxis\":\"x6\",\"yaxis\":\"y6\"}],                        {\"template\":{\"data\":{\"barpolar\":[{\"marker\":{\"line\":{\"color\":\"white\",\"width\":0.5},\"pattern\":{\"fillmode\":\"overlay\",\"size\":10,\"solidity\":0.2}},\"type\":\"barpolar\"}],\"bar\":[{\"error_x\":{\"color\":\"#2a3f5f\"},\"error_y\":{\"color\":\"#2a3f5f\"},\"marker\":{\"line\":{\"color\":\"white\",\"width\":0.5},\"pattern\":{\"fillmode\":\"overlay\",\"size\":10,\"solidity\":0.2}},\"type\":\"bar\"}],\"carpet\":[{\"aaxis\":{\"endlinecolor\":\"#2a3f5f\",\"gridcolor\":\"#C8D4E3\",\"linecolor\":\"#C8D4E3\",\"minorgridcolor\":\"#C8D4E3\",\"startlinecolor\":\"#2a3f5f\"},\"baxis\":{\"endlinecolor\":\"#2a3f5f\",\"gridcolor\":\"#C8D4E3\",\"linecolor\":\"#C8D4E3\",\"minorgridcolor\":\"#C8D4E3\",\"startlinecolor\":\"#2a3f5f\"},\"type\":\"carpet\"}],\"choropleth\":[{\"colorbar\":{\"outlinewidth\":0,\"ticks\":\"\"},\"type\":\"choropleth\"}],\"contourcarpet\":[{\"colorbar\":{\"outlinewidth\":0,\"ticks\":\"\"},\"type\":\"contourcarpet\"}],\"contour\":[{\"colorbar\":{\"outlinewidth\":0,\"ticks\":\"\"},\"colorscale\":[[0.0,\"#0d0887\"],[0.1111111111111111,\"#46039f\"],[0.2222222222222222,\"#7201a8\"],[0.3333333333333333,\"#9c179e\"],[0.4444444444444444,\"#bd3786\"],[0.5555555555555556,\"#d8576b\"],[0.6666666666666666,\"#ed7953\"],[0.7777777777777778,\"#fb9f3a\"],[0.8888888888888888,\"#fdca26\"],[1.0,\"#f0f921\"]],\"type\":\"contour\"}],\"heatmapgl\":[{\"colorbar\":{\"outlinewidth\":0,\"ticks\":\"\"},\"colorscale\":[[0.0,\"#0d0887\"],[0.1111111111111111,\"#46039f\"],[0.2222222222222222,\"#7201a8\"],[0.3333333333333333,\"#9c179e\"],[0.4444444444444444,\"#bd3786\"],[0.5555555555555556,\"#d8576b\"],[0.6666666666666666,\"#ed7953\"],[0.7777777777777778,\"#fb9f3a\"],[0.8888888888888888,\"#fdca26\"],[1.0,\"#f0f921\"]],\"type\":\"heatmapgl\"}],\"heatmap\":[{\"colorbar\":{\"outlinewidth\":0,\"ticks\":\"\"},\"colorscale\":[[0.0,\"#0d0887\"],[0.1111111111111111,\"#46039f\"],[0.2222222222222222,\"#7201a8\"],[0.3333333333333333,\"#9c179e\"],[0.4444444444444444,\"#bd3786\"],[0.5555555555555556,\"#d8576b\"],[0.6666666666666666,\"#ed7953\"],[0.7777777777777778,\"#fb9f3a\"],[0.8888888888888888,\"#fdca26\"],[1.0,\"#f0f921\"]],\"type\":\"heatmap\"}],\"histogram2dcontour\":[{\"colorbar\":{\"outlinewidth\":0,\"ticks\":\"\"},\"colorscale\":[[0.0,\"#0d0887\"],[0.1111111111111111,\"#46039f\"],[0.2222222222222222,\"#7201a8\"],[0.3333333333333333,\"#9c179e\"],[0.4444444444444444,\"#bd3786\"],[0.5555555555555556,\"#d8576b\"],[0.6666666666666666,\"#ed7953\"],[0.7777777777777778,\"#fb9f3a\"],[0.8888888888888888,\"#fdca26\"],[1.0,\"#f0f921\"]],\"type\":\"histogram2dcontour\"}],\"histogram2d\":[{\"colorbar\":{\"outlinewidth\":0,\"ticks\":\"\"},\"colorscale\":[[0.0,\"#0d0887\"],[0.1111111111111111,\"#46039f\"],[0.2222222222222222,\"#7201a8\"],[0.3333333333333333,\"#9c179e\"],[0.4444444444444444,\"#bd3786\"],[0.5555555555555556,\"#d8576b\"],[0.6666666666666666,\"#ed7953\"],[0.7777777777777778,\"#fb9f3a\"],[0.8888888888888888,\"#fdca26\"],[1.0,\"#f0f921\"]],\"type\":\"histogram2d\"}],\"histogram\":[{\"marker\":{\"pattern\":{\"fillmode\":\"overlay\",\"size\":10,\"solidity\":0.2}},\"type\":\"histogram\"}],\"mesh3d\":[{\"colorbar\":{\"outlinewidth\":0,\"ticks\":\"\"},\"type\":\"mesh3d\"}],\"parcoords\":[{\"line\":{\"colorbar\":{\"outlinewidth\":0,\"ticks\":\"\"}},\"type\":\"parcoords\"}],\"pie\":[{\"automargin\":true,\"type\":\"pie\"}],\"scatter3d\":[{\"line\":{\"colorbar\":{\"outlinewidth\":0,\"ticks\":\"\"}},\"marker\":{\"colorbar\":{\"outlinewidth\":0,\"ticks\":\"\"}},\"type\":\"scatter3d\"}],\"scattercarpet\":[{\"marker\":{\"colorbar\":{\"outlinewidth\":0,\"ticks\":\"\"}},\"type\":\"scattercarpet\"}],\"scattergeo\":[{\"marker\":{\"colorbar\":{\"outlinewidth\":0,\"ticks\":\"\"}},\"type\":\"scattergeo\"}],\"scattergl\":[{\"marker\":{\"colorbar\":{\"outlinewidth\":0,\"ticks\":\"\"}},\"type\":\"scattergl\"}],\"scattermapbox\":[{\"marker\":{\"colorbar\":{\"outlinewidth\":0,\"ticks\":\"\"}},\"type\":\"scattermapbox\"}],\"scatterpolargl\":[{\"marker\":{\"colorbar\":{\"outlinewidth\":0,\"ticks\":\"\"}},\"type\":\"scatterpolargl\"}],\"scatterpolar\":[{\"marker\":{\"colorbar\":{\"outlinewidth\":0,\"ticks\":\"\"}},\"type\":\"scatterpolar\"}],\"scatter\":[{\"fillpattern\":{\"fillmode\":\"overlay\",\"size\":10,\"solidity\":0.2},\"type\":\"scatter\"}],\"scatterternary\":[{\"marker\":{\"colorbar\":{\"outlinewidth\":0,\"ticks\":\"\"}},\"type\":\"scatterternary\"}],\"surface\":[{\"colorbar\":{\"outlinewidth\":0,\"ticks\":\"\"},\"colorscale\":[[0.0,\"#0d0887\"],[0.1111111111111111,\"#46039f\"],[0.2222222222222222,\"#7201a8\"],[0.3333333333333333,\"#9c179e\"],[0.4444444444444444,\"#bd3786\"],[0.5555555555555556,\"#d8576b\"],[0.6666666666666666,\"#ed7953\"],[0.7777777777777778,\"#fb9f3a\"],[0.8888888888888888,\"#fdca26\"],[1.0,\"#f0f921\"]],\"type\":\"surface\"}],\"table\":[{\"cells\":{\"fill\":{\"color\":\"#EBF0F8\"},\"line\":{\"color\":\"white\"}},\"header\":{\"fill\":{\"color\":\"#C8D4E3\"},\"line\":{\"color\":\"white\"}},\"type\":\"table\"}]},\"layout\":{\"annotationdefaults\":{\"arrowcolor\":\"#2a3f5f\",\"arrowhead\":0,\"arrowwidth\":1},\"autotypenumbers\":\"strict\",\"coloraxis\":{\"colorbar\":{\"outlinewidth\":0,\"ticks\":\"\"}},\"colorscale\":{\"diverging\":[[0,\"#8e0152\"],[0.1,\"#c51b7d\"],[0.2,\"#de77ae\"],[0.3,\"#f1b6da\"],[0.4,\"#fde0ef\"],[0.5,\"#f7f7f7\"],[0.6,\"#e6f5d0\"],[0.7,\"#b8e186\"],[0.8,\"#7fbc41\"],[0.9,\"#4d9221\"],[1,\"#276419\"]],\"sequential\":[[0.0,\"#0d0887\"],[0.1111111111111111,\"#46039f\"],[0.2222222222222222,\"#7201a8\"],[0.3333333333333333,\"#9c179e\"],[0.4444444444444444,\"#bd3786\"],[0.5555555555555556,\"#d8576b\"],[0.6666666666666666,\"#ed7953\"],[0.7777777777777778,\"#fb9f3a\"],[0.8888888888888888,\"#fdca26\"],[1.0,\"#f0f921\"]],\"sequentialminus\":[[0.0,\"#0d0887\"],[0.1111111111111111,\"#46039f\"],[0.2222222222222222,\"#7201a8\"],[0.3333333333333333,\"#9c179e\"],[0.4444444444444444,\"#bd3786\"],[0.5555555555555556,\"#d8576b\"],[0.6666666666666666,\"#ed7953\"],[0.7777777777777778,\"#fb9f3a\"],[0.8888888888888888,\"#fdca26\"],[1.0,\"#f0f921\"]]},\"colorway\":[\"#636efa\",\"#EF553B\",\"#00cc96\",\"#ab63fa\",\"#FFA15A\",\"#19d3f3\",\"#FF6692\",\"#B6E880\",\"#FF97FF\",\"#FECB52\"],\"font\":{\"color\":\"#2a3f5f\"},\"geo\":{\"bgcolor\":\"white\",\"lakecolor\":\"white\",\"landcolor\":\"white\",\"showlakes\":true,\"showland\":true,\"subunitcolor\":\"#C8D4E3\"},\"hoverlabel\":{\"align\":\"left\"},\"hovermode\":\"closest\",\"mapbox\":{\"style\":\"light\"},\"paper_bgcolor\":\"white\",\"plot_bgcolor\":\"white\",\"polar\":{\"angularaxis\":{\"gridcolor\":\"#EBF0F8\",\"linecolor\":\"#EBF0F8\",\"ticks\":\"\"},\"bgcolor\":\"white\",\"radialaxis\":{\"gridcolor\":\"#EBF0F8\",\"linecolor\":\"#EBF0F8\",\"ticks\":\"\"}},\"scene\":{\"xaxis\":{\"backgroundcolor\":\"white\",\"gridcolor\":\"#DFE8F3\",\"gridwidth\":2,\"linecolor\":\"#EBF0F8\",\"showbackground\":true,\"ticks\":\"\",\"zerolinecolor\":\"#EBF0F8\"},\"yaxis\":{\"backgroundcolor\":\"white\",\"gridcolor\":\"#DFE8F3\",\"gridwidth\":2,\"linecolor\":\"#EBF0F8\",\"showbackground\":true,\"ticks\":\"\",\"zerolinecolor\":\"#EBF0F8\"},\"zaxis\":{\"backgroundcolor\":\"white\",\"gridcolor\":\"#DFE8F3\",\"gridwidth\":2,\"linecolor\":\"#EBF0F8\",\"showbackground\":true,\"ticks\":\"\",\"zerolinecolor\":\"#EBF0F8\"}},\"shapedefaults\":{\"line\":{\"color\":\"#2a3f5f\"}},\"ternary\":{\"aaxis\":{\"gridcolor\":\"#DFE8F3\",\"linecolor\":\"#A2B1C6\",\"ticks\":\"\"},\"baxis\":{\"gridcolor\":\"#DFE8F3\",\"linecolor\":\"#A2B1C6\",\"ticks\":\"\"},\"bgcolor\":\"white\",\"caxis\":{\"gridcolor\":\"#DFE8F3\",\"linecolor\":\"#A2B1C6\",\"ticks\":\"\"}},\"title\":{\"x\":0.05},\"xaxis\":{\"automargin\":true,\"gridcolor\":\"#EBF0F8\",\"linecolor\":\"#EBF0F8\",\"ticks\":\"\",\"title\":{\"standoff\":15},\"zerolinecolor\":\"#EBF0F8\",\"zerolinewidth\":2},\"yaxis\":{\"automargin\":true,\"gridcolor\":\"#EBF0F8\",\"linecolor\":\"#EBF0F8\",\"ticks\":\"\",\"title\":{\"standoff\":15},\"zerolinecolor\":\"#EBF0F8\",\"zerolinewidth\":2}}},\"xaxis\":{\"anchor\":\"y\",\"domain\":[0.0,0.45],\"title\":{\"text\":\"Date\"}},\"yaxis\":{\"anchor\":\"x\",\"domain\":[0.7777777777777778,1.0],\"title\":{\"text\":\"Value\"}},\"xaxis2\":{\"anchor\":\"y2\",\"domain\":[0.55,1.0]},\"yaxis2\":{\"anchor\":\"x2\",\"domain\":[0.7777777777777778,1.0]},\"xaxis3\":{\"anchor\":\"y3\",\"domain\":[0.0,0.45]},\"yaxis3\":{\"anchor\":\"x3\",\"domain\":[0.3888888888888889,0.6111111111111112]},\"xaxis4\":{\"anchor\":\"y4\",\"domain\":[0.55,1.0]},\"yaxis4\":{\"anchor\":\"x4\",\"domain\":[0.3888888888888889,0.6111111111111112]},\"xaxis5\":{\"anchor\":\"y5\",\"domain\":[0.0,0.45]},\"yaxis5\":{\"anchor\":\"x5\",\"domain\":[0.0,0.22222222222222224]},\"xaxis6\":{\"anchor\":\"y6\",\"domain\":[0.55,1.0]},\"yaxis6\":{\"anchor\":\"x6\",\"domain\":[0.0,0.22222222222222224]},\"annotations\":[{\"font\":{\"size\":16},\"showarrow\":false,\"text\":\"ID: M243\",\"x\":0.225,\"xanchor\":\"center\",\"xref\":\"paper\",\"y\":1.0,\"yanchor\":\"bottom\",\"yref\":\"paper\"},{\"font\":{\"size\":16},\"showarrow\":false,\"text\":\"ID: M4\",\"x\":0.775,\"xanchor\":\"center\",\"xref\":\"paper\",\"y\":1.0,\"yanchor\":\"bottom\",\"yref\":\"paper\"},{\"font\":{\"size\":16},\"showarrow\":false,\"text\":\"ID: M109\",\"x\":0.225,\"xanchor\":\"center\",\"xref\":\"paper\",\"y\":0.6111111111111112,\"yanchor\":\"bottom\",\"yref\":\"paper\"},{\"font\":{\"size\":16},\"showarrow\":false,\"text\":\"ID: M172\",\"x\":0.775,\"xanchor\":\"center\",\"xref\":\"paper\",\"y\":0.6111111111111112,\"yanchor\":\"bottom\",\"yref\":\"paper\"},{\"font\":{\"size\":16},\"showarrow\":false,\"text\":\"ID: M103\",\"x\":0.225,\"xanchor\":\"center\",\"xref\":\"paper\",\"y\":0.22222222222222224,\"yanchor\":\"bottom\",\"yref\":\"paper\"},{\"font\":{\"size\":16},\"showarrow\":false,\"text\":\"ID: M904\",\"x\":0.775,\"xanchor\":\"center\",\"xref\":\"paper\",\"y\":0.22222222222222224,\"yanchor\":\"bottom\",\"yref\":\"paper\"}],\"title\":{\"text\":\"MLP Time Series Forecasting - Predictions vs Actuals\"},\"height\":900,\"width\":1200,\"showlegend\":false},                        {\"responsive\": true}                    ).then(function(){\n",
       "                            \n",
       "var gd = document.getElementById('d104c25c-891b-4eef-98b3-30b1313af086');\n",
       "var x = new MutationObserver(function (mutations, observer) {{\n",
       "        var display = window.getComputedStyle(gd).display;\n",
       "        if (!display || display === 'none') {{\n",
       "            console.log([gd, 'removed!']);\n",
       "            Plotly.purge(gd);\n",
       "            observer.disconnect();\n",
       "        }}\n",
       "}});\n",
       "\n",
       "// Listen for the removal of the full notebook cells\n",
       "var notebookContainer = gd.closest('#notebook-container');\n",
       "if (notebookContainer) {{\n",
       "    x.observe(notebookContainer, {childList: true});\n",
       "}}\n",
       "\n",
       "// Listen for the clearing of the current output cell\n",
       "var outputEl = gd.closest('.output');\n",
       "if (outputEl) {{\n",
       "    x.observe(outputEl, {childList: true});\n",
       "}}\n",
       "\n",
       "                        })                };                });            </script>        </div>"
      ]
     },
     "metadata": {},
     "output_type": "display_data"
    }
   ],
   "source": [
    "import numpy as np\n",
    "import pandas as pd\n",
    "import plotly.graph_objects as go\n",
    "import torch\n",
    "from plotly.subplots import make_subplots\n",
    "\n",
    "# Select 6 random unique_ids\n",
    "unique_ids = df[\"unique_id\"].unique()\n",
    "selected_ids = np.random.choice(unique_ids, 6, replace=False)\n",
    "\n",
    "# Create 3x2 subplot layout\n",
    "fig = make_subplots(rows=3, cols=2, subplot_titles=[f\"ID: {uid}\" for uid in selected_ids])\n",
    "\n",
    "# Process each unique_id separately\n",
    "model.eval()\n",
    "\n",
    "for i, uid in enumerate(selected_ids):\n",
    "    row, col = divmod(i, 2)  # Convert index to subplot grid position (row, col)\n",
    "\n",
    "    # Filter DataFrame for the specific unique_id\n",
    "    subset_df = df[df[\"unique_id\"] == uid].copy()\n",
    "    x_values = subset_df[\"ds\"].values  # Dates\n",
    "    x = subset_df[\"y\"].values  # Target values\n",
    "\n",
    "    # Initialize prediction tensor\n",
    "    y_pred = torch.zeros(len(x))\n",
    "    y_pred[:in_features] = torch.tensor(x[:in_features].tolist())\n",
    "\n",
    "    # Perform iterative predictions\n",
    "    for idx in range(0, len(x) - in_features, window):\n",
    "        x_input = torch.tensor(x[idx : idx + in_features], dtype=torch.float32).unsqueeze(\n",
    "            0\n",
    "        )  # Add batch dimension\n",
    "        y_out = model(x_input).squeeze().detach()  # Run model & remove unnecessary dimensions\n",
    "\n",
    "        # Ensure output fits within bounds\n",
    "        end_idx = min(idx + in_features + out_features, len(y_pred))\n",
    "        y_pred[idx + in_features : end_idx] = y_out[\n",
    "            : end_idx - (idx + in_features)\n",
    "        ]  # Assign predictions carefully\n",
    "\n",
    "    # Convert predictions to NumPy\n",
    "    y_pred = y_pred.numpy()\n",
    "\n",
    "    # Add traces to subplot\n",
    "    fig.add_trace(\n",
    "        go.Scatter(x=x_values, y=x, mode=\"lines\", name=f\"Actual {uid}\"), row=row + 1, col=col + 1\n",
    "    )\n",
    "    fig.add_trace(\n",
    "        go.Scatter(\n",
    "            x=x_values, y=y_pred, mode=\"lines\", name=f\"Predicted {uid}\", line=dict(dash=\"dot\")\n",
    "        ),\n",
    "        row=row + 1,\n",
    "        col=col + 1,\n",
    "    )\n",
    "\n",
    "# Update layout\n",
    "fig.update_layout(\n",
    "    title=\"MLP Time Series Forecasting - Predictions vs Actuals\",\n",
    "    xaxis_title=\"Date\",\n",
    "    yaxis_title=\"Value\",\n",
    "    template=\"plotly_white\",\n",
    "    height=900,\n",
    "    width=1200,\n",
    "    showlegend=False,\n",
    ")\n",
    "\n",
    "fig.show()"
   ]
  },
  {
   "cell_type": "code",
   "execution_count": null,
   "id": "7b54fd5f-7420-47b1-b2e5-4b56ec43f8fe",
   "metadata": {},
   "outputs": [],
   "source": []
  },
  {
   "cell_type": "code",
   "execution_count": null,
   "id": "2862f947-7550-41d8-ba4c-ff99e4958a21",
   "metadata": {},
   "outputs": [],
   "source": []
  }
 ],
 "metadata": {
  "kernelspec": {
   "display_name": "Python 3 (ipykernel)",
   "language": "python",
   "name": "python3"
  },
  "language_info": {
   "codemirror_mode": {
    "name": "ipython",
    "version": 3
   },
   "file_extension": ".py",
   "mimetype": "text/x-python",
   "name": "python",
   "nbconvert_exporter": "python",
   "pygments_lexer": "ipython3",
   "version": "3.12.9"
  }
 },
 "nbformat": 4,
 "nbformat_minor": 5
}
