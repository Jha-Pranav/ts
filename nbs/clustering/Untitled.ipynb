{
 "cells": [
  {
   "cell_type": "code",
   "execution_count": null,
   "id": "24f827a6-d470-4698-a43b-85c07e672ee2",
   "metadata": {},
   "outputs": [],
   "source": []
  }
 ],
 "metadata": {
  "kernelspec": {
   "display_name": "python3",
   "language": "python",
   "name": "python3"
  }
 },
 "nbformat": 4,
 "nbformat_minor": 5
}
