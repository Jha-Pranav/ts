{
 "cells": [
  {
   "cell_type": "code",
   "execution_count": 11,
   "id": "4e5e133f-7e46-4d5c-8de2-eab4c758eedc",
   "metadata": {},
   "outputs": [
    {
     "name": "stdout",
     "output_type": "stream",
     "text": [
      "Starting the flow\n",
      "Running notebook: 00.pre-process.ipynb\n"
     ]
    },
    {
     "data": {
      "application/vnd.jupyter.widget-view+json": {
       "model_id": "c65c79d90eaa48fa844e5e394b196d2c",
       "version_major": 2,
       "version_minor": 0
      },
      "text/plain": [
       "Executing:   0%|          | 0/3 [00:00<?, ?cell/s]"
      ]
     },
     "metadata": {},
     "output_type": "display_data"
    },
    {
     "name": "stdout",
     "output_type": "stream",
     "text": [
      "✅ Done: 00.pre-process.ipynb\n",
      "Running notebook: 03.post-processing.ipynb\n"
     ]
    },
    {
     "data": {
      "application/vnd.jupyter.widget-view+json": {
       "model_id": "c5777e91d208490794a2216e198fd241",
       "version_major": 2,
       "version_minor": 0
      },
      "text/plain": [
       "Executing:   0%|          | 0/3 [00:00<?, ?cell/s]"
      ]
     },
     "metadata": {},
     "output_type": "display_data"
    },
    {
     "name": "stdout",
     "output_type": "stream",
     "text": [
      "✅ Done: 03.post-processing.ipynb\n",
      "Flow has completed successfully!\n"
     ]
    }
   ],
   "source": [
    "import papermill as pm\n",
    "\n",
    "\n",
    "def run_notebook(input_notebook, output_notebook=None, parameters=None):\n",
    "    \"\"\"\n",
    "    Utility function to execute a notebook with papermill.\n",
    "\n",
    "    Args:\n",
    "        input_notebook (str): Path to the input notebook.\n",
    "        output_notebook (str): Path where the output notebook should be saved.\n",
    "        parameters (dict, optional): Parameters to pass into the notebook.\n",
    "    \"\"\"\n",
    "    try:\n",
    "        print(f\"Running notebook: {input_notebook}\")\n",
    "        pm.execute_notebook(input_notebook, output_notebook, parameters=parameters or {})\n",
    "        print(f\"✅ Done: {input_notebook}\")\n",
    "    except Exception as e:\n",
    "        print(f\"Error occurred during notebook execution: {str(e)}\")\n",
    "        raise e\n",
    "\n",
    "\n",
    "def main():\n",
    "    print(\"Starting the flow\")\n",
    "\n",
    "    run_notebook(\"00.pre-process.ipynb\")  # , 'executed/00.pre-process.ipynb')\n",
    "\n",
    "    run_notebook(\"03.post-processing.ipynb\")  # , 'executed/03.post-processing.ipynb')\n",
    "\n",
    "    # Final step after all notebooks have been run\n",
    "    print(\"Flow has completed successfully!\")\n",
    "\n",
    "\n",
    "if __name__ == \"__main__\":\n",
    "    main()"
   ]
  },
  {
   "cell_type": "code",
   "execution_count": 13,
   "id": "adb05a7c-738b-4d71-a6fb-848b222b1f9c",
   "metadata": {},
   "outputs": [],
   "source": [
    "## Parallel execution"
   ]
  },
  {
   "cell_type": "code",
   "execution_count": 12,
   "id": "18f81966-239e-4f68-95f4-bef611e60329",
   "metadata": {},
   "outputs": [
    {
     "name": "stdout",
     "output_type": "stream",
     "text": [
      "Running notebook: 00.pre-process.ipynbRunning notebook: 03.post-processing.ipynb\n",
      "\n"
     ]
    },
    {
     "data": {
      "application/vnd.jupyter.widget-view+json": {
       "model_id": "c2157a15730b418096b3521b7b8b29fe",
       "version_major": 2,
       "version_minor": 0
      },
      "text/plain": [
       "Executing:   0%|          | 0/3 [00:00<?, ?cell/s]"
      ]
     },
     "metadata": {},
     "output_type": "display_data"
    },
    {
     "data": {
      "application/vnd.jupyter.widget-view+json": {
       "model_id": "132376107e504191a812157a902efc06",
       "version_major": 2,
       "version_minor": 0
      },
      "text/plain": [
       "Executing:   0%|          | 0/3 [00:00<?, ?cell/s]"
      ]
     },
     "metadata": {},
     "output_type": "display_data"
    },
    {
     "name": "stdout",
     "output_type": "stream",
     "text": [
      "✅ Done: 03.post-processing.ipynb\n",
      "✅ Done: 00.pre-process.ipynb\n",
      "Flow has completed successfully!\n"
     ]
    }
   ],
   "source": [
    "# import papermill as pm\n",
    "# from concurrent.futures import ThreadPoolExecutor, as_completed\n",
    "\n",
    "# def run_notebook(input_notebook, parameters=None):\n",
    "#     \"\"\"\n",
    "#     Executes a notebook without saving the output.\n",
    "\n",
    "#     Args:\n",
    "#         input_notebook (str): Path to the input notebook.\n",
    "#         parameters (dict, optional): Parameters to pass into the notebook.\n",
    "#     \"\"\"\n",
    "#     try:\n",
    "#         print(f\"Running notebook: {input_notebook}\")\n",
    "#         pm.execute_notebook(input_notebook, input_notebook, parameters=parameters or {})\n",
    "#         print(f\"✅ Done: {input_notebook}\")\n",
    "#     except Exception as e:\n",
    "#         print(f\"Error occurred during notebook execution: {str(e)}\")\n",
    "#         raise e\n",
    "\n",
    "# def main():\n",
    "#     # List of notebooks to run\n",
    "#     notebooks = [\n",
    "#         '00.pre-process.ipynb',\n",
    "#         # '01.feature-engineering.ipynb',\n",
    "#         # '02.model-training.ipynb',\n",
    "#         '03.post-processing.ipynb'\n",
    "#     ]\n",
    "\n",
    "#     # Using ThreadPoolExecutor to run notebooks in parallel\n",
    "#     with ThreadPoolExecutor(max_workers=4) as executor:\n",
    "#         futures = [executor.submit(run_notebook, notebook) for notebook in notebooks]\n",
    "\n",
    "#         # Wait for all futures to complete\n",
    "#         for future in as_completed(futures):\n",
    "#             future.result()  # If any exceptions were raised, it will be propagated here\n",
    "\n",
    "#     print(\"Flow has completed successfully!\")\n",
    "\n",
    "# if __name__ == \"__main__\":\n",
    "#     main()"
   ]
  },
  {
   "cell_type": "code",
   "execution_count": null,
   "id": "03d6fa02-38ba-42c2-b3d8-9ce115c70763",
   "metadata": {},
   "outputs": [],
   "source": []
  }
 ],
 "metadata": {
  "kernelspec": {
   "display_name": "Python 3 (ipykernel)",
   "language": "python",
   "name": "python3"
  },
  "language_info": {
   "codemirror_mode": {
    "name": "ipython",
    "version": 3
   },
   "file_extension": ".py",
   "mimetype": "text/x-python",
   "name": "python",
   "nbconvert_exporter": "python",
   "pygments_lexer": "ipython3",
   "version": "3.12.9"
  }
 },
 "nbformat": 4,
 "nbformat_minor": 5
}
