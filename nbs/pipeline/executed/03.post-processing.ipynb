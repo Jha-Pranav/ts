{
 "cells": [
  {
   "cell_type": "code",
   "execution_count": 1,
   "id": "89005aa2-49c1-4377-a9eb-b15dab5cbf2f",
   "metadata": {
    "execution": {
     "iopub.execute_input": "2025-05-02T11:27:00.228014Z",
     "iopub.status.busy": "2025-05-02T11:27:00.227513Z",
     "iopub.status.idle": "2025-05-02T11:27:01.104573Z",
     "shell.execute_reply": "2025-05-02T11:27:01.104264Z"
    },
    "papermill": {
     "duration": 0.879366,
     "end_time": "2025-05-02T11:27:01.105384",
     "exception": false,
     "start_time": "2025-05-02T11:27:00.226018",
     "status": "completed"
    },
    "tags": []
   },
   "outputs": [],
   "source": [
    "import json\n",
    "\n",
    "import pandas as pd\n",
    "import torch\n",
    "from tqdm import tqdm\n",
    "\n",
    "\n",
    "def invert_scaling_torch(\n",
    "    scaled_series: torch.Tensor, uid: str, stats_dict: dict, device=\"cpu\"\n",
    ") -> torch.Tensor:\n",
    "    scaler_info = stats_dict.get(uid)\n",
    "    if not scaler_info:\n",
    "        raise ValueError(f\"No scaler info found for unique_id '{uid}'\")\n",
    "\n",
    "    scaled_series = scaled_series.to(device)\n",
    "\n",
    "    if scaler_info[\"type\"] == \"minmax\":\n",
    "        min_val = torch.tensor(scaler_info[\"min\"], dtype=torch.float32, device=device)\n",
    "        max_val = torch.tensor(scaler_info[\"max\"], dtype=torch.float32, device=device)\n",
    "        return scaled_series * (max_val - min_val + 1e-8) + min_val\n",
    "\n",
    "    elif scaler_info[\"type\"] == \"standard\":\n",
    "        mean = torch.tensor(scaler_info[\"mean\"], dtype=torch.float32, device=device)\n",
    "        std = torch.tensor(scaler_info[\"std\"], dtype=torch.float32, device=device)\n",
    "        return scaled_series * (std + 1e-8) + mean\n",
    "\n",
    "    else:\n",
    "        raise ValueError(f\"Unknown scaler type: {scaler_info['type']}\")"
   ]
  },
  {
   "cell_type": "code",
   "execution_count": 2,
   "id": "2b5da1ee-6823-446c-b339-8689b9d22b6e",
   "metadata": {
    "execution": {
     "iopub.execute_input": "2025-05-02T11:27:01.116529Z",
     "iopub.status.busy": "2025-05-02T11:27:01.116361Z",
     "iopub.status.idle": "2025-05-02T11:27:01.491480Z",
     "shell.execute_reply": "2025-05-02T11:27:01.491256Z"
    },
    "papermill": {
     "duration": 0.386302,
     "end_time": "2025-05-02T11:27:01.492626",
     "exception": false,
     "start_time": "2025-05-02T11:27:01.106324",
     "status": "completed"
    },
    "tags": []
   },
   "outputs": [
    {
     "name": "stderr",
     "output_type": "stream",
     "text": [
      "\r",
      "Inverting:   0%|          | 0/1428 [00:00<?, ?it/s]"
     ]
    },
    {
     "name": "stderr",
     "output_type": "stream",
     "text": [
      "\r",
      "Inverting:   0%|          | 1/1428 [00:00<02:23,  9.92it/s]"
     ]
    },
    {
     "name": "stderr",
     "output_type": "stream",
     "text": [
      "\r",
      "Inverting:  42%|████▏     | 600/1428 [00:00<00:00, 3516.12it/s]"
     ]
    },
    {
     "name": "stderr",
     "output_type": "stream",
     "text": [
      "\r",
      "Inverting:  84%|████████▍ | 1205/1428 [00:00<00:00, 4668.81it/s]"
     ]
    },
    {
     "name": "stderr",
     "output_type": "stream",
     "text": [
      "\r",
      "Inverting: 100%|██████████| 1428/1428 [00:00<00:00, 4220.31it/s]"
     ]
    },
    {
     "name": "stdout",
     "output_type": "stream",
     "text": [
      "CPU times: user 290 ms, sys: 64.3 ms, total: 354 ms\n",
      "Wall time: 373 ms\n"
     ]
    },
    {
     "name": "stderr",
     "output_type": "stream",
     "text": [
      "\n"
     ]
    }
   ],
   "source": [
    "%%time\n",
    "# Load scaler stats\n",
    "with open(\"artifacts/scalers.json\", \"r\") as f:\n",
    "    stats_dict = json.load(f)\n",
    "\n",
    "# Load scaled data\n",
    "scaled_df = pd.read_parquet(\"data/intermediate/m3-monthly_scaled.parquet\")\n",
    "device = \"cuda\" if torch.cuda.is_available() else \"cpu\"\n",
    "\n",
    "# Initialize an empty Series to collect results\n",
    "inverted_series = pd.Series(index=scaled_df.index, dtype=float)\n",
    "\n",
    "# Loop through each group with tqdm\n",
    "for uid, group in tqdm(scaled_df.groupby(\"unique_id\", sort=False), desc=\"Inverting\"):\n",
    "    scaled_tensor = torch.tensor(group[\"y_scaled\"].values, dtype=torch.float32)\n",
    "    inverted_tensor = invert_scaling_torch(scaled_tensor, uid, stats_dict, device=device)\n",
    "    inverted_series.loc[group.index] = inverted_tensor.cpu().numpy()\n",
    "\n",
    "# Assign back to DataFrame\n",
    "scaled_df[\"y_inverted\"] = inverted_series"
   ]
  },
  {
   "cell_type": "code",
   "execution_count": null,
   "id": "4da0c221-12ec-455f-a26b-4cd0bd22fdc8",
   "metadata": {
    "papermill": {
     "duration": 0.00931,
     "end_time": "2025-05-02T11:27:01.503407",
     "exception": false,
     "start_time": "2025-05-02T11:27:01.494097",
     "status": "completed"
    },
    "tags": []
   },
   "outputs": [],
   "source": []
  }
 ],
 "metadata": {
  "kernelspec": {
   "display_name": "Python 3 (ipykernel)",
   "language": "python",
   "name": "python3"
  },
  "language_info": {
   "codemirror_mode": {
    "name": "ipython",
    "version": 3
   },
   "file_extension": ".py",
   "mimetype": "text/x-python",
   "name": "python",
   "nbconvert_exporter": "python",
   "pygments_lexer": "ipython3",
   "version": "3.12.9"
  },
  "papermill": {
   "default_parameters": {},
   "duration": 2.28803,
   "end_time": "2025-05-02T11:27:01.820691",
   "environment_variables": {},
   "exception": null,
   "input_path": "03.post-processing.ipynb",
   "output_path": "executed/03.post-processing.ipynb",
   "parameters": {},
   "start_time": "2025-05-02T11:26:59.532661",
   "version": "2.6.0"
  }
 },
 "nbformat": 4,
 "nbformat_minor": 5
}
