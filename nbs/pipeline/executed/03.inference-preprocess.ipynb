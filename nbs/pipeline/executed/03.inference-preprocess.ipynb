{
 "cells": [
  {
   "cell_type": "code",
   "execution_count": 1,
   "id": "05528fd3-6ddd-4e3c-bce6-f8a2736fb3b5",
   "metadata": {
    "execution": {
     "iopub.execute_input": "2025-05-02T19:28:26.506999Z",
     "iopub.status.busy": "2025-05-02T19:28:26.506794Z",
     "iopub.status.idle": "2025-05-02T19:28:26.735388Z",
     "shell.execute_reply": "2025-05-02T19:28:26.734934Z"
    },
    "papermill": {
     "duration": 0.230955,
     "end_time": "2025-05-02T19:28:26.736173",
     "exception": false,
     "start_time": "2025-05-02T19:28:26.505218",
     "status": "completed"
    },
    "tags": []
   },
   "outputs": [],
   "source": [
    "import pandas as pd\n",
    "\n",
    "df = pd.read_parquet(\"data/intermediate/m3-monthly_scaled.parquet\")"
   ]
  },
  {
   "cell_type": "code",
   "execution_count": 2,
   "id": "55436b52-e4db-4a08-875c-87dccbcae528",
   "metadata": {
    "execution": {
     "iopub.execute_input": "2025-05-02T19:28:26.738694Z",
     "iopub.status.busy": "2025-05-02T19:28:26.738554Z",
     "iopub.status.idle": "2025-05-02T19:28:26.740526Z",
     "shell.execute_reply": "2025-05-02T19:28:26.740322Z"
    },
    "papermill": {
     "duration": 0.003517,
     "end_time": "2025-05-02T19:28:26.740950",
     "exception": false,
     "start_time": "2025-05-02T19:28:26.737433",
     "status": "completed"
    },
    "tags": []
   },
   "outputs": [],
   "source": [
    "horizon = 12  # <-- FORECAST HORIZON\n",
    "input_size = horizon * 5"
   ]
  },
  {
   "cell_type": "code",
   "execution_count": 3,
   "id": "21dbb911-d96b-4cfd-b349-c717f8c4143b",
   "metadata": {
    "execution": {
     "iopub.execute_input": "2025-05-02T19:28:26.742681Z",
     "iopub.status.busy": "2025-05-02T19:28:26.742599Z",
     "iopub.status.idle": "2025-05-02T19:28:26.970074Z",
     "shell.execute_reply": "2025-05-02T19:28:26.969804Z"
    },
    "papermill": {
     "duration": 0.229336,
     "end_time": "2025-05-02T19:28:26.971045",
     "exception": false,
     "start_time": "2025-05-02T19:28:26.741709",
     "status": "completed"
    },
    "tags": []
   },
   "outputs": [
    {
     "name": "stderr",
     "output_type": "stream",
     "text": [
      "/tmp/ipykernel_267928/1654867668.py:17: DeprecationWarning: DataFrameGroupBy.apply operated on the grouping columns. This behavior is deprecated, and in a future version of pandas the grouping columns will be excluded from the operation. Either pass `include_groups=False` to exclude the groupings or explicitly select the grouping columns after groupby to silence this warning.\n",
      "  infer_df = df.groupby(\"unique_id\").apply(extract_series).dropna()\n"
     ]
    }
   ],
   "source": [
    "# Step 1: Extract time series windows\n",
    "\n",
    "\n",
    "def extract_series(df_):\n",
    "    if len(df_) < input_size + horizon:\n",
    "        return None\n",
    "    df_ = df_.sort_values(\"ds\")\n",
    "    return pd.Series(\n",
    "        {\n",
    "            \"X\": df_[\"y_scaled\"].iloc[-(input_size + horizon) : -horizon].values.astype(\"float32\"),\n",
    "            \"y\": df_[\"y_scaled\"].iloc[-horizon:].values.astype(\"float32\"),\n",
    "            \"ds\": df_[\"ds\"].iloc[-horizon:].values,\n",
    "        }\n",
    "    )\n",
    "\n",
    "\n",
    "infer_df = df.groupby(\"unique_id\").apply(extract_series).dropna()\n",
    "infer_df.to_parquet(\"data/intermediate/m3-monthly_inference_preprocessed.parquet\")"
   ]
  },
  {
   "cell_type": "code",
   "execution_count": 4,
   "id": "7462b56e-8a91-4658-b8e4-58fa16bc97ca",
   "metadata": {
    "execution": {
     "iopub.execute_input": "2025-05-02T19:28:26.975116Z",
     "iopub.status.busy": "2025-05-02T19:28:26.975030Z",
     "iopub.status.idle": "2025-05-02T19:28:27.780252Z",
     "shell.execute_reply": "2025-05-02T19:28:27.779931Z"
    },
    "papermill": {
     "duration": 0.808381,
     "end_time": "2025-05-02T19:28:27.781482",
     "exception": false,
     "start_time": "2025-05-02T19:28:26.973101",
     "status": "completed"
    },
    "tags": []
   },
   "outputs": [],
   "source": [
    "import numpy as np\n",
    "import torch\n",
    "\n",
    "device = \"cuda\"\n",
    "X_scaled = infer_df[\"X\"].values\n",
    "X_tensor = torch.tensor(np.stack(X_scaled), dtype=torch.float32, device=device)"
   ]
  },
  {
   "cell_type": "code",
   "execution_count": null,
   "id": "a75949e8-c9de-4f2c-a8cb-9ce72ddce028",
   "metadata": {
    "papermill": {
     "duration": 0.001341,
     "end_time": "2025-05-02T19:28:27.785267",
     "exception": false,
     "start_time": "2025-05-02T19:28:27.783926",
     "status": "completed"
    },
    "tags": []
   },
   "outputs": [],
   "source": []
  }
 ],
 "metadata": {
  "kernelspec": {
   "display_name": "Python 3 (ipykernel)",
   "language": "python",
   "name": "python3"
  },
  "language_info": {
   "codemirror_mode": {
    "name": "ipython",
    "version": 3
   },
   "file_extension": ".py",
   "mimetype": "text/x-python",
   "name": "python",
   "nbconvert_exporter": "python",
   "pygments_lexer": "ipython3",
   "version": "3.12.9"
  },
  "papermill": {
   "default_parameters": {},
   "duration": 2.287086,
   "end_time": "2025-05-02T19:28:28.101465",
   "environment_variables": {},
   "exception": null,
   "input_path": "03.inference-preprocess.ipynb",
   "output_path": "executed/03.inference-preprocess.ipynb",
   "parameters": {},
   "start_time": "2025-05-02T19:28:25.814379",
   "version": "2.6.0"
  }
 },
 "nbformat": 4,
 "nbformat_minor": 5
}
