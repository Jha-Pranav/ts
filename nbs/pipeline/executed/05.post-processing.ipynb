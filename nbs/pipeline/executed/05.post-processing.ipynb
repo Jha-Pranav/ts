{
 "cells": [
  {
   "cell_type": "code",
   "execution_count": 1,
   "id": "89005aa2-49c1-4377-a9eb-b15dab5cbf2f",
   "metadata": {
    "execution": {
     "iopub.execute_input": "2025-05-02T19:00:47.423302Z",
     "iopub.status.busy": "2025-05-02T19:00:47.423142Z",
     "iopub.status.idle": "2025-05-02T19:00:48.325850Z",
     "shell.execute_reply": "2025-05-02T19:00:48.325280Z"
    },
    "papermill": {
     "duration": 0.905295,
     "end_time": "2025-05-02T19:00:48.326888",
     "exception": false,
     "start_time": "2025-05-02T19:00:47.421593",
     "status": "completed"
    },
    "tags": []
   },
   "outputs": [],
   "source": [
    "import json\n",
    "\n",
    "import pandas as pd\n",
    "import torch\n",
    "from tqdm import tqdm\n",
    "\n",
    "\n",
    "def invert_scaling_torch(\n",
    "    scaled_series: torch.Tensor, uid: str, stats_dict: dict, device=\"cpu\"\n",
    ") -> torch.Tensor:\n",
    "    scaler_info = stats_dict.get(uid)\n",
    "    if not scaler_info:\n",
    "        raise ValueError(f\"No scaler info found for unique_id '{uid}'\")\n",
    "\n",
    "    scaled_series = scaled_series.to(device)\n",
    "\n",
    "    if scaler_info[\"type\"] == \"minmax\":\n",
    "        min_val = torch.tensor(scaler_info[\"min\"], dtype=torch.float32, device=device)\n",
    "        max_val = torch.tensor(scaler_info[\"max\"], dtype=torch.float32, device=device)\n",
    "        return scaled_series * (max_val - min_val + 1e-8) + min_val\n",
    "\n",
    "    elif scaler_info[\"type\"] == \"standard\":\n",
    "        mean = torch.tensor(scaler_info[\"mean\"], dtype=torch.float32, device=device)\n",
    "        std = torch.tensor(scaler_info[\"std\"], dtype=torch.float32, device=device)\n",
    "        return scaled_series * (std + 1e-8) + mean\n",
    "\n",
    "    else:\n",
    "        raise ValueError(f\"Unknown scaler type: {scaler_info['type']}\")"
   ]
  },
  {
   "cell_type": "code",
   "execution_count": 2,
   "id": "2b5da1ee-6823-446c-b339-8689b9d22b6e",
   "metadata": {
    "execution": {
     "iopub.execute_input": "2025-05-02T19:00:48.337966Z",
     "iopub.status.busy": "2025-05-02T19:00:48.337771Z",
     "iopub.status.idle": "2025-05-02T19:00:48.793132Z",
     "shell.execute_reply": "2025-05-02T19:00:48.792843Z"
    },
    "papermill": {
     "duration": 0.465645,
     "end_time": "2025-05-02T19:00:48.793708",
     "exception": false,
     "start_time": "2025-05-02T19:00:48.328063",
     "status": "completed"
    },
    "tags": []
   },
   "outputs": [
    {
     "name": "stderr",
     "output_type": "stream",
     "text": [
      "\r",
      "Inverting:   0%|          | 0/1108 [00:00<?, ?it/s]"
     ]
    },
    {
     "name": "stderr",
     "output_type": "stream",
     "text": [
      "\r",
      "Inverting:   3%|▎         | 33/1108 [00:00<00:03, 329.95it/s]"
     ]
    },
    {
     "name": "stderr",
     "output_type": "stream",
     "text": [
      "\r",
      "Inverting:  32%|███▏      | 350/1108 [00:00<00:00, 1998.54it/s]"
     ]
    },
    {
     "name": "stderr",
     "output_type": "stream",
     "text": [
      "\r",
      "Inverting:  62%|██████▏   | 690/1108 [00:00<00:00, 2637.85it/s]"
     ]
    },
    {
     "name": "stderr",
     "output_type": "stream",
     "text": [
      "\r",
      "Inverting:  93%|█████████▎| 1029/1108 [00:00<00:00, 2931.96it/s]"
     ]
    },
    {
     "name": "stderr",
     "output_type": "stream",
     "text": [
      "\r",
      "Inverting: 100%|██████████| 1108/1108 [00:00<00:00, 2610.35it/s]"
     ]
    },
    {
     "name": "stderr",
     "output_type": "stream",
     "text": [
      "\n"
     ]
    }
   ],
   "source": [
    "# Load scaler stats\n",
    "with open(\"artifacts/scalers.json\", \"r\") as f:\n",
    "    stats_dict = json.load(f)\n",
    "\n",
    "# Load scaled data\n",
    "scaled_df = pd.read_parquet(\"data/intermediate/m3-monthly_scaled_forecast.parquet\")\n",
    "device = \"cuda\" if torch.cuda.is_available() else \"cpu\"\n",
    "\n",
    "# Initialize an empty Series to collect results\n",
    "y_inverted_series = pd.Series(index=scaled_df.index, dtype=float)\n",
    "yhat_inverted_series = pd.Series(index=scaled_df.index, dtype=float)\n",
    "# Loop through each group with tqdm\n",
    "for uid, group in tqdm(scaled_df.groupby(\"unique_id\", sort=False), desc=\"Inverting\"):\n",
    "    scaled_tensor = torch.tensor(group[\"y_scaled\"].values, dtype=torch.float32)\n",
    "    inverted_tensor = invert_scaling_torch(scaled_tensor, uid, stats_dict, device=device)\n",
    "    y_inverted_series.loc[group.index] = inverted_tensor.cpu().numpy()\n",
    "\n",
    "    scaled_tensor = torch.tensor(group[\"yhat_scaled\"].values, dtype=torch.float32)\n",
    "    inverted_tensor = invert_scaling_torch(scaled_tensor, uid, stats_dict, device=device)\n",
    "    yhat_inverted_series.loc[group.index] = inverted_tensor.cpu().numpy()\n",
    "\n",
    "# Assign back to DataFrame\n",
    "scaled_df[\"y\"] = y_inverted_series\n",
    "scaled_df[\"yhat\"] = yhat_inverted_series\n",
    "scaled_df.to_parquet(\"data/output/m3-monthly_forecast.parquet\")"
   ]
  },
  {
   "cell_type": "code",
   "execution_count": null,
   "id": "4da0c221-12ec-455f-a26b-4cd0bd22fdc8",
   "metadata": {
    "papermill": {
     "duration": 0.000982,
     "end_time": "2025-05-02T19:00:48.795970",
     "exception": false,
     "start_time": "2025-05-02T19:00:48.794988",
     "status": "completed"
    },
    "tags": []
   },
   "outputs": [],
   "source": []
  },
  {
   "cell_type": "code",
   "execution_count": null,
   "id": "e58a2d31-3283-463c-9e73-ad148fe10dba",
   "metadata": {
    "papermill": {
     "duration": 0.000769,
     "end_time": "2025-05-02T19:00:48.797577",
     "exception": false,
     "start_time": "2025-05-02T19:00:48.796808",
     "status": "completed"
    },
    "tags": []
   },
   "outputs": [],
   "source": []
  }
 ],
 "metadata": {
  "kernelspec": {
   "display_name": "Python 3 (ipykernel)",
   "language": "python",
   "name": "python3"
  },
  "language_info": {
   "codemirror_mode": {
    "name": "ipython",
    "version": 3
   },
   "file_extension": ".py",
   "mimetype": "text/x-python",
   "name": "python",
   "nbconvert_exporter": "python",
   "pygments_lexer": "ipython3",
   "version": "3.12.9"
  },
  "papermill": {
   "default_parameters": {},
   "duration": 2.39991,
   "end_time": "2025-05-02T19:00:49.112880",
   "environment_variables": {},
   "exception": null,
   "input_path": "05.post-processing.ipynb",
   "output_path": "executed/05.post-processing.ipynb",
   "parameters": {},
   "start_time": "2025-05-02T19:00:46.712970",
   "version": "2.6.0"
  }
 },
 "nbformat": 4,
 "nbformat_minor": 5
}
