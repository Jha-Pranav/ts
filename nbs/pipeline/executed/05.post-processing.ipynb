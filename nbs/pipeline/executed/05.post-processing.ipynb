{
 "cells": [
  {
   "cell_type": "code",
   "execution_count": 1,
   "id": "89005aa2-49c1-4377-a9eb-b15dab5cbf2f",
   "metadata": {
    "execution": {
     "iopub.execute_input": "2025-05-02T19:28:32.942614Z",
     "iopub.status.busy": "2025-05-02T19:28:32.942475Z",
     "iopub.status.idle": "2025-05-02T19:28:33.870014Z",
     "shell.execute_reply": "2025-05-02T19:28:33.869438Z"
    },
    "papermill": {
     "duration": 0.929869,
     "end_time": "2025-05-02T19:28:33.870861",
     "exception": false,
     "start_time": "2025-05-02T19:28:32.940992",
     "status": "completed"
    },
    "tags": []
   },
   "outputs": [],
   "source": [
    "import json\n",
    "\n",
    "import pandas as pd\n",
    "import torch\n",
    "from tqdm import tqdm\n",
    "\n",
    "\n",
    "def invert_scaling_torch(\n",
    "    scaled_series: torch.Tensor, uid: str, stats_dict: dict, device=\"cpu\"\n",
    ") -> torch.Tensor:\n",
    "    scaler_info = stats_dict.get(uid)\n",
    "    if not scaler_info:\n",
    "        raise ValueError(f\"No scaler info found for unique_id '{uid}'\")\n",
    "\n",
    "    scaled_series = scaled_series.to(device)\n",
    "\n",
    "    if scaler_info[\"type\"] == \"minmax\":\n",
    "        min_val = torch.tensor(scaler_info[\"min\"], dtype=torch.float32, device=device)\n",
    "        max_val = torch.tensor(scaler_info[\"max\"], dtype=torch.float32, device=device)\n",
    "        return scaled_series * (max_val - min_val + 1e-8) + min_val\n",
    "\n",
    "    elif scaler_info[\"type\"] == \"standard\":\n",
    "        mean = torch.tensor(scaler_info[\"mean\"], dtype=torch.float32, device=device)\n",
    "        std = torch.tensor(scaler_info[\"std\"], dtype=torch.float32, device=device)\n",
    "        return scaled_series * (std + 1e-8) + mean\n",
    "\n",
    "    else:\n",
    "        raise ValueError(f\"Unknown scaler type: {scaler_info['type']}\")"
   ]
  },
  {
   "cell_type": "code",
   "execution_count": 2,
   "id": "2b5da1ee-6823-446c-b339-8689b9d22b6e",
   "metadata": {
    "execution": {
     "iopub.execute_input": "2025-05-02T19:28:33.881881Z",
     "iopub.status.busy": "2025-05-02T19:28:33.881742Z",
     "iopub.status.idle": "2025-05-02T19:28:34.330439Z",
     "shell.execute_reply": "2025-05-02T19:28:34.330108Z"
    },
    "papermill": {
     "duration": 0.458852,
     "end_time": "2025-05-02T19:28:34.330889",
     "exception": false,
     "start_time": "2025-05-02T19:28:33.872037",
     "status": "completed"
    },
    "tags": []
   },
   "outputs": [
    {
     "name": "stderr",
     "output_type": "stream",
     "text": [
      "\r",
      "Inverting:   0%|          | 0/1108 [00:00<?, ?it/s]"
     ]
    },
    {
     "name": "stderr",
     "output_type": "stream",
     "text": [
      "\r",
      "Inverting:   5%|▍         | 55/1108 [00:00<00:01, 549.73it/s]"
     ]
    },
    {
     "name": "stderr",
     "output_type": "stream",
     "text": [
      "\r",
      "Inverting:  35%|███▌      | 388/1108 [00:00<00:00, 2184.29it/s]"
     ]
    },
    {
     "name": "stderr",
     "output_type": "stream",
     "text": [
      "\r",
      "Inverting:  65%|██████▌   | 721/1108 [00:00<00:00, 2705.56it/s]"
     ]
    },
    {
     "name": "stderr",
     "output_type": "stream",
     "text": [
      "\r",
      "Inverting:  95%|█████████▌| 1054/1108 [00:00<00:00, 2951.77it/s]"
     ]
    },
    {
     "name": "stderr",
     "output_type": "stream",
     "text": [
      "\r",
      "Inverting: 100%|██████████| 1108/1108 [00:00<00:00, 2658.56it/s]"
     ]
    },
    {
     "name": "stderr",
     "output_type": "stream",
     "text": [
      "\n"
     ]
    }
   ],
   "source": [
    "# Load scaler stats\n",
    "with open(\"artifacts/scalers.json\", \"r\") as f:\n",
    "    stats_dict = json.load(f)\n",
    "\n",
    "# Load scaled data\n",
    "scaled_df = pd.read_parquet(\"data/intermediate/m5_scaled_forecast.parquet\")\n",
    "device = \"cuda\" if torch.cuda.is_available() else \"cpu\"\n",
    "\n",
    "# Initialize an empty Series to collect results\n",
    "y_inverted_series = pd.Series(index=scaled_df.index, dtype=float)\n",
    "yhat_inverted_series = pd.Series(index=scaled_df.index, dtype=float)\n",
    "# Loop through each group with tqdm\n",
    "for uid, group in tqdm(scaled_df.groupby(\"unique_id\", sort=False), desc=\"Inverting\"):\n",
    "    scaled_tensor = torch.tensor(group[\"y_scaled\"].values, dtype=torch.float32)\n",
    "    inverted_tensor = invert_scaling_torch(scaled_tensor, uid, stats_dict, device=device)\n",
    "    y_inverted_series.loc[group.index] = inverted_tensor.cpu().numpy()\n",
    "\n",
    "    scaled_tensor = torch.tensor(group[\"yhat_scaled\"].values, dtype=torch.float32)\n",
    "    inverted_tensor = invert_scaling_torch(scaled_tensor, uid, stats_dict, device=device)\n",
    "    yhat_inverted_series.loc[group.index] = inverted_tensor.cpu().numpy()\n",
    "\n",
    "# Assign back to DataFrame\n",
    "scaled_df[\"y\"] = y_inverted_series\n",
    "scaled_df[\"yhat\"] = yhat_inverted_series\n",
    "scaled_df.to_parquet(\"data/output/m5_forecast.parquet\")"
   ]
  },
  {
   "cell_type": "code",
   "execution_count": null,
   "id": "4da0c221-12ec-455f-a26b-4cd0bd22fdc8",
   "metadata": {
    "papermill": {
     "duration": 0.006563,
     "end_time": "2025-05-02T19:28:34.338686",
     "exception": false,
     "start_time": "2025-05-02T19:28:34.332123",
     "status": "completed"
    },
    "tags": []
   },
   "outputs": [],
   "source": []
  },
  {
   "cell_type": "code",
   "execution_count": null,
   "id": "e58a2d31-3283-463c-9e73-ad148fe10dba",
   "metadata": {
    "papermill": {
     "duration": 0.000712,
     "end_time": "2025-05-02T19:28:34.340376",
     "exception": false,
     "start_time": "2025-05-02T19:28:34.339664",
     "status": "completed"
    },
    "tags": []
   },
   "outputs": [],
   "source": []
  }
 ],
 "metadata": {
  "kernelspec": {
   "display_name": "Python 3 (ipykernel)",
   "language": "python",
   "name": "python3"
  },
  "language_info": {
   "codemirror_mode": {
    "name": "ipython",
    "version": 3
   },
   "file_extension": ".py",
   "mimetype": "text/x-python",
   "name": "python",
   "nbconvert_exporter": "python",
   "pygments_lexer": "ipython3",
   "version": "3.12.9"
  },
  "papermill": {
   "default_parameters": {},
   "duration": 2.27449,
   "end_time": "2025-05-02T19:28:34.656026",
   "environment_variables": {},
   "exception": null,
   "input_path": "05.post-processing.ipynb",
   "output_path": "executed/05.post-processing.ipynb",
   "parameters": {},
   "start_time": "2025-05-02T19:28:32.381536",
   "version": "2.6.0"
  }
 },
 "nbformat": 4,
 "nbformat_minor": 5
}
