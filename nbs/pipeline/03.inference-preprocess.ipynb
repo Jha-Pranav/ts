{
 "cells": [
  {
   "cell_type": "code",
   "execution_count": 4,
   "id": "05528fd3-6ddd-4e3c-bce6-f8a2736fb3b5",
   "metadata": {},
   "outputs": [],
   "source": [
    "import pandas as pd\n",
    "\n",
    "df = pd.read_parquet(\"data/intermediate/m3-monthly_scaled.parquet\")"
   ]
  },
  {
   "cell_type": "code",
   "execution_count": 5,
   "id": "55436b52-e4db-4a08-875c-87dccbcae528",
   "metadata": {},
   "outputs": [],
   "source": [
    "horizon = 12  # <-- FORECAST HORIZON\n",
    "input_size = horizon * 5"
   ]
  },
  {
   "cell_type": "code",
   "execution_count": 16,
   "id": "21dbb911-d96b-4cfd-b349-c717f8c4143b",
   "metadata": {},
   "outputs": [
    {
     "name": "stderr",
     "output_type": "stream",
     "text": [
      "/tmp/ipykernel_166908/652466577.py:15: DeprecationWarning: DataFrameGroupBy.apply operated on the grouping columns. This behavior is deprecated, and in a future version of pandas the grouping columns will be excluded from the operation. Either pass `include_groups=False` to exclude the groupings or explicitly select the grouping columns after groupby to silence this warning.\n",
      "  infer_df = df.groupby(\"unique_id\").apply(extract_series).dropna()\n"
     ]
    }
   ],
   "source": [
    "# Step 1: Extract time series windows\n",
    "\n",
    "\n",
    "def extract_series(df_):\n",
    "    if len(df_) < input_size + horizon:\n",
    "        return None\n",
    "    df_ = df_.sort_values(\"ds\")\n",
    "    return pd.Series(\n",
    "        {\n",
    "            \"X\": df_[\"y_scaled\"].iloc[-(input_size + horizon) : -horizon].values.astype(\"float32\"),\n",
    "            \"y\": df_[\"y_scaled\"].iloc[-horizon:].values.astype(\"float32\"),\n",
    "            \"ds\": df_[\"ds\"].iloc[-horizon:].values,\n",
    "        }\n",
    "    )\n",
    "\n",
    "\n",
    "infer_df = df.groupby(\"unique_id\").apply(extract_series).dropna()\n",
    "infer_df.to_parquet(\"data/intermediate/m3-monthly_inference_preprocessed.parquet\")"
   ]
  },
  {
   "cell_type": "code",
   "execution_count": 15,
   "id": "7462b56e-8a91-4658-b8e4-58fa16bc97ca",
   "metadata": {},
   "outputs": [],
   "source": [
    "import numpy as np\n",
    "import torch\n",
    "\n",
    "device = \"cuda\"\n",
    "X_scaled = infer_df[\"X\"].values\n",
    "X_tensor = torch.tensor(np.stack(X_scaled), dtype=torch.float32, device=device)"
   ]
  },
  {
   "cell_type": "code",
   "execution_count": null,
   "id": "a75949e8-c9de-4f2c-a8cb-9ce72ddce028",
   "metadata": {},
   "outputs": [],
   "source": []
  }
 ],
 "metadata": {
  "kernelspec": {
   "display_name": "Python 3 (ipykernel)",
   "language": "python",
   "name": "python3"
  },
  "language_info": {
   "codemirror_mode": {
    "name": "ipython",
    "version": 3
   },
   "file_extension": ".py",
   "mimetype": "text/x-python",
   "name": "python",
   "nbconvert_exporter": "python",
   "pygments_lexer": "ipython3",
   "version": "3.12.9"
  }
 },
 "nbformat": 4,
 "nbformat_minor": 5
}
