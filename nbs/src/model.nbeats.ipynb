{
 "cells": [
  {
   "cell_type": "code",
   "execution_count": 1,
   "id": "cc90a5bd-949c-49f3-bc8b-6c0148785761",
   "metadata": {},
   "outputs": [],
   "source": [
    "# | default_exp model.nbeats"
   ]
  },
  {
   "cell_type": "code",
   "execution_count": 3,
   "id": "51e63e9e-9d2a-4c8f-9270-b65e2f8284b7",
   "metadata": {},
   "outputs": [],
   "source": [
    "# | export\n",
    "import pytorch_lightning as pl\n",
    "import torch\n",
    "import torch.nn as nn"
   ]
  },
  {
   "cell_type": "code",
   "execution_count": 4,
   "id": "bd1d756e-4b14-4190-807a-69a82ae3a119",
   "metadata": {},
   "outputs": [],
   "source": [
    "# | export\n",
    "device = \"cuda\" if torch.cuda.is_available() else \"mps\" if torch.mps.is_available() else \"cpu\""
   ]
  },
  {
   "cell_type": "code",
   "execution_count": null,
   "id": "a4e36a03-d1e9-4d64-88bd-d9f933308175",
   "metadata": {},
   "outputs": [],
   "source": []
  }
 ],
 "metadata": {
  "kernelspec": {
   "display_name": "Python 3 (ipykernel)",
   "language": "python",
   "name": "python3"
  },
  "language_info": {
   "codemirror_mode": {
    "name": "ipython",
    "version": 3
   },
   "file_extension": ".py",
   "mimetype": "text/x-python",
   "name": "python",
   "nbconvert_exporter": "python",
   "pygments_lexer": "ipython3",
   "version": "3.11.11"
  }
 },
 "nbformat": 4,
 "nbformat_minor": 5
}
