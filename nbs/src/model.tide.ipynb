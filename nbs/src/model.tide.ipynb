{
 "cells": [
  {
   "cell_type": "code",
   "execution_count": null,
   "id": "893833ee-65e8-458a-9aef-aac9a5fee84c",
   "metadata": {},
   "outputs": [],
   "source": [
    "# | default_exp models.tide"
   ]
  },
  {
   "cell_type": "code",
   "execution_count": null,
   "id": "d5f96719-b6de-49e3-ade2-78a0a2422586",
   "metadata": {},
   "outputs": [],
   "source": []
  }
 ],
 "metadata": {
  "kernelspec": {
   "display_name": "python3",
   "language": "python",
   "name": "python3"
  }
 },
 "nbformat": 4,
 "nbformat_minor": 5
}
