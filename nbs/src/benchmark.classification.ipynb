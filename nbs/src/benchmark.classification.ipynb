{
 "cells": [
  {
   "cell_type": "code",
   "execution_count": 1,
   "id": "8ea9d0f5-0968-439f-a368-61fec72479cf",
   "metadata": {},
   "outputs": [],
   "source": [
    "# | default_exp benchmark.cnn_classification"
   ]
  },
  {
   "cell_type": "code",
   "execution_count": 2,
   "id": "52a386a4-07a0-42ed-98f4-b2ca7bf6711d",
   "metadata": {},
   "outputs": [],
   "source": [
    "# | export\n",
    "import json\n",
    "\n",
    "import pytorch_lightning as pl\n",
    "import torch\n",
    "import torchvision.transforms as T\n",
    "import wandb\n",
    "from pytorch_lightning.loggers import WandbLogger\n",
    "from tqdm.notebook import tqdm\n",
    "\n",
    "# | export\n",
    "from ts.benchmark.tsdataset import TimeSeriesBenchmarkDataset\n",
    "from ts.classification.cnnclassifer import TimeSeriesDataModule, TSNDTensorClassifier\n",
    "from ts.tsfeatures.ts2image import transform_ts2img_tensor\n",
    "\n",
    "torch.set_float32_matmul_precision(\"medium\")\n",
    "import gc"
   ]
  },
  {
   "cell_type": "code",
   "execution_count": 3,
   "id": "c820fe45-d1de-46bc-96e6-fae085ec2300",
   "metadata": {},
   "outputs": [],
   "source": [
    "# | export\n",
    "# Time Series-Safe Augmentations\n",
    "train_transforms = T.Compose(\n",
    "    [\n",
    "        T.GaussianBlur(kernel_size=3, sigma=(0.1, 2.0)),\n",
    "        T.RandomApply([T.RandomErasing(p=1.0, scale=(0.02, 0.05))], p=0.5),\n",
    "        # T.Normalize(mean=[0.5], std=[0.5]),\n",
    "    ]\n",
    ")"
   ]
  },
  {
   "cell_type": "code",
   "execution_count": 4,
   "id": "67ba0ebf-bd56-4947-a522-abca66f95fbc",
   "metadata": {},
   "outputs": [],
   "source": [
    "# | export\n",
    "benchmark = TimeSeriesBenchmarkDataset()\n",
    "# ds_list = benchmark.task_datasets[\"classification\"]\n",
    "ds_list = [\n",
    "    \"EthanolConcentration\",\n",
    "    \"FaceDetection\",\n",
    "    \"Handwriting\",\n",
    "    # 'JapaneseVowels',   # Shape missmatch\n",
    "    # 'PEMS-SF',          # cuda out of memorry\n",
    "    \"SelfRegulationSCP1\",\n",
    "    \"SelfRegulationSCP2\",\n",
    "    # 'SpokenArabicDigits',   # Shape missmatch\n",
    "    \"UWaveGestureLibrary\",\n",
    "]\n",
    "\n",
    "# for dataset in ds_list:\n",
    "#     print(\"Processing >>  \", dataset)\n",
    "#     df = benchmark.load_dataset(dataset)\n",
    "#     transform_ts2img_tensor(\n",
    "#         df, data_dir=f\"{dataset}_classification\", categorical_label=True, label_col=\"label\"\n",
    "#     )\n",
    "#     del df\n",
    "#     gc.collect()  # Force garbage collection"
   ]
  },
  {
   "cell_type": "code",
   "execution_count": null,
   "id": "a7f52787-e655-4aeb-9414-21bd766de62b",
   "metadata": {},
   "outputs": [
    {
     "name": "stdout",
     "output_type": "stream",
     "text": [
      "Processing >>   EthanolConcentration\n"
     ]
    },
    {
     "name": "stderr",
     "output_type": "stream",
     "text": [
      "\u001b[34m\u001b[1mwandb\u001b[0m: Using wandb-core as the SDK backend.  Please refer to https://wandb.me/wandb-core for more information.\n",
      "\u001b[34m\u001b[1mwandb\u001b[0m: Currently logged in as: \u001b[33mpranav_jha\u001b[0m to \u001b[32mhttps://api.wandb.ai\u001b[0m. Use \u001b[1m`wandb login --relogin`\u001b[0m to force relogin\n"
     ]
    },
    {
     "data": {
      "text/html": [
       "Tracking run with wandb version 0.19.8"
      ],
      "text/plain": [
       "<IPython.core.display.HTML object>"
      ]
     },
     "metadata": {},
     "output_type": "display_data"
    },
    {
     "data": {
      "text/html": [
       "Run data is saved locally in <code>./wandb/run-20250314_183306-ufmltnpa</code>"
      ],
      "text/plain": [
       "<IPython.core.display.HTML object>"
      ]
     },
     "metadata": {},
     "output_type": "display_data"
    },
    {
     "data": {
      "text/html": [
       "Syncing run <strong><a href='https://wandb.ai/pranav_jha/benchmark-ts-classification-finetune/runs/ufmltnpa' target=\"_blank\">cnn.model=efficientnet_b0.ds=EthanolConcentration</a></strong> to <a href='https://wandb.ai/pranav_jha/benchmark-ts-classification-finetune' target=\"_blank\">Weights & Biases</a> (<a href='https://wandb.me/developer-guide' target=\"_blank\">docs</a>)<br>"
      ],
      "text/plain": [
       "<IPython.core.display.HTML object>"
      ]
     },
     "metadata": {},
     "output_type": "display_data"
    },
    {
     "data": {
      "text/html": [
       " View project at <a href='https://wandb.ai/pranav_jha/benchmark-ts-classification-finetune' target=\"_blank\">https://wandb.ai/pranav_jha/benchmark-ts-classification-finetune</a>"
      ],
      "text/plain": [
       "<IPython.core.display.HTML object>"
      ]
     },
     "metadata": {},
     "output_type": "display_data"
    },
    {
     "data": {
      "text/html": [
       " View run at <a href='https://wandb.ai/pranav_jha/benchmark-ts-classification-finetune/runs/ufmltnpa' target=\"_blank\">https://wandb.ai/pranav_jha/benchmark-ts-classification-finetune/runs/ufmltnpa</a>"
      ],
      "text/plain": [
       "<IPython.core.display.HTML object>"
      ]
     },
     "metadata": {},
     "output_type": "display_data"
    },
    {
     "name": "stderr",
     "output_type": "stream",
     "text": [
      "\u001b[34m\u001b[1mwandb\u001b[0m: logging graph, to disable use `wandb.watch(log_graph=False)`\n",
      "Using bfloat16 Automatic Mixed Precision (AMP)\n",
      "GPU available: True (cuda), used: True\n",
      "TPU available: False, using: 0 TPU cores\n",
      "HPU available: False, using: 0 HPUs\n",
      "LOCAL_RANK: 0 - CUDA_VISIBLE_DEVICES: [0]\n",
      "\n",
      "  | Name             | Type                        | Params | Mode \n",
      "-------------------------------------------------------------------------\n",
      "0 | preprocessor     | ChannelReducerAndDownscaler | 1.8 K  | train\n",
      "1 | pretrained_model | EfficientNet                | 4.3 M  | train\n",
      "2 | criterion        | CrossEntropyLoss            | 0      | train\n",
      "3 | accuracy         | MulticlassAccuracy          | 0      | train\n",
      "4 | f1_score         | MulticlassF1Score           | 0      | train\n",
      "5 | auc              | MulticlassAUROC             | 0      | train\n",
      "-------------------------------------------------------------------------\n",
      "331 K     Trainable params\n",
      "4.0 M     Non-trainable params\n",
      "4.3 M     Total params\n",
      "17.355    Total estimated model params size (MB)\n",
      "357       Modules in train mode\n",
      "0         Modules in eval mode\n"
     ]
    },
    {
     "data": {
      "application/vnd.jupyter.widget-view+json": {
       "model_id": "28eab9a841274acba800bc5934a9fe8f",
       "version_major": 2,
       "version_minor": 0
      },
      "text/plain": [
       "Sanity Checking: |                                        | 0/? [00:00<?, ?it/s]"
      ]
     },
     "metadata": {},
     "output_type": "display_data"
    },
    {
     "data": {
      "application/vnd.jupyter.widget-view+json": {
       "model_id": "a09373ba977f47db95a423b7037c4b9c",
       "version_major": 2,
       "version_minor": 0
      },
      "text/plain": [
       "Training: |                                               | 0/? [00:00<?, ?it/s]"
      ]
     },
     "metadata": {},
     "output_type": "display_data"
    },
    {
     "data": {
      "application/vnd.jupyter.widget-view+json": {
       "model_id": "2990aeb936b8451daec18b6211837b12",
       "version_major": 2,
       "version_minor": 0
      },
      "text/plain": [
       "Validation: |                                             | 0/? [00:00<?, ?it/s]"
      ]
     },
     "metadata": {},
     "output_type": "display_data"
    },
    {
     "data": {
      "application/vnd.jupyter.widget-view+json": {
       "model_id": "7d1c61ab52044e48927c5e8c73fb9d44",
       "version_major": 2,
       "version_minor": 0
      },
      "text/plain": [
       "Validation: |                                             | 0/? [00:00<?, ?it/s]"
      ]
     },
     "metadata": {},
     "output_type": "display_data"
    },
    {
     "data": {
      "application/vnd.jupyter.widget-view+json": {
       "model_id": "34846efa164e48c59915371cc61c32bb",
       "version_major": 2,
       "version_minor": 0
      },
      "text/plain": [
       "Validation: |                                             | 0/? [00:00<?, ?it/s]"
      ]
     },
     "metadata": {},
     "output_type": "display_data"
    },
    {
     "data": {
      "application/vnd.jupyter.widget-view+json": {
       "model_id": "11578871c6f64e5da1ea94a69a0c2f2a",
       "version_major": 2,
       "version_minor": 0
      },
      "text/plain": [
       "Validation: |                                             | 0/? [00:00<?, ?it/s]"
      ]
     },
     "metadata": {},
     "output_type": "display_data"
    },
    {
     "data": {
      "application/vnd.jupyter.widget-view+json": {
       "model_id": "13c9c6a8a7a944acac164ebc56192340",
       "version_major": 2,
       "version_minor": 0
      },
      "text/plain": [
       "Validation: |                                             | 0/? [00:00<?, ?it/s]"
      ]
     },
     "metadata": {},
     "output_type": "display_data"
    },
    {
     "data": {
      "application/vnd.jupyter.widget-view+json": {
       "model_id": "dd61591463964b4a82da9366e1ffa53e",
       "version_major": 2,
       "version_minor": 0
      },
      "text/plain": [
       "Validation: |                                             | 0/? [00:00<?, ?it/s]"
      ]
     },
     "metadata": {},
     "output_type": "display_data"
    },
    {
     "data": {
      "application/vnd.jupyter.widget-view+json": {
       "model_id": "c87f35ab585e4b5cabb4e85aa2943bea",
       "version_major": 2,
       "version_minor": 0
      },
      "text/plain": [
       "Validation: |                                             | 0/? [00:00<?, ?it/s]"
      ]
     },
     "metadata": {},
     "output_type": "display_data"
    },
    {
     "data": {
      "application/vnd.jupyter.widget-view+json": {
       "model_id": "91a3692da4144de3bd9ac5323d441b8d",
       "version_major": 2,
       "version_minor": 0
      },
      "text/plain": [
       "Validation: |                                             | 0/? [00:00<?, ?it/s]"
      ]
     },
     "metadata": {},
     "output_type": "display_data"
    },
    {
     "data": {
      "application/vnd.jupyter.widget-view+json": {
       "model_id": "c123c35d5d8f4781bd4b26d66cdaad62",
       "version_major": 2,
       "version_minor": 0
      },
      "text/plain": [
       "Validation: |                                             | 0/? [00:00<?, ?it/s]"
      ]
     },
     "metadata": {},
     "output_type": "display_data"
    },
    {
     "data": {
      "application/vnd.jupyter.widget-view+json": {
       "model_id": "2993c30860cf472bb8298101954f56ad",
       "version_major": 2,
       "version_minor": 0
      },
      "text/plain": [
       "Validation: |                                             | 0/? [00:00<?, ?it/s]"
      ]
     },
     "metadata": {},
     "output_type": "display_data"
    },
    {
     "data": {
      "application/vnd.jupyter.widget-view+json": {
       "model_id": "27f40e26e261483baf3bb6334ae4db84",
       "version_major": 2,
       "version_minor": 0
      },
      "text/plain": [
       "Validation: |                                             | 0/? [00:00<?, ?it/s]"
      ]
     },
     "metadata": {},
     "output_type": "display_data"
    },
    {
     "data": {
      "application/vnd.jupyter.widget-view+json": {
       "model_id": "97916eba7ba34e939773172681f865eb",
       "version_major": 2,
       "version_minor": 0
      },
      "text/plain": [
       "Validation: |                                             | 0/? [00:00<?, ?it/s]"
      ]
     },
     "metadata": {},
     "output_type": "display_data"
    },
    {
     "data": {
      "application/vnd.jupyter.widget-view+json": {
       "model_id": "2d8cbf525c8544c7b0449a660615875a",
       "version_major": 2,
       "version_minor": 0
      },
      "text/plain": [
       "Validation: |                                             | 0/? [00:00<?, ?it/s]"
      ]
     },
     "metadata": {},
     "output_type": "display_data"
    },
    {
     "data": {
      "application/vnd.jupyter.widget-view+json": {
       "model_id": "1ee3343898de45ac873025045e9936d4",
       "version_major": 2,
       "version_minor": 0
      },
      "text/plain": [
       "Validation: |                                             | 0/? [00:00<?, ?it/s]"
      ]
     },
     "metadata": {},
     "output_type": "display_data"
    }
   ],
   "source": [
    "# | export\n",
    "for dataset in ds_list:\n",
    "    print(\"Processing >>  \", dataset)\n",
    "    # Load class labels\n",
    "    with open(f\"{dataset}_classification/classes.json\", \"r\") as file:\n",
    "        classes = json.load(file)\n",
    "\n",
    "    # Load a single sample to determine input shape\n",
    "    with torch.no_grad():\n",
    "        x = torch.load(f\"{dataset}_classification/0.pt\")[\"image\"]\n",
    "        input_size = x.shape[-1]\n",
    "        in_channels = x.shape[0]\n",
    "\n",
    "    # Reduce batch size for large sequence lengths\n",
    "    batch_size = 4 if input_size > 550 else 64\n",
    "\n",
    "    ds = TimeSeriesDataModule(\n",
    "        data_dir=f\"{dataset}_classification\",\n",
    "        transform=train_transforms,\n",
    "        batch_size=batch_size,\n",
    "        num_workers=6 if batch_size < 8 else 16,  # Optimize workers for memory\n",
    "        #  persistent_workers=False,  # Prevent memory leaks in DataLoader\n",
    "    )\n",
    "    del x\n",
    "    gc.collect()\n",
    "\n",
    "    model = TSNDTensorClassifier(\n",
    "        model_name=\"efficientnet_b0\",\n",
    "        num_classes=len(classes),\n",
    "        in_channels=in_channels,\n",
    "        reduced_channels=3,\n",
    "        input_size=input_size,\n",
    "        output_size=min(255, input_size),\n",
    "    )\n",
    "\n",
    "    wandb_logger = WandbLogger(\n",
    "        project=\"benchmark-ts-classification-finetune\",\n",
    "        name=f\"cnn.model=efficientnet_b0.ds={dataset}\",\n",
    "    )\n",
    "    wandb_logger.experiment.config.update({\"model\": \"efficientnet_b0\", \"finetune\": False})\n",
    "    wandb_logger.watch(model, log=\"all\")\n",
    "    trainer = pl.Trainer(\n",
    "        logger=wandb_logger,\n",
    "        accelerator=\"auto\",\n",
    "        devices=[0],\n",
    "        min_epochs=1,\n",
    "        max_epochs=50,\n",
    "        enable_checkpointing=True,\n",
    "        precision=\"bf16-mixed\",\n",
    "        callbacks=[pl.callbacks.EarlyStopping(\"val_loss\", patience=5, verbose=False)],\n",
    "    )\n",
    "\n",
    "    ckpt_path = f\"model_checkpoints/{dataset}.ckpt\"\n",
    "\n",
    "    trainer.fit(model, ds)\n",
    "    trainer.save_checkpoint(ckpt_path)\n",
    "    trainer.validate(model, ds)\n",
    "    trainer.test(model, ds)\n",
    "\n",
    "    # Cleanup to free memory\n",
    "    wandb_logger.experiment.unwatch(model)\n",
    "    del model, ds\n",
    "    gc.collect()\n",
    "    # wandb_logger = WandbLogger(log_model=True)\n",
    "    wandb.finish()"
   ]
  },
  {
   "cell_type": "code",
   "execution_count": null,
   "id": "2db127f0-9bc9-4dd5-970a-608816f7640f",
   "metadata": {},
   "outputs": [],
   "source": []
  },
  {
   "cell_type": "code",
   "execution_count": null,
   "id": "d819b6e7-6123-4eb5-9339-4fadafde6d67",
   "metadata": {},
   "outputs": [],
   "source": []
  }
 ],
 "metadata": {
  "kernelspec": {
   "display_name": "Python 3 (ipykernel)",
   "language": "python",
   "name": "python3"
  },
  "language_info": {
   "codemirror_mode": {
    "name": "ipython",
    "version": 3
   },
   "file_extension": ".py",
   "mimetype": "text/x-python",
   "name": "python",
   "nbconvert_exporter": "python",
   "pygments_lexer": "ipython3",
   "version": "3.12.2"
  }
 },
 "nbformat": 4,
 "nbformat_minor": 5
}
