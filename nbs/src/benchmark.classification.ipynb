{
 "cells": [
  {
   "cell_type": "code",
   "execution_count": null,
   "id": "8ea9d0f5-0968-439f-a368-61fec72479cf",
   "metadata": {},
   "outputs": [],
   "source": [
    "# | default_exp benchmark.cnn_classification"
   ]
  },
  {
   "cell_type": "code",
   "execution_count": null,
   "id": "52a386a4-07a0-42ed-98f4-b2ca7bf6711d",
   "metadata": {},
   "outputs": [],
   "source": [
    "import json\n",
    "\n",
    "import pytorch_lightning as pl\n",
    "import torch\n",
    "import torchvision.transforms as T\n",
    "import wandb\n",
    "from pytorch_lightning.loggers import WandbLogger\n",
    "from tqdm.notebook import tqdm\n",
    "\n",
    "# | export\n",
    "from ts.benchmark.tsdataset import TimeSeriesBenchmarkDataset\n",
    "from ts.classification.cnnclassifer import TimeSeriesDataModule, TSNDTensorClassifier\n",
    "from ts.tsfeatures.ts2image import transform_ts2img_tensor\n",
    "\n",
    "torch.set_float32_matmul_precision(\"medium\")\n",
    "import gc"
   ]
  },
  {
   "cell_type": "code",
   "execution_count": null,
   "id": "c820fe45-d1de-46bc-96e6-fae085ec2300",
   "metadata": {},
   "outputs": [],
   "source": [
    "# Time Series-Safe Augmentations\n",
    "train_transforms = T.Compose(\n",
    "    [\n",
    "        T.GaussianBlur(kernel_size=3, sigma=(0.1, 2.0)),\n",
    "        T.RandomApply([T.RandomErasing(p=1.0, scale=(0.02, 0.05))], p=0.5),\n",
    "        T.Normalize(mean=[0.5], std=[0.5]),\n",
    "    ]\n",
    ")"
   ]
  },
  {
   "cell_type": "code",
   "execution_count": null,
   "id": "a7f52787-e655-4aeb-9414-21bd766de62b",
   "metadata": {},
   "outputs": [
    {
     "name": "stdout",
     "output_type": "stream",
     "text": [
      "Processing >>   EthanolConcentration\n"
     ]
    },
    {
     "name": "stderr",
     "output_type": "stream",
     "text": [
      "Transforming & Saving (X, y): 100%|███████████| 524/524 [01:32<00:00,  5.66it/s]\n",
      "\u001b[34m\u001b[1mwandb\u001b[0m: Using wandb-core as the SDK backend.  Please refer to https://wandb.me/wandb-core for more information.\n",
      "\u001b[34m\u001b[1mwandb\u001b[0m: Currently logged in as: \u001b[33mpranav_jha\u001b[0m to \u001b[32mhttps://api.wandb.ai\u001b[0m. Use \u001b[1m`wandb login --relogin`\u001b[0m to force relogin\n"
     ]
    },
    {
     "data": {
      "text/html": [
       "Tracking run with wandb version 0.19.8"
      ],
      "text/plain": [
       "<IPython.core.display.HTML object>"
      ]
     },
     "metadata": {},
     "output_type": "display_data"
    },
    {
     "data": {
      "text/html": [
       "Run data is saved locally in <code>./wandb/run-20250314_122426-s861tkcy</code>"
      ],
      "text/plain": [
       "<IPython.core.display.HTML object>"
      ]
     },
     "metadata": {},
     "output_type": "display_data"
    },
    {
     "data": {
      "text/html": [
       "Syncing run <strong><a href='https://wandb.ai/pranav_jha/benchmark-ts-classification/runs/s861tkcy' target=\"_blank\">cnn.model=efficientnet_b0.ds=EthanolConcentration</a></strong> to <a href='https://wandb.ai/pranav_jha/benchmark-ts-classification' target=\"_blank\">Weights & Biases</a> (<a href='https://wandb.me/developer-guide' target=\"_blank\">docs</a>)<br>"
      ],
      "text/plain": [
       "<IPython.core.display.HTML object>"
      ]
     },
     "metadata": {},
     "output_type": "display_data"
    },
    {
     "data": {
      "text/html": [
       " View project at <a href='https://wandb.ai/pranav_jha/benchmark-ts-classification' target=\"_blank\">https://wandb.ai/pranav_jha/benchmark-ts-classification</a>"
      ],
      "text/plain": [
       "<IPython.core.display.HTML object>"
      ]
     },
     "metadata": {},
     "output_type": "display_data"
    },
    {
     "data": {
      "text/html": [
       " View run at <a href='https://wandb.ai/pranav_jha/benchmark-ts-classification/runs/s861tkcy' target=\"_blank\">https://wandb.ai/pranav_jha/benchmark-ts-classification/runs/s861tkcy</a>"
      ],
      "text/plain": [
       "<IPython.core.display.HTML object>"
      ]
     },
     "metadata": {},
     "output_type": "display_data"
    },
    {
     "name": "stderr",
     "output_type": "stream",
     "text": [
      "\u001b[34m\u001b[1mwandb\u001b[0m: logging graph, to disable use `wandb.watch(log_graph=False)`\n",
      "Using bfloat16 Automatic Mixed Precision (AMP)\n",
      "GPU available: True (cuda), used: True\n",
      "TPU available: False, using: 0 TPU cores\n",
      "HPU available: False, using: 0 HPUs\n",
      "LOCAL_RANK: 0 - CUDA_VISIBLE_DEVICES: [0]\n",
      "\n",
      "  | Name             | Type                        | Params | Mode \n",
      "-------------------------------------------------------------------------\n",
      "0 | preprocessor     | ChannelReducerAndDownscaler | 1.7 K  | train\n",
      "1 | pretrained_model | EfficientNet                | 4.3 M  | train\n",
      "2 | criterion        | CrossEntropyLoss            | 0      | train\n",
      "3 | accuracy         | MulticlassAccuracy          | 0      | train\n",
      "4 | f1_score         | MulticlassF1Score           | 0      | train\n",
      "5 | auc              | MulticlassAUROC             | 0      | train\n",
      "-------------------------------------------------------------------------\n",
      "330 K     Trainable params\n",
      "4.0 M     Non-trainable params\n",
      "4.3 M     Total params\n",
      "17.353    Total estimated model params size (MB)\n",
      "352       Modules in train mode\n",
      "0         Modules in eval mode\n"
     ]
    },
    {
     "data": {
      "application/vnd.jupyter.widget-view+json": {
       "model_id": "5d86f65c6f9444099ec518fdbcf95740",
       "version_major": 2,
       "version_minor": 0
      },
      "text/plain": [
       "Sanity Checking: |                                        | 0/? [00:00<?, ?it/s]"
      ]
     },
     "metadata": {},
     "output_type": "display_data"
    },
    {
     "data": {
      "application/vnd.jupyter.widget-view+json": {
       "model_id": "03e1d853489247a0a056e9e3b0d99e20",
       "version_major": 2,
       "version_minor": 0
      },
      "text/plain": [
       "Training: |                                               | 0/? [00:00<?, ?it/s]"
      ]
     },
     "metadata": {},
     "output_type": "display_data"
    },
    {
     "data": {
      "application/vnd.jupyter.widget-view+json": {
       "model_id": "1104255c277647359d4ca4ecc2756d59",
       "version_major": 2,
       "version_minor": 0
      },
      "text/plain": [
       "Validation: |                                             | 0/? [00:00<?, ?it/s]"
      ]
     },
     "metadata": {},
     "output_type": "display_data"
    },
    {
     "data": {
      "application/vnd.jupyter.widget-view+json": {
       "model_id": "5f434edb597148fe98666d2a86c9b54b",
       "version_major": 2,
       "version_minor": 0
      },
      "text/plain": [
       "Validation: |                                             | 0/? [00:00<?, ?it/s]"
      ]
     },
     "metadata": {},
     "output_type": "display_data"
    },
    {
     "name": "stderr",
     "output_type": "stream",
     "text": [
      "`Trainer.fit` stopped: `max_epochs=2` reached.\n",
      "LOCAL_RANK: 0 - CUDA_VISIBLE_DEVICES: [0]\n"
     ]
    },
    {
     "data": {
      "application/vnd.jupyter.widget-view+json": {
       "model_id": "737702d6db724b73b3fe5865f3efb61b",
       "version_major": 2,
       "version_minor": 0
      },
      "text/plain": [
       "Validation: |                                             | 0/? [00:00<?, ?it/s]"
      ]
     },
     "metadata": {},
     "output_type": "display_data"
    },
    {
     "data": {
      "text/html": [
       "<pre style=\"white-space:pre;overflow-x:auto;line-height:normal;font-family:Menlo,'DejaVu Sans Mono',consolas,'Courier New',monospace\">┏━━━━━━━━━━━━━━━━━━━━━━━━━━━┳━━━━━━━━━━━━━━━━━━━━━━━━━━━┓\n",
       "┃<span style=\"font-weight: bold\">      Validate metric      </span>┃<span style=\"font-weight: bold\">       DataLoader 0        </span>┃\n",
       "┡━━━━━━━━━━━━━━━━━━━━━━━━━━━╇━━━━━━━━━━━━━━━━━━━━━━━━━━━┩\n",
       "│<span style=\"color: #008080; text-decoration-color: #008080\">       val_accuracy        </span>│<span style=\"color: #800080; text-decoration-color: #800080\">    0.3461538553237915     </span>│\n",
       "│<span style=\"color: #008080; text-decoration-color: #008080\">          val_auc          </span>│<span style=\"color: #800080; text-decoration-color: #800080\">    0.4695512652397156     </span>│\n",
       "│<span style=\"color: #008080; text-decoration-color: #008080\">          val_f1           </span>│<span style=\"color: #800080; text-decoration-color: #800080\">    0.2502136826515198     </span>│\n",
       "│<span style=\"color: #008080; text-decoration-color: #008080\">         val_loss          </span>│<span style=\"color: #800080; text-decoration-color: #800080\">    1.3716946840286255     </span>│\n",
       "└───────────────────────────┴───────────────────────────┘\n",
       "</pre>\n"
      ],
      "text/plain": [
       "┏━━━━━━━━━━━━━━━━━━━━━━━━━━━┳━━━━━━━━━━━━━━━━━━━━━━━━━━━┓\n",
       "┃\u001b[1m \u001b[0m\u001b[1m     Validate metric     \u001b[0m\u001b[1m \u001b[0m┃\u001b[1m \u001b[0m\u001b[1m      DataLoader 0       \u001b[0m\u001b[1m \u001b[0m┃\n",
       "┡━━━━━━━━━━━━━━━━━━━━━━━━━━━╇━━━━━━━━━━━━━━━━━━━━━━━━━━━┩\n",
       "│\u001b[36m \u001b[0m\u001b[36m      val_accuracy       \u001b[0m\u001b[36m \u001b[0m│\u001b[35m \u001b[0m\u001b[35m   0.3461538553237915    \u001b[0m\u001b[35m \u001b[0m│\n",
       "│\u001b[36m \u001b[0m\u001b[36m         val_auc         \u001b[0m\u001b[36m \u001b[0m│\u001b[35m \u001b[0m\u001b[35m   0.4695512652397156    \u001b[0m\u001b[35m \u001b[0m│\n",
       "│\u001b[36m \u001b[0m\u001b[36m         val_f1          \u001b[0m\u001b[36m \u001b[0m│\u001b[35m \u001b[0m\u001b[35m   0.2502136826515198    \u001b[0m\u001b[35m \u001b[0m│\n",
       "│\u001b[36m \u001b[0m\u001b[36m        val_loss         \u001b[0m\u001b[36m \u001b[0m│\u001b[35m \u001b[0m\u001b[35m   1.3716946840286255    \u001b[0m\u001b[35m \u001b[0m│\n",
       "└───────────────────────────┴───────────────────────────┘\n"
      ]
     },
     "metadata": {},
     "output_type": "display_data"
    },
    {
     "name": "stderr",
     "output_type": "stream",
     "text": [
      "LOCAL_RANK: 0 - CUDA_VISIBLE_DEVICES: [0]\n"
     ]
    },
    {
     "data": {
      "application/vnd.jupyter.widget-view+json": {
       "model_id": "caf5ef47918f43718934f573606b8311",
       "version_major": 2,
       "version_minor": 0
      },
      "text/plain": [
       "Testing: |                                                | 0/? [00:00<?, ?it/s]"
      ]
     },
     "metadata": {},
     "output_type": "display_data"
    },
    {
     "data": {
      "text/html": [
       "<pre style=\"white-space:pre;overflow-x:auto;line-height:normal;font-family:Menlo,'DejaVu Sans Mono',consolas,'Courier New',monospace\">┏━━━━━━━━━━━━━━━━━━━━━━━━━━━┳━━━━━━━━━━━━━━━━━━━━━━━━━━━┓\n",
       "┃<span style=\"font-weight: bold\">        Test metric        </span>┃<span style=\"font-weight: bold\">       DataLoader 0        </span>┃\n",
       "┡━━━━━━━━━━━━━━━━━━━━━━━━━━━╇━━━━━━━━━━━━━━━━━━━━━━━━━━━┩\n",
       "│<span style=\"color: #008080; text-decoration-color: #008080\">       test_accuracy       </span>│<span style=\"color: #800080; text-decoration-color: #800080\">           0.25            </span>│\n",
       "│<span style=\"color: #008080; text-decoration-color: #008080\">         test_auc          </span>│<span style=\"color: #800080; text-decoration-color: #800080\">    0.3717948794364929     </span>│\n",
       "│<span style=\"color: #008080; text-decoration-color: #008080\">          test_f1          </span>│<span style=\"color: #800080; text-decoration-color: #800080\">    0.1440170854330063     </span>│\n",
       "│<span style=\"color: #008080; text-decoration-color: #008080\">         test_loss         </span>│<span style=\"color: #800080; text-decoration-color: #800080\">    1.3922775983810425     </span>│\n",
       "└───────────────────────────┴───────────────────────────┘\n",
       "</pre>\n"
      ],
      "text/plain": [
       "┏━━━━━━━━━━━━━━━━━━━━━━━━━━━┳━━━━━━━━━━━━━━━━━━━━━━━━━━━┓\n",
       "┃\u001b[1m \u001b[0m\u001b[1m       Test metric       \u001b[0m\u001b[1m \u001b[0m┃\u001b[1m \u001b[0m\u001b[1m      DataLoader 0       \u001b[0m\u001b[1m \u001b[0m┃\n",
       "┡━━━━━━━━━━━━━━━━━━━━━━━━━━━╇━━━━━━━━━━━━━━━━━━━━━━━━━━━┩\n",
       "│\u001b[36m \u001b[0m\u001b[36m      test_accuracy      \u001b[0m\u001b[36m \u001b[0m│\u001b[35m \u001b[0m\u001b[35m          0.25           \u001b[0m\u001b[35m \u001b[0m│\n",
       "│\u001b[36m \u001b[0m\u001b[36m        test_auc         \u001b[0m\u001b[36m \u001b[0m│\u001b[35m \u001b[0m\u001b[35m   0.3717948794364929    \u001b[0m\u001b[35m \u001b[0m│\n",
       "│\u001b[36m \u001b[0m\u001b[36m         test_f1         \u001b[0m\u001b[36m \u001b[0m│\u001b[35m \u001b[0m\u001b[35m   0.1440170854330063    \u001b[0m\u001b[35m \u001b[0m│\n",
       "│\u001b[36m \u001b[0m\u001b[36m        test_loss        \u001b[0m\u001b[36m \u001b[0m│\u001b[35m \u001b[0m\u001b[35m   1.3922775983810425    \u001b[0m\u001b[35m \u001b[0m│\n",
       "└───────────────────────────┴───────────────────────────┘\n"
      ]
     },
     "metadata": {},
     "output_type": "display_data"
    },
    {
     "data": {
      "text/html": [],
      "text/plain": [
       "<IPython.core.display.HTML object>"
      ]
     },
     "metadata": {},
     "output_type": "display_data"
    },
    {
     "data": {
      "text/html": [
       "<br>    <style><br>        .wandb-row {<br>            display: flex;<br>            flex-direction: row;<br>            flex-wrap: wrap;<br>            justify-content: flex-start;<br>            width: 100%;<br>        }<br>        .wandb-col {<br>            display: flex;<br>            flex-direction: column;<br>            flex-basis: 100%;<br>            flex: 1;<br>            padding: 10px;<br>        }<br>    </style><br><div class=\"wandb-row\"><div class=\"wandb-col\"><h3>Run history:</h3><br/><table class=\"wandb\"><tr><td>epoch</td><td>▁▁▁▅▅▅██</td></tr><tr><td>test_accuracy</td><td>▁</td></tr><tr><td>test_auc</td><td>▁</td></tr><tr><td>test_f1</td><td>▁</td></tr><tr><td>test_loss</td><td>▁</td></tr><tr><td>train_accuracy</td><td>███▁</td></tr><tr><td>train_auc</td><td>▁█▂▁</td></tr><tr><td>train_f1</td><td>█▅▆▁</td></tr><tr><td>train_loss</td><td>▁▄▅█</td></tr><tr><td>trainer/global_step</td><td>▁▃▃▅████</td></tr><tr><td>val_accuracy</td><td>█▁▁</td></tr><tr><td>val_auc</td><td>▁▇█</td></tr><tr><td>val_f1</td><td>█▁▆</td></tr><tr><td>val_loss</td><td>█▁▁</td></tr></table><br/></div><div class=\"wandb-col\"><h3>Run summary:</h3><br/><table class=\"wandb\"><tr><td>epoch</td><td>2</td></tr><tr><td>test_accuracy</td><td>0.25</td></tr><tr><td>test_auc</td><td>0.37179</td></tr><tr><td>test_f1</td><td>0.14402</td></tr><tr><td>test_loss</td><td>1.39228</td></tr><tr><td>train_accuracy</td><td>0</td></tr><tr><td>train_auc</td><td>0.25</td></tr><tr><td>train_f1</td><td>0</td></tr><tr><td>train_loss</td><td>1.51953</td></tr><tr><td>trainer/global_step</td><td>210</td></tr><tr><td>val_accuracy</td><td>0.34615</td></tr><tr><td>val_auc</td><td>0.46955</td></tr><tr><td>val_f1</td><td>0.25021</td></tr><tr><td>val_loss</td><td>1.37169</td></tr></table><br/></div></div>"
      ],
      "text/plain": [
       "<IPython.core.display.HTML object>"
      ]
     },
     "metadata": {},
     "output_type": "display_data"
    },
    {
     "data": {
      "text/html": [
       " View run <strong style=\"color:#cdcd00\">cnn.model=efficientnet_b0.ds=EthanolConcentration</strong> at: <a href='https://wandb.ai/pranav_jha/benchmark-ts-classification/runs/s861tkcy' target=\"_blank\">https://wandb.ai/pranav_jha/benchmark-ts-classification/runs/s861tkcy</a><br> View project at: <a href='https://wandb.ai/pranav_jha/benchmark-ts-classification' target=\"_blank\">https://wandb.ai/pranav_jha/benchmark-ts-classification</a><br>Synced 5 W&B file(s), 1 media file(s), 0 artifact file(s) and 0 other file(s)"
      ],
      "text/plain": [
       "<IPython.core.display.HTML object>"
      ]
     },
     "metadata": {},
     "output_type": "display_data"
    },
    {
     "data": {
      "text/html": [
       "Find logs at: <code>./wandb/run-20250314_122426-s861tkcy/logs</code>"
      ],
      "text/plain": [
       "<IPython.core.display.HTML object>"
      ]
     },
     "metadata": {},
     "output_type": "display_data"
    },
    {
     "name": "stdout",
     "output_type": "stream",
     "text": [
      "Processing >>   FaceDetection\n"
     ]
    },
    {
     "name": "stderr",
     "output_type": "stream",
     "text": [
      "Transforming & Saving (X, y):  14%|█▎       | 1344/9414 [02:03<12:04, 11.15it/s]"
     ]
    }
   ],
   "source": [
    "# | export\n",
    "benchmark = TimeSeriesBenchmarkDataset()\n",
    "# ds_list = benchmark.task_datasets[\"classification\"]\n",
    "ds_list = [\n",
    "    \"EthanolConcentration\",\n",
    "    \"FaceDetection\",\n",
    "    \"Handwriting\",\n",
    "    # 'JapaneseVowels',   # Shape missmatch\n",
    "    # 'PEMS-SF',          # cuda out of memorry\n",
    "    \"SelfRegulationSCP1\",\n",
    "    \"SelfRegulationSCP2\",\n",
    "    # 'SpokenArabicDigits',   # Shape missmatch\n",
    "    \"UWaveGestureLibrary\",\n",
    "]\n",
    "\n",
    "for dataset in ds_list:\n",
    "    print(\"Processing >>  \", dataset)\n",
    "    df = benchmark.load_dataset(dataset)\n",
    "    # df = df.sample(min(500, len(df)), replace=False).reset_index(drop=True)\n",
    "\n",
    "    transform_ts2img_tensor(\n",
    "        df, data_dir=f\"{dataset}_classification\", categorical_label=True, label_col=\"label\"\n",
    "    )\n",
    "    del df\n",
    "    gc.collect()  # Force garbage collection\n",
    "\n",
    "    # Load class labels\n",
    "    with open(f\"{dataset}_classification/classes.json\", \"r\") as file:\n",
    "        classes = json.load(file)\n",
    "\n",
    "    # Load a single sample to determine input shape\n",
    "    with torch.no_grad():\n",
    "        x = torch.load(f\"{dataset}_classification/0.pt\")[\"image\"]\n",
    "        input_size = x.shape[-1]\n",
    "        in_channels = x.shape[0]\n",
    "\n",
    "    # Reduce batch size for large sequence lengths\n",
    "    batch_size = 4 if input_size > 550 else 64\n",
    "\n",
    "    ds = TimeSeriesDataModule(\n",
    "        data_dir=f\"{dataset}_classification\",\n",
    "        transform=train_transforms,\n",
    "        batch_size=batch_size,\n",
    "        num_workers=6 if batch_size < 8 else 16,  # Optimize workers for memory\n",
    "        #  persistent_workers=False,  # Prevent memory leaks in DataLoader\n",
    "    )\n",
    "    del x\n",
    "    gc.collect()\n",
    "\n",
    "    model = TSNDTensorClassifier(\n",
    "        model_name=\"efficientnet_b0\",\n",
    "        num_classes=len(classes),\n",
    "        in_channels=in_channels,\n",
    "        reduced_channels=3,\n",
    "        input_size=input_size,\n",
    "        output_size=min(255, input_size),\n",
    "    )\n",
    "\n",
    "    wandb_logger = WandbLogger(\n",
    "        project=\"benchmark-ts-classification\",\n",
    "        name=f\"cnn.model=efficientnet_b0.ds={dataset}\",\n",
    "    )\n",
    "    wandb_logger.experiment.config.update({\"model\": \"efficientnet_b0\", \"finetune\": False})\n",
    "    wandb_logger.watch(model, log=\"all\")\n",
    "    trainer = pl.Trainer(\n",
    "        logger=wandb_logger,\n",
    "        accelerator=\"auto\",\n",
    "        devices=[0],\n",
    "        min_epochs=1,\n",
    "        max_epochs=2,\n",
    "        enable_checkpointing=True,\n",
    "        precision=\"bf16-mixed\",\n",
    "        callbacks=[pl.callbacks.EarlyStopping(\"val_loss\", patience=5, verbose=False)],\n",
    "    )\n",
    "\n",
    "    ckpt_path = f\"model_checkpoints/{dataset}.ckpt\"\n",
    "\n",
    "    trainer.fit(model, ds)\n",
    "    trainer.save_checkpoint(ckpt_path)\n",
    "    trainer.validate(model, ds)\n",
    "    trainer.test(model, ds)\n",
    "\n",
    "    # Cleanup to free memory\n",
    "    wandb_logger.experiment.unwatch(model)\n",
    "    del model, ds\n",
    "    gc.collect()\n",
    "    # wandb_logger = WandbLogger(log_model=True)\n",
    "    wandb.finish()"
   ]
  },
  {
   "cell_type": "code",
   "execution_count": null,
   "id": "2db127f0-9bc9-4dd5-970a-608816f7640f",
   "metadata": {},
   "outputs": [],
   "source": []
  }
 ],
 "metadata": {
  "kernelspec": {
   "display_name": "python3",
   "language": "python",
   "name": "python3"
  }
 },
 "nbformat": 4,
 "nbformat_minor": 5
}
