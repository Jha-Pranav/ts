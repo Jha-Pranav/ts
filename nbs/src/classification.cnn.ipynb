{
 "cells": [
  {
   "cell_type": "code",
   "execution_count": null,
   "id": "02155b56-cdb8-4e29-8681-5cd02690e0b3",
   "metadata": {},
   "outputs": [],
   "source": [
    "# | default_exp classification.cnn"
   ]
  },
  {
   "cell_type": "code",
   "execution_count": null,
   "id": "4bd580ac-2aa4-478e-9b38-63c05f88a158",
   "metadata": {},
   "outputs": [],
   "source": [
    "%load_ext jupyter_ai_magics"
   ]
  },
  {
   "cell_type": "code",
   "execution_count": 2,
   "id": "9ee596a1-f98e-4295-9285-9f8cf6ae0b74",
   "metadata": {},
   "outputs": [],
   "source": [
    "import pandas as pd"
   ]
  },
  {
   "cell_type": "code",
   "execution_count": 6,
   "id": "25c22b9d-d0f4-46bf-b28e-1382a220df16",
   "metadata": {},
   "outputs": [],
   "source": [
    "# Load & preprocess data\n",
    "df = pd.read_parquet(\"data/m4_preprocessed.parquet\")\n",
    "df.sort_values(\"no_of_datapoints\", inplace=True)\n",
    "\n",
    "# Try on smaller dataset\n",
    "df = df[df.no_of_datapoints <= 468]\n",
    "\n",
    "\n",
    "df.drop(columns=[\"no_of_datapoints\"], inplace=True)\n",
    "ts_series = df.drop([\"best_model\"], axis=1).iloc[20].dropna()"
   ]
  },
  {
   "cell_type": "code",
   "execution_count": 1,
   "id": "db856b50-4424-45ac-8299-d18a775f482b",
   "metadata": {},
   "outputs": [
    {
     "ename": "ModuleNotFoundError",
     "evalue": "No module named 'ts.tsfeatures'",
     "output_type": "error",
     "traceback": [
      "\u001b[31m---------------------------------------------------------------------------\u001b[39m",
      "\u001b[31mModuleNotFoundError\u001b[39m                       Traceback (most recent call last)",
      "\u001b[36mCell\u001b[39m\u001b[36m \u001b[39m\u001b[32mIn[1]\u001b[39m\u001b[32m, line 1\u001b[39m\n\u001b[32m----> \u001b[39m\u001b[32m1\u001b[39m \u001b[38;5;28;01mfrom\u001b[39;00m\u001b[38;5;250m \u001b[39m\u001b[34;01mts\u001b[39;00m\u001b[34;01m.\u001b[39;00m\u001b[34;01mtsfeatures\u001b[39;00m\u001b[34;01m.\u001b[39;00m\u001b[34;01mts2image\u001b[39;00m\u001b[38;5;250m \u001b[39m\u001b[38;5;28;01mimport\u001b[39;00m plot_ts2img\n",
      "\u001b[31mModuleNotFoundError\u001b[39m: No module named 'ts.tsfeatures'"
     ]
    }
   ],
   "source": [
    "from ts.tsfeatures.ts2image import plot_ts2img"
   ]
  },
  {
   "cell_type": "code",
   "execution_count": null,
   "id": "7c55e75b-afd3-4169-8831-07efc84a3904",
   "metadata": {},
   "outputs": [],
   "source": []
  }
 ],
 "metadata": {
  "kernelspec": {
   "display_name": "Python 3 (ipykernel)",
   "language": "python",
   "name": "python3"
  },
  "language_info": {
   "codemirror_mode": {
    "name": "ipython",
    "version": 3
   },
   "file_extension": ".py",
   "mimetype": "text/x-python",
   "name": "python",
   "nbconvert_exporter": "python",
   "pygments_lexer": "ipython3",
   "version": "3.12.2"
  }
 },
 "nbformat": 4,
 "nbformat_minor": 5
}
