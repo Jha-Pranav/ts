{
 "cells": [
  {
   "cell_type": "code",
   "execution_count": null,
   "id": "02155b56-cdb8-4e29-8681-5cd02690e0b3",
   "metadata": {},
   "outputs": [],
   "source": [
    "# | default_exp classification.cnn"
   ]
  },
  {
   "cell_type": "code",
   "execution_count": null,
   "id": "4bd580ac-2aa4-478e-9b38-63c05f88a158",
   "metadata": {},
   "outputs": [],
   "source": [
    "%load_ext jupyter_ai_magics"
   ]
  },
  {
   "cell_type": "code",
   "execution_count": null,
   "id": "25c22b9d-d0f4-46bf-b28e-1382a220df16",
   "metadata": {},
   "outputs": [],
   "source": []
  }
 ],
 "metadata": {
  "kernelspec": {
   "display_name": "python3",
   "language": "python",
   "name": "python3"
  }
 },
 "nbformat": 4,
 "nbformat_minor": 5
}
