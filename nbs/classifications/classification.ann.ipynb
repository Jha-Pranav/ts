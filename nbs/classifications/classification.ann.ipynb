{
 "cells": [
  {
   "cell_type": "code",
   "execution_count": null,
   "id": "7d69bb07-fbf2-49a6-8cc8-5167d3a59c79",
   "metadata": {},
   "outputs": [],
   "source": [
    "import torch\n",
    "\n",
    "torch.manual_seed(42)\n",
    "import lightning.pytorch as pl\n",
    "import numpy as np\n",
    "import pandas as pd\n",
    "import torch.nn.functional as F\n",
    "import torch.optim as optim\n",
    "import torchmetrics\n",
    "from sklearn.preprocessing import LabelEncoder, StandardScaler\n",
    "from torch import nn, optim, utils\n",
    "from torch.utils.data import DataLoader, TensorDataset, random_split\n",
    "from tqdm.notebook import tqdm\n",
    "\n",
    "torch.set_float32_matmul_precision(\"high\")"
   ]
  },
  {
   "cell_type": "code",
   "execution_count": null,
   "id": "c1044f8b-8856-4399-a33e-c22c00cf2c53",
   "metadata": {},
   "outputs": [],
   "source": [
    "class TabularDataLoader(pl.LightningDataModule):\n",
    "    def __init__(\n",
    "        self, df, target_column, batch_size=32, num_workers=4, test_size=0.2, val_size=0.1\n",
    "    ):\n",
    "        super(TabularDataLoader, self).__init__()\n",
    "\n",
    "        self.df = df\n",
    "        self.target_column = target_column\n",
    "        self.batch_size = batch_size\n",
    "        self.num_workers = num_workers\n",
    "        self.test_size = test_size\n",
    "        self.val_size = val_size\n",
    "        self.scaler = StandardScaler()\n",
    "        self.label_encoders = {}  # Store label encoders for categorical features\n",
    "        self.target_encoder = LabelEncoder()\n",
    "\n",
    "    def prepare_data(self):\n",
    "        df = self.df.copy()\n",
    "\n",
    "        # Identify numerical and categorical columns\n",
    "        self.num_cols = df.select_dtypes(include=[\"int64\", \"float64\"]).columns.tolist()\n",
    "        self.cat_cols = df.select_dtypes(include=[\"object\", \"category\"]).columns.tolist()\n",
    "\n",
    "        # Remove target column from numerical/categorical lists\n",
    "        if self.target_column in self.num_cols:\n",
    "            self.num_cols.remove(self.target_column)\n",
    "        if self.target_column in self.cat_cols:\n",
    "            self.cat_cols.remove(self.target_column)\n",
    "\n",
    "        # Fit label encoders for categorical columns\n",
    "        for col in self.cat_cols:\n",
    "            le = LabelEncoder()\n",
    "            df[col] = le.fit_transform(df[col])\n",
    "            self.label_encoders[col] = le  # Store encoder for later use\n",
    "\n",
    "        # Fit scaler on numerical columns\n",
    "        if self.num_cols:\n",
    "            self.scaler.fit(df[self.num_cols])\n",
    "\n",
    "        # Fit target label encoder\n",
    "        self.target_encoder.fit(df[self.target_column])\n",
    "\n",
    "    def setup(self, stage=None):\n",
    "        df = self.df.copy()\n",
    "\n",
    "        # Encode categorical columns safely\n",
    "        cat_features = []\n",
    "        for col in self.cat_cols:\n",
    "            if col in self.label_encoders:  # Ensure encoder exists\n",
    "                try:\n",
    "                    transformed = self.label_encoders[col].transform(df[col])\n",
    "                except ValueError:  # Handle unseen categories\n",
    "                    transformed = np.array([0] * len(df))  # Assign default category\n",
    "                cat_features.append(transformed.reshape(-1, 1))\n",
    "\n",
    "        cat_features = np.hstack(cat_features) if cat_features else np.zeros((len(df), 0))\n",
    "\n",
    "        # Scale numerical columns\n",
    "        if self.num_cols:\n",
    "            num_features = self.scaler.transform(df[self.num_cols])\n",
    "        else:\n",
    "            num_features = np.zeros((len(df), 0))  # Handle empty numerical features\n",
    "\n",
    "        # Concatenate numerical and categorical features\n",
    "        X = np.hstack([num_features, cat_features])\n",
    "        y = self.target_encoder.transform(df[self.target_column])  # Encode target\n",
    "\n",
    "        # Convert to PyTorch tensors\n",
    "        X_tensor = torch.tensor(X, dtype=torch.float32)\n",
    "        y_tensor = torch.tensor(y, dtype=torch.long)\n",
    "\n",
    "        # Create dataset\n",
    "        dataset = TensorDataset(X_tensor, y_tensor)\n",
    "\n",
    "        # Handle cases where test/val size could be 0\n",
    "        test_size = max(1, int(self.test_size * len(dataset)))\n",
    "        val_size = max(1, int(self.val_size * len(dataset)))\n",
    "        train_size = len(dataset) - test_size - val_size\n",
    "\n",
    "        # Ensure train_size is at least 1\n",
    "        if train_size < 1:\n",
    "            train_size = max(1, train_size)\n",
    "            val_size = max(1, val_size)\n",
    "            test_size = len(dataset) - train_size - val_size  # Adjust dynamically\n",
    "\n",
    "        self.train_dataset, self.val_dataset, self.test_dataset = random_split(\n",
    "            dataset, [train_size, val_size, test_size]\n",
    "        )\n",
    "\n",
    "    def train_dataloader(self):\n",
    "        return DataLoader(\n",
    "            self.train_dataset,\n",
    "            batch_size=self.batch_size,\n",
    "            shuffle=True,\n",
    "            num_workers=self.num_workers,\n",
    "            pin_memory=True,\n",
    "        )\n",
    "\n",
    "    def val_dataloader(self):\n",
    "        return DataLoader(\n",
    "            self.val_dataset,\n",
    "            batch_size=self.batch_size,\n",
    "            shuffle=False,\n",
    "            num_workers=self.num_workers,\n",
    "            pin_memory=True,\n",
    "        )\n",
    "\n",
    "    def test_dataloader(self):\n",
    "        return DataLoader(\n",
    "            self.test_dataset,\n",
    "            batch_size=self.batch_size,\n",
    "            shuffle=False,\n",
    "            num_workers=self.num_workers,\n",
    "            pin_memory=True,\n",
    "        )"
   ]
  },
  {
   "cell_type": "code",
   "execution_count": null,
   "id": "36f084d4-81df-40fa-88a5-cd85352d8d63",
   "metadata": {},
   "outputs": [],
   "source": [
    "df = pd.read_parquet(\"data/extracted_features.parquet\")\n",
    "\n",
    "df = df.replace([np.inf, -np.inf], np.nan).dropna(axis=1)\n",
    "df = df[\n",
    "    [\n",
    "        \"adf_p\",\n",
    "        \"approx_entropy\",\n",
    "        \"kpss_p\",\n",
    "        \"hurst_exponent\",\n",
    "        \"dfa\",\n",
    "        \"spectral_entropy\",\n",
    "        \"acf_3\",\n",
    "        \"acf_4\",\n",
    "        \"acf_2\",\n",
    "        \"cv\",\n",
    "        \"acf_5\",\n",
    "        \"stl_seasonal_std\",\n",
    "        \"acf_6\",\n",
    "        \"pacf_1\",\n",
    "        \"acf_7\",\n",
    "        \"acf_1\",\n",
    "        \"acf_8\",\n",
    "        \"svd_entropy\",\n",
    "        \"longest_positive_run\",\n",
    "        \"no_of_datapoints\",\n",
    "        \"stl_trend_std\",\n",
    "        \"skewness\",\n",
    "        \"perm_entropy\",\n",
    "        \"acf_9\",\n",
    "        \"iqr\",\n",
    "        \"num_peaks\",\n",
    "        \"mad\",\n",
    "        \"std\",\n",
    "        \"medad\",\n",
    "        \"fft_peak\",\n",
    "        \"best_model\",\n",
    "    ]\n",
    "]\n",
    "df[\"granularity\"] = df.index.map(lambda x: x[0])\n",
    "df = df[df.granularity == \"Y\"]"
   ]
  },
  {
   "cell_type": "code",
   "execution_count": null,
   "id": "bd1351c2-7972-4902-b410-9bc6ba0fbb38",
   "metadata": {},
   "outputs": [
    {
     "data": {
      "text/html": [
       "<div>\n",
       "<style scoped>\n",
       "    .dataframe tbody tr th:only-of-type {\n",
       "        vertical-align: middle;\n",
       "    }\n",
       "\n",
       "    .dataframe tbody tr th {\n",
       "        vertical-align: top;\n",
       "    }\n",
       "\n",
       "    .dataframe thead th {\n",
       "        text-align: right;\n",
       "    }\n",
       "</style>\n",
       "<table border=\"1\" class=\"dataframe\">\n",
       "  <thead>\n",
       "    <tr style=\"text-align: right;\">\n",
       "      <th></th>\n",
       "      <th>adf_p</th>\n",
       "      <th>approx_entropy</th>\n",
       "      <th>kpss_p</th>\n",
       "      <th>hurst_exponent</th>\n",
       "      <th>dfa</th>\n",
       "      <th>spectral_entropy</th>\n",
       "      <th>acf_3</th>\n",
       "      <th>acf_4</th>\n",
       "      <th>acf_2</th>\n",
       "      <th>cv</th>\n",
       "      <th>...</th>\n",
       "      <th>perm_entropy</th>\n",
       "      <th>acf_9</th>\n",
       "      <th>iqr</th>\n",
       "      <th>num_peaks</th>\n",
       "      <th>mad</th>\n",
       "      <th>std</th>\n",
       "      <th>medad</th>\n",
       "      <th>fft_peak</th>\n",
       "      <th>best_model</th>\n",
       "      <th>granularity</th>\n",
       "    </tr>\n",
       "  </thead>\n",
       "  <tbody>\n",
       "    <tr>\n",
       "      <th>Y22913</th>\n",
       "      <td>0.853813</td>\n",
       "      <td>0.173891</td>\n",
       "      <td>0.044816</td>\n",
       "      <td>1.075553</td>\n",
       "      <td>1.712483</td>\n",
       "      <td>2.043767</td>\n",
       "      <td>0.083644</td>\n",
       "      <td>0.029903</td>\n",
       "      <td>0.288571</td>\n",
       "      <td>0.154704</td>\n",
       "      <td>...</td>\n",
       "      <td>2.418961</td>\n",
       "      <td>0.022624</td>\n",
       "      <td>165.099976</td>\n",
       "      <td>4.0</td>\n",
       "      <td>131.534302</td>\n",
       "      <td>182.511734</td>\n",
       "      <td>90.969971</td>\n",
       "      <td>2.181735e+04</td>\n",
       "      <td>AutoETS</td>\n",
       "      <td>Y</td>\n",
       "    </tr>\n",
       "    <tr>\n",
       "      <th>Y22914</th>\n",
       "      <td>0.474260</td>\n",
       "      <td>0.212835</td>\n",
       "      <td>0.010610</td>\n",
       "      <td>0.871953</td>\n",
       "      <td>1.713866</td>\n",
       "      <td>2.067558</td>\n",
       "      <td>0.493805</td>\n",
       "      <td>0.361643</td>\n",
       "      <td>0.616590</td>\n",
       "      <td>0.334599</td>\n",
       "      <td>...</td>\n",
       "      <td>1.140068</td>\n",
       "      <td>0.216120</td>\n",
       "      <td>714.828918</td>\n",
       "      <td>2.0</td>\n",
       "      <td>385.583893</td>\n",
       "      <td>463.934845</td>\n",
       "      <td>375.533325</td>\n",
       "      <td>2.564162e+04</td>\n",
       "      <td>AutoTheta</td>\n",
       "      <td>Y</td>\n",
       "    </tr>\n",
       "    <tr>\n",
       "      <th>Y22923</th>\n",
       "      <td>0.012405</td>\n",
       "      <td>0.121413</td>\n",
       "      <td>0.061821</td>\n",
       "      <td>0.742512</td>\n",
       "      <td>1.305405</td>\n",
       "      <td>0.950454</td>\n",
       "      <td>0.347210</td>\n",
       "      <td>0.233375</td>\n",
       "      <td>0.566274</td>\n",
       "      <td>0.219326</td>\n",
       "      <td>...</td>\n",
       "      <td>2.307189</td>\n",
       "      <td>0.495337</td>\n",
       "      <td>600.000000</td>\n",
       "      <td>4.0</td>\n",
       "      <td>324.321350</td>\n",
       "      <td>363.265717</td>\n",
       "      <td>320.000000</td>\n",
       "      <td>3.063000e+04</td>\n",
       "      <td>AutoTheta</td>\n",
       "      <td>Y</td>\n",
       "    </tr>\n",
       "    <tr>\n",
       "      <th>Y22924</th>\n",
       "      <td>0.944756</td>\n",
       "      <td>0.198430</td>\n",
       "      <td>0.019794</td>\n",
       "      <td>1.089394</td>\n",
       "      <td>1.795032</td>\n",
       "      <td>1.645063</td>\n",
       "      <td>0.501115</td>\n",
       "      <td>0.325602</td>\n",
       "      <td>0.625242</td>\n",
       "      <td>0.325791</td>\n",
       "      <td>...</td>\n",
       "      <td>2.063559</td>\n",
       "      <td>0.314846</td>\n",
       "      <td>3060.000000</td>\n",
       "      <td>4.0</td>\n",
       "      <td>1802.493042</td>\n",
       "      <td>2142.020020</td>\n",
       "      <td>900.000000</td>\n",
       "      <td>1.215900e+05</td>\n",
       "      <td>CES</td>\n",
       "      <td>Y</td>\n",
       "    </tr>\n",
       "    <tr>\n",
       "      <th>Y22925</th>\n",
       "      <td>0.988861</td>\n",
       "      <td>0.157908</td>\n",
       "      <td>0.013609</td>\n",
       "      <td>0.735311</td>\n",
       "      <td>1.330696</td>\n",
       "      <td>1.969494</td>\n",
       "      <td>0.485675</td>\n",
       "      <td>0.396006</td>\n",
       "      <td>0.569674</td>\n",
       "      <td>0.271941</td>\n",
       "      <td>...</td>\n",
       "      <td>1.556901</td>\n",
       "      <td>0.266161</td>\n",
       "      <td>1173.000000</td>\n",
       "      <td>2.0</td>\n",
       "      <td>575.623230</td>\n",
       "      <td>656.248779</td>\n",
       "      <td>621.000000</td>\n",
       "      <td>4.462800e+04</td>\n",
       "      <td>AutoMFLES</td>\n",
       "      <td>Y</td>\n",
       "    </tr>\n",
       "    <tr>\n",
       "      <th>...</th>\n",
       "      <td>...</td>\n",
       "      <td>...</td>\n",
       "      <td>...</td>\n",
       "      <td>...</td>\n",
       "      <td>...</td>\n",
       "      <td>...</td>\n",
       "      <td>...</td>\n",
       "      <td>...</td>\n",
       "      <td>...</td>\n",
       "      <td>...</td>\n",
       "      <td>...</td>\n",
       "      <td>...</td>\n",
       "      <td>...</td>\n",
       "      <td>...</td>\n",
       "      <td>...</td>\n",
       "      <td>...</td>\n",
       "      <td>...</td>\n",
       "      <td>...</td>\n",
       "      <td>...</td>\n",
       "      <td>...</td>\n",
       "      <td>...</td>\n",
       "    </tr>\n",
       "    <tr>\n",
       "      <th>Y21058</th>\n",
       "      <td>0.006888</td>\n",
       "      <td>0.091336</td>\n",
       "      <td>0.027579</td>\n",
       "      <td>0.939807</td>\n",
       "      <td>1.260311</td>\n",
       "      <td>4.397556</td>\n",
       "      <td>0.897082</td>\n",
       "      <td>0.861514</td>\n",
       "      <td>0.932822</td>\n",
       "      <td>0.151439</td>\n",
       "      <td>...</td>\n",
       "      <td>2.281913</td>\n",
       "      <td>0.681457</td>\n",
       "      <td>1030.000000</td>\n",
       "      <td>137.0</td>\n",
       "      <td>872.500366</td>\n",
       "      <td>1431.285767</td>\n",
       "      <td>450.000000</td>\n",
       "      <td>6.998620e+06</td>\n",
       "      <td>AutoRegressive</td>\n",
       "      <td>Y</td>\n",
       "    </tr>\n",
       "    <tr>\n",
       "      <th>Y9954</th>\n",
       "      <td>0.139216</td>\n",
       "      <td>0.069007</td>\n",
       "      <td>0.010000</td>\n",
       "      <td>0.912576</td>\n",
       "      <td>1.402497</td>\n",
       "      <td>2.857009</td>\n",
       "      <td>0.935567</td>\n",
       "      <td>0.914806</td>\n",
       "      <td>0.956925</td>\n",
       "      <td>0.295074</td>\n",
       "      <td>...</td>\n",
       "      <td>1.079133</td>\n",
       "      <td>0.823715</td>\n",
       "      <td>997.750000</td>\n",
       "      <td>60.0</td>\n",
       "      <td>526.130981</td>\n",
       "      <td>627.253235</td>\n",
       "      <td>488.000000</td>\n",
       "      <td>1.627263e+06</td>\n",
       "      <td>AutoARIMA</td>\n",
       "      <td>Y</td>\n",
       "    </tr>\n",
       "    <tr>\n",
       "      <th>Y22755</th>\n",
       "      <td>0.031039</td>\n",
       "      <td>0.109345</td>\n",
       "      <td>0.010000</td>\n",
       "      <td>0.934446</td>\n",
       "      <td>1.392672</td>\n",
       "      <td>2.933853</td>\n",
       "      <td>0.924948</td>\n",
       "      <td>0.900637</td>\n",
       "      <td>0.949775</td>\n",
       "      <td>0.205451</td>\n",
       "      <td>...</td>\n",
       "      <td>1.205908</td>\n",
       "      <td>0.790049</td>\n",
       "      <td>3070.000000</td>\n",
       "      <td>76.0</td>\n",
       "      <td>1448.790405</td>\n",
       "      <td>1631.843750</td>\n",
       "      <td>1560.000000</td>\n",
       "      <td>6.358150e+06</td>\n",
       "      <td>AutoRegressive</td>\n",
       "      <td>Y</td>\n",
       "    </tr>\n",
       "    <tr>\n",
       "      <th>Y20492</th>\n",
       "      <td>0.991577</td>\n",
       "      <td>0.024429</td>\n",
       "      <td>0.010000</td>\n",
       "      <td>0.914175</td>\n",
       "      <td>1.692145</td>\n",
       "      <td>2.062266</td>\n",
       "      <td>0.991239</td>\n",
       "      <td>0.988084</td>\n",
       "      <td>0.994248</td>\n",
       "      <td>0.617424</td>\n",
       "      <td>...</td>\n",
       "      <td>1.959285</td>\n",
       "      <td>0.972205</td>\n",
       "      <td>5433.891602</td>\n",
       "      <td>122.0</td>\n",
       "      <td>2752.426025</td>\n",
       "      <td>3094.803223</td>\n",
       "      <td>3119.452881</td>\n",
       "      <td>4.142784e+06</td>\n",
       "      <td>CES</td>\n",
       "      <td>Y</td>\n",
       "    </tr>\n",
       "    <tr>\n",
       "      <th>Y13190</th>\n",
       "      <td>0.996276</td>\n",
       "      <td>0.048237</td>\n",
       "      <td>0.010000</td>\n",
       "      <td>0.894525</td>\n",
       "      <td>1.527781</td>\n",
       "      <td>2.179442</td>\n",
       "      <td>0.989652</td>\n",
       "      <td>0.986031</td>\n",
       "      <td>0.993182</td>\n",
       "      <td>0.722491</td>\n",
       "      <td>...</td>\n",
       "      <td>1.884321</td>\n",
       "      <td>0.969515</td>\n",
       "      <td>4778.107910</td>\n",
       "      <td>115.0</td>\n",
       "      <td>2711.011963</td>\n",
       "      <td>3221.067871</td>\n",
       "      <td>2974.418945</td>\n",
       "      <td>3.747184e+06</td>\n",
       "      <td>AutoTheta</td>\n",
       "      <td>Y</td>\n",
       "    </tr>\n",
       "  </tbody>\n",
       "</table>\n",
       "<p>4910 rows × 32 columns</p>\n",
       "</div>"
      ],
      "text/plain": [
       "           adf_p  approx_entropy    kpss_p  hurst_exponent       dfa  \\\n",
       "Y22913  0.853813        0.173891  0.044816        1.075553  1.712483   \n",
       "Y22914  0.474260        0.212835  0.010610        0.871953  1.713866   \n",
       "Y22923  0.012405        0.121413  0.061821        0.742512  1.305405   \n",
       "Y22924  0.944756        0.198430  0.019794        1.089394  1.795032   \n",
       "Y22925  0.988861        0.157908  0.013609        0.735311  1.330696   \n",
       "...          ...             ...       ...             ...       ...   \n",
       "Y21058  0.006888        0.091336  0.027579        0.939807  1.260311   \n",
       "Y9954   0.139216        0.069007  0.010000        0.912576  1.402497   \n",
       "Y22755  0.031039        0.109345  0.010000        0.934446  1.392672   \n",
       "Y20492  0.991577        0.024429  0.010000        0.914175  1.692145   \n",
       "Y13190  0.996276        0.048237  0.010000        0.894525  1.527781   \n",
       "\n",
       "        spectral_entropy     acf_3     acf_4     acf_2        cv  ...  \\\n",
       "Y22913          2.043767  0.083644  0.029903  0.288571  0.154704  ...   \n",
       "Y22914          2.067558  0.493805  0.361643  0.616590  0.334599  ...   \n",
       "Y22923          0.950454  0.347210  0.233375  0.566274  0.219326  ...   \n",
       "Y22924          1.645063  0.501115  0.325602  0.625242  0.325791  ...   \n",
       "Y22925          1.969494  0.485675  0.396006  0.569674  0.271941  ...   \n",
       "...                  ...       ...       ...       ...       ...  ...   \n",
       "Y21058          4.397556  0.897082  0.861514  0.932822  0.151439  ...   \n",
       "Y9954           2.857009  0.935567  0.914806  0.956925  0.295074  ...   \n",
       "Y22755          2.933853  0.924948  0.900637  0.949775  0.205451  ...   \n",
       "Y20492          2.062266  0.991239  0.988084  0.994248  0.617424  ...   \n",
       "Y13190          2.179442  0.989652  0.986031  0.993182  0.722491  ...   \n",
       "\n",
       "        perm_entropy     acf_9          iqr  num_peaks          mad  \\\n",
       "Y22913      2.418961  0.022624   165.099976        4.0   131.534302   \n",
       "Y22914      1.140068  0.216120   714.828918        2.0   385.583893   \n",
       "Y22923      2.307189  0.495337   600.000000        4.0   324.321350   \n",
       "Y22924      2.063559  0.314846  3060.000000        4.0  1802.493042   \n",
       "Y22925      1.556901  0.266161  1173.000000        2.0   575.623230   \n",
       "...              ...       ...          ...        ...          ...   \n",
       "Y21058      2.281913  0.681457  1030.000000      137.0   872.500366   \n",
       "Y9954       1.079133  0.823715   997.750000       60.0   526.130981   \n",
       "Y22755      1.205908  0.790049  3070.000000       76.0  1448.790405   \n",
       "Y20492      1.959285  0.972205  5433.891602      122.0  2752.426025   \n",
       "Y13190      1.884321  0.969515  4778.107910      115.0  2711.011963   \n",
       "\n",
       "                std        medad      fft_peak      best_model  granularity  \n",
       "Y22913   182.511734    90.969971  2.181735e+04         AutoETS            Y  \n",
       "Y22914   463.934845   375.533325  2.564162e+04       AutoTheta            Y  \n",
       "Y22923   363.265717   320.000000  3.063000e+04       AutoTheta            Y  \n",
       "Y22924  2142.020020   900.000000  1.215900e+05             CES            Y  \n",
       "Y22925   656.248779   621.000000  4.462800e+04       AutoMFLES            Y  \n",
       "...             ...          ...           ...             ...          ...  \n",
       "Y21058  1431.285767   450.000000  6.998620e+06  AutoRegressive            Y  \n",
       "Y9954    627.253235   488.000000  1.627263e+06       AutoARIMA            Y  \n",
       "Y22755  1631.843750  1560.000000  6.358150e+06  AutoRegressive            Y  \n",
       "Y20492  3094.803223  3119.452881  4.142784e+06             CES            Y  \n",
       "Y13190  3221.067871  2974.418945  3.747184e+06       AutoTheta            Y  \n",
       "\n",
       "[4910 rows x 32 columns]"
      ]
     },
     "execution_count": null,
     "metadata": {},
     "output_type": "execute_result"
    }
   ],
   "source": [
    "df"
   ]
  },
  {
   "cell_type": "code",
   "execution_count": null,
   "id": "05424532-8e60-48d5-ada2-9a5a29971d7c",
   "metadata": {},
   "outputs": [],
   "source": []
  },
  {
   "cell_type": "code",
   "execution_count": null,
   "id": "bfb40fbc-8c95-4254-8dc1-8b1f38d592f4",
   "metadata": {},
   "outputs": [],
   "source": [
    "target_column = \"best_model\"\n",
    "batch_size = 2408 * 6\n",
    "num_workers = 24\n",
    "test_size = 0.2\n",
    "val_size = 0.1\n",
    "ds = TabularDataLoader(df, target_column, batch_size, num_workers, test_size, val_size)"
   ]
  },
  {
   "cell_type": "code",
   "execution_count": null,
   "id": "0a8964b0-116f-4594-b861-d23811797d38",
   "metadata": {},
   "outputs": [],
   "source": [
    "import pytorch_lightning as pl\n",
    "import torch\n",
    "import torch.nn as nn\n",
    "import torch.nn.functional as F\n",
    "import torch.optim as optim\n",
    "import torchmetrics\n",
    "\n",
    "\n",
    "class NN(pl.LightningModule):\n",
    "\n",
    "    def __init__(self, input_shape, output_shape):\n",
    "        super(NN, self).__init__()\n",
    "\n",
    "        self.fc1 = nn.Linear(input_shape, 256)\n",
    "        self.bn1 = nn.BatchNorm1d(256)\n",
    "\n",
    "        self.fc2 = nn.Linear(256, 512)\n",
    "        self.bn2 = nn.BatchNorm1d(512)\n",
    "\n",
    "        self.fc3 = nn.Linear(512, 512)\n",
    "        self.bn3 = nn.BatchNorm1d(512)\n",
    "\n",
    "        self.fc4 = nn.Linear(512, 256)\n",
    "        self.bn4 = nn.BatchNorm1d(256)\n",
    "\n",
    "        self.fc5 = nn.Linear(256, 128)\n",
    "        self.bn5 = nn.BatchNorm1d(128)\n",
    "\n",
    "        self.fc6 = nn.Linear(128, output_shape)\n",
    "\n",
    "        self.dropout = nn.Dropout(0.1)  # Dropout for regularization\n",
    "\n",
    "        self.accuracy = torchmetrics.Accuracy(\n",
    "            task=\"multiclass\", num_classes=output_shape, average=\"macro\"\n",
    "        )\n",
    "        self.f1_score = torchmetrics.F1Score(\n",
    "            task=\"multiclass\", num_classes=output_shape, average=\"macro\"\n",
    "        )\n",
    "\n",
    "        self.lr = 1e-3\n",
    "\n",
    "        self._init_weights()  # Initialize weights\n",
    "\n",
    "    def _init_weights(self):\n",
    "        for m in self.modules():\n",
    "            if isinstance(m, nn.Linear):\n",
    "                nn.init.kaiming_normal_(m.weight, nonlinearity=\"relu\")  # Better weight init\n",
    "                if m.bias is not None:\n",
    "                    nn.init.zeros_(m.bias)\n",
    "\n",
    "    def forward(self, x):\n",
    "\n",
    "        x = self.bn1(self.fc1(x))\n",
    "        x = F.gelu(x)\n",
    "        x = self.dropout(x)\n",
    "\n",
    "        x = self.bn2(self.fc2(x))\n",
    "        x = F.gelu(x)\n",
    "        x = self.dropout(x)\n",
    "\n",
    "        x = self.bn3(self.fc3(x))\n",
    "        x = F.gelu(x)\n",
    "        x = self.dropout(x)\n",
    "\n",
    "        x = self.bn4(self.fc4(x))\n",
    "        x = F.gelu(x)\n",
    "        x = self.dropout(x)\n",
    "\n",
    "        x = self.bn5(self.fc5(x))\n",
    "        x = F.gelu(x)\n",
    "        x = self.dropout(x)\n",
    "\n",
    "        return self.fc6(x)  # Output logits\n",
    "\n",
    "    def _common_step(self, batch, batch_idx):\n",
    "        x, y = batch\n",
    "        x_hat = self.forward(x)\n",
    "        loss = F.cross_entropy(x_hat, y)\n",
    "        return loss, x_hat, y\n",
    "\n",
    "    def training_step(self, batch, batch_idx):\n",
    "        loss, x_hat, y = self._common_step(batch, batch_idx)\n",
    "        accuracy = self.accuracy(x_hat, y)\n",
    "        f1_score = self.f1_score(x_hat, y)\n",
    "\n",
    "        self.log_dict(\n",
    "            {\"train_loss\": loss, \"train_accuracy\": accuracy, \"train_f1score\": f1_score},\n",
    "            prog_bar=True,\n",
    "        )\n",
    "        return loss\n",
    "\n",
    "    def validation_step(self, batch, batch_idx):\n",
    "        loss, x_hat, y = self._common_step(batch, batch_idx)\n",
    "        accuracy = self.accuracy(x_hat, y)\n",
    "        f1_score = self.f1_score(x_hat, y)\n",
    "\n",
    "        self.log_dict(\n",
    "            {\"val_loss\": loss, \"val_accuracy\": accuracy, \"val_f1score\": f1_score}, prog_bar=True\n",
    "        )\n",
    "        return loss\n",
    "\n",
    "    def test_step(self, batch, batch_idx):\n",
    "        loss, x_hat, y = self._common_step(batch, batch_idx)\n",
    "        accuracy = self.accuracy(x_hat, y)\n",
    "        f1_score = self.f1_score(x_hat, y)\n",
    "\n",
    "        self.log_dict(\n",
    "            {\"test_loss\": loss, \"test_accuracy\": accuracy, \"test_f1score\": f1_score}, prog_bar=True\n",
    "        )\n",
    "        return loss\n",
    "\n",
    "    def configure_optimizers(self):\n",
    "        optimizer = optim.AdamW(\n",
    "            self.parameters(), lr=self.lr, weight_decay=1e-4\n",
    "        )  # AdamW for better generalization\n",
    "        scheduler = optim.lr_scheduler.ReduceLROnPlateau(\n",
    "            optimizer, mode=\"min\", factor=0.5, patience=5\n",
    "        )\n",
    "        return {\n",
    "            \"optimizer\": optimizer,\n",
    "            \"lr_scheduler\": {\"scheduler\": scheduler, \"monitor\": \"val_loss\"},\n",
    "        }"
   ]
  },
  {
   "cell_type": "code",
   "execution_count": null,
   "id": "6bf49bc7-191a-4002-87a0-5d434a0153b0",
   "metadata": {},
   "outputs": [],
   "source": [
    "# Hyperparametersa\n",
    "input_shape = df.shape[1] - 1\n",
    "output_shape = len(df.best_model.unique())\n",
    "\n",
    "model = NN(input_shape, output_shape)"
   ]
  },
  {
   "cell_type": "code",
   "execution_count": null,
   "id": "b8c67424-ab5c-41e1-8532-7af4af5edd71",
   "metadata": {},
   "outputs": [
    {
     "name": "stderr",
     "output_type": "stream",
     "text": [
      "GPU available: True (cuda), used: True\n",
      "TPU available: False, using: 0 TPU cores\n",
      "HPU available: False, using: 0 HPUs\n",
      "/home/pranav-pc/projects/ts/ts/classification/.venv/lib/python3.11/site-packages/pytorch_lightning/callbacks/model_checkpoint.py:654: Checkpoint directory /home/pranav-pc/projects/ts/nbs/src/checkpoints exists and is not empty.\n",
      "LOCAL_RANK: 0 - CUDA_VISIBLE_DEVICES: [0]\n",
      "\n",
      "   | Name     | Type               | Params | Mode \n",
      "---------------------------------------------------------\n",
      "0  | fc1      | Linear             | 8.2 K  | train\n",
      "1  | bn1      | BatchNorm1d        | 512    | train\n",
      "2  | fc2      | Linear             | 131 K  | train\n",
      "3  | bn2      | BatchNorm1d        | 1.0 K  | train\n",
      "4  | fc3      | Linear             | 262 K  | train\n",
      "5  | bn3      | BatchNorm1d        | 1.0 K  | train\n",
      "6  | fc4      | Linear             | 131 K  | train\n",
      "7  | bn4      | BatchNorm1d        | 512    | train\n",
      "8  | fc5      | Linear             | 32.9 K | train\n",
      "9  | bn5      | BatchNorm1d        | 256    | train\n",
      "10 | fc6      | Linear             | 903    | train\n",
      "11 | dropout  | Dropout            | 0      | train\n",
      "12 | accuracy | MulticlassAccuracy | 0      | train\n",
      "13 | f1_score | MulticlassF1Score  | 0      | train\n",
      "---------------------------------------------------------\n",
      "570 K     Trainable params\n",
      "0         Non-trainable params\n",
      "570 K     Total params\n",
      "2.284     Total estimated model params size (MB)\n",
      "14        Modules in train mode\n",
      "0         Modules in eval mode\n"
     ]
    },
    {
     "data": {
      "application/vnd.jupyter.widget-view+json": {
       "model_id": "a5b8f6beb26d4605b4dca6a36412237b",
       "version_major": 2,
       "version_minor": 0
      },
      "text/plain": [
       "Sanity Checking: |                                        | 0/? [00:00<?, ?it/s]"
      ]
     },
     "metadata": {},
     "output_type": "display_data"
    },
    {
     "name": "stderr",
     "output_type": "stream",
     "text": [
      "/home/pranav-pc/projects/ts/ts/classification/.venv/lib/python3.11/site-packages/pytorch_lightning/loops/fit_loop.py:310: The number of training batches (1) is smaller than the logging interval Trainer(log_every_n_steps=50). Set a lower value for log_every_n_steps if you want to see logs for the training epoch.\n"
     ]
    },
    {
     "data": {
      "application/vnd.jupyter.widget-view+json": {
       "model_id": "e925814ffe8b44df9dfc8733e46cb012",
       "version_major": 2,
       "version_minor": 0
      },
      "text/plain": [
       "Training: |                                               | 0/? [00:00<?, ?it/s]"
      ]
     },
     "metadata": {},
     "output_type": "display_data"
    },
    {
     "data": {
      "application/vnd.jupyter.widget-view+json": {
       "model_id": "015c26c5185a43f2b794be0c78eb3e61",
       "version_major": 2,
       "version_minor": 0
      },
      "text/plain": [
       "Validation: |                                             | 0/? [00:00<?, ?it/s]"
      ]
     },
     "metadata": {},
     "output_type": "display_data"
    },
    {
     "data": {
      "application/vnd.jupyter.widget-view+json": {
       "model_id": "7af9687280774507909c4485180ea9d8",
       "version_major": 2,
       "version_minor": 0
      },
      "text/plain": [
       "Validation: |                                             | 0/? [00:00<?, ?it/s]"
      ]
     },
     "metadata": {},
     "output_type": "display_data"
    },
    {
     "data": {
      "application/vnd.jupyter.widget-view+json": {
       "model_id": "ea3540d73ad14a828e8fe7ea47c0173e",
       "version_major": 2,
       "version_minor": 0
      },
      "text/plain": [
       "Validation: |                                             | 0/? [00:00<?, ?it/s]"
      ]
     },
     "metadata": {},
     "output_type": "display_data"
    },
    {
     "data": {
      "application/vnd.jupyter.widget-view+json": {
       "model_id": "b6cfc815bed049b3b0640e914511d9b4",
       "version_major": 2,
       "version_minor": 0
      },
      "text/plain": [
       "Validation: |                                             | 0/? [00:00<?, ?it/s]"
      ]
     },
     "metadata": {},
     "output_type": "display_data"
    },
    {
     "data": {
      "application/vnd.jupyter.widget-view+json": {
       "model_id": "1c573ef35cce4fdba7e0a72cfddbf613",
       "version_major": 2,
       "version_minor": 0
      },
      "text/plain": [
       "Validation: |                                             | 0/? [00:00<?, ?it/s]"
      ]
     },
     "metadata": {},
     "output_type": "display_data"
    },
    {
     "data": {
      "application/vnd.jupyter.widget-view+json": {
       "model_id": "736435fe560c4186b61014c7e4da19d0",
       "version_major": 2,
       "version_minor": 0
      },
      "text/plain": [
       "Validation: |                                             | 0/? [00:00<?, ?it/s]"
      ]
     },
     "metadata": {},
     "output_type": "display_data"
    },
    {
     "data": {
      "application/vnd.jupyter.widget-view+json": {
       "model_id": "121ad428adb9410097b4c8e057ad74ca",
       "version_major": 2,
       "version_minor": 0
      },
      "text/plain": [
       "Validation: |                                             | 0/? [00:00<?, ?it/s]"
      ]
     },
     "metadata": {},
     "output_type": "display_data"
    },
    {
     "data": {
      "application/vnd.jupyter.widget-view+json": {
       "model_id": "8bf0f562f1b84fb6be65e0929a82a7e6",
       "version_major": 2,
       "version_minor": 0
      },
      "text/plain": [
       "Validation: |                                             | 0/? [00:00<?, ?it/s]"
      ]
     },
     "metadata": {},
     "output_type": "display_data"
    },
    {
     "data": {
      "application/vnd.jupyter.widget-view+json": {
       "model_id": "6153b967bc93416dafa57c288efea641",
       "version_major": 2,
       "version_minor": 0
      },
      "text/plain": [
       "Validation: |                                             | 0/? [00:00<?, ?it/s]"
      ]
     },
     "metadata": {},
     "output_type": "display_data"
    },
    {
     "data": {
      "application/vnd.jupyter.widget-view+json": {
       "model_id": "83808ba7a1c24498ae1535d6f338868d",
       "version_major": 2,
       "version_minor": 0
      },
      "text/plain": [
       "Validation: |                                             | 0/? [00:00<?, ?it/s]"
      ]
     },
     "metadata": {},
     "output_type": "display_data"
    },
    {
     "data": {
      "application/vnd.jupyter.widget-view+json": {
       "model_id": "b6fb743c17d844d8b59581188de79d2b",
       "version_major": 2,
       "version_minor": 0
      },
      "text/plain": [
       "Validation: |                                             | 0/? [00:00<?, ?it/s]"
      ]
     },
     "metadata": {},
     "output_type": "display_data"
    },
    {
     "data": {
      "application/vnd.jupyter.widget-view+json": {
       "model_id": "1e506c118f30442182772803f825dc7f",
       "version_major": 2,
       "version_minor": 0
      },
      "text/plain": [
       "Validation: |                                             | 0/? [00:00<?, ?it/s]"
      ]
     },
     "metadata": {},
     "output_type": "display_data"
    },
    {
     "data": {
      "application/vnd.jupyter.widget-view+json": {
       "model_id": "f985744d7a3f406eae059889b35edce7",
       "version_major": 2,
       "version_minor": 0
      },
      "text/plain": [
       "Validation: |                                             | 0/? [00:00<?, ?it/s]"
      ]
     },
     "metadata": {},
     "output_type": "display_data"
    },
    {
     "data": {
      "application/vnd.jupyter.widget-view+json": {
       "model_id": "4533b40716f04f33b00d36426a1a11eb",
       "version_major": 2,
       "version_minor": 0
      },
      "text/plain": [
       "Validation: |                                             | 0/? [00:00<?, ?it/s]"
      ]
     },
     "metadata": {},
     "output_type": "display_data"
    },
    {
     "data": {
      "application/vnd.jupyter.widget-view+json": {
       "model_id": "67bf99f08823410891f1b3920c92da57",
       "version_major": 2,
       "version_minor": 0
      },
      "text/plain": [
       "Validation: |                                             | 0/? [00:00<?, ?it/s]"
      ]
     },
     "metadata": {},
     "output_type": "display_data"
    },
    {
     "data": {
      "application/vnd.jupyter.widget-view+json": {
       "model_id": "656d424d93c148f08ae48335c1398526",
       "version_major": 2,
       "version_minor": 0
      },
      "text/plain": [
       "Validation: |                                             | 0/? [00:00<?, ?it/s]"
      ]
     },
     "metadata": {},
     "output_type": "display_data"
    },
    {
     "data": {
      "application/vnd.jupyter.widget-view+json": {
       "model_id": "dd3e8db68c3a4458a4b7b9b096f10087",
       "version_major": 2,
       "version_minor": 0
      },
      "text/plain": [
       "Validation: |                                             | 0/? [00:00<?, ?it/s]"
      ]
     },
     "metadata": {},
     "output_type": "display_data"
    },
    {
     "data": {
      "application/vnd.jupyter.widget-view+json": {
       "model_id": "c86202ab427641c5820800b296f5d18e",
       "version_major": 2,
       "version_minor": 0
      },
      "text/plain": [
       "Validation: |                                             | 0/? [00:00<?, ?it/s]"
      ]
     },
     "metadata": {},
     "output_type": "display_data"
    },
    {
     "data": {
      "application/vnd.jupyter.widget-view+json": {
       "model_id": "67f59384221b4a7dae76d94d926fe221",
       "version_major": 2,
       "version_minor": 0
      },
      "text/plain": [
       "Validation: |                                             | 0/? [00:00<?, ?it/s]"
      ]
     },
     "metadata": {},
     "output_type": "display_data"
    },
    {
     "data": {
      "application/vnd.jupyter.widget-view+json": {
       "model_id": "f5067f8e809143c9bc1c478c3da8fa97",
       "version_major": 2,
       "version_minor": 0
      },
      "text/plain": [
       "Validation: |                                             | 0/? [00:00<?, ?it/s]"
      ]
     },
     "metadata": {},
     "output_type": "display_data"
    },
    {
     "data": {
      "application/vnd.jupyter.widget-view+json": {
       "model_id": "f469732f3f454174a75d89320f5e3e36",
       "version_major": 2,
       "version_minor": 0
      },
      "text/plain": [
       "Validation: |                                             | 0/? [00:00<?, ?it/s]"
      ]
     },
     "metadata": {},
     "output_type": "display_data"
    },
    {
     "data": {
      "application/vnd.jupyter.widget-view+json": {
       "model_id": "45fa8547f51142a6870c5e54a2db006d",
       "version_major": 2,
       "version_minor": 0
      },
      "text/plain": [
       "Validation: |                                             | 0/? [00:00<?, ?it/s]"
      ]
     },
     "metadata": {},
     "output_type": "display_data"
    },
    {
     "data": {
      "application/vnd.jupyter.widget-view+json": {
       "model_id": "717ac659d8fa453ea9aa6fe5297de229",
       "version_major": 2,
       "version_minor": 0
      },
      "text/plain": [
       "Validation: |                                             | 0/? [00:00<?, ?it/s]"
      ]
     },
     "metadata": {},
     "output_type": "display_data"
    },
    {
     "data": {
      "application/vnd.jupyter.widget-view+json": {
       "model_id": "01cccd7c646b4e90b95a6d8044c1e78b",
       "version_major": 2,
       "version_minor": 0
      },
      "text/plain": [
       "Validation: |                                             | 0/? [00:00<?, ?it/s]"
      ]
     },
     "metadata": {},
     "output_type": "display_data"
    },
    {
     "data": {
      "application/vnd.jupyter.widget-view+json": {
       "model_id": "81dc87718a4b4700b9cc717e916e48ce",
       "version_major": 2,
       "version_minor": 0
      },
      "text/plain": [
       "Validation: |                                             | 0/? [00:00<?, ?it/s]"
      ]
     },
     "metadata": {},
     "output_type": "display_data"
    },
    {
     "data": {
      "application/vnd.jupyter.widget-view+json": {
       "model_id": "6da53373a6dd4473ab369bbc96c6349f",
       "version_major": 2,
       "version_minor": 0
      },
      "text/plain": [
       "Validation: |                                             | 0/? [00:00<?, ?it/s]"
      ]
     },
     "metadata": {},
     "output_type": "display_data"
    },
    {
     "data": {
      "application/vnd.jupyter.widget-view+json": {
       "model_id": "cbacd2b55e204b6db1980272c3eaf4fc",
       "version_major": 2,
       "version_minor": 0
      },
      "text/plain": [
       "Validation: |                                             | 0/? [00:00<?, ?it/s]"
      ]
     },
     "metadata": {},
     "output_type": "display_data"
    },
    {
     "data": {
      "application/vnd.jupyter.widget-view+json": {
       "model_id": "55a9e5599dbf41349284df043dcb2329",
       "version_major": 2,
       "version_minor": 0
      },
      "text/plain": [
       "Validation: |                                             | 0/? [00:00<?, ?it/s]"
      ]
     },
     "metadata": {},
     "output_type": "display_data"
    },
    {
     "data": {
      "application/vnd.jupyter.widget-view+json": {
       "model_id": "5b26a722f1ab45cab9152136a59fe8ef",
       "version_major": 2,
       "version_minor": 0
      },
      "text/plain": [
       "Validation: |                                             | 0/? [00:00<?, ?it/s]"
      ]
     },
     "metadata": {},
     "output_type": "display_data"
    },
    {
     "data": {
      "application/vnd.jupyter.widget-view+json": {
       "model_id": "32b4a6507aa349f6bebb61d89feb86aa",
       "version_major": 2,
       "version_minor": 0
      },
      "text/plain": [
       "Validation: |                                             | 0/? [00:00<?, ?it/s]"
      ]
     },
     "metadata": {},
     "output_type": "display_data"
    },
    {
     "data": {
      "application/vnd.jupyter.widget-view+json": {
       "model_id": "d56e81b5bed4429fb6dab3fd31fec5e4",
       "version_major": 2,
       "version_minor": 0
      },
      "text/plain": [
       "Validation: |                                             | 0/? [00:00<?, ?it/s]"
      ]
     },
     "metadata": {},
     "output_type": "display_data"
    },
    {
     "data": {
      "application/vnd.jupyter.widget-view+json": {
       "model_id": "61a09a81252c4d00ba7e110ced516440",
       "version_major": 2,
       "version_minor": 0
      },
      "text/plain": [
       "Validation: |                                             | 0/? [00:00<?, ?it/s]"
      ]
     },
     "metadata": {},
     "output_type": "display_data"
    },
    {
     "data": {
      "application/vnd.jupyter.widget-view+json": {
       "model_id": "3cb686e9a0d44190a04c94e46081bcef",
       "version_major": 2,
       "version_minor": 0
      },
      "text/plain": [
       "Validation: |                                             | 0/? [00:00<?, ?it/s]"
      ]
     },
     "metadata": {},
     "output_type": "display_data"
    },
    {
     "data": {
      "application/vnd.jupyter.widget-view+json": {
       "model_id": "571f13c9362f4f1d90705ef0c2a35224",
       "version_major": 2,
       "version_minor": 0
      },
      "text/plain": [
       "Validation: |                                             | 0/? [00:00<?, ?it/s]"
      ]
     },
     "metadata": {},
     "output_type": "display_data"
    },
    {
     "data": {
      "application/vnd.jupyter.widget-view+json": {
       "model_id": "7e5ea01410874c4cb6193ba0fd0c38dc",
       "version_major": 2,
       "version_minor": 0
      },
      "text/plain": [
       "Validation: |                                             | 0/? [00:00<?, ?it/s]"
      ]
     },
     "metadata": {},
     "output_type": "display_data"
    },
    {
     "data": {
      "application/vnd.jupyter.widget-view+json": {
       "model_id": "207397a05eb34464b0e119242446bcbd",
       "version_major": 2,
       "version_minor": 0
      },
      "text/plain": [
       "Validation: |                                             | 0/? [00:00<?, ?it/s]"
      ]
     },
     "metadata": {},
     "output_type": "display_data"
    },
    {
     "data": {
      "application/vnd.jupyter.widget-view+json": {
       "model_id": "1d652562cb2749ab8c9a88ba91fc5877",
       "version_major": 2,
       "version_minor": 0
      },
      "text/plain": [
       "Validation: |                                             | 0/? [00:00<?, ?it/s]"
      ]
     },
     "metadata": {},
     "output_type": "display_data"
    },
    {
     "data": {
      "application/vnd.jupyter.widget-view+json": {
       "model_id": "98c785424a404ab89cb8b9b3486040c6",
       "version_major": 2,
       "version_minor": 0
      },
      "text/plain": [
       "Validation: |                                             | 0/? [00:00<?, ?it/s]"
      ]
     },
     "metadata": {},
     "output_type": "display_data"
    },
    {
     "data": {
      "application/vnd.jupyter.widget-view+json": {
       "model_id": "2641b51df5b34385874a78fcaf3081fc",
       "version_major": 2,
       "version_minor": 0
      },
      "text/plain": [
       "Validation: |                                             | 0/? [00:00<?, ?it/s]"
      ]
     },
     "metadata": {},
     "output_type": "display_data"
    },
    {
     "data": {
      "application/vnd.jupyter.widget-view+json": {
       "model_id": "bf0d9d7374984adf97a4c76f53bbd35a",
       "version_major": 2,
       "version_minor": 0
      },
      "text/plain": [
       "Validation: |                                             | 0/? [00:00<?, ?it/s]"
      ]
     },
     "metadata": {},
     "output_type": "display_data"
    },
    {
     "data": {
      "application/vnd.jupyter.widget-view+json": {
       "model_id": "2f42410f52fe492bb2f8f3b2ea7f29b5",
       "version_major": 2,
       "version_minor": 0
      },
      "text/plain": [
       "Validation: |                                             | 0/? [00:00<?, ?it/s]"
      ]
     },
     "metadata": {},
     "output_type": "display_data"
    }
   ],
   "source": [
    "logger = pl.loggers.TensorBoardLogger(save_dir=\"./log/\", name=\"model_classifier\", version=0.1)\n",
    "\n",
    "\n",
    "# saves top-K checkpoints based on \"val_loss\" metric\n",
    "checkpoint_callback = pl.callbacks.ModelCheckpoint(\n",
    "    save_top_k=3,\n",
    "    monitor=\"val_f1score\",\n",
    "    mode=\"max\",\n",
    "    dirpath=\"checkpoints/\",\n",
    "    filename=\"model-classifier-{epoch}-{val_f1score}\",\n",
    ")\n",
    "\n",
    "\n",
    "trainer = pl.Trainer(\n",
    "    logger=logger,\n",
    "    accelerator=\"auto\",\n",
    "    devices=[0],\n",
    "    min_epochs=1,\n",
    "    max_epochs=1000,\n",
    "    # precision='16-mixed',\n",
    "    enable_model_summary=True,\n",
    "    callbacks=[\n",
    "        pl.callbacks.EarlyStopping(\"val_loss\", patience=15, verbose=False),\n",
    "        checkpoint_callback,\n",
    "    ],\n",
    "    #     default_root_dir=\"mnist_checkpoints/\",\n",
    "    enable_checkpointing=True,\n",
    ")\n",
    "if checkpoint_callback.best_model_path:\n",
    "    trainer.fit(\n",
    "        model,\n",
    "        ds,\n",
    "        ckpt_path=checkpoint_callback.best_model_path,\n",
    "    )\n",
    "else:\n",
    "    trainer.fit(model, ds)"
   ]
  },
  {
   "cell_type": "code",
   "execution_count": null,
   "id": "06b0249d-28af-4ba9-8d7c-46c43549575f",
   "metadata": {},
   "outputs": [
    {
     "name": "stderr",
     "output_type": "stream",
     "text": [
      "LOCAL_RANK: 0 - CUDA_VISIBLE_DEVICES: [0]\n"
     ]
    },
    {
     "data": {
      "application/vnd.jupyter.widget-view+json": {
       "model_id": "2038b1b963074c439e559f1ce846b39a",
       "version_major": 2,
       "version_minor": 0
      },
      "text/plain": [
       "Validation: |                                             | 0/? [00:00<?, ?it/s]"
      ]
     },
     "metadata": {},
     "output_type": "display_data"
    },
    {
     "data": {
      "text/html": [
       "<pre style=\"white-space:pre;overflow-x:auto;line-height:normal;font-family:Menlo,'DejaVu Sans Mono',consolas,'Courier New',monospace\">┏━━━━━━━━━━━━━━━━━━━━━━━━━━━┳━━━━━━━━━━━━━━━━━━━━━━━━━━━┓\n",
       "┃<span style=\"font-weight: bold\">      Validate metric      </span>┃<span style=\"font-weight: bold\">       DataLoader 0        </span>┃\n",
       "┡━━━━━━━━━━━━━━━━━━━━━━━━━━━╇━━━━━━━━━━━━━━━━━━━━━━━━━━━┩\n",
       "│<span style=\"color: #008080; text-decoration-color: #008080\">       val_accuracy        </span>│<span style=\"color: #800080; text-decoration-color: #800080\">    0.4716852307319641     </span>│\n",
       "│<span style=\"color: #008080; text-decoration-color: #008080\">        val_f1score        </span>│<span style=\"color: #800080; text-decoration-color: #800080\">    0.4603056311607361     </span>│\n",
       "│<span style=\"color: #008080; text-decoration-color: #008080\">         val_loss          </span>│<span style=\"color: #800080; text-decoration-color: #800080\">    1.4898335933685303     </span>│\n",
       "└───────────────────────────┴───────────────────────────┘\n",
       "</pre>\n"
      ],
      "text/plain": [
       "┏━━━━━━━━━━━━━━━━━━━━━━━━━━━┳━━━━━━━━━━━━━━━━━━━━━━━━━━━┓\n",
       "┃\u001b[1m \u001b[0m\u001b[1m     Validate metric     \u001b[0m\u001b[1m \u001b[0m┃\u001b[1m \u001b[0m\u001b[1m      DataLoader 0       \u001b[0m\u001b[1m \u001b[0m┃\n",
       "┡━━━━━━━━━━━━━━━━━━━━━━━━━━━╇━━━━━━━━━━━━━━━━━━━━━━━━━━━┩\n",
       "│\u001b[36m \u001b[0m\u001b[36m      val_accuracy       \u001b[0m\u001b[36m \u001b[0m│\u001b[35m \u001b[0m\u001b[35m   0.4716852307319641    \u001b[0m\u001b[35m \u001b[0m│\n",
       "│\u001b[36m \u001b[0m\u001b[36m       val_f1score       \u001b[0m\u001b[36m \u001b[0m│\u001b[35m \u001b[0m\u001b[35m   0.4603056311607361    \u001b[0m\u001b[35m \u001b[0m│\n",
       "│\u001b[36m \u001b[0m\u001b[36m        val_loss         \u001b[0m\u001b[36m \u001b[0m│\u001b[35m \u001b[0m\u001b[35m   1.4898335933685303    \u001b[0m\u001b[35m \u001b[0m│\n",
       "└───────────────────────────┴───────────────────────────┘\n"
      ]
     },
     "metadata": {},
     "output_type": "display_data"
    }
   ],
   "source": [
    "trainer.validate(model, ds);\n",
    "#"
   ]
  },
  {
   "cell_type": "code",
   "execution_count": null,
   "id": "f41c5c20-beac-4a89-8e3e-6428ca444cf5",
   "metadata": {},
   "outputs": [
    {
     "name": "stderr",
     "output_type": "stream",
     "text": [
      "LOCAL_RANK: 0 - CUDA_VISIBLE_DEVICES: [0]\n"
     ]
    },
    {
     "data": {
      "application/vnd.jupyter.widget-view+json": {
       "model_id": "a894c6e679294beeb320cae6c7697def",
       "version_major": 2,
       "version_minor": 0
      },
      "text/plain": [
       "Testing: |                                                | 0/? [00:00<?, ?it/s]"
      ]
     },
     "metadata": {},
     "output_type": "display_data"
    },
    {
     "data": {
      "text/html": [
       "<pre style=\"white-space:pre;overflow-x:auto;line-height:normal;font-family:Menlo,'DejaVu Sans Mono',consolas,'Courier New',monospace\">┏━━━━━━━━━━━━━━━━━━━━━━━━━━━┳━━━━━━━━━━━━━━━━━━━━━━━━━━━┓\n",
       "┃<span style=\"font-weight: bold\">        Test metric        </span>┃<span style=\"font-weight: bold\">       DataLoader 0        </span>┃\n",
       "┡━━━━━━━━━━━━━━━━━━━━━━━━━━━╇━━━━━━━━━━━━━━━━━━━━━━━━━━━┩\n",
       "│<span style=\"color: #008080; text-decoration-color: #008080\">       test_accuracy       </span>│<span style=\"color: #800080; text-decoration-color: #800080\">    0.4344556927680969     </span>│\n",
       "│<span style=\"color: #008080; text-decoration-color: #008080\">       test_f1score        </span>│<span style=\"color: #800080; text-decoration-color: #800080\">    0.41812455654144287    </span>│\n",
       "│<span style=\"color: #008080; text-decoration-color: #008080\">         test_loss         </span>│<span style=\"color: #800080; text-decoration-color: #800080\">    1.4919838905334473     </span>│\n",
       "└───────────────────────────┴───────────────────────────┘\n",
       "</pre>\n"
      ],
      "text/plain": [
       "┏━━━━━━━━━━━━━━━━━━━━━━━━━━━┳━━━━━━━━━━━━━━━━━━━━━━━━━━━┓\n",
       "┃\u001b[1m \u001b[0m\u001b[1m       Test metric       \u001b[0m\u001b[1m \u001b[0m┃\u001b[1m \u001b[0m\u001b[1m      DataLoader 0       \u001b[0m\u001b[1m \u001b[0m┃\n",
       "┡━━━━━━━━━━━━━━━━━━━━━━━━━━━╇━━━━━━━━━━━━━━━━━━━━━━━━━━━┩\n",
       "│\u001b[36m \u001b[0m\u001b[36m      test_accuracy      \u001b[0m\u001b[36m \u001b[0m│\u001b[35m \u001b[0m\u001b[35m   0.4344556927680969    \u001b[0m\u001b[35m \u001b[0m│\n",
       "│\u001b[36m \u001b[0m\u001b[36m      test_f1score       \u001b[0m\u001b[36m \u001b[0m│\u001b[35m \u001b[0m\u001b[35m   0.41812455654144287   \u001b[0m\u001b[35m \u001b[0m│\n",
       "│\u001b[36m \u001b[0m\u001b[36m        test_loss        \u001b[0m\u001b[36m \u001b[0m│\u001b[35m \u001b[0m\u001b[35m   1.4919838905334473    \u001b[0m\u001b[35m \u001b[0m│\n",
       "└───────────────────────────┴───────────────────────────┘\n"
      ]
     },
     "metadata": {},
     "output_type": "display_data"
    }
   ],
   "source": [
    "trainer.test(model, ds);"
   ]
  },
  {
   "cell_type": "raw",
   "id": "311673c4-b015-404e-acdd-1bb7d0b08443",
   "metadata": {},
   "source": [
    "Test - With residual connection , Dropout - 0.2:\n",
    "┏━━━━━━━━━━━━━━━━━━━━━━━━━━━┳━━━━━━━━━━━━━━━━━━━━━━━━━━━┓\n",
    "┃        Test metric        ┃       DataLoader 0        ┃\n",
    "┡━━━━━━━━━━━━━━━━━━━━━━━━━━━╇━━━━━━━━━━━━━━━━━━━━━━━━━━━┩\n",
    "│       test_accuracy       │    0.27454066276550293    │\n",
    "│       test_f1score        │    0.2433432638645172     │\n",
    "│         test_loss         │     1.718515157699585     │\n",
    "└───────────────────────────┴────────────────────────\n",
    "\n",
    "Test - Without residual connection, Droupout - 0.2 :\n",
    "┏━━━━━━━━━━━━━━━━━━━━━━━━━━━┳━━━━━━━━━━━━━━━━━━━━━━━━━━━┓\n",
    "┃        Test metric        ┃       DataLoader 0        ┃\n",
    "┡━━━━━━━━━━━━━━━━━━━━━━━━━━━╇━━━━━━━━━━━━━━━━━━━━━━━━━━━┩\n",
    "│       test_accuracy       │    0.33187544345855713    │\n",
    "│       test_f1score        │    0.3190963864326477     │\n",
    "│         test_loss         │    1.5988850593566895     │\n",
    "└───────────────────────────┴───────────────────────────┘\n",
    "Test - Without residual connection, Droupout - 0.1 :\n",
    "┏━━━━━━━━━━━━━━━━━━━━━━━━━━━┳━━━━━━━━━━━━━━━━━━━━━━━━━━━┓\n",
    "┃        Test metric        ┃       DataLoader 0        ┃\n",
    "┡━━━━━━━━━━━━━━━━━━━━━━━━━━━╇━━━━━━━━━━━━━━━━━━━━━━━━━━━┩\n",
    "│       test_accuracy       │    0.35177621245384216    │\n",
    "│       test_f1score        │    0.34121590852737427    │\n",
    "│         test_loss         │    1.5648293495178223     │\n",
    "└───────────────────────────┴───────────────────────────┘\n",
    "Filtered data \n",
    "┏━━━━━━━━━━━━━━━━━━━━━━━━━━━┳━━━━━━━━━━━━━━━━━━━━━━━━━━━┓\n",
    "┃        Test metric        ┃       DataLoader 0        ┃\n",
    "┡━━━━━━━━━━━━━━━━━━━━━━━━━━━╇━━━━━━━━━━━━━━━━━━━━━━━━━━━┩\n",
    "│       test_accuracy       │    0.35971078276634216    │\n",
    "│       test_f1score        │    0.3492105007171631     │\n",
    "│         test_loss         │    1.5501461029052734     │\n",
    "└───────────────────────────┴──────────────────────────\n"
   ]
  },
  {
   "cell_type": "code",
   "execution_count": null,
   "id": "e584d8da-1fa3-487f-bb1a-e895d3720e84",
   "metadata": {},
   "outputs": [],
   "source": []
  }
 ],
 "metadata": {
  "kernelspec": {
   "display_name": "python3",
   "language": "python",
   "name": "python3"
  }
 },
 "nbformat": 4,
 "nbformat_minor": 5
}
