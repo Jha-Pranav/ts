{
 "cells": [
  {
   "cell_type": "markdown",
   "id": "6a7a9981-364c-40ed-b97f-9b149bc06ddd",
   "metadata": {},
   "source": [
    "## Deep Time Series Models: A Comprehensive Survey and Benchmark"
   ]
  },
  {
   "cell_type": "raw",
   "id": "9a13b2ad-f6da-477e-ad2a-f3d7cb3a7c98",
   "metadata": {},
   "source": [
    "# - variate correlation modeling.\n",
    "# Tasks\n",
    "- forecasting\n",
    "- imputation\n",
    "- classification\n",
    "- clustering\n",
    "- anomaly detection"
   ]
  }
 ],
 "metadata": {
  "kernelspec": {
   "display_name": "Python 3 (ipykernel)",
   "language": "python",
   "name": "python3"
  },
  "language_info": {
   "codemirror_mode": {
    "name": "ipython",
    "version": 3
   },
   "file_extension": ".py",
   "mimetype": "text/x-python",
   "name": "python",
   "nbconvert_exporter": "python",
   "pygments_lexer": "ipython3",
   "version": "3.12.3"
  }
 },
 "nbformat": 4,
 "nbformat_minor": 5
}
